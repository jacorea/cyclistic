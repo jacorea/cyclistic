{
 "cells": [
  {
   "cell_type": "markdown",
   "id": "ec938958",
   "metadata": {
    "papermill": {
     "duration": 0.029919,
     "end_time": "2023-06-14T21:17:31.231711",
     "exception": false,
     "start_time": "2023-06-14T21:17:31.201792",
     "status": "completed"
    },
    "tags": []
   },
   "source": [
    "<span style=\"font-size:1.8em;\">**CYCLISTIC BIKE-SHARE CASE STUDY**\n",
    "\n",
    "<span style=\"font-size:1.2em; font-style: italic\"> Growing Business through a Riders Journey\n",
    "    \n",
    "![](https://miro.medium.com/max/293/1*nPqUTH1pkj8BWtQrd8WYIg.png)\n",
    "    \n",
    "##### By Jonathan Corea\n",
    "##### Date: June 12, 2023"
   ]
  },
  {
   "cell_type": "markdown",
   "id": "49d93d93",
   "metadata": {
    "papermill": {
     "duration": 0.028489,
     "end_time": "2023-06-14T21:17:31.289167",
     "exception": false,
     "start_time": "2023-06-14T21:17:31.260678",
     "status": "completed"
    },
    "tags": []
   },
   "source": [
    "<h4 style=\"background-color:teal;color:white;border-radius: 8px; padding:12px\">\n",
    "    <span style=\"font-weight:bold\">Background:</span> Understanding Cyclistic's Business Model\n",
    "    </h4>\n",
    "\n",
    "\n",
    "<p>\n",
    "Since its inception in 2016, Cyclistic's popularity and usefulness amongst users has led to incredulous growth. Cyclistic has grown to a fleet of 5,824 bicycles that are geotracked and locked into a network of 692 stations across Chicago. The bikes can be unlocked from one station and returned to any other station in the system anytime.\n",
    "\n",
    "Given this business model Cyclistic’s marketing strategy relies on building general awareness and appealing to broad consumer segments. One approach that helped make these things possible was the flexibility of its pricing plans: single-ride passes, full-day passes, and annual memberships. Customers who purchase single-ride or full-day passes are referred to as __casual riders__. Customers who purchase annual memberships are Cyclistic __members__. In terms of financial viability, the finance analysts at Cyclistic have concluded that memberships are more profitable than casual riders due to the nature of their uses.\n",
    "</p>\n",
    "    \n",
    "<p>\n",
    "In order to answer the key business questions, I followed the steps of the data analysis process: <span style=\"font-weight:bold\">ask, prepare, process, analyze, share, and act.</span>\n",
    "</p>"
   ]
  },
  {
   "cell_type": "markdown",
   "id": "0ae7883f",
   "metadata": {
    "papermill": {
     "duration": 0.029043,
     "end_time": "2023-06-14T21:17:31.347177",
     "exception": false,
     "start_time": "2023-06-14T21:17:31.318134",
     "status": "completed"
    },
    "tags": []
   },
   "source": [
    "<h4 style=\"background-color:teal;color:white;border-radius: 8px; padding:12px\">\n",
    "    <span style=\"font-weight:bold\">ASK:</span> Defining the Business Task\n",
    "</h4>\n",
    "\n",
    "#### <span style='color:#2D8FC5'>The Stakeholders</span>\n",
    "1. __Lily Moreno:__ The director of marketing. Responsible for the development of campaigns and initiatives to promote the bike-share program. These may include email, social media, and other channels.\n",
    "2. __Cyclistic marketing analytics team:__ A team of data analysts who are responsible for collecting, analyzing, and reporting data that helps guide Cyclistic marketing strategy.\n",
    "3. __Cyclistic executive team:__ Responsible for undertaking executive decisions.\n",
    "\n",
    "#### <span style='color:#2D8FC5'>Business Task</span>\n",
    "\n",
    "Given the two customer classes, casual riders and members, the marketing director has come up with a hypothesis: converting casual riders into members would lead to better growth prospects for Cyclistic. This study will aim to back this hypothesis up by answering the following questions:\n",
    "\n",
    "* <span style='font-style:italic;font-weight:bold'>How do annual members and casual riders use Cyclistic bikes differently?</span>\n",
    "* <span style='font-style:italic; font-weight:bold'>Why would casual riders buy Cyclistic annual memberships?</span>\n",
    "* <span style='font-style:italic; font-weight:bold'>How can Cyclistic use digital media to influence casual riders to become members?</span>\n",
    "\n"
   ]
  },
  {
   "cell_type": "markdown",
   "id": "45739549",
   "metadata": {
    "papermill": {
     "duration": 0.028388,
     "end_time": "2023-06-14T21:17:31.404174",
     "exception": false,
     "start_time": "2023-06-14T21:17:31.375786",
     "status": "completed"
    },
    "tags": []
   },
   "source": [
    "<h4 style=\"background-color:teal;color:white;border-radius: 8px; padding:12px\">\n",
    "    <span style=\"font-weight:bold\">Preparation:</span> Data Source & Preparation\n",
    "</h4>\n",
    "\n",
    "#### <span style='color:#2D8FC5'>Source</span>\n",
    "\n",
    "The data used in this project has been made available by Motivate International Inc. under this [lincense](https://ride.divvybikes.com/data-license-agreement). The datasets are named differently because Cyclistic is a fictional company. However Divvy, the name displayed on the data files, is a real bike-share system in Chicago with 692 stations and a fleet of 5,824 bicycles. The data has been made public and can be used to explore how varying customer types are using Cyclistic bikes. The most recent 12 month Cyclistic trip data can be downloaded [here](https://divvy-tripdata.s3.amazonaws.com/index.html). \n",
    "\n",
    "The 12-month time period used in the study consists of <span style='font-weight:bold'>May 2022 - Apr 2023</span>. The data is in a structured format, stored as .csv files. Since the data collected is by a real bike sharing company in Chicago, the data is __reliable__ and free of bias. Additionally, the data is __current__ going up to Apr 2023, __original, comprehensive, accurate, and cited.__ \n",
    "\n",
    "#### <span style='color:#2D8FC5'>Limitations</span>\n",
    "\n",
    "It is important to note, however, that data-privacy safeguarding has been implemented to keep users __personal information__ confidential. This means that credit cards will not be available to link user order purchases to determine if Cyclistic riders live within Cyclistic service area, or if they have purchases multiple single passes.\n",
    "\n",
    "Furthermore, due to lack of financial information it will not be possible to determine if a casual rider spends more money in a year than than on an annual membership. Other limitations include customer segmentation analysis for each user type according to their age, gender, and neighborhood. Nonetheless, the dataset can still be utilized to explore trends and learn how casual riders and members differ in their bike rental habits. \n",
    "\n",
    "Additionally, the data does not contain information related to assistive options such as reclining bikes, hand tricycles, and cargo bikes which makeup 8% of cyclistic rider population. Thus, it will not be investigated. \n",
    "\n",
    "#### <span style='color:#2D8FC5'>Meta data</span>\n",
    "\n",
    "* __ride_id:__ Unique identifier for bike order rental\n",
    "* __rideable_type:__ Bike type either `classic`, `electric`, or `docked`.\n",
    "* __started_at:__ Star time of bike rental.\n",
    "* __ended_at\":__ End time of bike rental. \n",
    "* __start_station_name:__ Station name where bike rental started.\n",
    "* __start_station_id:__ Station id where bike rental started.\n",
    "* __end_station_name:__ End station name where bike rental ended.\n",
    "* __end_station_id:__ End station id where bike rental ended.\n",
    "* __start_lat:__ latitude coordinate where bike rental started.\n",
    "* __start_lng:__ longditude coordinate where bike rental started.\n",
    "*  __end_lat:__ Latitude coordinate where bike rental ended.\n",
    "* __end_lng:__  Longditude coordinate where bike rental ended.\n",
    "* __member_casual:__ User type either `casual` or `member`"
   ]
  },
  {
   "cell_type": "markdown",
   "id": "657d5d20",
   "metadata": {
    "papermill": {
     "duration": 0.028362,
     "end_time": "2023-06-14T21:17:31.461153",
     "exception": false,
     "start_time": "2023-06-14T21:17:31.432791",
     "status": "completed"
    },
    "tags": []
   },
   "source": [
    "<h4 style=\"background-color:teal;color:white;border-radius: 8px; padding:12px\">\n",
    "    <span style=\"font-weight:bold\">Process</span> \n",
    "</h4>\n",
    "\n",
    "#### <span style='color:#2D8FC5'>Installing Packages</span>\n",
    "\n",
    "<p>\n",
    "Install numpy and pandas libraries  \n",
    "</p>\n",
    "\n",
    "#### <span style='color:#2D8FC5'>Create Path Directory</span>"
   ]
  },
  {
   "cell_type": "code",
   "execution_count": 1,
   "id": "75159836",
   "metadata": {
    "_cell_guid": "b1076dfc-b9ad-4769-8c92-a6c4dae69d19",
    "_uuid": "8f2839f25d086af736a60e9eeb907d3b93b6e0e5",
    "execution": {
     "iopub.execute_input": "2023-06-14T21:17:31.520624Z",
     "iopub.status.busy": "2023-06-14T21:17:31.519852Z",
     "iopub.status.idle": "2023-06-14T21:17:31.546493Z",
     "shell.execute_reply": "2023-06-14T21:17:31.545551Z"
    },
    "papermill": {
     "duration": 0.059113,
     "end_time": "2023-06-14T21:17:31.548823",
     "exception": false,
     "start_time": "2023-06-14T21:17:31.489710",
     "status": "completed"
    },
    "tags": []
   },
   "outputs": [
    {
     "name": "stdout",
     "output_type": "stream",
     "text": [
      "['/kaggle/input/cyclistic/202212-divvy-tripdata.csv', '/kaggle/input/cyclistic/202208-divvy-tripdata.csv', '/kaggle/input/cyclistic/202205-divvy-tripdata.csv', '/kaggle/input/cyclistic/202206-divvy-tripdata.csv', '/kaggle/input/cyclistic/202301-divvy-tripdata.csv', '/kaggle/input/cyclistic/202211-divvy-tripdata.csv', '/kaggle/input/cyclistic/202302-divvy-tripdata.csv', '/kaggle/input/cyclistic/202209-divvy-publictripdata.csv', '/kaggle/input/cyclistic/202304-divvy-tripdata.csv', '/kaggle/input/cyclistic/202303-divvy-tripdata.csv', '/kaggle/input/cyclistic/202210-divvy-tripdata.csv', '/kaggle/input/cyclistic/202207-divvy-tripdata.csv']\n"
     ]
    }
   ],
   "source": [
    "# This Python 3 environment comes with many helpful analytics libraries installed\n",
    "# It is defined by the kaggle/python Docker image: https://github.com/kaggle/docker-python\n",
    "# For example, here's several helpful packages to load\n",
    "\n",
    "import numpy as np # linear algebra\n",
    "import pandas as pd # data processing, CSV file I/O (e.g. pd.read_csv)\n",
    "from pandas.api.types import CategoricalDtype\n",
    "\n",
    "# Input data files are available in the read-only \"../input/\" directory\n",
    "# For example, running this (by clicking run or pressing Shift+Enter) will list all files under the input directory\n",
    "\n",
    "# list to hold data url\n",
    "data_url_paths = []\n",
    "\n",
    "import os\n",
    "for dirname, _, filenames in os.walk('/kaggle/input'):\n",
    "    for filename in filenames:\n",
    "        data_url_paths.append(os.path.join(dirname, filename))\n",
    "\n",
    "# You can write up to 20GB to the current directory (/kaggle/working/) that gets preserved as output when you create a version using \"Save & Run All\" \n",
    "# You can also write temporary files to /kaggle/temp/, but they won't be saved outside of the current session\n",
    "\n",
    "print(data_url_paths)"
   ]
  },
  {
   "cell_type": "markdown",
   "id": "b6668695",
   "metadata": {
    "papermill": {
     "duration": 0.029788,
     "end_time": "2023-06-14T21:17:31.607626",
     "exception": false,
     "start_time": "2023-06-14T21:17:31.577838",
     "status": "completed"
    },
    "tags": []
   },
   "source": [
    "\n",
    "#### <span style='color:#2D8FC5'>Installing Visualization Libraries</span>\n",
    "\n",
    "<p>\n",
    "For this analysis will be using seaborn library to analyze data and create visualizations. \n",
    "</p>    "
   ]
  },
  {
   "cell_type": "code",
   "execution_count": 2,
   "id": "ddac86c8",
   "metadata": {
    "execution": {
     "iopub.execute_input": "2023-06-14T21:17:31.670571Z",
     "iopub.status.busy": "2023-06-14T21:17:31.669885Z",
     "iopub.status.idle": "2023-06-14T21:17:34.992345Z",
     "shell.execute_reply": "2023-06-14T21:17:34.991122Z"
    },
    "papermill": {
     "duration": 3.357714,
     "end_time": "2023-06-14T21:17:34.995252",
     "exception": false,
     "start_time": "2023-06-14T21:17:31.637538",
     "status": "completed"
    },
    "tags": []
   },
   "outputs": [
    {
     "name": "stderr",
     "output_type": "stream",
     "text": [
      "/opt/conda/lib/python3.10/site-packages/scipy/__init__.py:146: UserWarning: A NumPy version >=1.16.5 and <1.23.0 is required for this version of SciPy (detected version 1.23.5\n",
      "  warnings.warn(f\"A NumPy version >={np_minversion} and <{np_maxversion}\"\n"
     ]
    },
    {
     "data": {
      "text/html": [
       "        <script type=\"text/javascript\">\n",
       "        window.PlotlyConfig = {MathJaxConfig: 'local'};\n",
       "        if (window.MathJax && window.MathJax.Hub && window.MathJax.Hub.Config) {window.MathJax.Hub.Config({SVG: {font: \"STIX-Web\"}});}\n",
       "        if (typeof require !== 'undefined') {\n",
       "        require.undef(\"plotly\");\n",
       "        requirejs.config({\n",
       "            paths: {\n",
       "                'plotly': ['https://cdn.plot.ly/plotly-2.20.0.min']\n",
       "            }\n",
       "        });\n",
       "        require(['plotly'], function(Plotly) {\n",
       "            window._Plotly = Plotly;\n",
       "        });\n",
       "        }\n",
       "        </script>\n",
       "        "
      ]
     },
     "metadata": {},
     "output_type": "display_data"
    }
   ],
   "source": [
    "# visualization\n",
    "import matplotlib.pyplot as plt\n",
    "import seaborn as sns # Can alternatively use seaborn\n",
    "%matplotlib inline \n",
    "\n",
    "import plotly.express as px\n",
    "from plotly.offline import download_plotlyjs, init_notebook_mode, plot, iplot\n",
    "init_notebook_mode(connected=True)\n",
    "\n",
    "import cufflinks as cf\n",
    "\n",
    "import datetime as datetime"
   ]
  },
  {
   "cell_type": "markdown",
   "id": "12460d84",
   "metadata": {
    "papermill": {
     "duration": 0.029426,
     "end_time": "2023-06-14T21:17:35.054463",
     "exception": false,
     "start_time": "2023-06-14T21:17:35.025037",
     "status": "completed"
    },
    "tags": []
   },
   "source": [
    "#### <span style='color:#2D8FC5'>Loading Data</span>\n",
    "\n",
    "Prior to loading the data into a pandas dataframe, data was opened in excel to determine datatypes. Once deteremined, datatypes where stated when loading in pandas dataframe, respectively, to reduce processing time. Additionally used the pyarrow engine when reading a csv file into a dataframe to reduce processing time after doing a bit of research. If interested, further reading into pyarrow engine can be found [here](https://pythonspeed.com/articles/pandas-read-csv-fast/). \n",
    "\n",
    "I also tried using a Dask dataframe, according to this [artilce](https://medium.com/analytics-vidhya/optimized-ways-to-read-large-csvs-in-python-ab2b36a7914e). Using a Dask dataframe was initially the most time efficient in processing data. Nevertheless, due to having to having to convert to a pandas dataframe to perform specific data transformations decided to stick to the pandas dataframe utilizing the pyarrow engine.\n",
    "\n",
    "Furthermore,created a loop to read each csv file into its own respective dataframe, and stored in a list. \n",
    "\n",
    "Processing time can be further improved by creating a function utilizing chunksize to read each dataframe in conjunction with the pyarrow engine. \n"
   ]
  },
  {
   "cell_type": "code",
   "execution_count": 3,
   "id": "9d8baa6d",
   "metadata": {
    "execution": {
     "iopub.execute_input": "2023-06-14T21:17:35.115083Z",
     "iopub.status.busy": "2023-06-14T21:17:35.114677Z",
     "iopub.status.idle": "2023-06-14T21:17:53.976376Z",
     "shell.execute_reply": "2023-06-14T21:17:53.975368Z"
    },
    "papermill": {
     "duration": 18.895534,
     "end_time": "2023-06-14T21:17:53.979333",
     "exception": false,
     "start_time": "2023-06-14T21:17:35.083799",
     "status": "completed"
    },
    "tags": []
   },
   "outputs": [],
   "source": [
    "#load data from original csv files: May2022 to Apr2023\n",
    "engine = \"pyarrow\"\n",
    "\n",
    "dtypes = {\"ride_id\":\"object\",\"rideable_type\":\"category\",\"started_at\":\"datetime64[ns]\",\"ended_at\":\"datetime64[ns]\",\n",
    "          \"start_station_name\":\"object\",\"start_station_id\":\"object\",\"end_station_name\":\"object\",\n",
    "          \"end_station_id\":\"object\",\"start_lat\":\"float64\",\"start_lng\":\"float64\",\n",
    "          \"end_lat\":\"float64\",\"end_lng\":\"float64\",\"member_casual\":\"category\"}\n",
    "\n",
    "\n",
    "cyclistic_df_names = [\"may_2022_df\",\"jun_2022_df\",\"jul_2022_df\",\"aug_2022_df\",\"sep_2022_df\",\"oct_2022_df\",\"nov_2022_df\",\"dec_2022_df\", \"jan_2023_df\",\"feb_2023_df\",\"mar_2023_df\", \"apr_2023_df\"]\n",
    "df_list=[]\n",
    "# loop through df list and url paths to make dataframes\n",
    "\n",
    "for i,df_name in enumerate(cyclistic_df_names):\n",
    "    df_name = pd.read_csv(data_url_paths[i], engine=engine, dtype=dtypes)\n",
    "    df_list.append(df_name)"
   ]
  },
  {
   "cell_type": "markdown",
   "id": "977fb9a7",
   "metadata": {
    "papermill": {
     "duration": 0.031507,
     "end_time": "2023-06-14T21:17:54.047761",
     "exception": false,
     "start_time": "2023-06-14T21:17:54.016254",
     "status": "completed"
    },
    "tags": []
   },
   "source": [
    "#### <span style='color:#2D8FC5'>Combining Data</span>\n",
    "\n",
    "Used pandas concat function to combine all 12-months of cyclistic data. \n",
    "\n",
    "I also created a copy of the combined dataframe."
   ]
  },
  {
   "cell_type": "code",
   "execution_count": 4,
   "id": "a01a9396",
   "metadata": {
    "execution": {
     "iopub.execute_input": "2023-06-14T21:17:54.108863Z",
     "iopub.status.busy": "2023-06-14T21:17:54.108175Z",
     "iopub.status.idle": "2023-06-14T21:17:56.874644Z",
     "shell.execute_reply": "2023-06-14T21:17:56.873649Z"
    },
    "papermill": {
     "duration": 2.799669,
     "end_time": "2023-06-14T21:17:56.877136",
     "exception": false,
     "start_time": "2023-06-14T21:17:54.077467",
     "status": "completed"
    },
    "tags": []
   },
   "outputs": [
    {
     "data": {
      "text/html": [
       "<div>\n",
       "<style scoped>\n",
       "    .dataframe tbody tr th:only-of-type {\n",
       "        vertical-align: middle;\n",
       "    }\n",
       "\n",
       "    .dataframe tbody tr th {\n",
       "        vertical-align: top;\n",
       "    }\n",
       "\n",
       "    .dataframe thead th {\n",
       "        text-align: right;\n",
       "    }\n",
       "</style>\n",
       "<table border=\"1\" class=\"dataframe\">\n",
       "  <thead>\n",
       "    <tr style=\"text-align: right;\">\n",
       "      <th></th>\n",
       "      <th>ride_id</th>\n",
       "      <th>rideable_type</th>\n",
       "      <th>started_at</th>\n",
       "      <th>ended_at</th>\n",
       "      <th>start_station_name</th>\n",
       "      <th>start_station_id</th>\n",
       "      <th>end_station_name</th>\n",
       "      <th>end_station_id</th>\n",
       "      <th>start_lat</th>\n",
       "      <th>start_lng</th>\n",
       "      <th>end_lat</th>\n",
       "      <th>end_lng</th>\n",
       "      <th>member_casual</th>\n",
       "    </tr>\n",
       "  </thead>\n",
       "  <tbody>\n",
       "    <tr>\n",
       "      <th>0</th>\n",
       "      <td>65DBD2F447EC51C2</td>\n",
       "      <td>electric_bike</td>\n",
       "      <td>2022-12-05 10:47:18</td>\n",
       "      <td>2022-12-05 10:56:34</td>\n",
       "      <td>Clifton Ave &amp; Armitage Ave</td>\n",
       "      <td>TA1307000163</td>\n",
       "      <td>Sedgwick St &amp; Webster Ave</td>\n",
       "      <td>13191</td>\n",
       "      <td>41.918244</td>\n",
       "      <td>-87.657115</td>\n",
       "      <td>41.922167</td>\n",
       "      <td>-87.638888</td>\n",
       "      <td>member</td>\n",
       "    </tr>\n",
       "    <tr>\n",
       "      <th>1</th>\n",
       "      <td>0C201AA7EA0EA1AD</td>\n",
       "      <td>classic_bike</td>\n",
       "      <td>2022-12-18 06:42:33</td>\n",
       "      <td>2022-12-18 07:08:44</td>\n",
       "      <td>Broadway &amp; Belmont Ave</td>\n",
       "      <td>13277</td>\n",
       "      <td>Sedgwick St &amp; Webster Ave</td>\n",
       "      <td>13191</td>\n",
       "      <td>41.940106</td>\n",
       "      <td>-87.645451</td>\n",
       "      <td>41.922167</td>\n",
       "      <td>-87.638888</td>\n",
       "      <td>casual</td>\n",
       "    </tr>\n",
       "    <tr>\n",
       "      <th>2</th>\n",
       "      <td>E0B148CCB358A49D</td>\n",
       "      <td>electric_bike</td>\n",
       "      <td>2022-12-13 08:47:45</td>\n",
       "      <td>2022-12-13 08:59:51</td>\n",
       "      <td>Sangamon St &amp; Lake St</td>\n",
       "      <td>TA1306000015</td>\n",
       "      <td>St. Clair St &amp; Erie St</td>\n",
       "      <td>13016</td>\n",
       "      <td>41.885919</td>\n",
       "      <td>-87.651133</td>\n",
       "      <td>41.894345</td>\n",
       "      <td>-87.622798</td>\n",
       "      <td>member</td>\n",
       "    </tr>\n",
       "    <tr>\n",
       "      <th>3</th>\n",
       "      <td>54C5775D2B7C9188</td>\n",
       "      <td>classic_bike</td>\n",
       "      <td>2022-12-13 18:50:47</td>\n",
       "      <td>2022-12-13 19:19:48</td>\n",
       "      <td>Shields Ave &amp; 31st St</td>\n",
       "      <td>KA1503000038</td>\n",
       "      <td>Damen Ave &amp; Madison St</td>\n",
       "      <td>13134</td>\n",
       "      <td>41.838464</td>\n",
       "      <td>-87.635406</td>\n",
       "      <td>41.881370</td>\n",
       "      <td>-87.674930</td>\n",
       "      <td>member</td>\n",
       "    </tr>\n",
       "    <tr>\n",
       "      <th>4</th>\n",
       "      <td>A4891F78776D35DF</td>\n",
       "      <td>classic_bike</td>\n",
       "      <td>2022-12-14 16:13:39</td>\n",
       "      <td>2022-12-14 16:27:50</td>\n",
       "      <td>Ashland Ave &amp; Chicago Ave</td>\n",
       "      <td>13247</td>\n",
       "      <td>Damen Ave &amp; Charleston St</td>\n",
       "      <td>13288</td>\n",
       "      <td>41.895954</td>\n",
       "      <td>-87.667728</td>\n",
       "      <td>41.920082</td>\n",
       "      <td>-87.677855</td>\n",
       "      <td>casual</td>\n",
       "    </tr>\n",
       "  </tbody>\n",
       "</table>\n",
       "</div>"
      ],
      "text/plain": [
       "            ride_id  rideable_type          started_at            ended_at  \\\n",
       "0  65DBD2F447EC51C2  electric_bike 2022-12-05 10:47:18 2022-12-05 10:56:34   \n",
       "1  0C201AA7EA0EA1AD   classic_bike 2022-12-18 06:42:33 2022-12-18 07:08:44   \n",
       "2  E0B148CCB358A49D  electric_bike 2022-12-13 08:47:45 2022-12-13 08:59:51   \n",
       "3  54C5775D2B7C9188   classic_bike 2022-12-13 18:50:47 2022-12-13 19:19:48   \n",
       "4  A4891F78776D35DF   classic_bike 2022-12-14 16:13:39 2022-12-14 16:27:50   \n",
       "\n",
       "           start_station_name start_station_id           end_station_name  \\\n",
       "0  Clifton Ave & Armitage Ave     TA1307000163  Sedgwick St & Webster Ave   \n",
       "1      Broadway & Belmont Ave            13277  Sedgwick St & Webster Ave   \n",
       "2       Sangamon St & Lake St     TA1306000015     St. Clair St & Erie St   \n",
       "3       Shields Ave & 31st St     KA1503000038     Damen Ave & Madison St   \n",
       "4   Ashland Ave & Chicago Ave            13247  Damen Ave & Charleston St   \n",
       "\n",
       "  end_station_id  start_lat  start_lng    end_lat    end_lng member_casual  \n",
       "0          13191  41.918244 -87.657115  41.922167 -87.638888        member  \n",
       "1          13191  41.940106 -87.645451  41.922167 -87.638888        casual  \n",
       "2          13016  41.885919 -87.651133  41.894345 -87.622798        member  \n",
       "3          13134  41.838464 -87.635406  41.881370 -87.674930        member  \n",
       "4          13288  41.895954 -87.667728  41.920082 -87.677855        casual  "
      ]
     },
     "execution_count": 4,
     "metadata": {},
     "output_type": "execute_result"
    }
   ],
   "source": [
    "# combine all the dataframes together and start to clean the columns\n",
    "cyc_data_combined = pd.concat(df_list,ignore_index=True)\n",
    "cyc_data_combined_cp = cyc_data_combined.copy()\n",
    "\n",
    "# cyc_data_combined head\n",
    "cyc_data_combined.head()"
   ]
  },
  {
   "cell_type": "markdown",
   "id": "880c8635",
   "metadata": {
    "papermill": {
     "duration": 0.029042,
     "end_time": "2023-06-14T21:17:56.936066",
     "exception": false,
     "start_time": "2023-06-14T21:17:56.907024",
     "status": "completed"
    },
    "tags": []
   },
   "source": [
    "#### <span style='color:#2D8FC5'>Cyclistic Data Info</span>"
   ]
  },
  {
   "cell_type": "code",
   "execution_count": 5,
   "id": "c973103d",
   "metadata": {
    "execution": {
     "iopub.execute_input": "2023-06-14T21:17:57.010791Z",
     "iopub.status.busy": "2023-06-14T21:17:57.010241Z",
     "iopub.status.idle": "2023-06-14T21:17:57.026979Z",
     "shell.execute_reply": "2023-06-14T21:17:57.025833Z"
    },
    "papermill": {
     "duration": 0.055597,
     "end_time": "2023-06-14T21:17:57.029102",
     "exception": false,
     "start_time": "2023-06-14T21:17:56.973505",
     "status": "completed"
    },
    "tags": []
   },
   "outputs": [
    {
     "name": "stdout",
     "output_type": "stream",
     "text": [
      "<class 'pandas.core.frame.DataFrame'>\n",
      "RangeIndex: 5859061 entries, 0 to 5859060\n",
      "Data columns (total 13 columns):\n",
      " #   Column              Dtype         \n",
      "---  ------              -----         \n",
      " 0   ride_id             object        \n",
      " 1   rideable_type       category      \n",
      " 2   started_at          datetime64[ns]\n",
      " 3   ended_at            datetime64[ns]\n",
      " 4   start_station_name  object        \n",
      " 5   start_station_id    object        \n",
      " 6   end_station_name    object        \n",
      " 7   end_station_id      object        \n",
      " 8   start_lat           float64       \n",
      " 9   start_lng           float64       \n",
      " 10  end_lat             float64       \n",
      " 11  end_lng             float64       \n",
      " 12  member_casual       category      \n",
      "dtypes: category(2), datetime64[ns](2), float64(4), object(5)\n",
      "memory usage: 502.9+ MB\n"
     ]
    }
   ],
   "source": [
    "cyc_data_combined.info()"
   ]
  },
  {
   "cell_type": "markdown",
   "id": "43ff6c14",
   "metadata": {
    "papermill": {
     "duration": 0.030007,
     "end_time": "2023-06-14T21:17:57.095492",
     "exception": false,
     "start_time": "2023-06-14T21:17:57.065485",
     "status": "completed"
    },
    "tags": []
   },
   "source": [
    "#### <span style='color:#2D8FC5'>Missing Values</span>"
   ]
  },
  {
   "cell_type": "code",
   "execution_count": 6,
   "id": "555e0204",
   "metadata": {
    "execution": {
     "iopub.execute_input": "2023-06-14T21:17:57.158043Z",
     "iopub.status.busy": "2023-06-14T21:17:57.157349Z",
     "iopub.status.idle": "2023-06-14T21:18:06.388287Z",
     "shell.execute_reply": "2023-06-14T21:18:06.387244Z"
    },
    "papermill": {
     "duration": 9.26505,
     "end_time": "2023-06-14T21:18:06.390778",
     "exception": false,
     "start_time": "2023-06-14T21:17:57.125728",
     "status": "completed"
    },
    "tags": []
   },
   "outputs": [
    {
     "data": {
      "text/plain": [
       "ride_id               0.000000\n",
       "rideable_type         0.000000\n",
       "started_at            0.000000\n",
       "ended_at              0.000000\n",
       "start_station_name    0.000000\n",
       "start_station_id      0.000000\n",
       "end_station_name      0.000000\n",
       "end_station_id        0.000000\n",
       "start_lat             0.000000\n",
       "start_lng             0.000000\n",
       "end_lat               0.101945\n",
       "end_lng               0.101945\n",
       "member_casual         0.000000\n",
       "dtype: float64"
      ]
     },
     "execution_count": 6,
     "metadata": {},
     "output_type": "execute_result"
    }
   ],
   "source": [
    "# check missing values\n",
    "cyc_data_combined.isnull().sum()*100/(cyc_data_combined.shape[0])"
   ]
  },
  {
   "cell_type": "markdown",
   "id": "2a00a9b3",
   "metadata": {
    "papermill": {
     "duration": 0.030072,
     "end_time": "2023-06-14T21:18:06.450662",
     "exception": false,
     "start_time": "2023-06-14T21:18:06.420590",
     "status": "completed"
    },
    "tags": []
   },
   "source": [
    "About 0.10% of the data seems to be missing for the ending latitude and longditude columns. These particular rows will be dropped from the cyclistic dataframe as starting and ending locations want to be utilized to find differences in areas where casual and member cyclistic users use bikes. "
   ]
  },
  {
   "cell_type": "code",
   "execution_count": 7,
   "id": "99b8fc8e",
   "metadata": {
    "execution": {
     "iopub.execute_input": "2023-06-14T21:18:06.511995Z",
     "iopub.status.busy": "2023-06-14T21:18:06.511606Z",
     "iopub.status.idle": "2023-06-14T21:18:08.747260Z",
     "shell.execute_reply": "2023-06-14T21:18:08.745811Z"
    },
    "papermill": {
     "duration": 2.269678,
     "end_time": "2023-06-14T21:18:08.750137",
     "exception": false,
     "start_time": "2023-06-14T21:18:06.480459",
     "status": "completed"
    },
    "tags": []
   },
   "outputs": [],
   "source": [
    "# drop missing values\n",
    "cyc_data_combined.dropna(axis=0, subset=[\"end_lat\",\"end_lng\"], inplace=True)"
   ]
  },
  {
   "cell_type": "code",
   "execution_count": 8,
   "id": "91704db2",
   "metadata": {
    "execution": {
     "iopub.execute_input": "2023-06-14T21:18:08.813159Z",
     "iopub.status.busy": "2023-06-14T21:18:08.812749Z",
     "iopub.status.idle": "2023-06-14T21:18:17.812372Z",
     "shell.execute_reply": "2023-06-14T21:18:17.811139Z"
    },
    "papermill": {
     "duration": 9.0345,
     "end_time": "2023-06-14T21:18:17.814794",
     "exception": false,
     "start_time": "2023-06-14T21:18:08.780294",
     "status": "completed"
    },
    "tags": []
   },
   "outputs": [
    {
     "data": {
      "text/plain": [
       "ride_id               0.0\n",
       "rideable_type         0.0\n",
       "started_at            0.0\n",
       "ended_at              0.0\n",
       "start_station_name    0.0\n",
       "start_station_id      0.0\n",
       "end_station_name      0.0\n",
       "end_station_id        0.0\n",
       "start_lat             0.0\n",
       "start_lng             0.0\n",
       "end_lat               0.0\n",
       "end_lng               0.0\n",
       "member_casual         0.0\n",
       "dtype: float64"
      ]
     },
     "execution_count": 8,
     "metadata": {},
     "output_type": "execute_result"
    }
   ],
   "source": [
    "# check missing values have been removed\n",
    "cyc_data_combined.isnull().sum()*100/(cyc_data_combined.shape[0])"
   ]
  },
  {
   "cell_type": "markdown",
   "id": "ddcc5e6d",
   "metadata": {
    "papermill": {
     "duration": 0.0296,
     "end_time": "2023-06-14T21:18:17.875111",
     "exception": false,
     "start_time": "2023-06-14T21:18:17.845511",
     "status": "completed"
    },
    "tags": []
   },
   "source": [
    "<h4 style=\"background-color:teal;color:white;border-radius: 8px; padding:12px\">\n",
    "    <span style=\"font-weight:bold\">Data Transformation</span> \n",
    "</h4>\n",
    "\n",
    "In this phase of the project ,some data transformations and calculations will be applied. station names columns will be cleaned by transforming text to all lower case and trimming off any white space. Furthermore, information from the `started_at` and `ended_at` columns will be extracted as `hour`,`day`,`month`, `year`, and followed by a calcuation to determine `ride_length_min`  \n"
   ]
  },
  {
   "cell_type": "markdown",
   "id": "f3ca8b8c",
   "metadata": {
    "papermill": {
     "duration": 0.030007,
     "end_time": "2023-06-14T21:18:17.935077",
     "exception": false,
     "start_time": "2023-06-14T21:18:17.905070",
     "status": "completed"
    },
    "tags": []
   },
   "source": [
    "#### <span style='color:#2D8FC5'>Data Transformation</span> \n",
    "\n",
    "The `start_station_name` and `end_station_name` columns were all lowered to have consistency in naming conventions. "
   ]
  },
  {
   "cell_type": "code",
   "execution_count": 9,
   "id": "9122c14e",
   "metadata": {
    "execution": {
     "iopub.execute_input": "2023-06-14T21:18:17.997013Z",
     "iopub.status.busy": "2023-06-14T21:18:17.996316Z",
     "iopub.status.idle": "2023-06-14T21:18:28.570777Z",
     "shell.execute_reply": "2023-06-14T21:18:28.569683Z"
    },
    "papermill": {
     "duration": 10.608652,
     "end_time": "2023-06-14T21:18:28.573524",
     "exception": false,
     "start_time": "2023-06-14T21:18:17.964872",
     "status": "completed"
    },
    "tags": []
   },
   "outputs": [],
   "source": [
    "# lower starting station names\n",
    "cyc_data_combined['start_station_name'] = cyc_data_combined['start_station_name'].str.strip().str.lower()\n",
    "cyc_data_combined['end_station_name'] = cyc_data_combined['end_station_name'].str.strip().str.lower()\n"
   ]
  },
  {
   "cell_type": "markdown",
   "id": "1500a9fc",
   "metadata": {
    "papermill": {
     "duration": 0.03037,
     "end_time": "2023-06-14T21:18:28.635398",
     "exception": false,
     "start_time": "2023-06-14T21:18:28.605028",
     "status": "completed"
    },
    "tags": []
   },
   "source": [
    "There seems to be some start_station_names that are still unnamed, but not picked up as null. Thus, will drop these values"
   ]
  },
  {
   "cell_type": "code",
   "execution_count": 10,
   "id": "f7bbae1b",
   "metadata": {
    "execution": {
     "iopub.execute_input": "2023-06-14T21:18:28.699476Z",
     "iopub.status.busy": "2023-06-14T21:18:28.698822Z",
     "iopub.status.idle": "2023-06-14T21:18:30.727037Z",
     "shell.execute_reply": "2023-06-14T21:18:30.725825Z"
    },
    "papermill": {
     "duration": 2.063579,
     "end_time": "2023-06-14T21:18:30.729474",
     "exception": false,
     "start_time": "2023-06-14T21:18:28.665895",
     "status": "completed"
    },
    "tags": []
   },
   "outputs": [
    {
     "name": "stdout",
     "output_type": "stream",
     "text": [
      "{'empty_start_station_names': 14.214872559578806, 'empty_end_station_names': 15.097808199705865}\n"
     ]
    }
   ],
   "source": [
    "start_station = cyc_data_combined.groupby('start_station_name').size().to_frame(name='number_of_starts').reset_index().sort_values(by='number_of_starts', ascending=False)\n",
    "start_station.head()\n",
    "\n",
    "empty_starts = (start_station['number_of_starts'][0])*100/(cyc_data_combined.shape[0])\n",
    "empty_starts\n",
    "\n",
    "end_station = cyc_data_combined.groupby('end_station_name').size().to_frame(name='number_of_starts').reset_index().sort_values(by='number_of_starts', ascending=False)\n",
    "end_station.head()\n",
    "\n",
    "empty_end_stations = (end_station['number_of_starts'][0])*100/(cyc_data_combined.shape[0])\n",
    "empty_end_stations\n",
    "\n",
    "print({'empty_start_station_names': empty_starts, 'empty_end_station_names': empty_end_stations})\n"
   ]
  },
  {
   "cell_type": "markdown",
   "id": "e3586e5b",
   "metadata": {
    "papermill": {
     "duration": 0.029836,
     "end_time": "2023-06-14T21:18:30.789432",
     "exception": false,
     "start_time": "2023-06-14T21:18:30.759596",
     "status": "completed"
    },
    "tags": []
   },
   "source": [
    "14% of start stations and 15% of end stations do not have an actual value recorded. These will be dropped, as station name will be analyzed to determine busy stations among casual and member bike riders."
   ]
  },
  {
   "cell_type": "code",
   "execution_count": 11,
   "id": "493ddd9e",
   "metadata": {
    "execution": {
     "iopub.execute_input": "2023-06-14T21:18:30.852343Z",
     "iopub.status.busy": "2023-06-14T21:18:30.851537Z",
     "iopub.status.idle": "2023-06-14T21:18:36.173985Z",
     "shell.execute_reply": "2023-06-14T21:18:36.172969Z"
    },
    "papermill": {
     "duration": 5.356902,
     "end_time": "2023-06-14T21:18:36.176501",
     "exception": false,
     "start_time": "2023-06-14T21:18:30.819599",
     "status": "completed"
    },
    "tags": []
   },
   "outputs": [
    {
     "data": {
      "text/html": [
       "<div>\n",
       "<style scoped>\n",
       "    .dataframe tbody tr th:only-of-type {\n",
       "        vertical-align: middle;\n",
       "    }\n",
       "\n",
       "    .dataframe tbody tr th {\n",
       "        vertical-align: top;\n",
       "    }\n",
       "\n",
       "    .dataframe thead th {\n",
       "        text-align: right;\n",
       "    }\n",
       "</style>\n",
       "<table border=\"1\" class=\"dataframe\">\n",
       "  <thead>\n",
       "    <tr style=\"text-align: right;\">\n",
       "      <th></th>\n",
       "      <th>start_station_name</th>\n",
       "      <th>number_of_starts</th>\n",
       "    </tr>\n",
       "  </thead>\n",
       "  <tbody>\n",
       "    <tr>\n",
       "      <th>1460</th>\n",
       "      <td>streeter dr &amp; grand ave</td>\n",
       "      <td>70849</td>\n",
       "    </tr>\n",
       "    <tr>\n",
       "      <th>343</th>\n",
       "      <td>dusable lake shore dr &amp; monroe st</td>\n",
       "      <td>39352</td>\n",
       "    </tr>\n",
       "    <tr>\n",
       "      <th>757</th>\n",
       "      <td>michigan ave &amp; oak st</td>\n",
       "      <td>37822</td>\n",
       "    </tr>\n",
       "    <tr>\n",
       "      <th>344</th>\n",
       "      <td>dusable lake shore dr &amp; north blvd</td>\n",
       "      <td>37751</td>\n",
       "    </tr>\n",
       "    <tr>\n",
       "      <th>1525</th>\n",
       "      <td>wells st &amp; concord ln</td>\n",
       "      <td>35303</td>\n",
       "    </tr>\n",
       "  </tbody>\n",
       "</table>\n",
       "</div>"
      ],
      "text/plain": [
       "                      start_station_name  number_of_starts\n",
       "1460             streeter dr & grand ave             70849\n",
       "343    dusable lake shore dr & monroe st             39352\n",
       "757                michigan ave & oak st             37822\n",
       "344   dusable lake shore dr & north blvd             37751\n",
       "1525               wells st & concord ln             35303"
      ]
     },
     "execution_count": 11,
     "metadata": {},
     "output_type": "execute_result"
    }
   ],
   "source": [
    "# Filter out data with non-empty start_station_names and end_station_names\n",
    "cyc_data_combined = cyc_data_combined[cyc_data_combined['start_station_name'] != '']\n",
    "cyc_data_combined = cyc_data_combined[cyc_data_combined['end_station_name'] != '']\n",
    "\n",
    "start_station = cyc_data_combined.groupby('start_station_name').size().to_frame(name='number_of_starts').reset_index().sort_values(by='number_of_starts', ascending=False)\n",
    "start_station.head()"
   ]
  },
  {
   "cell_type": "code",
   "execution_count": 12,
   "id": "ebba07b2",
   "metadata": {
    "execution": {
     "iopub.execute_input": "2023-06-14T21:18:36.239567Z",
     "iopub.status.busy": "2023-06-14T21:18:36.238710Z",
     "iopub.status.idle": "2023-06-14T21:18:36.921135Z",
     "shell.execute_reply": "2023-06-14T21:18:36.919928Z"
    },
    "papermill": {
     "duration": 0.71668,
     "end_time": "2023-06-14T21:18:36.923736",
     "exception": false,
     "start_time": "2023-06-14T21:18:36.207056",
     "status": "completed"
    },
    "tags": []
   },
   "outputs": [
    {
     "data": {
      "text/html": [
       "<div>\n",
       "<style scoped>\n",
       "    .dataframe tbody tr th:only-of-type {\n",
       "        vertical-align: middle;\n",
       "    }\n",
       "\n",
       "    .dataframe tbody tr th {\n",
       "        vertical-align: top;\n",
       "    }\n",
       "\n",
       "    .dataframe thead th {\n",
       "        text-align: right;\n",
       "    }\n",
       "</style>\n",
       "<table border=\"1\" class=\"dataframe\">\n",
       "  <thead>\n",
       "    <tr style=\"text-align: right;\">\n",
       "      <th></th>\n",
       "      <th>end_station_name</th>\n",
       "      <th>number_of_starts</th>\n",
       "    </tr>\n",
       "  </thead>\n",
       "  <tbody>\n",
       "    <tr>\n",
       "      <th>1498</th>\n",
       "      <td>streeter dr &amp; grand ave</td>\n",
       "      <td>72327</td>\n",
       "    </tr>\n",
       "    <tr>\n",
       "      <th>351</th>\n",
       "      <td>dusable lake shore dr &amp; north blvd</td>\n",
       "      <td>40790</td>\n",
       "    </tr>\n",
       "    <tr>\n",
       "      <th>772</th>\n",
       "      <td>michigan ave &amp; oak st</td>\n",
       "      <td>38916</td>\n",
       "    </tr>\n",
       "    <tr>\n",
       "      <th>350</th>\n",
       "      <td>dusable lake shore dr &amp; monroe st</td>\n",
       "      <td>38236</td>\n",
       "    </tr>\n",
       "    <tr>\n",
       "      <th>1564</th>\n",
       "      <td>wells st &amp; concord ln</td>\n",
       "      <td>35636</td>\n",
       "    </tr>\n",
       "  </tbody>\n",
       "</table>\n",
       "</div>"
      ],
      "text/plain": [
       "                        end_station_name  number_of_starts\n",
       "1498             streeter dr & grand ave             72327\n",
       "351   dusable lake shore dr & north blvd             40790\n",
       "772                michigan ave & oak st             38916\n",
       "350    dusable lake shore dr & monroe st             38236\n",
       "1564               wells st & concord ln             35636"
      ]
     },
     "execution_count": 12,
     "metadata": {},
     "output_type": "execute_result"
    }
   ],
   "source": [
    "end_station = cyc_data_combined.groupby('end_station_name').size().to_frame(name='number_of_starts').reset_index().sort_values(by='number_of_starts', ascending=False)\n",
    "end_station.head()"
   ]
  },
  {
   "cell_type": "markdown",
   "id": "858214aa",
   "metadata": {
    "papermill": {
     "duration": 0.030469,
     "end_time": "2023-06-14T21:18:36.984879",
     "exception": false,
     "start_time": "2023-06-14T21:18:36.954410",
     "status": "completed"
    },
    "tags": []
   },
   "source": [
    "There seems to be some start_station_names that are still unnamed, but not picked up as null. Thus, will drop these values"
   ]
  },
  {
   "cell_type": "markdown",
   "id": "ab192680",
   "metadata": {
    "papermill": {
     "duration": 0.031234,
     "end_time": "2023-06-14T21:18:37.047610",
     "exception": false,
     "start_time": "2023-06-14T21:18:37.016376",
     "status": "completed"
    },
    "tags": []
   },
   "source": [
    "Convert the `started_at` and `ended_at` columns to iso_format to isolate time from dates."
   ]
  },
  {
   "cell_type": "code",
   "execution_count": 13,
   "id": "bb4bf515",
   "metadata": {
    "execution": {
     "iopub.execute_input": "2023-06-14T21:18:37.111257Z",
     "iopub.status.busy": "2023-06-14T21:18:37.110832Z",
     "iopub.status.idle": "2023-06-14T21:18:37.348228Z",
     "shell.execute_reply": "2023-06-14T21:18:37.346793Z"
    },
    "papermill": {
     "duration": 0.272302,
     "end_time": "2023-06-14T21:18:37.350830",
     "exception": false,
     "start_time": "2023-06-14T21:18:37.078528",
     "status": "completed"
    },
    "tags": []
   },
   "outputs": [
    {
     "name": "stdout",
     "output_type": "stream",
     "text": [
      "<class 'pandas.core.frame.DataFrame'>\n",
      "Int64Index: 4534245 entries, 0 to 5858887\n",
      "Data columns (total 13 columns):\n",
      " #   Column              Dtype         \n",
      "---  ------              -----         \n",
      " 0   ride_id             object        \n",
      " 1   rideable_type       category      \n",
      " 2   started_at          datetime64[ns]\n",
      " 3   ended_at            datetime64[ns]\n",
      " 4   start_station_name  object        \n",
      " 5   start_station_id    object        \n",
      " 6   end_station_name    object        \n",
      " 7   end_station_id      object        \n",
      " 8   start_lat           float64       \n",
      " 9   start_lng           float64       \n",
      " 10  end_lat             float64       \n",
      " 11  end_lng             float64       \n",
      " 12  member_casual       category      \n",
      "dtypes: category(2), datetime64[ns](2), float64(4), object(5)\n",
      "memory usage: 423.8+ MB\n"
     ]
    }
   ],
   "source": [
    "# code to convert to datetime\n",
    "import datetime as datetime\n",
    "iso_format = \"%Y-%m-%d %H:%M:%S\" # format that want dates in \n",
    "cyc_data_combined['started_at']= pd.to_datetime(cyc_data_combined['started_at'], format=iso_format)\n",
    "cyc_data_combined['ended_at']= pd.to_datetime(cyc_data_combined['ended_at'], format=iso_format)\n",
    "\n",
    "# check to see that conversion worked\n",
    "cyc_data_combined.info()"
   ]
  },
  {
   "cell_type": "markdown",
   "id": "34cee228",
   "metadata": {
    "papermill": {
     "duration": 0.030543,
     "end_time": "2023-06-14T21:18:37.412745",
     "exception": false,
     "start_time": "2023-06-14T21:18:37.382202",
     "status": "completed"
    },
    "tags": []
   },
   "source": [
    "Calculate the ride length in minutes, and store in `ride_length_min` column. Data stored as int32."
   ]
  },
  {
   "cell_type": "code",
   "execution_count": 14,
   "id": "73f7ac86",
   "metadata": {
    "execution": {
     "iopub.execute_input": "2023-06-14T21:18:37.476929Z",
     "iopub.status.busy": "2023-06-14T21:18:37.476545Z",
     "iopub.status.idle": "2023-06-14T21:18:37.626284Z",
     "shell.execute_reply": "2023-06-14T21:18:37.624927Z"
    },
    "papermill": {
     "duration": 0.185346,
     "end_time": "2023-06-14T21:18:37.628849",
     "exception": false,
     "start_time": "2023-06-14T21:18:37.443503",
     "status": "completed"
    },
    "tags": []
   },
   "outputs": [],
   "source": [
    "# column that stores ride_length \n",
    "cyc_data_combined['ride_length_min'] = cyc_data_combined['ended_at'] - cyc_data_combined['started_at'] # difference stored in datetime object\n",
    "cyc_data_combined['ride_length_min'] = cyc_data_combined['ride_length_min']/pd.Timedelta(minutes=1) # extract minutes \n",
    "cyc_data_combined['ride_length_min'] = cyc_data_combined['ride_length_min'].astype('int32') # convert to int"
   ]
  },
  {
   "cell_type": "code",
   "execution_count": 15,
   "id": "79a0158c",
   "metadata": {
    "execution": {
     "iopub.execute_input": "2023-06-14T21:18:37.693112Z",
     "iopub.status.busy": "2023-06-14T21:18:37.692385Z",
     "iopub.status.idle": "2023-06-14T21:18:38.144774Z",
     "shell.execute_reply": "2023-06-14T21:18:38.143567Z"
    },
    "papermill": {
     "duration": 0.487806,
     "end_time": "2023-06-14T21:18:38.147758",
     "exception": false,
     "start_time": "2023-06-14T21:18:37.659952",
     "status": "completed"
    },
    "tags": []
   },
   "outputs": [],
   "source": [
    "# Add hour column\n",
    "cyc_data_combined['hour'] = cyc_data_combined['started_at'].dt.hour"
   ]
  },
  {
   "cell_type": "code",
   "execution_count": 16,
   "id": "09f54f91",
   "metadata": {
    "execution": {
     "iopub.execute_input": "2023-06-14T21:18:38.214068Z",
     "iopub.status.busy": "2023-06-14T21:18:38.213577Z",
     "iopub.status.idle": "2023-06-14T21:18:38.259055Z",
     "shell.execute_reply": "2023-06-14T21:18:38.258014Z"
    },
    "papermill": {
     "duration": 0.082477,
     "end_time": "2023-06-14T21:18:38.261813",
     "exception": false,
     "start_time": "2023-06-14T21:18:38.179336",
     "status": "completed"
    },
    "tags": []
   },
   "outputs": [],
   "source": [
    "# replace 0 hour with 24hour\n",
    "cyc_data_combined['hour'] = cyc_data_combined['hour'].replace(0,24)"
   ]
  },
  {
   "cell_type": "markdown",
   "id": "38144553",
   "metadata": {
    "papermill": {
     "duration": 0.03072,
     "end_time": "2023-06-14T21:18:38.323653",
     "exception": false,
     "start_time": "2023-06-14T21:18:38.292933",
     "status": "completed"
    },
    "tags": []
   },
   "source": [
    "#### <span style='color:#2D8FC5'> Removing Outliers: Remove rides less than 1 minute</span>"
   ]
  },
  {
   "cell_type": "code",
   "execution_count": 17,
   "id": "fd6af6f9",
   "metadata": {
    "execution": {
     "iopub.execute_input": "2023-06-14T21:18:38.387672Z",
     "iopub.status.busy": "2023-06-14T21:18:38.387262Z",
     "iopub.status.idle": "2023-06-14T21:18:38.653993Z",
     "shell.execute_reply": "2023-06-14T21:18:38.652767Z"
    },
    "papermill": {
     "duration": 0.301961,
     "end_time": "2023-06-14T21:18:38.656484",
     "exception": false,
     "start_time": "2023-06-14T21:18:38.354523",
     "status": "completed"
    },
    "tags": []
   },
   "outputs": [
    {
     "data": {
      "text/plain": [
       "ride_id               89663\n",
       "rideable_type         89663\n",
       "started_at            89663\n",
       "ended_at              89663\n",
       "start_station_name    89663\n",
       "start_station_id      89663\n",
       "end_station_name      89663\n",
       "end_station_id        89663\n",
       "start_lat             89663\n",
       "start_lng             89663\n",
       "end_lat               89663\n",
       "end_lng               89663\n",
       "member_casual         89663\n",
       "ride_length_min       89663\n",
       "hour                  89663\n",
       "dtype: int64"
      ]
     },
     "execution_count": 17,
     "metadata": {},
     "output_type": "execute_result"
    }
   ],
   "source": [
    "# check to see ride length is not negative\n",
    "cyc_data_combined[cyc_data_combined['ride_length_min']<1].count()\n"
   ]
  },
  {
   "cell_type": "raw",
   "id": "1ff397ec",
   "metadata": {
    "papermill": {
     "duration": 0.031234,
     "end_time": "2023-06-14T21:18:38.718649",
     "exception": false,
     "start_time": "2023-06-14T21:18:38.687415",
     "status": "completed"
    },
    "tags": []
   },
   "source": [
    "There is about `140,515` rows with negative ride length or users that rode their bikes for less than 1 minute. These values will be excluded from the analysis. "
   ]
  },
  {
   "cell_type": "code",
   "execution_count": 18,
   "id": "5acbc2b3",
   "metadata": {
    "execution": {
     "iopub.execute_input": "2023-06-14T21:18:38.782677Z",
     "iopub.status.busy": "2023-06-14T21:18:38.782222Z",
     "iopub.status.idle": "2023-06-14T21:18:39.539450Z",
     "shell.execute_reply": "2023-06-14T21:18:39.538462Z"
    },
    "papermill": {
     "duration": 0.792715,
     "end_time": "2023-06-14T21:18:39.542540",
     "exception": false,
     "start_time": "2023-06-14T21:18:38.749825",
     "status": "completed"
    },
    "tags": []
   },
   "outputs": [],
   "source": [
    "# Removing negative ride_length_min values from cyc_data_combined dataframe\n",
    "cyc_data_combined = cyc_data_combined[cyc_data_combined['ride_length_min']>=1]"
   ]
  },
  {
   "cell_type": "code",
   "execution_count": 19,
   "id": "8e9f752e",
   "metadata": {
    "execution": {
     "iopub.execute_input": "2023-06-14T21:18:39.607716Z",
     "iopub.status.busy": "2023-06-14T21:18:39.607318Z",
     "iopub.status.idle": "2023-06-14T21:18:40.093768Z",
     "shell.execute_reply": "2023-06-14T21:18:40.092404Z"
    },
    "papermill": {
     "duration": 0.522335,
     "end_time": "2023-06-14T21:18:40.096361",
     "exception": false,
     "start_time": "2023-06-14T21:18:39.574026",
     "status": "completed"
    },
    "tags": []
   },
   "outputs": [
    {
     "data": {
      "text/plain": [
       "5306475        1\n",
       "4171211        1\n",
       "2783587        1\n",
       "3552685        1\n",
       "1310059        1\n",
       "           ...  \n",
       "4575185     8243\n",
       "5752629     9962\n",
       "1139953    10722\n",
       "5047531    10807\n",
       "5753034    32035\n",
       "Name: ride_length_min, Length: 4444582, dtype: int32"
      ]
     },
     "execution_count": 19,
     "metadata": {},
     "output_type": "execute_result"
    }
   ],
   "source": [
    "# check to see values removed\n",
    "cyc_data_combined['ride_length_min'].sort_values(ascending=True)"
   ]
  },
  {
   "cell_type": "markdown",
   "id": "671dc77c",
   "metadata": {
    "papermill": {
     "duration": 0.030768,
     "end_time": "2023-06-14T21:18:40.158772",
     "exception": false,
     "start_time": "2023-06-14T21:18:40.128004",
     "status": "completed"
    },
    "tags": []
   },
   "source": [
    "#### <span style='color:#2D8FC5'>Additional Columns Added</span>\n",
    "* `month`\n",
    "* `Weekday`\n",
    "* `Year`\n",
    "* `Month No.`\n",
    "* `Season`"
   ]
  },
  {
   "cell_type": "code",
   "execution_count": 20,
   "id": "a2db7f5a",
   "metadata": {
    "execution": {
     "iopub.execute_input": "2023-06-14T21:18:40.224567Z",
     "iopub.status.busy": "2023-06-14T21:18:40.224176Z",
     "iopub.status.idle": "2023-06-14T21:19:11.677486Z",
     "shell.execute_reply": "2023-06-14T21:19:11.676407Z"
    },
    "papermill": {
     "duration": 31.490407,
     "end_time": "2023-06-14T21:19:11.680744",
     "exception": false,
     "start_time": "2023-06-14T21:18:40.190337",
     "status": "completed"
    },
    "tags": []
   },
   "outputs": [],
   "source": [
    "# make an month \n",
    "\n",
    "cats1 = ['Jan', 'Feb', 'Mar', 'Apr', 'May', 'Jun', 'Jul', 'Aug', 'Sep', 'Oct', 'Nov', 'Dec']\n",
    "cyc_data_combined['month'] = cyc_data_combined['started_at'].dt.strftime(\"%b\")\n",
    "cyc_data_combined['month'] = cyc_data_combined['month'].astype(CategoricalDtype(categories=cats1, ordered=True))"
   ]
  },
  {
   "cell_type": "code",
   "execution_count": 21,
   "id": "92d5631c",
   "metadata": {
    "execution": {
     "iopub.execute_input": "2023-06-14T21:19:11.746750Z",
     "iopub.status.busy": "2023-06-14T21:19:11.745635Z",
     "iopub.status.idle": "2023-06-14T21:19:11.768144Z",
     "shell.execute_reply": "2023-06-14T21:19:11.766981Z"
    },
    "papermill": {
     "duration": 0.058039,
     "end_time": "2023-06-14T21:19:11.770439",
     "exception": false,
     "start_time": "2023-06-14T21:19:11.712400",
     "status": "completed"
    },
    "tags": []
   },
   "outputs": [
    {
     "data": {
      "text/html": [
       "<div>\n",
       "<style scoped>\n",
       "    .dataframe tbody tr th:only-of-type {\n",
       "        vertical-align: middle;\n",
       "    }\n",
       "\n",
       "    .dataframe tbody tr th {\n",
       "        vertical-align: top;\n",
       "    }\n",
       "\n",
       "    .dataframe thead th {\n",
       "        text-align: right;\n",
       "    }\n",
       "</style>\n",
       "<table border=\"1\" class=\"dataframe\">\n",
       "  <thead>\n",
       "    <tr style=\"text-align: right;\">\n",
       "      <th></th>\n",
       "      <th>ride_id</th>\n",
       "      <th>rideable_type</th>\n",
       "      <th>started_at</th>\n",
       "      <th>ended_at</th>\n",
       "      <th>start_station_name</th>\n",
       "      <th>start_station_id</th>\n",
       "      <th>end_station_name</th>\n",
       "      <th>end_station_id</th>\n",
       "      <th>start_lat</th>\n",
       "      <th>start_lng</th>\n",
       "      <th>end_lat</th>\n",
       "      <th>end_lng</th>\n",
       "      <th>member_casual</th>\n",
       "      <th>ride_length_min</th>\n",
       "      <th>hour</th>\n",
       "      <th>month</th>\n",
       "    </tr>\n",
       "  </thead>\n",
       "  <tbody>\n",
       "    <tr>\n",
       "      <th>0</th>\n",
       "      <td>65DBD2F447EC51C2</td>\n",
       "      <td>electric_bike</td>\n",
       "      <td>2022-12-05 10:47:18</td>\n",
       "      <td>2022-12-05 10:56:34</td>\n",
       "      <td>clifton ave &amp; armitage ave</td>\n",
       "      <td>TA1307000163</td>\n",
       "      <td>sedgwick st &amp; webster ave</td>\n",
       "      <td>13191</td>\n",
       "      <td>41.918244</td>\n",
       "      <td>-87.657115</td>\n",
       "      <td>41.922167</td>\n",
       "      <td>-87.638888</td>\n",
       "      <td>member</td>\n",
       "      <td>9</td>\n",
       "      <td>10</td>\n",
       "      <td>Dec</td>\n",
       "    </tr>\n",
       "    <tr>\n",
       "      <th>1</th>\n",
       "      <td>0C201AA7EA0EA1AD</td>\n",
       "      <td>classic_bike</td>\n",
       "      <td>2022-12-18 06:42:33</td>\n",
       "      <td>2022-12-18 07:08:44</td>\n",
       "      <td>broadway &amp; belmont ave</td>\n",
       "      <td>13277</td>\n",
       "      <td>sedgwick st &amp; webster ave</td>\n",
       "      <td>13191</td>\n",
       "      <td>41.940106</td>\n",
       "      <td>-87.645451</td>\n",
       "      <td>41.922167</td>\n",
       "      <td>-87.638888</td>\n",
       "      <td>casual</td>\n",
       "      <td>26</td>\n",
       "      <td>6</td>\n",
       "      <td>Dec</td>\n",
       "    </tr>\n",
       "    <tr>\n",
       "      <th>2</th>\n",
       "      <td>E0B148CCB358A49D</td>\n",
       "      <td>electric_bike</td>\n",
       "      <td>2022-12-13 08:47:45</td>\n",
       "      <td>2022-12-13 08:59:51</td>\n",
       "      <td>sangamon st &amp; lake st</td>\n",
       "      <td>TA1306000015</td>\n",
       "      <td>st. clair st &amp; erie st</td>\n",
       "      <td>13016</td>\n",
       "      <td>41.885919</td>\n",
       "      <td>-87.651133</td>\n",
       "      <td>41.894345</td>\n",
       "      <td>-87.622798</td>\n",
       "      <td>member</td>\n",
       "      <td>12</td>\n",
       "      <td>8</td>\n",
       "      <td>Dec</td>\n",
       "    </tr>\n",
       "    <tr>\n",
       "      <th>3</th>\n",
       "      <td>54C5775D2B7C9188</td>\n",
       "      <td>classic_bike</td>\n",
       "      <td>2022-12-13 18:50:47</td>\n",
       "      <td>2022-12-13 19:19:48</td>\n",
       "      <td>shields ave &amp; 31st st</td>\n",
       "      <td>KA1503000038</td>\n",
       "      <td>damen ave &amp; madison st</td>\n",
       "      <td>13134</td>\n",
       "      <td>41.838464</td>\n",
       "      <td>-87.635406</td>\n",
       "      <td>41.881370</td>\n",
       "      <td>-87.674930</td>\n",
       "      <td>member</td>\n",
       "      <td>29</td>\n",
       "      <td>18</td>\n",
       "      <td>Dec</td>\n",
       "    </tr>\n",
       "    <tr>\n",
       "      <th>4</th>\n",
       "      <td>A4891F78776D35DF</td>\n",
       "      <td>classic_bike</td>\n",
       "      <td>2022-12-14 16:13:39</td>\n",
       "      <td>2022-12-14 16:27:50</td>\n",
       "      <td>ashland ave &amp; chicago ave</td>\n",
       "      <td>13247</td>\n",
       "      <td>damen ave &amp; charleston st</td>\n",
       "      <td>13288</td>\n",
       "      <td>41.895954</td>\n",
       "      <td>-87.667728</td>\n",
       "      <td>41.920082</td>\n",
       "      <td>-87.677855</td>\n",
       "      <td>casual</td>\n",
       "      <td>14</td>\n",
       "      <td>16</td>\n",
       "      <td>Dec</td>\n",
       "    </tr>\n",
       "  </tbody>\n",
       "</table>\n",
       "</div>"
      ],
      "text/plain": [
       "            ride_id  rideable_type          started_at            ended_at  \\\n",
       "0  65DBD2F447EC51C2  electric_bike 2022-12-05 10:47:18 2022-12-05 10:56:34   \n",
       "1  0C201AA7EA0EA1AD   classic_bike 2022-12-18 06:42:33 2022-12-18 07:08:44   \n",
       "2  E0B148CCB358A49D  electric_bike 2022-12-13 08:47:45 2022-12-13 08:59:51   \n",
       "3  54C5775D2B7C9188   classic_bike 2022-12-13 18:50:47 2022-12-13 19:19:48   \n",
       "4  A4891F78776D35DF   classic_bike 2022-12-14 16:13:39 2022-12-14 16:27:50   \n",
       "\n",
       "           start_station_name start_station_id           end_station_name  \\\n",
       "0  clifton ave & armitage ave     TA1307000163  sedgwick st & webster ave   \n",
       "1      broadway & belmont ave            13277  sedgwick st & webster ave   \n",
       "2       sangamon st & lake st     TA1306000015     st. clair st & erie st   \n",
       "3       shields ave & 31st st     KA1503000038     damen ave & madison st   \n",
       "4   ashland ave & chicago ave            13247  damen ave & charleston st   \n",
       "\n",
       "  end_station_id  start_lat  start_lng    end_lat    end_lng member_casual  \\\n",
       "0          13191  41.918244 -87.657115  41.922167 -87.638888        member   \n",
       "1          13191  41.940106 -87.645451  41.922167 -87.638888        casual   \n",
       "2          13016  41.885919 -87.651133  41.894345 -87.622798        member   \n",
       "3          13134  41.838464 -87.635406  41.881370 -87.674930        member   \n",
       "4          13288  41.895954 -87.667728  41.920082 -87.677855        casual   \n",
       "\n",
       "   ride_length_min  hour month  \n",
       "0                9    10   Dec  \n",
       "1               26     6   Dec  \n",
       "2               12     8   Dec  \n",
       "3               29    18   Dec  \n",
       "4               14    16   Dec  "
      ]
     },
     "execution_count": 21,
     "metadata": {},
     "output_type": "execute_result"
    }
   ],
   "source": [
    "cyc_data_combined.head()"
   ]
  },
  {
   "cell_type": "code",
   "execution_count": 22,
   "id": "44f9b7e3",
   "metadata": {
    "execution": {
     "iopub.execute_input": "2023-06-14T21:19:11.835720Z",
     "iopub.status.busy": "2023-06-14T21:19:11.835232Z",
     "iopub.status.idle": "2023-06-14T21:19:43.221944Z",
     "shell.execute_reply": "2023-06-14T21:19:43.220777Z"
    },
    "papermill": {
     "duration": 31.422445,
     "end_time": "2023-06-14T21:19:43.224893",
     "exception": false,
     "start_time": "2023-06-14T21:19:11.802448",
     "status": "completed"
    },
    "tags": []
   },
   "outputs": [],
   "source": [
    "# get Weekday\n",
    "cats2 = ['Mon', 'Tue', 'Wed', 'Thu', 'Fri', 'Sat','Sun']\n",
    "cyc_data_combined['day'] = cyc_data_combined['started_at'].dt.strftime('%a')\n",
    "cyc_data_combined['day'] = cyc_data_combined['day'].astype(CategoricalDtype(categories=cats2, ordered=True))"
   ]
  },
  {
   "cell_type": "code",
   "execution_count": 23,
   "id": "d0b7eb95",
   "metadata": {
    "execution": {
     "iopub.execute_input": "2023-06-14T21:19:43.291084Z",
     "iopub.status.busy": "2023-06-14T21:19:43.290394Z",
     "iopub.status.idle": "2023-06-14T21:20:13.764757Z",
     "shell.execute_reply": "2023-06-14T21:20:13.763365Z"
    },
    "papermill": {
     "duration": 30.510769,
     "end_time": "2023-06-14T21:20:13.767682",
     "exception": false,
     "start_time": "2023-06-14T21:19:43.256913",
     "status": "completed"
    },
    "scrolled": true,
    "tags": []
   },
   "outputs": [],
   "source": [
    "# Get Year\n",
    "cyc_data_combined['year'] = cyc_data_combined['started_at'].dt.strftime('%Y')"
   ]
  },
  {
   "cell_type": "code",
   "execution_count": 24,
   "id": "d36027df",
   "metadata": {
    "execution": {
     "iopub.execute_input": "2023-06-14T21:20:13.836223Z",
     "iopub.status.busy": "2023-06-14T21:20:13.835778Z",
     "iopub.status.idle": "2023-06-14T21:20:45.111388Z",
     "shell.execute_reply": "2023-06-14T21:20:45.110557Z"
    },
    "papermill": {
     "duration": 31.313099,
     "end_time": "2023-06-14T21:20:45.113885",
     "exception": false,
     "start_time": "2023-06-14T21:20:13.800786",
     "status": "completed"
    },
    "tags": []
   },
   "outputs": [],
   "source": [
    "# make an month_no column\n",
    "cyc_data_combined['month_no'] = cyc_data_combined['started_at'].dt.strftime(\"%m\").astype('int32')"
   ]
  },
  {
   "cell_type": "code",
   "execution_count": 25,
   "id": "af2583d3",
   "metadata": {
    "execution": {
     "iopub.execute_input": "2023-06-14T21:20:45.180743Z",
     "iopub.status.busy": "2023-06-14T21:20:45.179706Z",
     "iopub.status.idle": "2023-06-14T21:20:45.206215Z",
     "shell.execute_reply": "2023-06-14T21:20:45.205034Z"
    },
    "papermill": {
     "duration": 0.063184,
     "end_time": "2023-06-14T21:20:45.208757",
     "exception": false,
     "start_time": "2023-06-14T21:20:45.145573",
     "status": "completed"
    },
    "tags": []
   },
   "outputs": [
    {
     "data": {
      "text/html": [
       "<div>\n",
       "<style scoped>\n",
       "    .dataframe tbody tr th:only-of-type {\n",
       "        vertical-align: middle;\n",
       "    }\n",
       "\n",
       "    .dataframe tbody tr th {\n",
       "        vertical-align: top;\n",
       "    }\n",
       "\n",
       "    .dataframe thead th {\n",
       "        text-align: right;\n",
       "    }\n",
       "</style>\n",
       "<table border=\"1\" class=\"dataframe\">\n",
       "  <thead>\n",
       "    <tr style=\"text-align: right;\">\n",
       "      <th></th>\n",
       "      <th>ride_id</th>\n",
       "      <th>rideable_type</th>\n",
       "      <th>started_at</th>\n",
       "      <th>ended_at</th>\n",
       "      <th>start_station_name</th>\n",
       "      <th>start_station_id</th>\n",
       "      <th>end_station_name</th>\n",
       "      <th>end_station_id</th>\n",
       "      <th>start_lat</th>\n",
       "      <th>start_lng</th>\n",
       "      <th>end_lat</th>\n",
       "      <th>end_lng</th>\n",
       "      <th>member_casual</th>\n",
       "      <th>ride_length_min</th>\n",
       "      <th>hour</th>\n",
       "      <th>month</th>\n",
       "      <th>day</th>\n",
       "      <th>year</th>\n",
       "      <th>month_no</th>\n",
       "    </tr>\n",
       "  </thead>\n",
       "  <tbody>\n",
       "    <tr>\n",
       "      <th>0</th>\n",
       "      <td>65DBD2F447EC51C2</td>\n",
       "      <td>electric_bike</td>\n",
       "      <td>2022-12-05 10:47:18</td>\n",
       "      <td>2022-12-05 10:56:34</td>\n",
       "      <td>clifton ave &amp; armitage ave</td>\n",
       "      <td>TA1307000163</td>\n",
       "      <td>sedgwick st &amp; webster ave</td>\n",
       "      <td>13191</td>\n",
       "      <td>41.918244</td>\n",
       "      <td>-87.657115</td>\n",
       "      <td>41.922167</td>\n",
       "      <td>-87.638888</td>\n",
       "      <td>member</td>\n",
       "      <td>9</td>\n",
       "      <td>10</td>\n",
       "      <td>Dec</td>\n",
       "      <td>Mon</td>\n",
       "      <td>2022</td>\n",
       "      <td>12</td>\n",
       "    </tr>\n",
       "    <tr>\n",
       "      <th>1</th>\n",
       "      <td>0C201AA7EA0EA1AD</td>\n",
       "      <td>classic_bike</td>\n",
       "      <td>2022-12-18 06:42:33</td>\n",
       "      <td>2022-12-18 07:08:44</td>\n",
       "      <td>broadway &amp; belmont ave</td>\n",
       "      <td>13277</td>\n",
       "      <td>sedgwick st &amp; webster ave</td>\n",
       "      <td>13191</td>\n",
       "      <td>41.940106</td>\n",
       "      <td>-87.645451</td>\n",
       "      <td>41.922167</td>\n",
       "      <td>-87.638888</td>\n",
       "      <td>casual</td>\n",
       "      <td>26</td>\n",
       "      <td>6</td>\n",
       "      <td>Dec</td>\n",
       "      <td>Sun</td>\n",
       "      <td>2022</td>\n",
       "      <td>12</td>\n",
       "    </tr>\n",
       "    <tr>\n",
       "      <th>2</th>\n",
       "      <td>E0B148CCB358A49D</td>\n",
       "      <td>electric_bike</td>\n",
       "      <td>2022-12-13 08:47:45</td>\n",
       "      <td>2022-12-13 08:59:51</td>\n",
       "      <td>sangamon st &amp; lake st</td>\n",
       "      <td>TA1306000015</td>\n",
       "      <td>st. clair st &amp; erie st</td>\n",
       "      <td>13016</td>\n",
       "      <td>41.885919</td>\n",
       "      <td>-87.651133</td>\n",
       "      <td>41.894345</td>\n",
       "      <td>-87.622798</td>\n",
       "      <td>member</td>\n",
       "      <td>12</td>\n",
       "      <td>8</td>\n",
       "      <td>Dec</td>\n",
       "      <td>Tue</td>\n",
       "      <td>2022</td>\n",
       "      <td>12</td>\n",
       "    </tr>\n",
       "    <tr>\n",
       "      <th>3</th>\n",
       "      <td>54C5775D2B7C9188</td>\n",
       "      <td>classic_bike</td>\n",
       "      <td>2022-12-13 18:50:47</td>\n",
       "      <td>2022-12-13 19:19:48</td>\n",
       "      <td>shields ave &amp; 31st st</td>\n",
       "      <td>KA1503000038</td>\n",
       "      <td>damen ave &amp; madison st</td>\n",
       "      <td>13134</td>\n",
       "      <td>41.838464</td>\n",
       "      <td>-87.635406</td>\n",
       "      <td>41.881370</td>\n",
       "      <td>-87.674930</td>\n",
       "      <td>member</td>\n",
       "      <td>29</td>\n",
       "      <td>18</td>\n",
       "      <td>Dec</td>\n",
       "      <td>Tue</td>\n",
       "      <td>2022</td>\n",
       "      <td>12</td>\n",
       "    </tr>\n",
       "    <tr>\n",
       "      <th>4</th>\n",
       "      <td>A4891F78776D35DF</td>\n",
       "      <td>classic_bike</td>\n",
       "      <td>2022-12-14 16:13:39</td>\n",
       "      <td>2022-12-14 16:27:50</td>\n",
       "      <td>ashland ave &amp; chicago ave</td>\n",
       "      <td>13247</td>\n",
       "      <td>damen ave &amp; charleston st</td>\n",
       "      <td>13288</td>\n",
       "      <td>41.895954</td>\n",
       "      <td>-87.667728</td>\n",
       "      <td>41.920082</td>\n",
       "      <td>-87.677855</td>\n",
       "      <td>casual</td>\n",
       "      <td>14</td>\n",
       "      <td>16</td>\n",
       "      <td>Dec</td>\n",
       "      <td>Wed</td>\n",
       "      <td>2022</td>\n",
       "      <td>12</td>\n",
       "    </tr>\n",
       "  </tbody>\n",
       "</table>\n",
       "</div>"
      ],
      "text/plain": [
       "            ride_id  rideable_type          started_at            ended_at  \\\n",
       "0  65DBD2F447EC51C2  electric_bike 2022-12-05 10:47:18 2022-12-05 10:56:34   \n",
       "1  0C201AA7EA0EA1AD   classic_bike 2022-12-18 06:42:33 2022-12-18 07:08:44   \n",
       "2  E0B148CCB358A49D  electric_bike 2022-12-13 08:47:45 2022-12-13 08:59:51   \n",
       "3  54C5775D2B7C9188   classic_bike 2022-12-13 18:50:47 2022-12-13 19:19:48   \n",
       "4  A4891F78776D35DF   classic_bike 2022-12-14 16:13:39 2022-12-14 16:27:50   \n",
       "\n",
       "           start_station_name start_station_id           end_station_name  \\\n",
       "0  clifton ave & armitage ave     TA1307000163  sedgwick st & webster ave   \n",
       "1      broadway & belmont ave            13277  sedgwick st & webster ave   \n",
       "2       sangamon st & lake st     TA1306000015     st. clair st & erie st   \n",
       "3       shields ave & 31st st     KA1503000038     damen ave & madison st   \n",
       "4   ashland ave & chicago ave            13247  damen ave & charleston st   \n",
       "\n",
       "  end_station_id  start_lat  start_lng    end_lat    end_lng member_casual  \\\n",
       "0          13191  41.918244 -87.657115  41.922167 -87.638888        member   \n",
       "1          13191  41.940106 -87.645451  41.922167 -87.638888        casual   \n",
       "2          13016  41.885919 -87.651133  41.894345 -87.622798        member   \n",
       "3          13134  41.838464 -87.635406  41.881370 -87.674930        member   \n",
       "4          13288  41.895954 -87.667728  41.920082 -87.677855        casual   \n",
       "\n",
       "   ride_length_min  hour month  day  year  month_no  \n",
       "0                9    10   Dec  Mon  2022        12  \n",
       "1               26     6   Dec  Sun  2022        12  \n",
       "2               12     8   Dec  Tue  2022        12  \n",
       "3               29    18   Dec  Tue  2022        12  \n",
       "4               14    16   Dec  Wed  2022        12  "
      ]
     },
     "execution_count": 25,
     "metadata": {},
     "output_type": "execute_result"
    }
   ],
   "source": [
    "cyc_data_combined.head()"
   ]
  },
  {
   "cell_type": "markdown",
   "id": "120d630e",
   "metadata": {
    "papermill": {
     "duration": 0.031579,
     "end_time": "2023-06-14T21:20:45.272173",
     "exception": false,
     "start_time": "2023-06-14T21:20:45.240594",
     "status": "completed"
    },
    "tags": []
   },
   "source": [
    "#### <span style='color:#2D8FC5'>Function: Determine Season based on Month Number</span>"
   ]
  },
  {
   "cell_type": "code",
   "execution_count": 26,
   "id": "a06f3d1b",
   "metadata": {
    "execution": {
     "iopub.execute_input": "2023-06-14T21:20:45.337503Z",
     "iopub.status.busy": "2023-06-14T21:20:45.337114Z",
     "iopub.status.idle": "2023-06-14T21:20:45.345925Z",
     "shell.execute_reply": "2023-06-14T21:20:45.344616Z"
    },
    "papermill": {
     "duration": 0.044568,
     "end_time": "2023-06-14T21:20:45.348607",
     "exception": false,
     "start_time": "2023-06-14T21:20:45.304039",
     "status": "completed"
    },
    "tags": []
   },
   "outputs": [],
   "source": [
    "# function to find season depending on location\n",
    "def find_season(month, hemisphere):\n",
    "    if hemisphere == 'Southern':\n",
    "        season_month_south = {\n",
    "            12:'Summer', 1:'Summer', 2:'Summer',\n",
    "            3:'Autumn', 4:'Autumn', 5:'Autumn',\n",
    "            6:'Winter', 7:'Winter', 8:'Winter',\n",
    "            9:'Spring', 10:'Spring', 11:'Spring'}\n",
    "        return season_month_south.get(month)\n",
    "        \n",
    "    elif hemisphere == 'Northern':\n",
    "        season_month_north = {\n",
    "            12:'Winter', 1:'Winter', 2:'Winter',\n",
    "            3:'Spring', 4:'Spring', 5:'Spring',\n",
    "            6:'Summer', 7:'Summer', 8:'Summer',\n",
    "            9:'Autumn', 10:'Autumn', 11:'Autumn'}\n",
    "        return season_month_north.get(month)\n",
    "    else:\n",
    "        print('Invalid selection. Please select a hemisphere and try again')"
   ]
  },
  {
   "cell_type": "markdown",
   "id": "cc42e268",
   "metadata": {
    "papermill": {
     "duration": 0.0314,
     "end_time": "2023-06-14T21:20:45.412708",
     "exception": false,
     "start_time": "2023-06-14T21:20:45.381308",
     "status": "completed"
    },
    "tags": []
   },
   "source": [
    "#### <span style='color:#2D8FC5'>Calculate season using Season Function</span>"
   ]
  },
  {
   "cell_type": "code",
   "execution_count": 27,
   "id": "3ea43d8d",
   "metadata": {
    "execution": {
     "iopub.execute_input": "2023-06-14T21:20:45.478773Z",
     "iopub.status.busy": "2023-06-14T21:20:45.477586Z",
     "iopub.status.idle": "2023-06-14T21:21:05.952633Z",
     "shell.execute_reply": "2023-06-14T21:21:05.951459Z"
    },
    "papermill": {
     "duration": 20.511246,
     "end_time": "2023-06-14T21:21:05.955554",
     "exception": false,
     "start_time": "2023-06-14T21:20:45.444308",
     "status": "completed"
    },
    "tags": []
   },
   "outputs": [],
   "source": [
    "# append season to dataframe\n",
    "season_list = []\n",
    "hemisphere = 'Northern'\n",
    "for month in cyc_data_combined['started_at']:\n",
    "    season = find_season(month.month, hemisphere)\n",
    "    season_list.append(season)\n",
    " # append season to cyc_data_combined dataframe   \n",
    "cyc_data_combined['season'] = season_list"
   ]
  },
  {
   "cell_type": "code",
   "execution_count": 28,
   "id": "1c0b10c5",
   "metadata": {
    "execution": {
     "iopub.execute_input": "2023-06-14T21:21:06.022391Z",
     "iopub.status.busy": "2023-06-14T21:21:06.021652Z",
     "iopub.status.idle": "2023-06-14T21:21:07.159616Z",
     "shell.execute_reply": "2023-06-14T21:21:07.158422Z"
    },
    "papermill": {
     "duration": 1.174973,
     "end_time": "2023-06-14T21:21:07.162461",
     "exception": false,
     "start_time": "2023-06-14T21:21:05.987488",
     "status": "completed"
    },
    "tags": []
   },
   "outputs": [],
   "source": [
    "cyc_data_combined.sort_values(by='month_no', inplace=True)"
   ]
  },
  {
   "cell_type": "code",
   "execution_count": 29,
   "id": "336dbaa9",
   "metadata": {
    "execution": {
     "iopub.execute_input": "2023-06-14T21:21:07.229070Z",
     "iopub.status.busy": "2023-06-14T21:21:07.228357Z",
     "iopub.status.idle": "2023-06-14T21:21:07.252704Z",
     "shell.execute_reply": "2023-06-14T21:21:07.251463Z"
    },
    "papermill": {
     "duration": 0.060452,
     "end_time": "2023-06-14T21:21:07.255434",
     "exception": false,
     "start_time": "2023-06-14T21:21:07.194982",
     "status": "completed"
    },
    "tags": []
   },
   "outputs": [
    {
     "data": {
      "text/html": [
       "<div>\n",
       "<style scoped>\n",
       "    .dataframe tbody tr th:only-of-type {\n",
       "        vertical-align: middle;\n",
       "    }\n",
       "\n",
       "    .dataframe tbody tr th {\n",
       "        vertical-align: top;\n",
       "    }\n",
       "\n",
       "    .dataframe thead th {\n",
       "        text-align: right;\n",
       "    }\n",
       "</style>\n",
       "<table border=\"1\" class=\"dataframe\">\n",
       "  <thead>\n",
       "    <tr style=\"text-align: right;\">\n",
       "      <th></th>\n",
       "      <th>ride_id</th>\n",
       "      <th>rideable_type</th>\n",
       "      <th>started_at</th>\n",
       "      <th>ended_at</th>\n",
       "      <th>start_station_name</th>\n",
       "      <th>start_station_id</th>\n",
       "      <th>end_station_name</th>\n",
       "      <th>end_station_id</th>\n",
       "      <th>start_lat</th>\n",
       "      <th>start_lng</th>\n",
       "      <th>end_lat</th>\n",
       "      <th>end_lng</th>\n",
       "      <th>member_casual</th>\n",
       "      <th>ride_length_min</th>\n",
       "      <th>hour</th>\n",
       "      <th>month</th>\n",
       "      <th>day</th>\n",
       "      <th>year</th>\n",
       "      <th>month_no</th>\n",
       "      <th>season</th>\n",
       "    </tr>\n",
       "  </thead>\n",
       "  <tbody>\n",
       "    <tr>\n",
       "      <th>2525248</th>\n",
       "      <td>DC306F0F9E741BBD</td>\n",
       "      <td>classic_bike</td>\n",
       "      <td>2023-01-09 15:50:13</td>\n",
       "      <td>2023-01-09 15:59:09</td>\n",
       "      <td>may st &amp; cullerton st</td>\n",
       "      <td>13331</td>\n",
       "      <td>clinton st &amp; roosevelt rd</td>\n",
       "      <td>WL-008</td>\n",
       "      <td>41.855136</td>\n",
       "      <td>-87.654127</td>\n",
       "      <td>41.867118</td>\n",
       "      <td>-87.641088</td>\n",
       "      <td>casual</td>\n",
       "      <td>8</td>\n",
       "      <td>15</td>\n",
       "      <td>Jan</td>\n",
       "      <td>Mon</td>\n",
       "      <td>2023</td>\n",
       "      <td>1</td>\n",
       "      <td>Winter</td>\n",
       "    </tr>\n",
       "    <tr>\n",
       "      <th>2542020</th>\n",
       "      <td>036C86A6C2A844C6</td>\n",
       "      <td>electric_bike</td>\n",
       "      <td>2023-01-23 10:41:33</td>\n",
       "      <td>2023-01-23 10:45:24</td>\n",
       "      <td>clinton st &amp; roosevelt rd</td>\n",
       "      <td>WL-008</td>\n",
       "      <td>halsted st &amp; roosevelt rd</td>\n",
       "      <td>TA1305000017</td>\n",
       "      <td>41.867189</td>\n",
       "      <td>-87.641066</td>\n",
       "      <td>41.867324</td>\n",
       "      <td>-87.648625</td>\n",
       "      <td>member</td>\n",
       "      <td>3</td>\n",
       "      <td>10</td>\n",
       "      <td>Jan</td>\n",
       "      <td>Mon</td>\n",
       "      <td>2023</td>\n",
       "      <td>1</td>\n",
       "      <td>Winter</td>\n",
       "    </tr>\n",
       "    <tr>\n",
       "      <th>2542019</th>\n",
       "      <td>DEF11B70B3801B04</td>\n",
       "      <td>classic_bike</td>\n",
       "      <td>2023-01-26 10:36:57</td>\n",
       "      <td>2023-01-26 10:40:45</td>\n",
       "      <td>clinton st &amp; roosevelt rd</td>\n",
       "      <td>WL-008</td>\n",
       "      <td>halsted st &amp; roosevelt rd</td>\n",
       "      <td>TA1305000017</td>\n",
       "      <td>41.867118</td>\n",
       "      <td>-87.641088</td>\n",
       "      <td>41.867324</td>\n",
       "      <td>-87.648625</td>\n",
       "      <td>member</td>\n",
       "      <td>3</td>\n",
       "      <td>10</td>\n",
       "      <td>Jan</td>\n",
       "      <td>Thu</td>\n",
       "      <td>2023</td>\n",
       "      <td>1</td>\n",
       "      <td>Winter</td>\n",
       "    </tr>\n",
       "    <tr>\n",
       "      <th>2542018</th>\n",
       "      <td>BCA29CA04446EE62</td>\n",
       "      <td>classic_bike</td>\n",
       "      <td>2023-01-26 13:15:13</td>\n",
       "      <td>2023-01-26 13:18:55</td>\n",
       "      <td>clinton st &amp; roosevelt rd</td>\n",
       "      <td>WL-008</td>\n",
       "      <td>halsted st &amp; roosevelt rd</td>\n",
       "      <td>TA1305000017</td>\n",
       "      <td>41.867118</td>\n",
       "      <td>-87.641088</td>\n",
       "      <td>41.867324</td>\n",
       "      <td>-87.648625</td>\n",
       "      <td>member</td>\n",
       "      <td>3</td>\n",
       "      <td>13</td>\n",
       "      <td>Jan</td>\n",
       "      <td>Thu</td>\n",
       "      <td>2023</td>\n",
       "      <td>1</td>\n",
       "      <td>Winter</td>\n",
       "    </tr>\n",
       "    <tr>\n",
       "      <th>2542017</th>\n",
       "      <td>DE25B6E01DCF2BF1</td>\n",
       "      <td>classic_bike</td>\n",
       "      <td>2023-01-28 15:38:17</td>\n",
       "      <td>2023-01-28 15:48:16</td>\n",
       "      <td>wabash ave &amp; 9th st</td>\n",
       "      <td>TA1309000010</td>\n",
       "      <td>halsted st &amp; roosevelt rd</td>\n",
       "      <td>TA1305000017</td>\n",
       "      <td>41.870769</td>\n",
       "      <td>-87.625734</td>\n",
       "      <td>41.867324</td>\n",
       "      <td>-87.648625</td>\n",
       "      <td>member</td>\n",
       "      <td>9</td>\n",
       "      <td>15</td>\n",
       "      <td>Jan</td>\n",
       "      <td>Sat</td>\n",
       "      <td>2023</td>\n",
       "      <td>1</td>\n",
       "      <td>Winter</td>\n",
       "    </tr>\n",
       "  </tbody>\n",
       "</table>\n",
       "</div>"
      ],
      "text/plain": [
       "                  ride_id  rideable_type          started_at  \\\n",
       "2525248  DC306F0F9E741BBD   classic_bike 2023-01-09 15:50:13   \n",
       "2542020  036C86A6C2A844C6  electric_bike 2023-01-23 10:41:33   \n",
       "2542019  DEF11B70B3801B04   classic_bike 2023-01-26 10:36:57   \n",
       "2542018  BCA29CA04446EE62   classic_bike 2023-01-26 13:15:13   \n",
       "2542017  DE25B6E01DCF2BF1   classic_bike 2023-01-28 15:38:17   \n",
       "\n",
       "                   ended_at         start_station_name start_station_id  \\\n",
       "2525248 2023-01-09 15:59:09      may st & cullerton st            13331   \n",
       "2542020 2023-01-23 10:45:24  clinton st & roosevelt rd           WL-008   \n",
       "2542019 2023-01-26 10:40:45  clinton st & roosevelt rd           WL-008   \n",
       "2542018 2023-01-26 13:18:55  clinton st & roosevelt rd           WL-008   \n",
       "2542017 2023-01-28 15:48:16        wabash ave & 9th st     TA1309000010   \n",
       "\n",
       "                  end_station_name end_station_id  start_lat  start_lng  \\\n",
       "2525248  clinton st & roosevelt rd         WL-008  41.855136 -87.654127   \n",
       "2542020  halsted st & roosevelt rd   TA1305000017  41.867189 -87.641066   \n",
       "2542019  halsted st & roosevelt rd   TA1305000017  41.867118 -87.641088   \n",
       "2542018  halsted st & roosevelt rd   TA1305000017  41.867118 -87.641088   \n",
       "2542017  halsted st & roosevelt rd   TA1305000017  41.870769 -87.625734   \n",
       "\n",
       "           end_lat    end_lng member_casual  ride_length_min  hour month  day  \\\n",
       "2525248  41.867118 -87.641088        casual                8    15   Jan  Mon   \n",
       "2542020  41.867324 -87.648625        member                3    10   Jan  Mon   \n",
       "2542019  41.867324 -87.648625        member                3    10   Jan  Thu   \n",
       "2542018  41.867324 -87.648625        member                3    13   Jan  Thu   \n",
       "2542017  41.867324 -87.648625        member                9    15   Jan  Sat   \n",
       "\n",
       "         year  month_no  season  \n",
       "2525248  2023         1  Winter  \n",
       "2542020  2023         1  Winter  \n",
       "2542019  2023         1  Winter  \n",
       "2542018  2023         1  Winter  \n",
       "2542017  2023         1  Winter  "
      ]
     },
     "execution_count": 29,
     "metadata": {},
     "output_type": "execute_result"
    }
   ],
   "source": [
    "cyc_data_combined.head()"
   ]
  },
  {
   "cell_type": "markdown",
   "id": "57ca96d3",
   "metadata": {
    "papermill": {
     "duration": 0.032067,
     "end_time": "2023-06-14T21:21:07.319918",
     "exception": false,
     "start_time": "2023-06-14T21:21:07.287851",
     "status": "completed"
    },
    "tags": []
   },
   "source": [
    "#### <span style='color:#2D8FC5'>Check Missing Values</span>"
   ]
  },
  {
   "cell_type": "code",
   "execution_count": 30,
   "id": "34fe9d3b",
   "metadata": {
    "execution": {
     "iopub.execute_input": "2023-06-14T21:21:07.386596Z",
     "iopub.status.busy": "2023-06-14T21:21:07.386212Z",
     "iopub.status.idle": "2023-06-14T21:21:17.394749Z",
     "shell.execute_reply": "2023-06-14T21:21:17.393432Z"
    },
    "papermill": {
     "duration": 10.045375,
     "end_time": "2023-06-14T21:21:17.397374",
     "exception": false,
     "start_time": "2023-06-14T21:21:07.351999",
     "status": "completed"
    },
    "tags": []
   },
   "outputs": [
    {
     "data": {
      "text/plain": [
       "ride_id               0.0\n",
       "rideable_type         0.0\n",
       "started_at            0.0\n",
       "ended_at              0.0\n",
       "start_station_name    0.0\n",
       "start_station_id      0.0\n",
       "end_station_name      0.0\n",
       "end_station_id        0.0\n",
       "start_lat             0.0\n",
       "start_lng             0.0\n",
       "end_lat               0.0\n",
       "end_lng               0.0\n",
       "member_casual         0.0\n",
       "ride_length_min       0.0\n",
       "hour                  0.0\n",
       "month                 0.0\n",
       "day                   0.0\n",
       "year                  0.0\n",
       "month_no              0.0\n",
       "season                0.0\n",
       "dtype: float64"
      ]
     },
     "execution_count": 30,
     "metadata": {},
     "output_type": "execute_result"
    }
   ],
   "source": [
    "# check missing values\n",
    "cyc_data_combined.isnull().sum()*100/(cyc_data_combined.shape[0])"
   ]
  },
  {
   "cell_type": "markdown",
   "id": "877b6437",
   "metadata": {
    "papermill": {
     "duration": 0.03183,
     "end_time": "2023-06-14T21:21:17.461473",
     "exception": false,
     "start_time": "2023-06-14T21:21:17.429643",
     "status": "completed"
    },
    "tags": []
   },
   "source": [
    "#### <span style='color:#2D8FC5'>Cyclistic Dataframe Info</span>"
   ]
  },
  {
   "cell_type": "code",
   "execution_count": 31,
   "id": "2c819b16",
   "metadata": {
    "execution": {
     "iopub.execute_input": "2023-06-14T21:21:17.527760Z",
     "iopub.status.busy": "2023-06-14T21:21:17.527362Z",
     "iopub.status.idle": "2023-06-14T21:21:17.540258Z",
     "shell.execute_reply": "2023-06-14T21:21:17.539020Z"
    },
    "papermill": {
     "duration": 0.049725,
     "end_time": "2023-06-14T21:21:17.543389",
     "exception": false,
     "start_time": "2023-06-14T21:21:17.493664",
     "status": "completed"
    },
    "tags": []
   },
   "outputs": [
    {
     "name": "stdout",
     "output_type": "stream",
     "text": [
      "<class 'pandas.core.frame.DataFrame'>\n",
      "Int64Index: 4444582 entries, 2525248 to 0\n",
      "Data columns (total 20 columns):\n",
      " #   Column              Dtype         \n",
      "---  ------              -----         \n",
      " 0   ride_id             object        \n",
      " 1   rideable_type       category      \n",
      " 2   started_at          datetime64[ns]\n",
      " 3   ended_at            datetime64[ns]\n",
      " 4   start_station_name  object        \n",
      " 5   start_station_id    object        \n",
      " 6   end_station_name    object        \n",
      " 7   end_station_id      object        \n",
      " 8   start_lat           float64       \n",
      " 9   start_lng           float64       \n",
      " 10  end_lat             float64       \n",
      " 11  end_lng             float64       \n",
      " 12  member_casual       category      \n",
      " 13  ride_length_min     int32         \n",
      " 14  hour                int64         \n",
      " 15  month               category      \n",
      " 16  day                 category      \n",
      " 17  year                object        \n",
      " 18  month_no            int32         \n",
      " 19  season              object        \n",
      "dtypes: category(4), datetime64[ns](2), float64(4), int32(2), int64(1), object(7)\n",
      "memory usage: 559.5+ MB\n"
     ]
    }
   ],
   "source": [
    "cyc_data_combined.info()"
   ]
  },
  {
   "cell_type": "code",
   "execution_count": 32,
   "id": "e43f3865",
   "metadata": {
    "execution": {
     "iopub.execute_input": "2023-06-14T21:21:17.609987Z",
     "iopub.status.busy": "2023-06-14T21:21:17.609560Z",
     "iopub.status.idle": "2023-06-14T21:21:18.848535Z",
     "shell.execute_reply": "2023-06-14T21:21:18.847271Z"
    },
    "papermill": {
     "duration": 1.275447,
     "end_time": "2023-06-14T21:21:18.851122",
     "exception": false,
     "start_time": "2023-06-14T21:21:17.575675",
     "status": "completed"
    },
    "tags": []
   },
   "outputs": [
    {
     "data": {
      "text/html": [
       "<div>\n",
       "<style scoped>\n",
       "    .dataframe tbody tr th:only-of-type {\n",
       "        vertical-align: middle;\n",
       "    }\n",
       "\n",
       "    .dataframe tbody tr th {\n",
       "        vertical-align: top;\n",
       "    }\n",
       "\n",
       "    .dataframe thead th {\n",
       "        text-align: right;\n",
       "    }\n",
       "</style>\n",
       "<table border=\"1\" class=\"dataframe\">\n",
       "  <thead>\n",
       "    <tr style=\"text-align: right;\">\n",
       "      <th></th>\n",
       "      <th>start_lat</th>\n",
       "      <th>start_lng</th>\n",
       "      <th>end_lat</th>\n",
       "      <th>end_lng</th>\n",
       "      <th>ride_length_min</th>\n",
       "      <th>hour</th>\n",
       "      <th>month_no</th>\n",
       "    </tr>\n",
       "  </thead>\n",
       "  <tbody>\n",
       "    <tr>\n",
       "      <th>count</th>\n",
       "      <td>4.444582e+06</td>\n",
       "      <td>4.444582e+06</td>\n",
       "      <td>4.444582e+06</td>\n",
       "      <td>4.444582e+06</td>\n",
       "      <td>4.444582e+06</td>\n",
       "      <td>4.444582e+06</td>\n",
       "      <td>4.444582e+06</td>\n",
       "    </tr>\n",
       "    <tr>\n",
       "      <th>mean</th>\n",
       "      <td>4.190179e+01</td>\n",
       "      <td>-8.764490e+01</td>\n",
       "      <td>4.190207e+01</td>\n",
       "      <td>-8.764503e+01</td>\n",
       "      <td>1.639542e+01</td>\n",
       "      <td>1.451416e+01</td>\n",
       "      <td>6.912999e+00</td>\n",
       "    </tr>\n",
       "    <tr>\n",
       "      <th>std</th>\n",
       "      <td>4.285236e-02</td>\n",
       "      <td>2.495147e-02</td>\n",
       "      <td>6.794712e-02</td>\n",
       "      <td>1.128288e-01</td>\n",
       "      <td>3.651620e+01</td>\n",
       "      <td>4.810275e+00</td>\n",
       "      <td>2.642632e+00</td>\n",
       "    </tr>\n",
       "    <tr>\n",
       "      <th>min</th>\n",
       "      <td>4.164850e+01</td>\n",
       "      <td>-8.783332e+01</td>\n",
       "      <td>0.000000e+00</td>\n",
       "      <td>-8.783000e+01</td>\n",
       "      <td>1.000000e+00</td>\n",
       "      <td>1.000000e+00</td>\n",
       "      <td>1.000000e+00</td>\n",
       "    </tr>\n",
       "    <tr>\n",
       "      <th>25%</th>\n",
       "      <td>4.188103e+01</td>\n",
       "      <td>-8.765826e+01</td>\n",
       "      <td>4.188103e+01</td>\n",
       "      <td>-8.765862e+01</td>\n",
       "      <td>6.000000e+00</td>\n",
       "      <td>1.100000e+01</td>\n",
       "      <td>5.000000e+00</td>\n",
       "    </tr>\n",
       "    <tr>\n",
       "      <th>50%</th>\n",
       "      <td>4.189682e+01</td>\n",
       "      <td>-8.764182e+01</td>\n",
       "      <td>4.189766e+01</td>\n",
       "      <td>-8.764288e+01</td>\n",
       "      <td>1.000000e+01</td>\n",
       "      <td>1.500000e+01</td>\n",
       "      <td>7.000000e+00</td>\n",
       "    </tr>\n",
       "    <tr>\n",
       "      <th>75%</th>\n",
       "      <td>4.192877e+01</td>\n",
       "      <td>-8.762858e+01</td>\n",
       "      <td>4.192889e+01</td>\n",
       "      <td>-8.762858e+01</td>\n",
       "      <td>1.800000e+01</td>\n",
       "      <td>1.800000e+01</td>\n",
       "      <td>9.000000e+00</td>\n",
       "    </tr>\n",
       "    <tr>\n",
       "      <th>max</th>\n",
       "      <td>4.206487e+01</td>\n",
       "      <td>-8.752531e+01</td>\n",
       "      <td>4.206485e+01</td>\n",
       "      <td>0.000000e+00</td>\n",
       "      <td>3.203500e+04</td>\n",
       "      <td>2.400000e+01</td>\n",
       "      <td>1.200000e+01</td>\n",
       "    </tr>\n",
       "  </tbody>\n",
       "</table>\n",
       "</div>"
      ],
      "text/plain": [
       "          start_lat     start_lng       end_lat       end_lng  \\\n",
       "count  4.444582e+06  4.444582e+06  4.444582e+06  4.444582e+06   \n",
       "mean   4.190179e+01 -8.764490e+01  4.190207e+01 -8.764503e+01   \n",
       "std    4.285236e-02  2.495147e-02  6.794712e-02  1.128288e-01   \n",
       "min    4.164850e+01 -8.783332e+01  0.000000e+00 -8.783000e+01   \n",
       "25%    4.188103e+01 -8.765826e+01  4.188103e+01 -8.765862e+01   \n",
       "50%    4.189682e+01 -8.764182e+01  4.189766e+01 -8.764288e+01   \n",
       "75%    4.192877e+01 -8.762858e+01  4.192889e+01 -8.762858e+01   \n",
       "max    4.206487e+01 -8.752531e+01  4.206485e+01  0.000000e+00   \n",
       "\n",
       "       ride_length_min          hour      month_no  \n",
       "count     4.444582e+06  4.444582e+06  4.444582e+06  \n",
       "mean      1.639542e+01  1.451416e+01  6.912999e+00  \n",
       "std       3.651620e+01  4.810275e+00  2.642632e+00  \n",
       "min       1.000000e+00  1.000000e+00  1.000000e+00  \n",
       "25%       6.000000e+00  1.100000e+01  5.000000e+00  \n",
       "50%       1.000000e+01  1.500000e+01  7.000000e+00  \n",
       "75%       1.800000e+01  1.800000e+01  9.000000e+00  \n",
       "max       3.203500e+04  2.400000e+01  1.200000e+01  "
      ]
     },
     "execution_count": 32,
     "metadata": {},
     "output_type": "execute_result"
    }
   ],
   "source": [
    "cyc_data_combined.describe()"
   ]
  },
  {
   "cell_type": "markdown",
   "id": "56959e14",
   "metadata": {
    "papermill": {
     "duration": 0.03234,
     "end_time": "2023-06-14T21:21:18.916283",
     "exception": false,
     "start_time": "2023-06-14T21:21:18.883943",
     "status": "completed"
    },
    "tags": []
   },
   "source": [
    "#### <span style='color:#2D8FC5'>Cleaning up Station Name columns</span>"
   ]
  },
  {
   "cell_type": "code",
   "execution_count": 33,
   "id": "d19606b2",
   "metadata": {
    "execution": {
     "iopub.execute_input": "2023-06-14T21:21:18.985903Z",
     "iopub.status.busy": "2023-06-14T21:21:18.985496Z",
     "iopub.status.idle": "2023-06-14T21:21:28.760273Z",
     "shell.execute_reply": "2023-06-14T21:21:28.759047Z"
    },
    "papermill": {
     "duration": 9.811109,
     "end_time": "2023-06-14T21:21:28.762533",
     "exception": false,
     "start_time": "2023-06-14T21:21:18.951424",
     "status": "completed"
    },
    "tags": []
   },
   "outputs": [
    {
     "data": {
      "text/plain": [
       "ride_id               0\n",
       "rideable_type         0\n",
       "started_at            0\n",
       "ended_at              0\n",
       "start_station_name    0\n",
       "start_station_id      0\n",
       "end_station_name      0\n",
       "end_station_id        0\n",
       "start_lat             0\n",
       "start_lng             0\n",
       "end_lat               0\n",
       "end_lng               0\n",
       "member_casual         0\n",
       "ride_length_min       0\n",
       "hour                  0\n",
       "month                 0\n",
       "day                   0\n",
       "year                  0\n",
       "month_no              0\n",
       "season                0\n",
       "dtype: int64"
      ]
     },
     "execution_count": 33,
     "metadata": {},
     "output_type": "execute_result"
    }
   ],
   "source": [
    "cyc_data_combined.isnull().sum()"
   ]
  },
  {
   "cell_type": "code",
   "execution_count": 34,
   "id": "329b5748",
   "metadata": {
    "execution": {
     "iopub.execute_input": "2023-06-14T21:21:28.831993Z",
     "iopub.status.busy": "2023-06-14T21:21:28.831361Z",
     "iopub.status.idle": "2023-06-14T21:21:35.269764Z",
     "shell.execute_reply": "2023-06-14T21:21:35.268504Z"
    },
    "papermill": {
     "duration": 6.476086,
     "end_time": "2023-06-14T21:21:35.272222",
     "exception": false,
     "start_time": "2023-06-14T21:21:28.796136",
     "status": "completed"
    },
    "tags": []
   },
   "outputs": [
    {
     "data": {
      "text/plain": [
       "1597"
      ]
     },
     "execution_count": 34,
     "metadata": {},
     "output_type": "execute_result"
    }
   ],
   "source": [
    "# station list\n",
    "cyc_data_combined['start_station_name'] = cyc_data_combined['start_station_name'].str.strip().str.lower()\n",
    "stations_list = cyc_data_combined[['start_station_name','start_lat','start_lng']]\n",
    "stations_list.drop_duplicates(subset='start_station_name', inplace=True)\n",
    "total_stations = len(stations_list['start_station_name'].unique())\n",
    "total_stations\n"
   ]
  },
  {
   "cell_type": "markdown",
   "id": "a6a980ac",
   "metadata": {
    "papermill": {
     "duration": 0.032685,
     "end_time": "2023-06-14T21:21:35.338166",
     "exception": false,
     "start_time": "2023-06-14T21:21:35.305481",
     "status": "completed"
    },
    "tags": []
   },
   "source": [
    "There are 1,721 rental stations available for users."
   ]
  },
  {
   "cell_type": "code",
   "execution_count": 35,
   "id": "c37f412d",
   "metadata": {
    "execution": {
     "iopub.execute_input": "2023-06-14T21:21:35.408397Z",
     "iopub.status.busy": "2023-06-14T21:21:35.407951Z",
     "iopub.status.idle": "2023-06-14T21:21:36.520361Z",
     "shell.execute_reply": "2023-06-14T21:21:36.519042Z"
    },
    "papermill": {
     "duration": 1.150571,
     "end_time": "2023-06-14T21:21:36.522935",
     "exception": false,
     "start_time": "2023-06-14T21:21:35.372364",
     "status": "completed"
    },
    "tags": []
   },
   "outputs": [
    {
     "name": "stdout",
     "output_type": "stream",
     "text": [
      "exported casual_start_stations_top_15 csv file\n"
     ]
    }
   ],
   "source": [
    "# Members\n",
    "member = cyc_data_combined[cyc_data_combined['member_casual'] == 'member'] # filter out casual users\n",
    "member_start_stations = member.groupby(['start_station_name']).size()\n",
    "member_start_stations = member_start_stations.to_frame(name='number_of_starts').reset_index().sort_values(by='number_of_starts', ascending=False)\n",
    "member_start_stations = member_start_stations.head(15)\n",
    "member_start_stations\n",
    "\n",
    "# merge top 15 stations with corresponding geo coordinates \n",
    "member_start_stations_top_15 = pd.merge(left=member_start_stations, right=stations_list, on='start_station_name', how='left')\n",
    "member_start_stations_top_15.head()\n",
    "\n",
    "# export to csv file to analyze in Tableau\n",
    "member_start_stations_top_15.to_csv('member_start_stations_top_15.csv', index=False)\n",
    "print('exported casual_start_stations_top_15 csv file')"
   ]
  },
  {
   "cell_type": "code",
   "execution_count": 36,
   "id": "f3279278",
   "metadata": {
    "execution": {
     "iopub.execute_input": "2023-06-14T21:21:36.592443Z",
     "iopub.status.busy": "2023-06-14T21:21:36.591811Z",
     "iopub.status.idle": "2023-06-14T21:21:37.380305Z",
     "shell.execute_reply": "2023-06-14T21:21:37.378994Z"
    },
    "papermill": {
     "duration": 0.826703,
     "end_time": "2023-06-14T21:21:37.383247",
     "exception": false,
     "start_time": "2023-06-14T21:21:36.556544",
     "status": "completed"
    },
    "tags": []
   },
   "outputs": [
    {
     "name": "stdout",
     "output_type": "stream",
     "text": [
      "exported casual_start_stations_top_15 csv file\n"
     ]
    }
   ],
   "source": [
    "# Casual\n",
    "casual = cyc_data_combined[cyc_data_combined['member_casual'] == 'casual'] # filter out casual users\n",
    "casual_start_stations = casual.groupby(['start_station_name']).size()\n",
    "casual_start_stations = casual_start_stations.to_frame(name='number_of_starts').reset_index().sort_values(by='number_of_starts', ascending=False)\n",
    "casual_start_stations = casual_start_stations.head(15)\n",
    "\n",
    "# merge top 15 stations with corresponding geo coordinates \n",
    "casual_start_stations_top_15 = pd.merge(left=casual_start_stations, right=stations_list, on='start_station_name', how='left')\n",
    "casual_start_stations_top_15.head()\n",
    "\n",
    "# export to csv file to analyze in Tableau\n",
    "casual_start_stations_top_15.to_csv('casual_start_stations_top_15.csv', index=False)\n",
    "print('exported casual_start_stations_top_15 csv file')"
   ]
  },
  {
   "cell_type": "markdown",
   "id": "4805de53",
   "metadata": {
    "papermill": {
     "duration": 0.034713,
     "end_time": "2023-06-14T21:21:37.456428",
     "exception": false,
     "start_time": "2023-06-14T21:21:37.421715",
     "status": "completed"
    },
    "tags": []
   },
   "source": [
    "<h4 style=\"background-color:teal;color:white;border-radius: 8px; padding:12px\">\n",
    "    <span style=\"font-weight:bold\">ANALYZE PHASE</span>\n",
    "</h4>\n",
    "\n",
    "#### <span style='color:#2D8FC5'>Summary Statistics: Casual vs. Member</span>\n",
    "\n",
    "Let's see how casaul users compare to member users in terms of their bike usage. "
   ]
  },
  {
   "cell_type": "markdown",
   "id": "4ac71949",
   "metadata": {
    "papermill": {
     "duration": 0.033413,
     "end_time": "2023-06-14T21:21:37.524095",
     "exception": false,
     "start_time": "2023-06-14T21:21:37.490682",
     "status": "completed"
    },
    "tags": []
   },
   "source": [
    "#### <span style='color:#2D8FC5'>Total trips takes: Casual vs. Member</span>"
   ]
  },
  {
   "cell_type": "code",
   "execution_count": 37,
   "id": "cd59a0f5",
   "metadata": {
    "execution": {
     "iopub.execute_input": "2023-06-14T21:21:37.594755Z",
     "iopub.status.busy": "2023-06-14T21:21:37.594109Z",
     "iopub.status.idle": "2023-06-14T21:21:49.077573Z",
     "shell.execute_reply": "2023-06-14T21:21:49.076511Z"
    },
    "papermill": {
     "duration": 11.521663,
     "end_time": "2023-06-14T21:21:49.080112",
     "exception": false,
     "start_time": "2023-06-14T21:21:37.558449",
     "status": "completed"
    },
    "tags": []
   },
   "outputs": [
    {
     "data": {
      "application/vnd.plotly.v1+json": {
       "config": {
        "plotlyServerURL": "https://plot.ly"
       },
       "data": [
        {
         "alignmentgroup": "True",
         "customdata": [
          [
           1761678
          ]
         ],
         "hovertemplate": "<b>%{hovertext}</b><br><br>No. of Rides=%{text}<extra></extra>",
         "hovertext": [
          "casual"
         ],
         "legendgroup": "casual",
         "marker": {
          "color": "#FF934F",
          "pattern": {
           "shape": ""
          }
         },
         "name": "casual",
         "offsetgroup": "casual",
         "orientation": "h",
         "showlegend": true,
         "text": [
          1761678.0
         ],
         "textposition": "auto",
         "type": "bar",
         "x": [
          1761678
         ],
         "xaxis": "x",
         "y": [
          "casual"
         ],
         "yaxis": "y"
        },
        {
         "alignmentgroup": "True",
         "customdata": [
          [
           2682904
          ]
         ],
         "hovertemplate": "<b>%{hovertext}</b><br><br>No. of Rides=%{text}<extra></extra>",
         "hovertext": [
          "member"
         ],
         "legendgroup": "member",
         "marker": {
          "color": "#058ED9",
          "pattern": {
           "shape": ""
          }
         },
         "name": "member",
         "offsetgroup": "member",
         "orientation": "h",
         "showlegend": true,
         "text": [
          2682904.0
         ],
         "textposition": "auto",
         "type": "bar",
         "x": [
          2682904
         ],
         "xaxis": "x",
         "y": [
          "member"
         ],
         "yaxis": "y"
        }
       ],
       "layout": {
        "barmode": "relative",
        "height": 300,
        "legend": {
         "title": {
          "text": "User Type"
         },
         "tracegroupgap": 0
        },
        "margin": {
         "t": 60
        },
        "template": {
         "data": {
          "bar": [
           {
            "error_x": {
             "color": "#2a3f5f"
            },
            "error_y": {
             "color": "#2a3f5f"
            },
            "marker": {
             "line": {
              "color": "#E5ECF6",
              "width": 0.5
             },
             "pattern": {
              "fillmode": "overlay",
              "size": 10,
              "solidity": 0.2
             }
            },
            "type": "bar"
           }
          ],
          "barpolar": [
           {
            "marker": {
             "line": {
              "color": "#E5ECF6",
              "width": 0.5
             },
             "pattern": {
              "fillmode": "overlay",
              "size": 10,
              "solidity": 0.2
             }
            },
            "type": "barpolar"
           }
          ],
          "carpet": [
           {
            "aaxis": {
             "endlinecolor": "#2a3f5f",
             "gridcolor": "white",
             "linecolor": "white",
             "minorgridcolor": "white",
             "startlinecolor": "#2a3f5f"
            },
            "baxis": {
             "endlinecolor": "#2a3f5f",
             "gridcolor": "white",
             "linecolor": "white",
             "minorgridcolor": "white",
             "startlinecolor": "#2a3f5f"
            },
            "type": "carpet"
           }
          ],
          "choropleth": [
           {
            "colorbar": {
             "outlinewidth": 0,
             "ticks": ""
            },
            "type": "choropleth"
           }
          ],
          "contour": [
           {
            "colorbar": {
             "outlinewidth": 0,
             "ticks": ""
            },
            "colorscale": [
             [
              0.0,
              "#0d0887"
             ],
             [
              0.1111111111111111,
              "#46039f"
             ],
             [
              0.2222222222222222,
              "#7201a8"
             ],
             [
              0.3333333333333333,
              "#9c179e"
             ],
             [
              0.4444444444444444,
              "#bd3786"
             ],
             [
              0.5555555555555556,
              "#d8576b"
             ],
             [
              0.6666666666666666,
              "#ed7953"
             ],
             [
              0.7777777777777778,
              "#fb9f3a"
             ],
             [
              0.8888888888888888,
              "#fdca26"
             ],
             [
              1.0,
              "#f0f921"
             ]
            ],
            "type": "contour"
           }
          ],
          "contourcarpet": [
           {
            "colorbar": {
             "outlinewidth": 0,
             "ticks": ""
            },
            "type": "contourcarpet"
           }
          ],
          "heatmap": [
           {
            "colorbar": {
             "outlinewidth": 0,
             "ticks": ""
            },
            "colorscale": [
             [
              0.0,
              "#0d0887"
             ],
             [
              0.1111111111111111,
              "#46039f"
             ],
             [
              0.2222222222222222,
              "#7201a8"
             ],
             [
              0.3333333333333333,
              "#9c179e"
             ],
             [
              0.4444444444444444,
              "#bd3786"
             ],
             [
              0.5555555555555556,
              "#d8576b"
             ],
             [
              0.6666666666666666,
              "#ed7953"
             ],
             [
              0.7777777777777778,
              "#fb9f3a"
             ],
             [
              0.8888888888888888,
              "#fdca26"
             ],
             [
              1.0,
              "#f0f921"
             ]
            ],
            "type": "heatmap"
           }
          ],
          "heatmapgl": [
           {
            "colorbar": {
             "outlinewidth": 0,
             "ticks": ""
            },
            "colorscale": [
             [
              0.0,
              "#0d0887"
             ],
             [
              0.1111111111111111,
              "#46039f"
             ],
             [
              0.2222222222222222,
              "#7201a8"
             ],
             [
              0.3333333333333333,
              "#9c179e"
             ],
             [
              0.4444444444444444,
              "#bd3786"
             ],
             [
              0.5555555555555556,
              "#d8576b"
             ],
             [
              0.6666666666666666,
              "#ed7953"
             ],
             [
              0.7777777777777778,
              "#fb9f3a"
             ],
             [
              0.8888888888888888,
              "#fdca26"
             ],
             [
              1.0,
              "#f0f921"
             ]
            ],
            "type": "heatmapgl"
           }
          ],
          "histogram": [
           {
            "marker": {
             "pattern": {
              "fillmode": "overlay",
              "size": 10,
              "solidity": 0.2
             }
            },
            "type": "histogram"
           }
          ],
          "histogram2d": [
           {
            "colorbar": {
             "outlinewidth": 0,
             "ticks": ""
            },
            "colorscale": [
             [
              0.0,
              "#0d0887"
             ],
             [
              0.1111111111111111,
              "#46039f"
             ],
             [
              0.2222222222222222,
              "#7201a8"
             ],
             [
              0.3333333333333333,
              "#9c179e"
             ],
             [
              0.4444444444444444,
              "#bd3786"
             ],
             [
              0.5555555555555556,
              "#d8576b"
             ],
             [
              0.6666666666666666,
              "#ed7953"
             ],
             [
              0.7777777777777778,
              "#fb9f3a"
             ],
             [
              0.8888888888888888,
              "#fdca26"
             ],
             [
              1.0,
              "#f0f921"
             ]
            ],
            "type": "histogram2d"
           }
          ],
          "histogram2dcontour": [
           {
            "colorbar": {
             "outlinewidth": 0,
             "ticks": ""
            },
            "colorscale": [
             [
              0.0,
              "#0d0887"
             ],
             [
              0.1111111111111111,
              "#46039f"
             ],
             [
              0.2222222222222222,
              "#7201a8"
             ],
             [
              0.3333333333333333,
              "#9c179e"
             ],
             [
              0.4444444444444444,
              "#bd3786"
             ],
             [
              0.5555555555555556,
              "#d8576b"
             ],
             [
              0.6666666666666666,
              "#ed7953"
             ],
             [
              0.7777777777777778,
              "#fb9f3a"
             ],
             [
              0.8888888888888888,
              "#fdca26"
             ],
             [
              1.0,
              "#f0f921"
             ]
            ],
            "type": "histogram2dcontour"
           }
          ],
          "mesh3d": [
           {
            "colorbar": {
             "outlinewidth": 0,
             "ticks": ""
            },
            "type": "mesh3d"
           }
          ],
          "parcoords": [
           {
            "line": {
             "colorbar": {
              "outlinewidth": 0,
              "ticks": ""
             }
            },
            "type": "parcoords"
           }
          ],
          "pie": [
           {
            "automargin": true,
            "type": "pie"
           }
          ],
          "scatter": [
           {
            "fillpattern": {
             "fillmode": "overlay",
             "size": 10,
             "solidity": 0.2
            },
            "type": "scatter"
           }
          ],
          "scatter3d": [
           {
            "line": {
             "colorbar": {
              "outlinewidth": 0,
              "ticks": ""
             }
            },
            "marker": {
             "colorbar": {
              "outlinewidth": 0,
              "ticks": ""
             }
            },
            "type": "scatter3d"
           }
          ],
          "scattercarpet": [
           {
            "marker": {
             "colorbar": {
              "outlinewidth": 0,
              "ticks": ""
             }
            },
            "type": "scattercarpet"
           }
          ],
          "scattergeo": [
           {
            "marker": {
             "colorbar": {
              "outlinewidth": 0,
              "ticks": ""
             }
            },
            "type": "scattergeo"
           }
          ],
          "scattergl": [
           {
            "marker": {
             "colorbar": {
              "outlinewidth": 0,
              "ticks": ""
             }
            },
            "type": "scattergl"
           }
          ],
          "scattermapbox": [
           {
            "marker": {
             "colorbar": {
              "outlinewidth": 0,
              "ticks": ""
             }
            },
            "type": "scattermapbox"
           }
          ],
          "scatterpolar": [
           {
            "marker": {
             "colorbar": {
              "outlinewidth": 0,
              "ticks": ""
             }
            },
            "type": "scatterpolar"
           }
          ],
          "scatterpolargl": [
           {
            "marker": {
             "colorbar": {
              "outlinewidth": 0,
              "ticks": ""
             }
            },
            "type": "scatterpolargl"
           }
          ],
          "scatterternary": [
           {
            "marker": {
             "colorbar": {
              "outlinewidth": 0,
              "ticks": ""
             }
            },
            "type": "scatterternary"
           }
          ],
          "surface": [
           {
            "colorbar": {
             "outlinewidth": 0,
             "ticks": ""
            },
            "colorscale": [
             [
              0.0,
              "#0d0887"
             ],
             [
              0.1111111111111111,
              "#46039f"
             ],
             [
              0.2222222222222222,
              "#7201a8"
             ],
             [
              0.3333333333333333,
              "#9c179e"
             ],
             [
              0.4444444444444444,
              "#bd3786"
             ],
             [
              0.5555555555555556,
              "#d8576b"
             ],
             [
              0.6666666666666666,
              "#ed7953"
             ],
             [
              0.7777777777777778,
              "#fb9f3a"
             ],
             [
              0.8888888888888888,
              "#fdca26"
             ],
             [
              1.0,
              "#f0f921"
             ]
            ],
            "type": "surface"
           }
          ],
          "table": [
           {
            "cells": {
             "fill": {
              "color": "#EBF0F8"
             },
             "line": {
              "color": "white"
             }
            },
            "header": {
             "fill": {
              "color": "#C8D4E3"
             },
             "line": {
              "color": "white"
             }
            },
            "type": "table"
           }
          ]
         },
         "layout": {
          "annotationdefaults": {
           "arrowcolor": "#2a3f5f",
           "arrowhead": 0,
           "arrowwidth": 1
          },
          "autotypenumbers": "strict",
          "coloraxis": {
           "colorbar": {
            "outlinewidth": 0,
            "ticks": ""
           }
          },
          "colorscale": {
           "diverging": [
            [
             0,
             "#8e0152"
            ],
            [
             0.1,
             "#c51b7d"
            ],
            [
             0.2,
             "#de77ae"
            ],
            [
             0.3,
             "#f1b6da"
            ],
            [
             0.4,
             "#fde0ef"
            ],
            [
             0.5,
             "#f7f7f7"
            ],
            [
             0.6,
             "#e6f5d0"
            ],
            [
             0.7,
             "#b8e186"
            ],
            [
             0.8,
             "#7fbc41"
            ],
            [
             0.9,
             "#4d9221"
            ],
            [
             1,
             "#276419"
            ]
           ],
           "sequential": [
            [
             0.0,
             "#0d0887"
            ],
            [
             0.1111111111111111,
             "#46039f"
            ],
            [
             0.2222222222222222,
             "#7201a8"
            ],
            [
             0.3333333333333333,
             "#9c179e"
            ],
            [
             0.4444444444444444,
             "#bd3786"
            ],
            [
             0.5555555555555556,
             "#d8576b"
            ],
            [
             0.6666666666666666,
             "#ed7953"
            ],
            [
             0.7777777777777778,
             "#fb9f3a"
            ],
            [
             0.8888888888888888,
             "#fdca26"
            ],
            [
             1.0,
             "#f0f921"
            ]
           ],
           "sequentialminus": [
            [
             0.0,
             "#0d0887"
            ],
            [
             0.1111111111111111,
             "#46039f"
            ],
            [
             0.2222222222222222,
             "#7201a8"
            ],
            [
             0.3333333333333333,
             "#9c179e"
            ],
            [
             0.4444444444444444,
             "#bd3786"
            ],
            [
             0.5555555555555556,
             "#d8576b"
            ],
            [
             0.6666666666666666,
             "#ed7953"
            ],
            [
             0.7777777777777778,
             "#fb9f3a"
            ],
            [
             0.8888888888888888,
             "#fdca26"
            ],
            [
             1.0,
             "#f0f921"
            ]
           ]
          },
          "colorway": [
           "#636efa",
           "#EF553B",
           "#00cc96",
           "#ab63fa",
           "#FFA15A",
           "#19d3f3",
           "#FF6692",
           "#B6E880",
           "#FF97FF",
           "#FECB52"
          ],
          "font": {
           "color": "#2a3f5f"
          },
          "geo": {
           "bgcolor": "white",
           "lakecolor": "white",
           "landcolor": "#E5ECF6",
           "showlakes": true,
           "showland": true,
           "subunitcolor": "white"
          },
          "hoverlabel": {
           "align": "left"
          },
          "hovermode": "closest",
          "mapbox": {
           "style": "light"
          },
          "paper_bgcolor": "white",
          "plot_bgcolor": "#E5ECF6",
          "polar": {
           "angularaxis": {
            "gridcolor": "white",
            "linecolor": "white",
            "ticks": ""
           },
           "bgcolor": "#E5ECF6",
           "radialaxis": {
            "gridcolor": "white",
            "linecolor": "white",
            "ticks": ""
           }
          },
          "scene": {
           "xaxis": {
            "backgroundcolor": "#E5ECF6",
            "gridcolor": "white",
            "gridwidth": 2,
            "linecolor": "white",
            "showbackground": true,
            "ticks": "",
            "zerolinecolor": "white"
           },
           "yaxis": {
            "backgroundcolor": "#E5ECF6",
            "gridcolor": "white",
            "gridwidth": 2,
            "linecolor": "white",
            "showbackground": true,
            "ticks": "",
            "zerolinecolor": "white"
           },
           "zaxis": {
            "backgroundcolor": "#E5ECF6",
            "gridcolor": "white",
            "gridwidth": 2,
            "linecolor": "white",
            "showbackground": true,
            "ticks": "",
            "zerolinecolor": "white"
           }
          },
          "shapedefaults": {
           "line": {
            "color": "#2a3f5f"
           }
          },
          "ternary": {
           "aaxis": {
            "gridcolor": "white",
            "linecolor": "white",
            "ticks": ""
           },
           "baxis": {
            "gridcolor": "white",
            "linecolor": "white",
            "ticks": ""
           },
           "bgcolor": "#E5ECF6",
           "caxis": {
            "gridcolor": "white",
            "linecolor": "white",
            "ticks": ""
           }
          },
          "title": {
           "x": 0.05
          },
          "xaxis": {
           "automargin": true,
           "gridcolor": "white",
           "linecolor": "white",
           "ticks": "",
           "title": {
            "standoff": 15
           },
           "zerolinecolor": "white",
           "zerolinewidth": 2
          },
          "yaxis": {
           "automargin": true,
           "gridcolor": "white",
           "linecolor": "white",
           "ticks": "",
           "title": {
            "standoff": 15
           },
           "zerolinecolor": "white",
           "zerolinewidth": 2
          }
         }
        },
        "title": {
         "automargin": true,
         "font": {
          "size": 18
         },
         "text": "Casual Riders vs Members Count",
         "yref": "paper"
        },
        "xaxis": {
         "anchor": "y",
         "domain": [
          0.0,
          1.0
         ],
         "range": [
          0,
          4000000
         ],
         "title": {
          "text": "No. of Rides"
         }
        },
        "yaxis": {
         "anchor": "x",
         "categoryarray": [
          "member",
          "casual"
         ],
         "categoryorder": "array",
         "domain": [
          0.0,
          1.0
         ],
         "title": {
          "text": "User Type"
         }
        }
       }
      },
      "text/html": [
       "<div>                            <div id=\"0bf5b87a-9147-4a38-b5e6-da626d5d621d\" class=\"plotly-graph-div\" style=\"height:300px; width:100%;\"></div>            <script type=\"text/javascript\">                require([\"plotly\"], function(Plotly) {                    window.PLOTLYENV=window.PLOTLYENV || {};                                    if (document.getElementById(\"0bf5b87a-9147-4a38-b5e6-da626d5d621d\")) {                    Plotly.newPlot(                        \"0bf5b87a-9147-4a38-b5e6-da626d5d621d\",                        [{\"alignmentgroup\":\"True\",\"customdata\":[[1761678]],\"hovertemplate\":\"<b>%{hovertext}</b><br><br>No. of Rides=%{text}<extra></extra>\",\"hovertext\":[\"casual\"],\"legendgroup\":\"casual\",\"marker\":{\"color\":\"#FF934F\",\"pattern\":{\"shape\":\"\"}},\"name\":\"casual\",\"offsetgroup\":\"casual\",\"orientation\":\"h\",\"showlegend\":true,\"text\":[1761678.0],\"textposition\":\"auto\",\"x\":[1761678],\"xaxis\":\"x\",\"y\":[\"casual\"],\"yaxis\":\"y\",\"type\":\"bar\"},{\"alignmentgroup\":\"True\",\"customdata\":[[2682904]],\"hovertemplate\":\"<b>%{hovertext}</b><br><br>No. of Rides=%{text}<extra></extra>\",\"hovertext\":[\"member\"],\"legendgroup\":\"member\",\"marker\":{\"color\":\"#058ED9\",\"pattern\":{\"shape\":\"\"}},\"name\":\"member\",\"offsetgroup\":\"member\",\"orientation\":\"h\",\"showlegend\":true,\"text\":[2682904.0],\"textposition\":\"auto\",\"x\":[2682904],\"xaxis\":\"x\",\"y\":[\"member\"],\"yaxis\":\"y\",\"type\":\"bar\"}],                        {\"template\":{\"data\":{\"histogram2dcontour\":[{\"type\":\"histogram2dcontour\",\"colorbar\":{\"outlinewidth\":0,\"ticks\":\"\"},\"colorscale\":[[0.0,\"#0d0887\"],[0.1111111111111111,\"#46039f\"],[0.2222222222222222,\"#7201a8\"],[0.3333333333333333,\"#9c179e\"],[0.4444444444444444,\"#bd3786\"],[0.5555555555555556,\"#d8576b\"],[0.6666666666666666,\"#ed7953\"],[0.7777777777777778,\"#fb9f3a\"],[0.8888888888888888,\"#fdca26\"],[1.0,\"#f0f921\"]]}],\"choropleth\":[{\"type\":\"choropleth\",\"colorbar\":{\"outlinewidth\":0,\"ticks\":\"\"}}],\"histogram2d\":[{\"type\":\"histogram2d\",\"colorbar\":{\"outlinewidth\":0,\"ticks\":\"\"},\"colorscale\":[[0.0,\"#0d0887\"],[0.1111111111111111,\"#46039f\"],[0.2222222222222222,\"#7201a8\"],[0.3333333333333333,\"#9c179e\"],[0.4444444444444444,\"#bd3786\"],[0.5555555555555556,\"#d8576b\"],[0.6666666666666666,\"#ed7953\"],[0.7777777777777778,\"#fb9f3a\"],[0.8888888888888888,\"#fdca26\"],[1.0,\"#f0f921\"]]}],\"heatmap\":[{\"type\":\"heatmap\",\"colorbar\":{\"outlinewidth\":0,\"ticks\":\"\"},\"colorscale\":[[0.0,\"#0d0887\"],[0.1111111111111111,\"#46039f\"],[0.2222222222222222,\"#7201a8\"],[0.3333333333333333,\"#9c179e\"],[0.4444444444444444,\"#bd3786\"],[0.5555555555555556,\"#d8576b\"],[0.6666666666666666,\"#ed7953\"],[0.7777777777777778,\"#fb9f3a\"],[0.8888888888888888,\"#fdca26\"],[1.0,\"#f0f921\"]]}],\"heatmapgl\":[{\"type\":\"heatmapgl\",\"colorbar\":{\"outlinewidth\":0,\"ticks\":\"\"},\"colorscale\":[[0.0,\"#0d0887\"],[0.1111111111111111,\"#46039f\"],[0.2222222222222222,\"#7201a8\"],[0.3333333333333333,\"#9c179e\"],[0.4444444444444444,\"#bd3786\"],[0.5555555555555556,\"#d8576b\"],[0.6666666666666666,\"#ed7953\"],[0.7777777777777778,\"#fb9f3a\"],[0.8888888888888888,\"#fdca26\"],[1.0,\"#f0f921\"]]}],\"contourcarpet\":[{\"type\":\"contourcarpet\",\"colorbar\":{\"outlinewidth\":0,\"ticks\":\"\"}}],\"contour\":[{\"type\":\"contour\",\"colorbar\":{\"outlinewidth\":0,\"ticks\":\"\"},\"colorscale\":[[0.0,\"#0d0887\"],[0.1111111111111111,\"#46039f\"],[0.2222222222222222,\"#7201a8\"],[0.3333333333333333,\"#9c179e\"],[0.4444444444444444,\"#bd3786\"],[0.5555555555555556,\"#d8576b\"],[0.6666666666666666,\"#ed7953\"],[0.7777777777777778,\"#fb9f3a\"],[0.8888888888888888,\"#fdca26\"],[1.0,\"#f0f921\"]]}],\"surface\":[{\"type\":\"surface\",\"colorbar\":{\"outlinewidth\":0,\"ticks\":\"\"},\"colorscale\":[[0.0,\"#0d0887\"],[0.1111111111111111,\"#46039f\"],[0.2222222222222222,\"#7201a8\"],[0.3333333333333333,\"#9c179e\"],[0.4444444444444444,\"#bd3786\"],[0.5555555555555556,\"#d8576b\"],[0.6666666666666666,\"#ed7953\"],[0.7777777777777778,\"#fb9f3a\"],[0.8888888888888888,\"#fdca26\"],[1.0,\"#f0f921\"]]}],\"mesh3d\":[{\"type\":\"mesh3d\",\"colorbar\":{\"outlinewidth\":0,\"ticks\":\"\"}}],\"scatter\":[{\"fillpattern\":{\"fillmode\":\"overlay\",\"size\":10,\"solidity\":0.2},\"type\":\"scatter\"}],\"parcoords\":[{\"type\":\"parcoords\",\"line\":{\"colorbar\":{\"outlinewidth\":0,\"ticks\":\"\"}}}],\"scatterpolargl\":[{\"type\":\"scatterpolargl\",\"marker\":{\"colorbar\":{\"outlinewidth\":0,\"ticks\":\"\"}}}],\"bar\":[{\"error_x\":{\"color\":\"#2a3f5f\"},\"error_y\":{\"color\":\"#2a3f5f\"},\"marker\":{\"line\":{\"color\":\"#E5ECF6\",\"width\":0.5},\"pattern\":{\"fillmode\":\"overlay\",\"size\":10,\"solidity\":0.2}},\"type\":\"bar\"}],\"scattergeo\":[{\"type\":\"scattergeo\",\"marker\":{\"colorbar\":{\"outlinewidth\":0,\"ticks\":\"\"}}}],\"scatterpolar\":[{\"type\":\"scatterpolar\",\"marker\":{\"colorbar\":{\"outlinewidth\":0,\"ticks\":\"\"}}}],\"histogram\":[{\"marker\":{\"pattern\":{\"fillmode\":\"overlay\",\"size\":10,\"solidity\":0.2}},\"type\":\"histogram\"}],\"scattergl\":[{\"type\":\"scattergl\",\"marker\":{\"colorbar\":{\"outlinewidth\":0,\"ticks\":\"\"}}}],\"scatter3d\":[{\"type\":\"scatter3d\",\"line\":{\"colorbar\":{\"outlinewidth\":0,\"ticks\":\"\"}},\"marker\":{\"colorbar\":{\"outlinewidth\":0,\"ticks\":\"\"}}}],\"scattermapbox\":[{\"type\":\"scattermapbox\",\"marker\":{\"colorbar\":{\"outlinewidth\":0,\"ticks\":\"\"}}}],\"scatterternary\":[{\"type\":\"scatterternary\",\"marker\":{\"colorbar\":{\"outlinewidth\":0,\"ticks\":\"\"}}}],\"scattercarpet\":[{\"type\":\"scattercarpet\",\"marker\":{\"colorbar\":{\"outlinewidth\":0,\"ticks\":\"\"}}}],\"carpet\":[{\"aaxis\":{\"endlinecolor\":\"#2a3f5f\",\"gridcolor\":\"white\",\"linecolor\":\"white\",\"minorgridcolor\":\"white\",\"startlinecolor\":\"#2a3f5f\"},\"baxis\":{\"endlinecolor\":\"#2a3f5f\",\"gridcolor\":\"white\",\"linecolor\":\"white\",\"minorgridcolor\":\"white\",\"startlinecolor\":\"#2a3f5f\"},\"type\":\"carpet\"}],\"table\":[{\"cells\":{\"fill\":{\"color\":\"#EBF0F8\"},\"line\":{\"color\":\"white\"}},\"header\":{\"fill\":{\"color\":\"#C8D4E3\"},\"line\":{\"color\":\"white\"}},\"type\":\"table\"}],\"barpolar\":[{\"marker\":{\"line\":{\"color\":\"#E5ECF6\",\"width\":0.5},\"pattern\":{\"fillmode\":\"overlay\",\"size\":10,\"solidity\":0.2}},\"type\":\"barpolar\"}],\"pie\":[{\"automargin\":true,\"type\":\"pie\"}]},\"layout\":{\"autotypenumbers\":\"strict\",\"colorway\":[\"#636efa\",\"#EF553B\",\"#00cc96\",\"#ab63fa\",\"#FFA15A\",\"#19d3f3\",\"#FF6692\",\"#B6E880\",\"#FF97FF\",\"#FECB52\"],\"font\":{\"color\":\"#2a3f5f\"},\"hovermode\":\"closest\",\"hoverlabel\":{\"align\":\"left\"},\"paper_bgcolor\":\"white\",\"plot_bgcolor\":\"#E5ECF6\",\"polar\":{\"bgcolor\":\"#E5ECF6\",\"angularaxis\":{\"gridcolor\":\"white\",\"linecolor\":\"white\",\"ticks\":\"\"},\"radialaxis\":{\"gridcolor\":\"white\",\"linecolor\":\"white\",\"ticks\":\"\"}},\"ternary\":{\"bgcolor\":\"#E5ECF6\",\"aaxis\":{\"gridcolor\":\"white\",\"linecolor\":\"white\",\"ticks\":\"\"},\"baxis\":{\"gridcolor\":\"white\",\"linecolor\":\"white\",\"ticks\":\"\"},\"caxis\":{\"gridcolor\":\"white\",\"linecolor\":\"white\",\"ticks\":\"\"}},\"coloraxis\":{\"colorbar\":{\"outlinewidth\":0,\"ticks\":\"\"}},\"colorscale\":{\"sequential\":[[0.0,\"#0d0887\"],[0.1111111111111111,\"#46039f\"],[0.2222222222222222,\"#7201a8\"],[0.3333333333333333,\"#9c179e\"],[0.4444444444444444,\"#bd3786\"],[0.5555555555555556,\"#d8576b\"],[0.6666666666666666,\"#ed7953\"],[0.7777777777777778,\"#fb9f3a\"],[0.8888888888888888,\"#fdca26\"],[1.0,\"#f0f921\"]],\"sequentialminus\":[[0.0,\"#0d0887\"],[0.1111111111111111,\"#46039f\"],[0.2222222222222222,\"#7201a8\"],[0.3333333333333333,\"#9c179e\"],[0.4444444444444444,\"#bd3786\"],[0.5555555555555556,\"#d8576b\"],[0.6666666666666666,\"#ed7953\"],[0.7777777777777778,\"#fb9f3a\"],[0.8888888888888888,\"#fdca26\"],[1.0,\"#f0f921\"]],\"diverging\":[[0,\"#8e0152\"],[0.1,\"#c51b7d\"],[0.2,\"#de77ae\"],[0.3,\"#f1b6da\"],[0.4,\"#fde0ef\"],[0.5,\"#f7f7f7\"],[0.6,\"#e6f5d0\"],[0.7,\"#b8e186\"],[0.8,\"#7fbc41\"],[0.9,\"#4d9221\"],[1,\"#276419\"]]},\"xaxis\":{\"gridcolor\":\"white\",\"linecolor\":\"white\",\"ticks\":\"\",\"title\":{\"standoff\":15},\"zerolinecolor\":\"white\",\"automargin\":true,\"zerolinewidth\":2},\"yaxis\":{\"gridcolor\":\"white\",\"linecolor\":\"white\",\"ticks\":\"\",\"title\":{\"standoff\":15},\"zerolinecolor\":\"white\",\"automargin\":true,\"zerolinewidth\":2},\"scene\":{\"xaxis\":{\"backgroundcolor\":\"#E5ECF6\",\"gridcolor\":\"white\",\"linecolor\":\"white\",\"showbackground\":true,\"ticks\":\"\",\"zerolinecolor\":\"white\",\"gridwidth\":2},\"yaxis\":{\"backgroundcolor\":\"#E5ECF6\",\"gridcolor\":\"white\",\"linecolor\":\"white\",\"showbackground\":true,\"ticks\":\"\",\"zerolinecolor\":\"white\",\"gridwidth\":2},\"zaxis\":{\"backgroundcolor\":\"#E5ECF6\",\"gridcolor\":\"white\",\"linecolor\":\"white\",\"showbackground\":true,\"ticks\":\"\",\"zerolinecolor\":\"white\",\"gridwidth\":2}},\"shapedefaults\":{\"line\":{\"color\":\"#2a3f5f\"}},\"annotationdefaults\":{\"arrowcolor\":\"#2a3f5f\",\"arrowhead\":0,\"arrowwidth\":1},\"geo\":{\"bgcolor\":\"white\",\"landcolor\":\"#E5ECF6\",\"subunitcolor\":\"white\",\"showland\":true,\"showlakes\":true,\"lakecolor\":\"white\"},\"title\":{\"x\":0.05},\"mapbox\":{\"style\":\"light\"}}},\"xaxis\":{\"anchor\":\"y\",\"domain\":[0.0,1.0],\"title\":{\"text\":\"No. of Rides\"},\"range\":[0,4000000]},\"yaxis\":{\"anchor\":\"x\",\"domain\":[0.0,1.0],\"title\":{\"text\":\"User Type\"},\"categoryorder\":\"array\",\"categoryarray\":[\"member\",\"casual\"]},\"legend\":{\"title\":{\"text\":\"User Type\"},\"tracegroupgap\":0},\"margin\":{\"t\":60},\"barmode\":\"relative\",\"height\":300,\"title\":{\"font\":{\"size\":18},\"text\":\"Casual Riders vs Members Count\",\"automargin\":true,\"yref\":\"paper\"}},                        {\"responsive\": true}                    ).then(function(){\n",
       "                            \n",
       "var gd = document.getElementById('0bf5b87a-9147-4a38-b5e6-da626d5d621d');\n",
       "var x = new MutationObserver(function (mutations, observer) {{\n",
       "        var display = window.getComputedStyle(gd).display;\n",
       "        if (!display || display === 'none') {{\n",
       "            console.log([gd, 'removed!']);\n",
       "            Plotly.purge(gd);\n",
       "            observer.disconnect();\n",
       "        }}\n",
       "}});\n",
       "\n",
       "// Listen for the removal of the full notebook cells\n",
       "var notebookContainer = gd.closest('#notebook-container');\n",
       "if (notebookContainer) {{\n",
       "    x.observe(notebookContainer, {childList: true});\n",
       "}}\n",
       "\n",
       "// Listen for the clearing of the current output cell\n",
       "var outputEl = gd.closest('.output');\n",
       "if (outputEl) {{\n",
       "    x.observe(outputEl, {childList: true});\n",
       "}}\n",
       "\n",
       "                        })                };                });            </script>        </div>"
      ]
     },
     "metadata": {},
     "output_type": "display_data"
    }
   ],
   "source": [
    "df_pv1 = cyc_data_combined.groupby('member_casual', as_index=False).count()\n",
    "\n",
    "fig_1 = px.bar(df_pv1, y = 'member_casual', x = 'ride_id', range_x = [0,4000000],\n",
    "        color = 'member_casual', \n",
    "        height = 300,\n",
    "        text = 'ride_id', \n",
    "        labels = {'ride_id': 'No. of Rides', 'member_casual': 'User Type'},\n",
    "        hover_name = 'member_casual', hover_data = {'member_casual': False, 'month': False, 'ride_id': True}, \n",
    "        color_discrete_map = {'casual': '#FF934F', 'member': '#058ED9'})\n",
    "fig_1.update_layout(\n",
    "    title=dict(text=\"Casual Riders vs Members Count\",font=dict(size=18), automargin=True, yref='paper')\n",
    ")\n"
   ]
  },
  {
   "cell_type": "markdown",
   "id": "802b0c98",
   "metadata": {
    "papermill": {
     "duration": 0.04061,
     "end_time": "2023-06-14T21:21:49.161422",
     "exception": false,
     "start_time": "2023-06-14T21:21:49.120812",
     "status": "completed"
    },
    "tags": []
   },
   "source": [
    "__Fig.1__ - Count of casual riders vs members. Members makeup 60% of the dataset"
   ]
  },
  {
   "cell_type": "code",
   "execution_count": 38,
   "id": "db8ba541",
   "metadata": {
    "execution": {
     "iopub.execute_input": "2023-06-14T21:21:49.245049Z",
     "iopub.status.busy": "2023-06-14T21:21:49.244364Z",
     "iopub.status.idle": "2023-06-14T21:21:49.865607Z",
     "shell.execute_reply": "2023-06-14T21:21:49.864509Z"
    },
    "papermill": {
     "duration": 0.666174,
     "end_time": "2023-06-14T21:21:49.868055",
     "exception": false,
     "start_time": "2023-06-14T21:21:49.201881",
     "status": "completed"
    },
    "tags": []
   },
   "outputs": [
    {
     "data": {
      "application/vnd.plotly.v1+json": {
       "config": {
        "plotlyServerURL": "https://plot.ly"
       },
       "data": [
        {
         "customdata": [
          [
           "casual"
          ],
          [
           "member"
          ]
         ],
         "domain": {
          "x": [
           0.0,
           1.0
          ],
          "y": [
           0.0,
           1.0
          ]
         },
         "hovertemplate": "<b>%{hovertext}</b><br><br>ride_id=%{value}<br>User Type=%{customdata[0]}<extra></extra>",
         "hovertext": [
          "casual",
          "member"
         ],
         "legendgroup": "",
         "marker": {
          "colors": [
           "#FF934F",
           "#058ED9"
          ]
         },
         "name": "",
         "showlegend": false,
         "type": "pie",
         "values": [
          1761678,
          2682904
         ]
        }
       ],
       "layout": {
        "height": 300,
        "legend": {
         "title": {
          "text": "User Type"
         },
         "tracegroupgap": 0
        },
        "margin": {
         "t": 60
        },
        "template": {
         "data": {
          "bar": [
           {
            "error_x": {
             "color": "#2a3f5f"
            },
            "error_y": {
             "color": "#2a3f5f"
            },
            "marker": {
             "line": {
              "color": "#E5ECF6",
              "width": 0.5
             },
             "pattern": {
              "fillmode": "overlay",
              "size": 10,
              "solidity": 0.2
             }
            },
            "type": "bar"
           }
          ],
          "barpolar": [
           {
            "marker": {
             "line": {
              "color": "#E5ECF6",
              "width": 0.5
             },
             "pattern": {
              "fillmode": "overlay",
              "size": 10,
              "solidity": 0.2
             }
            },
            "type": "barpolar"
           }
          ],
          "carpet": [
           {
            "aaxis": {
             "endlinecolor": "#2a3f5f",
             "gridcolor": "white",
             "linecolor": "white",
             "minorgridcolor": "white",
             "startlinecolor": "#2a3f5f"
            },
            "baxis": {
             "endlinecolor": "#2a3f5f",
             "gridcolor": "white",
             "linecolor": "white",
             "minorgridcolor": "white",
             "startlinecolor": "#2a3f5f"
            },
            "type": "carpet"
           }
          ],
          "choropleth": [
           {
            "colorbar": {
             "outlinewidth": 0,
             "ticks": ""
            },
            "type": "choropleth"
           }
          ],
          "contour": [
           {
            "colorbar": {
             "outlinewidth": 0,
             "ticks": ""
            },
            "colorscale": [
             [
              0.0,
              "#0d0887"
             ],
             [
              0.1111111111111111,
              "#46039f"
             ],
             [
              0.2222222222222222,
              "#7201a8"
             ],
             [
              0.3333333333333333,
              "#9c179e"
             ],
             [
              0.4444444444444444,
              "#bd3786"
             ],
             [
              0.5555555555555556,
              "#d8576b"
             ],
             [
              0.6666666666666666,
              "#ed7953"
             ],
             [
              0.7777777777777778,
              "#fb9f3a"
             ],
             [
              0.8888888888888888,
              "#fdca26"
             ],
             [
              1.0,
              "#f0f921"
             ]
            ],
            "type": "contour"
           }
          ],
          "contourcarpet": [
           {
            "colorbar": {
             "outlinewidth": 0,
             "ticks": ""
            },
            "type": "contourcarpet"
           }
          ],
          "heatmap": [
           {
            "colorbar": {
             "outlinewidth": 0,
             "ticks": ""
            },
            "colorscale": [
             [
              0.0,
              "#0d0887"
             ],
             [
              0.1111111111111111,
              "#46039f"
             ],
             [
              0.2222222222222222,
              "#7201a8"
             ],
             [
              0.3333333333333333,
              "#9c179e"
             ],
             [
              0.4444444444444444,
              "#bd3786"
             ],
             [
              0.5555555555555556,
              "#d8576b"
             ],
             [
              0.6666666666666666,
              "#ed7953"
             ],
             [
              0.7777777777777778,
              "#fb9f3a"
             ],
             [
              0.8888888888888888,
              "#fdca26"
             ],
             [
              1.0,
              "#f0f921"
             ]
            ],
            "type": "heatmap"
           }
          ],
          "heatmapgl": [
           {
            "colorbar": {
             "outlinewidth": 0,
             "ticks": ""
            },
            "colorscale": [
             [
              0.0,
              "#0d0887"
             ],
             [
              0.1111111111111111,
              "#46039f"
             ],
             [
              0.2222222222222222,
              "#7201a8"
             ],
             [
              0.3333333333333333,
              "#9c179e"
             ],
             [
              0.4444444444444444,
              "#bd3786"
             ],
             [
              0.5555555555555556,
              "#d8576b"
             ],
             [
              0.6666666666666666,
              "#ed7953"
             ],
             [
              0.7777777777777778,
              "#fb9f3a"
             ],
             [
              0.8888888888888888,
              "#fdca26"
             ],
             [
              1.0,
              "#f0f921"
             ]
            ],
            "type": "heatmapgl"
           }
          ],
          "histogram": [
           {
            "marker": {
             "pattern": {
              "fillmode": "overlay",
              "size": 10,
              "solidity": 0.2
             }
            },
            "type": "histogram"
           }
          ],
          "histogram2d": [
           {
            "colorbar": {
             "outlinewidth": 0,
             "ticks": ""
            },
            "colorscale": [
             [
              0.0,
              "#0d0887"
             ],
             [
              0.1111111111111111,
              "#46039f"
             ],
             [
              0.2222222222222222,
              "#7201a8"
             ],
             [
              0.3333333333333333,
              "#9c179e"
             ],
             [
              0.4444444444444444,
              "#bd3786"
             ],
             [
              0.5555555555555556,
              "#d8576b"
             ],
             [
              0.6666666666666666,
              "#ed7953"
             ],
             [
              0.7777777777777778,
              "#fb9f3a"
             ],
             [
              0.8888888888888888,
              "#fdca26"
             ],
             [
              1.0,
              "#f0f921"
             ]
            ],
            "type": "histogram2d"
           }
          ],
          "histogram2dcontour": [
           {
            "colorbar": {
             "outlinewidth": 0,
             "ticks": ""
            },
            "colorscale": [
             [
              0.0,
              "#0d0887"
             ],
             [
              0.1111111111111111,
              "#46039f"
             ],
             [
              0.2222222222222222,
              "#7201a8"
             ],
             [
              0.3333333333333333,
              "#9c179e"
             ],
             [
              0.4444444444444444,
              "#bd3786"
             ],
             [
              0.5555555555555556,
              "#d8576b"
             ],
             [
              0.6666666666666666,
              "#ed7953"
             ],
             [
              0.7777777777777778,
              "#fb9f3a"
             ],
             [
              0.8888888888888888,
              "#fdca26"
             ],
             [
              1.0,
              "#f0f921"
             ]
            ],
            "type": "histogram2dcontour"
           }
          ],
          "mesh3d": [
           {
            "colorbar": {
             "outlinewidth": 0,
             "ticks": ""
            },
            "type": "mesh3d"
           }
          ],
          "parcoords": [
           {
            "line": {
             "colorbar": {
              "outlinewidth": 0,
              "ticks": ""
             }
            },
            "type": "parcoords"
           }
          ],
          "pie": [
           {
            "automargin": true,
            "type": "pie"
           }
          ],
          "scatter": [
           {
            "fillpattern": {
             "fillmode": "overlay",
             "size": 10,
             "solidity": 0.2
            },
            "type": "scatter"
           }
          ],
          "scatter3d": [
           {
            "line": {
             "colorbar": {
              "outlinewidth": 0,
              "ticks": ""
             }
            },
            "marker": {
             "colorbar": {
              "outlinewidth": 0,
              "ticks": ""
             }
            },
            "type": "scatter3d"
           }
          ],
          "scattercarpet": [
           {
            "marker": {
             "colorbar": {
              "outlinewidth": 0,
              "ticks": ""
             }
            },
            "type": "scattercarpet"
           }
          ],
          "scattergeo": [
           {
            "marker": {
             "colorbar": {
              "outlinewidth": 0,
              "ticks": ""
             }
            },
            "type": "scattergeo"
           }
          ],
          "scattergl": [
           {
            "marker": {
             "colorbar": {
              "outlinewidth": 0,
              "ticks": ""
             }
            },
            "type": "scattergl"
           }
          ],
          "scattermapbox": [
           {
            "marker": {
             "colorbar": {
              "outlinewidth": 0,
              "ticks": ""
             }
            },
            "type": "scattermapbox"
           }
          ],
          "scatterpolar": [
           {
            "marker": {
             "colorbar": {
              "outlinewidth": 0,
              "ticks": ""
             }
            },
            "type": "scatterpolar"
           }
          ],
          "scatterpolargl": [
           {
            "marker": {
             "colorbar": {
              "outlinewidth": 0,
              "ticks": ""
             }
            },
            "type": "scatterpolargl"
           }
          ],
          "scatterternary": [
           {
            "marker": {
             "colorbar": {
              "outlinewidth": 0,
              "ticks": ""
             }
            },
            "type": "scatterternary"
           }
          ],
          "surface": [
           {
            "colorbar": {
             "outlinewidth": 0,
             "ticks": ""
            },
            "colorscale": [
             [
              0.0,
              "#0d0887"
             ],
             [
              0.1111111111111111,
              "#46039f"
             ],
             [
              0.2222222222222222,
              "#7201a8"
             ],
             [
              0.3333333333333333,
              "#9c179e"
             ],
             [
              0.4444444444444444,
              "#bd3786"
             ],
             [
              0.5555555555555556,
              "#d8576b"
             ],
             [
              0.6666666666666666,
              "#ed7953"
             ],
             [
              0.7777777777777778,
              "#fb9f3a"
             ],
             [
              0.8888888888888888,
              "#fdca26"
             ],
             [
              1.0,
              "#f0f921"
             ]
            ],
            "type": "surface"
           }
          ],
          "table": [
           {
            "cells": {
             "fill": {
              "color": "#EBF0F8"
             },
             "line": {
              "color": "white"
             }
            },
            "header": {
             "fill": {
              "color": "#C8D4E3"
             },
             "line": {
              "color": "white"
             }
            },
            "type": "table"
           }
          ]
         },
         "layout": {
          "annotationdefaults": {
           "arrowcolor": "#2a3f5f",
           "arrowhead": 0,
           "arrowwidth": 1
          },
          "autotypenumbers": "strict",
          "coloraxis": {
           "colorbar": {
            "outlinewidth": 0,
            "ticks": ""
           }
          },
          "colorscale": {
           "diverging": [
            [
             0,
             "#8e0152"
            ],
            [
             0.1,
             "#c51b7d"
            ],
            [
             0.2,
             "#de77ae"
            ],
            [
             0.3,
             "#f1b6da"
            ],
            [
             0.4,
             "#fde0ef"
            ],
            [
             0.5,
             "#f7f7f7"
            ],
            [
             0.6,
             "#e6f5d0"
            ],
            [
             0.7,
             "#b8e186"
            ],
            [
             0.8,
             "#7fbc41"
            ],
            [
             0.9,
             "#4d9221"
            ],
            [
             1,
             "#276419"
            ]
           ],
           "sequential": [
            [
             0.0,
             "#0d0887"
            ],
            [
             0.1111111111111111,
             "#46039f"
            ],
            [
             0.2222222222222222,
             "#7201a8"
            ],
            [
             0.3333333333333333,
             "#9c179e"
            ],
            [
             0.4444444444444444,
             "#bd3786"
            ],
            [
             0.5555555555555556,
             "#d8576b"
            ],
            [
             0.6666666666666666,
             "#ed7953"
            ],
            [
             0.7777777777777778,
             "#fb9f3a"
            ],
            [
             0.8888888888888888,
             "#fdca26"
            ],
            [
             1.0,
             "#f0f921"
            ]
           ],
           "sequentialminus": [
            [
             0.0,
             "#0d0887"
            ],
            [
             0.1111111111111111,
             "#46039f"
            ],
            [
             0.2222222222222222,
             "#7201a8"
            ],
            [
             0.3333333333333333,
             "#9c179e"
            ],
            [
             0.4444444444444444,
             "#bd3786"
            ],
            [
             0.5555555555555556,
             "#d8576b"
            ],
            [
             0.6666666666666666,
             "#ed7953"
            ],
            [
             0.7777777777777778,
             "#fb9f3a"
            ],
            [
             0.8888888888888888,
             "#fdca26"
            ],
            [
             1.0,
             "#f0f921"
            ]
           ]
          },
          "colorway": [
           "#636efa",
           "#EF553B",
           "#00cc96",
           "#ab63fa",
           "#FFA15A",
           "#19d3f3",
           "#FF6692",
           "#B6E880",
           "#FF97FF",
           "#FECB52"
          ],
          "font": {
           "color": "#2a3f5f"
          },
          "geo": {
           "bgcolor": "white",
           "lakecolor": "white",
           "landcolor": "#E5ECF6",
           "showlakes": true,
           "showland": true,
           "subunitcolor": "white"
          },
          "hoverlabel": {
           "align": "left"
          },
          "hovermode": "closest",
          "mapbox": {
           "style": "light"
          },
          "paper_bgcolor": "white",
          "plot_bgcolor": "#E5ECF6",
          "polar": {
           "angularaxis": {
            "gridcolor": "white",
            "linecolor": "white",
            "ticks": ""
           },
           "bgcolor": "#E5ECF6",
           "radialaxis": {
            "gridcolor": "white",
            "linecolor": "white",
            "ticks": ""
           }
          },
          "scene": {
           "xaxis": {
            "backgroundcolor": "#E5ECF6",
            "gridcolor": "white",
            "gridwidth": 2,
            "linecolor": "white",
            "showbackground": true,
            "ticks": "",
            "zerolinecolor": "white"
           },
           "yaxis": {
            "backgroundcolor": "#E5ECF6",
            "gridcolor": "white",
            "gridwidth": 2,
            "linecolor": "white",
            "showbackground": true,
            "ticks": "",
            "zerolinecolor": "white"
           },
           "zaxis": {
            "backgroundcolor": "#E5ECF6",
            "gridcolor": "white",
            "gridwidth": 2,
            "linecolor": "white",
            "showbackground": true,
            "ticks": "",
            "zerolinecolor": "white"
           }
          },
          "shapedefaults": {
           "line": {
            "color": "#2a3f5f"
           }
          },
          "ternary": {
           "aaxis": {
            "gridcolor": "white",
            "linecolor": "white",
            "ticks": ""
           },
           "baxis": {
            "gridcolor": "white",
            "linecolor": "white",
            "ticks": ""
           },
           "bgcolor": "#E5ECF6",
           "caxis": {
            "gridcolor": "white",
            "linecolor": "white",
            "ticks": ""
           }
          },
          "title": {
           "x": 0.05
          },
          "xaxis": {
           "automargin": true,
           "gridcolor": "white",
           "linecolor": "white",
           "ticks": "",
           "title": {
            "standoff": 15
           },
           "zerolinecolor": "white",
           "zerolinewidth": 2
          },
          "yaxis": {
           "automargin": true,
           "gridcolor": "white",
           "linecolor": "white",
           "ticks": "",
           "title": {
            "standoff": 15
           },
           "zerolinecolor": "white",
           "zerolinewidth": 2
          }
         }
        },
        "title": {
         "automargin": true,
         "font": {
          "size": 18
         },
         "text": "Percentage of Casual/Member Riders",
         "yref": "paper"
        }
       }
      },
      "text/html": [
       "<div>                            <div id=\"ea20c721-9e2e-490f-8023-4e389acf9659\" class=\"plotly-graph-div\" style=\"height:300px; width:100%;\"></div>            <script type=\"text/javascript\">                require([\"plotly\"], function(Plotly) {                    window.PLOTLYENV=window.PLOTLYENV || {};                                    if (document.getElementById(\"ea20c721-9e2e-490f-8023-4e389acf9659\")) {                    Plotly.newPlot(                        \"ea20c721-9e2e-490f-8023-4e389acf9659\",                        [{\"customdata\":[[\"casual\"],[\"member\"]],\"domain\":{\"x\":[0.0,1.0],\"y\":[0.0,1.0]},\"hovertemplate\":\"<b>%{hovertext}</b><br><br>ride_id=%{value}<br>User Type=%{customdata[0]}<extra></extra>\",\"hovertext\":[\"casual\",\"member\"],\"legendgroup\":\"\",\"marker\":{\"colors\":[\"#FF934F\",\"#058ED9\"]},\"name\":\"\",\"showlegend\":false,\"values\":[1761678,2682904],\"type\":\"pie\"}],                        {\"template\":{\"data\":{\"histogram2dcontour\":[{\"type\":\"histogram2dcontour\",\"colorbar\":{\"outlinewidth\":0,\"ticks\":\"\"},\"colorscale\":[[0.0,\"#0d0887\"],[0.1111111111111111,\"#46039f\"],[0.2222222222222222,\"#7201a8\"],[0.3333333333333333,\"#9c179e\"],[0.4444444444444444,\"#bd3786\"],[0.5555555555555556,\"#d8576b\"],[0.6666666666666666,\"#ed7953\"],[0.7777777777777778,\"#fb9f3a\"],[0.8888888888888888,\"#fdca26\"],[1.0,\"#f0f921\"]]}],\"choropleth\":[{\"type\":\"choropleth\",\"colorbar\":{\"outlinewidth\":0,\"ticks\":\"\"}}],\"histogram2d\":[{\"type\":\"histogram2d\",\"colorbar\":{\"outlinewidth\":0,\"ticks\":\"\"},\"colorscale\":[[0.0,\"#0d0887\"],[0.1111111111111111,\"#46039f\"],[0.2222222222222222,\"#7201a8\"],[0.3333333333333333,\"#9c179e\"],[0.4444444444444444,\"#bd3786\"],[0.5555555555555556,\"#d8576b\"],[0.6666666666666666,\"#ed7953\"],[0.7777777777777778,\"#fb9f3a\"],[0.8888888888888888,\"#fdca26\"],[1.0,\"#f0f921\"]]}],\"heatmap\":[{\"type\":\"heatmap\",\"colorbar\":{\"outlinewidth\":0,\"ticks\":\"\"},\"colorscale\":[[0.0,\"#0d0887\"],[0.1111111111111111,\"#46039f\"],[0.2222222222222222,\"#7201a8\"],[0.3333333333333333,\"#9c179e\"],[0.4444444444444444,\"#bd3786\"],[0.5555555555555556,\"#d8576b\"],[0.6666666666666666,\"#ed7953\"],[0.7777777777777778,\"#fb9f3a\"],[0.8888888888888888,\"#fdca26\"],[1.0,\"#f0f921\"]]}],\"heatmapgl\":[{\"type\":\"heatmapgl\",\"colorbar\":{\"outlinewidth\":0,\"ticks\":\"\"},\"colorscale\":[[0.0,\"#0d0887\"],[0.1111111111111111,\"#46039f\"],[0.2222222222222222,\"#7201a8\"],[0.3333333333333333,\"#9c179e\"],[0.4444444444444444,\"#bd3786\"],[0.5555555555555556,\"#d8576b\"],[0.6666666666666666,\"#ed7953\"],[0.7777777777777778,\"#fb9f3a\"],[0.8888888888888888,\"#fdca26\"],[1.0,\"#f0f921\"]]}],\"contourcarpet\":[{\"type\":\"contourcarpet\",\"colorbar\":{\"outlinewidth\":0,\"ticks\":\"\"}}],\"contour\":[{\"type\":\"contour\",\"colorbar\":{\"outlinewidth\":0,\"ticks\":\"\"},\"colorscale\":[[0.0,\"#0d0887\"],[0.1111111111111111,\"#46039f\"],[0.2222222222222222,\"#7201a8\"],[0.3333333333333333,\"#9c179e\"],[0.4444444444444444,\"#bd3786\"],[0.5555555555555556,\"#d8576b\"],[0.6666666666666666,\"#ed7953\"],[0.7777777777777778,\"#fb9f3a\"],[0.8888888888888888,\"#fdca26\"],[1.0,\"#f0f921\"]]}],\"surface\":[{\"type\":\"surface\",\"colorbar\":{\"outlinewidth\":0,\"ticks\":\"\"},\"colorscale\":[[0.0,\"#0d0887\"],[0.1111111111111111,\"#46039f\"],[0.2222222222222222,\"#7201a8\"],[0.3333333333333333,\"#9c179e\"],[0.4444444444444444,\"#bd3786\"],[0.5555555555555556,\"#d8576b\"],[0.6666666666666666,\"#ed7953\"],[0.7777777777777778,\"#fb9f3a\"],[0.8888888888888888,\"#fdca26\"],[1.0,\"#f0f921\"]]}],\"mesh3d\":[{\"type\":\"mesh3d\",\"colorbar\":{\"outlinewidth\":0,\"ticks\":\"\"}}],\"scatter\":[{\"fillpattern\":{\"fillmode\":\"overlay\",\"size\":10,\"solidity\":0.2},\"type\":\"scatter\"}],\"parcoords\":[{\"type\":\"parcoords\",\"line\":{\"colorbar\":{\"outlinewidth\":0,\"ticks\":\"\"}}}],\"scatterpolargl\":[{\"type\":\"scatterpolargl\",\"marker\":{\"colorbar\":{\"outlinewidth\":0,\"ticks\":\"\"}}}],\"bar\":[{\"error_x\":{\"color\":\"#2a3f5f\"},\"error_y\":{\"color\":\"#2a3f5f\"},\"marker\":{\"line\":{\"color\":\"#E5ECF6\",\"width\":0.5},\"pattern\":{\"fillmode\":\"overlay\",\"size\":10,\"solidity\":0.2}},\"type\":\"bar\"}],\"scattergeo\":[{\"type\":\"scattergeo\",\"marker\":{\"colorbar\":{\"outlinewidth\":0,\"ticks\":\"\"}}}],\"scatterpolar\":[{\"type\":\"scatterpolar\",\"marker\":{\"colorbar\":{\"outlinewidth\":0,\"ticks\":\"\"}}}],\"histogram\":[{\"marker\":{\"pattern\":{\"fillmode\":\"overlay\",\"size\":10,\"solidity\":0.2}},\"type\":\"histogram\"}],\"scattergl\":[{\"type\":\"scattergl\",\"marker\":{\"colorbar\":{\"outlinewidth\":0,\"ticks\":\"\"}}}],\"scatter3d\":[{\"type\":\"scatter3d\",\"line\":{\"colorbar\":{\"outlinewidth\":0,\"ticks\":\"\"}},\"marker\":{\"colorbar\":{\"outlinewidth\":0,\"ticks\":\"\"}}}],\"scattermapbox\":[{\"type\":\"scattermapbox\",\"marker\":{\"colorbar\":{\"outlinewidth\":0,\"ticks\":\"\"}}}],\"scatterternary\":[{\"type\":\"scatterternary\",\"marker\":{\"colorbar\":{\"outlinewidth\":0,\"ticks\":\"\"}}}],\"scattercarpet\":[{\"type\":\"scattercarpet\",\"marker\":{\"colorbar\":{\"outlinewidth\":0,\"ticks\":\"\"}}}],\"carpet\":[{\"aaxis\":{\"endlinecolor\":\"#2a3f5f\",\"gridcolor\":\"white\",\"linecolor\":\"white\",\"minorgridcolor\":\"white\",\"startlinecolor\":\"#2a3f5f\"},\"baxis\":{\"endlinecolor\":\"#2a3f5f\",\"gridcolor\":\"white\",\"linecolor\":\"white\",\"minorgridcolor\":\"white\",\"startlinecolor\":\"#2a3f5f\"},\"type\":\"carpet\"}],\"table\":[{\"cells\":{\"fill\":{\"color\":\"#EBF0F8\"},\"line\":{\"color\":\"white\"}},\"header\":{\"fill\":{\"color\":\"#C8D4E3\"},\"line\":{\"color\":\"white\"}},\"type\":\"table\"}],\"barpolar\":[{\"marker\":{\"line\":{\"color\":\"#E5ECF6\",\"width\":0.5},\"pattern\":{\"fillmode\":\"overlay\",\"size\":10,\"solidity\":0.2}},\"type\":\"barpolar\"}],\"pie\":[{\"automargin\":true,\"type\":\"pie\"}]},\"layout\":{\"autotypenumbers\":\"strict\",\"colorway\":[\"#636efa\",\"#EF553B\",\"#00cc96\",\"#ab63fa\",\"#FFA15A\",\"#19d3f3\",\"#FF6692\",\"#B6E880\",\"#FF97FF\",\"#FECB52\"],\"font\":{\"color\":\"#2a3f5f\"},\"hovermode\":\"closest\",\"hoverlabel\":{\"align\":\"left\"},\"paper_bgcolor\":\"white\",\"plot_bgcolor\":\"#E5ECF6\",\"polar\":{\"bgcolor\":\"#E5ECF6\",\"angularaxis\":{\"gridcolor\":\"white\",\"linecolor\":\"white\",\"ticks\":\"\"},\"radialaxis\":{\"gridcolor\":\"white\",\"linecolor\":\"white\",\"ticks\":\"\"}},\"ternary\":{\"bgcolor\":\"#E5ECF6\",\"aaxis\":{\"gridcolor\":\"white\",\"linecolor\":\"white\",\"ticks\":\"\"},\"baxis\":{\"gridcolor\":\"white\",\"linecolor\":\"white\",\"ticks\":\"\"},\"caxis\":{\"gridcolor\":\"white\",\"linecolor\":\"white\",\"ticks\":\"\"}},\"coloraxis\":{\"colorbar\":{\"outlinewidth\":0,\"ticks\":\"\"}},\"colorscale\":{\"sequential\":[[0.0,\"#0d0887\"],[0.1111111111111111,\"#46039f\"],[0.2222222222222222,\"#7201a8\"],[0.3333333333333333,\"#9c179e\"],[0.4444444444444444,\"#bd3786\"],[0.5555555555555556,\"#d8576b\"],[0.6666666666666666,\"#ed7953\"],[0.7777777777777778,\"#fb9f3a\"],[0.8888888888888888,\"#fdca26\"],[1.0,\"#f0f921\"]],\"sequentialminus\":[[0.0,\"#0d0887\"],[0.1111111111111111,\"#46039f\"],[0.2222222222222222,\"#7201a8\"],[0.3333333333333333,\"#9c179e\"],[0.4444444444444444,\"#bd3786\"],[0.5555555555555556,\"#d8576b\"],[0.6666666666666666,\"#ed7953\"],[0.7777777777777778,\"#fb9f3a\"],[0.8888888888888888,\"#fdca26\"],[1.0,\"#f0f921\"]],\"diverging\":[[0,\"#8e0152\"],[0.1,\"#c51b7d\"],[0.2,\"#de77ae\"],[0.3,\"#f1b6da\"],[0.4,\"#fde0ef\"],[0.5,\"#f7f7f7\"],[0.6,\"#e6f5d0\"],[0.7,\"#b8e186\"],[0.8,\"#7fbc41\"],[0.9,\"#4d9221\"],[1,\"#276419\"]]},\"xaxis\":{\"gridcolor\":\"white\",\"linecolor\":\"white\",\"ticks\":\"\",\"title\":{\"standoff\":15},\"zerolinecolor\":\"white\",\"automargin\":true,\"zerolinewidth\":2},\"yaxis\":{\"gridcolor\":\"white\",\"linecolor\":\"white\",\"ticks\":\"\",\"title\":{\"standoff\":15},\"zerolinecolor\":\"white\",\"automargin\":true,\"zerolinewidth\":2},\"scene\":{\"xaxis\":{\"backgroundcolor\":\"#E5ECF6\",\"gridcolor\":\"white\",\"linecolor\":\"white\",\"showbackground\":true,\"ticks\":\"\",\"zerolinecolor\":\"white\",\"gridwidth\":2},\"yaxis\":{\"backgroundcolor\":\"#E5ECF6\",\"gridcolor\":\"white\",\"linecolor\":\"white\",\"showbackground\":true,\"ticks\":\"\",\"zerolinecolor\":\"white\",\"gridwidth\":2},\"zaxis\":{\"backgroundcolor\":\"#E5ECF6\",\"gridcolor\":\"white\",\"linecolor\":\"white\",\"showbackground\":true,\"ticks\":\"\",\"zerolinecolor\":\"white\",\"gridwidth\":2}},\"shapedefaults\":{\"line\":{\"color\":\"#2a3f5f\"}},\"annotationdefaults\":{\"arrowcolor\":\"#2a3f5f\",\"arrowhead\":0,\"arrowwidth\":1},\"geo\":{\"bgcolor\":\"white\",\"landcolor\":\"#E5ECF6\",\"subunitcolor\":\"white\",\"showland\":true,\"showlakes\":true,\"lakecolor\":\"white\"},\"title\":{\"x\":0.05},\"mapbox\":{\"style\":\"light\"}}},\"legend\":{\"tracegroupgap\":0,\"title\":{\"text\":\"User Type\"}},\"margin\":{\"t\":60},\"height\":300,\"title\":{\"font\":{\"size\":18},\"text\":\"Percentage of Casual/Member Riders\",\"automargin\":true,\"yref\":\"paper\"}},                        {\"responsive\": true}                    ).then(function(){\n",
       "                            \n",
       "var gd = document.getElementById('ea20c721-9e2e-490f-8023-4e389acf9659');\n",
       "var x = new MutationObserver(function (mutations, observer) {{\n",
       "        var display = window.getComputedStyle(gd).display;\n",
       "        if (!display || display === 'none') {{\n",
       "            console.log([gd, 'removed!']);\n",
       "            Plotly.purge(gd);\n",
       "            observer.disconnect();\n",
       "        }}\n",
       "}});\n",
       "\n",
       "// Listen for the removal of the full notebook cells\n",
       "var notebookContainer = gd.closest('#notebook-container');\n",
       "if (notebookContainer) {{\n",
       "    x.observe(notebookContainer, {childList: true});\n",
       "}}\n",
       "\n",
       "// Listen for the clearing of the current output cell\n",
       "var outputEl = gd.closest('.output');\n",
       "if (outputEl) {{\n",
       "    x.observe(outputEl, {childList: true});\n",
       "}}\n",
       "\n",
       "                        })                };                });            </script>        </div>"
      ]
     },
     "metadata": {},
     "output_type": "display_data"
    }
   ],
   "source": [
    "df_pv1b = cyc_data_combined.groupby(['member_casual'])['ride_id'].count().reset_index()\n",
    "\n",
    "fig_1b = px.pie(df_pv1b, \n",
    "              values='ride_id', \n",
    "              color = 'member_casual', \n",
    "              height = 300,\n",
    "              hover_name = 'member_casual', \n",
    "              labels= {'member_casual': 'User Type'},\n",
    "              color_discrete_map = {'casual': '#FF934F', 'member': '#058ED9'})\n",
    "\n",
    "\n",
    "fig_1b.update_layout(\n",
    "    title=dict(text=\"Percentage of Casual/Member Riders\",font=dict(size=18), automargin=True, yref='paper'),\n",
    "                                   legend_title_text='User Type'\n",
    "\n",
    ")\n",
    "\n",
    "\n",
    "\n"
   ]
  },
  {
   "cell_type": "markdown",
   "id": "16747e90",
   "metadata": {
    "papermill": {
     "duration": 0.047027,
     "end_time": "2023-06-14T21:21:49.962550",
     "exception": false,
     "start_time": "2023-06-14T21:21:49.915523",
     "status": "completed"
    },
    "tags": []
   },
   "source": [
    "__Fig.1b__ - Percentage of casual riders vs members. Members makeup 60% of the dataset"
   ]
  },
  {
   "cell_type": "markdown",
   "id": "851d7c20",
   "metadata": {
    "papermill": {
     "duration": 0.047826,
     "end_time": "2023-06-14T21:21:50.058257",
     "exception": false,
     "start_time": "2023-06-14T21:21:50.010431",
     "status": "completed"
    },
    "tags": []
   },
   "source": [
    "#### <span style='color:#2D8FC5'>Bike Usage: Casual vs Member</span>"
   ]
  },
  {
   "cell_type": "code",
   "execution_count": 39,
   "id": "1461feba",
   "metadata": {
    "execution": {
     "iopub.execute_input": "2023-06-14T21:21:50.156471Z",
     "iopub.status.busy": "2023-06-14T21:21:50.155759Z",
     "iopub.status.idle": "2023-06-14T21:21:54.180327Z",
     "shell.execute_reply": "2023-06-14T21:21:54.179172Z"
    },
    "papermill": {
     "duration": 4.076585,
     "end_time": "2023-06-14T21:21:54.182633",
     "exception": false,
     "start_time": "2023-06-14T21:21:50.106048",
     "status": "completed"
    },
    "tags": []
   },
   "outputs": [
    {
     "data": {
      "text/html": [
       "<div>\n",
       "<style scoped>\n",
       "    .dataframe tbody tr th:only-of-type {\n",
       "        vertical-align: middle;\n",
       "    }\n",
       "\n",
       "    .dataframe tbody tr th {\n",
       "        vertical-align: top;\n",
       "    }\n",
       "\n",
       "    .dataframe thead tr th {\n",
       "        text-align: left;\n",
       "    }\n",
       "\n",
       "    .dataframe thead tr:last-of-type th {\n",
       "        text-align: right;\n",
       "    }\n",
       "</style>\n",
       "<table border=\"1\" class=\"dataframe\">\n",
       "  <thead>\n",
       "    <tr>\n",
       "      <th></th>\n",
       "      <th></th>\n",
       "      <th>count</th>\n",
       "    </tr>\n",
       "    <tr>\n",
       "      <th></th>\n",
       "      <th></th>\n",
       "      <th>ride_id</th>\n",
       "    </tr>\n",
       "    <tr>\n",
       "      <th>rideable_type</th>\n",
       "      <th>member_casual</th>\n",
       "      <th></th>\n",
       "    </tr>\n",
       "  </thead>\n",
       "  <tbody>\n",
       "    <tr>\n",
       "      <th rowspan=\"2\" valign=\"top\">classic_bike</th>\n",
       "      <th>casual</th>\n",
       "      <td>875554</td>\n",
       "    </tr>\n",
       "    <tr>\n",
       "      <th>member</th>\n",
       "      <td>1724061</td>\n",
       "    </tr>\n",
       "    <tr>\n",
       "      <th rowspan=\"2\" valign=\"top\">docked_bike</th>\n",
       "      <th>casual</th>\n",
       "      <td>166284</td>\n",
       "    </tr>\n",
       "    <tr>\n",
       "      <th>member</th>\n",
       "      <td>0</td>\n",
       "    </tr>\n",
       "    <tr>\n",
       "      <th rowspan=\"2\" valign=\"top\">electric_bike</th>\n",
       "      <th>casual</th>\n",
       "      <td>719840</td>\n",
       "    </tr>\n",
       "    <tr>\n",
       "      <th>member</th>\n",
       "      <td>958843</td>\n",
       "    </tr>\n",
       "    <tr>\n",
       "      <th>Total Rides</th>\n",
       "      <th></th>\n",
       "      <td>4444582</td>\n",
       "    </tr>\n",
       "  </tbody>\n",
       "</table>\n",
       "</div>"
      ],
      "text/plain": [
       "                               count\n",
       "                             ride_id\n",
       "rideable_type member_casual         \n",
       "classic_bike  casual          875554\n",
       "              member         1724061\n",
       "docked_bike   casual          166284\n",
       "              member               0\n",
       "electric_bike casual          719840\n",
       "              member          958843\n",
       "Total Rides                  4444582"
      ]
     },
     "execution_count": 39,
     "metadata": {},
     "output_type": "execute_result"
    }
   ],
   "source": [
    "df_pv2 = pd.pivot_table(cyc_data_combined,\n",
    "               index = ['rideable_type', 'member_casual'],\n",
    "               values = ['ride_id'],\n",
    "               aggfunc = ['count'],\n",
    "               margins = True,\n",
    "               margins_name = 'Total Rides')\n",
    "df_pv2"
   ]
  },
  {
   "cell_type": "code",
   "execution_count": 40,
   "id": "b5f195b3",
   "metadata": {
    "execution": {
     "iopub.execute_input": "2023-06-14T21:21:54.281220Z",
     "iopub.status.busy": "2023-06-14T21:21:54.280541Z",
     "iopub.status.idle": "2023-06-14T21:22:04.699524Z",
     "shell.execute_reply": "2023-06-14T21:22:04.698389Z"
    },
    "papermill": {
     "duration": 10.471167,
     "end_time": "2023-06-14T21:22:04.701987",
     "exception": false,
     "start_time": "2023-06-14T21:21:54.230820",
     "status": "completed"
    },
    "tags": []
   },
   "outputs": [
    {
     "data": {
      "application/vnd.plotly.v1+json": {
       "config": {
        "plotlyServerURL": "https://plot.ly"
       },
       "data": [
        {
         "alignmentgroup": "True",
         "customdata": [
          [
           "casual",
           875554
          ],
          [
           "casual",
           166284
          ],
          [
           "casual",
           719840
          ]
         ],
         "hovertemplate": "<b>%{hovertext}</b><br><br>Bike Type=%{x}<br>No. of Rides=%{text}<extra></extra>",
         "hovertext": [
          "casual",
          "casual",
          "casual"
         ],
         "legendgroup": "casual",
         "marker": {
          "color": "#FF934F",
          "pattern": {
           "shape": ""
          }
         },
         "name": "casual",
         "offsetgroup": "casual",
         "orientation": "v",
         "showlegend": true,
         "text": [
          875554.0,
          166284.0,
          719840.0
         ],
         "textposition": "auto",
         "type": "bar",
         "x": [
          "classic_bike",
          "docked_bike",
          "electric_bike"
         ],
         "xaxis": "x",
         "y": [
          875554,
          166284,
          719840
         ],
         "yaxis": "y"
        },
        {
         "alignmentgroup": "True",
         "customdata": [
          [
           "member",
           1724061
          ],
          [
           "member",
           0
          ],
          [
           "member",
           958843
          ]
         ],
         "hovertemplate": "<b>%{hovertext}</b><br><br>Bike Type=%{x}<br>No. of Rides=%{text}<extra></extra>",
         "hovertext": [
          "member",
          "member",
          "member"
         ],
         "legendgroup": "member",
         "marker": {
          "color": "#058ED9",
          "pattern": {
           "shape": ""
          }
         },
         "name": "member",
         "offsetgroup": "member",
         "orientation": "v",
         "showlegend": true,
         "text": [
          1724061.0,
          0.0,
          958843.0
         ],
         "textposition": "auto",
         "type": "bar",
         "x": [
          "classic_bike",
          "docked_bike",
          "electric_bike"
         ],
         "xaxis": "x",
         "y": [
          1724061,
          0,
          958843
         ],
         "yaxis": "y"
        }
       ],
       "layout": {
        "barmode": "group",
        "legend": {
         "title": {
          "text": "User Type"
         },
         "tracegroupgap": 0
        },
        "margin": {
         "t": 60
        },
        "template": {
         "data": {
          "bar": [
           {
            "error_x": {
             "color": "#2a3f5f"
            },
            "error_y": {
             "color": "#2a3f5f"
            },
            "marker": {
             "line": {
              "color": "#E5ECF6",
              "width": 0.5
             },
             "pattern": {
              "fillmode": "overlay",
              "size": 10,
              "solidity": 0.2
             }
            },
            "type": "bar"
           }
          ],
          "barpolar": [
           {
            "marker": {
             "line": {
              "color": "#E5ECF6",
              "width": 0.5
             },
             "pattern": {
              "fillmode": "overlay",
              "size": 10,
              "solidity": 0.2
             }
            },
            "type": "barpolar"
           }
          ],
          "carpet": [
           {
            "aaxis": {
             "endlinecolor": "#2a3f5f",
             "gridcolor": "white",
             "linecolor": "white",
             "minorgridcolor": "white",
             "startlinecolor": "#2a3f5f"
            },
            "baxis": {
             "endlinecolor": "#2a3f5f",
             "gridcolor": "white",
             "linecolor": "white",
             "minorgridcolor": "white",
             "startlinecolor": "#2a3f5f"
            },
            "type": "carpet"
           }
          ],
          "choropleth": [
           {
            "colorbar": {
             "outlinewidth": 0,
             "ticks": ""
            },
            "type": "choropleth"
           }
          ],
          "contour": [
           {
            "colorbar": {
             "outlinewidth": 0,
             "ticks": ""
            },
            "colorscale": [
             [
              0.0,
              "#0d0887"
             ],
             [
              0.1111111111111111,
              "#46039f"
             ],
             [
              0.2222222222222222,
              "#7201a8"
             ],
             [
              0.3333333333333333,
              "#9c179e"
             ],
             [
              0.4444444444444444,
              "#bd3786"
             ],
             [
              0.5555555555555556,
              "#d8576b"
             ],
             [
              0.6666666666666666,
              "#ed7953"
             ],
             [
              0.7777777777777778,
              "#fb9f3a"
             ],
             [
              0.8888888888888888,
              "#fdca26"
             ],
             [
              1.0,
              "#f0f921"
             ]
            ],
            "type": "contour"
           }
          ],
          "contourcarpet": [
           {
            "colorbar": {
             "outlinewidth": 0,
             "ticks": ""
            },
            "type": "contourcarpet"
           }
          ],
          "heatmap": [
           {
            "colorbar": {
             "outlinewidth": 0,
             "ticks": ""
            },
            "colorscale": [
             [
              0.0,
              "#0d0887"
             ],
             [
              0.1111111111111111,
              "#46039f"
             ],
             [
              0.2222222222222222,
              "#7201a8"
             ],
             [
              0.3333333333333333,
              "#9c179e"
             ],
             [
              0.4444444444444444,
              "#bd3786"
             ],
             [
              0.5555555555555556,
              "#d8576b"
             ],
             [
              0.6666666666666666,
              "#ed7953"
             ],
             [
              0.7777777777777778,
              "#fb9f3a"
             ],
             [
              0.8888888888888888,
              "#fdca26"
             ],
             [
              1.0,
              "#f0f921"
             ]
            ],
            "type": "heatmap"
           }
          ],
          "heatmapgl": [
           {
            "colorbar": {
             "outlinewidth": 0,
             "ticks": ""
            },
            "colorscale": [
             [
              0.0,
              "#0d0887"
             ],
             [
              0.1111111111111111,
              "#46039f"
             ],
             [
              0.2222222222222222,
              "#7201a8"
             ],
             [
              0.3333333333333333,
              "#9c179e"
             ],
             [
              0.4444444444444444,
              "#bd3786"
             ],
             [
              0.5555555555555556,
              "#d8576b"
             ],
             [
              0.6666666666666666,
              "#ed7953"
             ],
             [
              0.7777777777777778,
              "#fb9f3a"
             ],
             [
              0.8888888888888888,
              "#fdca26"
             ],
             [
              1.0,
              "#f0f921"
             ]
            ],
            "type": "heatmapgl"
           }
          ],
          "histogram": [
           {
            "marker": {
             "pattern": {
              "fillmode": "overlay",
              "size": 10,
              "solidity": 0.2
             }
            },
            "type": "histogram"
           }
          ],
          "histogram2d": [
           {
            "colorbar": {
             "outlinewidth": 0,
             "ticks": ""
            },
            "colorscale": [
             [
              0.0,
              "#0d0887"
             ],
             [
              0.1111111111111111,
              "#46039f"
             ],
             [
              0.2222222222222222,
              "#7201a8"
             ],
             [
              0.3333333333333333,
              "#9c179e"
             ],
             [
              0.4444444444444444,
              "#bd3786"
             ],
             [
              0.5555555555555556,
              "#d8576b"
             ],
             [
              0.6666666666666666,
              "#ed7953"
             ],
             [
              0.7777777777777778,
              "#fb9f3a"
             ],
             [
              0.8888888888888888,
              "#fdca26"
             ],
             [
              1.0,
              "#f0f921"
             ]
            ],
            "type": "histogram2d"
           }
          ],
          "histogram2dcontour": [
           {
            "colorbar": {
             "outlinewidth": 0,
             "ticks": ""
            },
            "colorscale": [
             [
              0.0,
              "#0d0887"
             ],
             [
              0.1111111111111111,
              "#46039f"
             ],
             [
              0.2222222222222222,
              "#7201a8"
             ],
             [
              0.3333333333333333,
              "#9c179e"
             ],
             [
              0.4444444444444444,
              "#bd3786"
             ],
             [
              0.5555555555555556,
              "#d8576b"
             ],
             [
              0.6666666666666666,
              "#ed7953"
             ],
             [
              0.7777777777777778,
              "#fb9f3a"
             ],
             [
              0.8888888888888888,
              "#fdca26"
             ],
             [
              1.0,
              "#f0f921"
             ]
            ],
            "type": "histogram2dcontour"
           }
          ],
          "mesh3d": [
           {
            "colorbar": {
             "outlinewidth": 0,
             "ticks": ""
            },
            "type": "mesh3d"
           }
          ],
          "parcoords": [
           {
            "line": {
             "colorbar": {
              "outlinewidth": 0,
              "ticks": ""
             }
            },
            "type": "parcoords"
           }
          ],
          "pie": [
           {
            "automargin": true,
            "type": "pie"
           }
          ],
          "scatter": [
           {
            "fillpattern": {
             "fillmode": "overlay",
             "size": 10,
             "solidity": 0.2
            },
            "type": "scatter"
           }
          ],
          "scatter3d": [
           {
            "line": {
             "colorbar": {
              "outlinewidth": 0,
              "ticks": ""
             }
            },
            "marker": {
             "colorbar": {
              "outlinewidth": 0,
              "ticks": ""
             }
            },
            "type": "scatter3d"
           }
          ],
          "scattercarpet": [
           {
            "marker": {
             "colorbar": {
              "outlinewidth": 0,
              "ticks": ""
             }
            },
            "type": "scattercarpet"
           }
          ],
          "scattergeo": [
           {
            "marker": {
             "colorbar": {
              "outlinewidth": 0,
              "ticks": ""
             }
            },
            "type": "scattergeo"
           }
          ],
          "scattergl": [
           {
            "marker": {
             "colorbar": {
              "outlinewidth": 0,
              "ticks": ""
             }
            },
            "type": "scattergl"
           }
          ],
          "scattermapbox": [
           {
            "marker": {
             "colorbar": {
              "outlinewidth": 0,
              "ticks": ""
             }
            },
            "type": "scattermapbox"
           }
          ],
          "scatterpolar": [
           {
            "marker": {
             "colorbar": {
              "outlinewidth": 0,
              "ticks": ""
             }
            },
            "type": "scatterpolar"
           }
          ],
          "scatterpolargl": [
           {
            "marker": {
             "colorbar": {
              "outlinewidth": 0,
              "ticks": ""
             }
            },
            "type": "scatterpolargl"
           }
          ],
          "scatterternary": [
           {
            "marker": {
             "colorbar": {
              "outlinewidth": 0,
              "ticks": ""
             }
            },
            "type": "scatterternary"
           }
          ],
          "surface": [
           {
            "colorbar": {
             "outlinewidth": 0,
             "ticks": ""
            },
            "colorscale": [
             [
              0.0,
              "#0d0887"
             ],
             [
              0.1111111111111111,
              "#46039f"
             ],
             [
              0.2222222222222222,
              "#7201a8"
             ],
             [
              0.3333333333333333,
              "#9c179e"
             ],
             [
              0.4444444444444444,
              "#bd3786"
             ],
             [
              0.5555555555555556,
              "#d8576b"
             ],
             [
              0.6666666666666666,
              "#ed7953"
             ],
             [
              0.7777777777777778,
              "#fb9f3a"
             ],
             [
              0.8888888888888888,
              "#fdca26"
             ],
             [
              1.0,
              "#f0f921"
             ]
            ],
            "type": "surface"
           }
          ],
          "table": [
           {
            "cells": {
             "fill": {
              "color": "#EBF0F8"
             },
             "line": {
              "color": "white"
             }
            },
            "header": {
             "fill": {
              "color": "#C8D4E3"
             },
             "line": {
              "color": "white"
             }
            },
            "type": "table"
           }
          ]
         },
         "layout": {
          "annotationdefaults": {
           "arrowcolor": "#2a3f5f",
           "arrowhead": 0,
           "arrowwidth": 1
          },
          "autotypenumbers": "strict",
          "coloraxis": {
           "colorbar": {
            "outlinewidth": 0,
            "ticks": ""
           }
          },
          "colorscale": {
           "diverging": [
            [
             0,
             "#8e0152"
            ],
            [
             0.1,
             "#c51b7d"
            ],
            [
             0.2,
             "#de77ae"
            ],
            [
             0.3,
             "#f1b6da"
            ],
            [
             0.4,
             "#fde0ef"
            ],
            [
             0.5,
             "#f7f7f7"
            ],
            [
             0.6,
             "#e6f5d0"
            ],
            [
             0.7,
             "#b8e186"
            ],
            [
             0.8,
             "#7fbc41"
            ],
            [
             0.9,
             "#4d9221"
            ],
            [
             1,
             "#276419"
            ]
           ],
           "sequential": [
            [
             0.0,
             "#0d0887"
            ],
            [
             0.1111111111111111,
             "#46039f"
            ],
            [
             0.2222222222222222,
             "#7201a8"
            ],
            [
             0.3333333333333333,
             "#9c179e"
            ],
            [
             0.4444444444444444,
             "#bd3786"
            ],
            [
             0.5555555555555556,
             "#d8576b"
            ],
            [
             0.6666666666666666,
             "#ed7953"
            ],
            [
             0.7777777777777778,
             "#fb9f3a"
            ],
            [
             0.8888888888888888,
             "#fdca26"
            ],
            [
             1.0,
             "#f0f921"
            ]
           ],
           "sequentialminus": [
            [
             0.0,
             "#0d0887"
            ],
            [
             0.1111111111111111,
             "#46039f"
            ],
            [
             0.2222222222222222,
             "#7201a8"
            ],
            [
             0.3333333333333333,
             "#9c179e"
            ],
            [
             0.4444444444444444,
             "#bd3786"
            ],
            [
             0.5555555555555556,
             "#d8576b"
            ],
            [
             0.6666666666666666,
             "#ed7953"
            ],
            [
             0.7777777777777778,
             "#fb9f3a"
            ],
            [
             0.8888888888888888,
             "#fdca26"
            ],
            [
             1.0,
             "#f0f921"
            ]
           ]
          },
          "colorway": [
           "#636efa",
           "#EF553B",
           "#00cc96",
           "#ab63fa",
           "#FFA15A",
           "#19d3f3",
           "#FF6692",
           "#B6E880",
           "#FF97FF",
           "#FECB52"
          ],
          "font": {
           "color": "#2a3f5f"
          },
          "geo": {
           "bgcolor": "white",
           "lakecolor": "white",
           "landcolor": "#E5ECF6",
           "showlakes": true,
           "showland": true,
           "subunitcolor": "white"
          },
          "hoverlabel": {
           "align": "left"
          },
          "hovermode": "closest",
          "mapbox": {
           "style": "light"
          },
          "paper_bgcolor": "white",
          "plot_bgcolor": "#E5ECF6",
          "polar": {
           "angularaxis": {
            "gridcolor": "white",
            "linecolor": "white",
            "ticks": ""
           },
           "bgcolor": "#E5ECF6",
           "radialaxis": {
            "gridcolor": "white",
            "linecolor": "white",
            "ticks": ""
           }
          },
          "scene": {
           "xaxis": {
            "backgroundcolor": "#E5ECF6",
            "gridcolor": "white",
            "gridwidth": 2,
            "linecolor": "white",
            "showbackground": true,
            "ticks": "",
            "zerolinecolor": "white"
           },
           "yaxis": {
            "backgroundcolor": "#E5ECF6",
            "gridcolor": "white",
            "gridwidth": 2,
            "linecolor": "white",
            "showbackground": true,
            "ticks": "",
            "zerolinecolor": "white"
           },
           "zaxis": {
            "backgroundcolor": "#E5ECF6",
            "gridcolor": "white",
            "gridwidth": 2,
            "linecolor": "white",
            "showbackground": true,
            "ticks": "",
            "zerolinecolor": "white"
           }
          },
          "shapedefaults": {
           "line": {
            "color": "#2a3f5f"
           }
          },
          "ternary": {
           "aaxis": {
            "gridcolor": "white",
            "linecolor": "white",
            "ticks": ""
           },
           "baxis": {
            "gridcolor": "white",
            "linecolor": "white",
            "ticks": ""
           },
           "bgcolor": "#E5ECF6",
           "caxis": {
            "gridcolor": "white",
            "linecolor": "white",
            "ticks": ""
           }
          },
          "title": {
           "x": 0.05
          },
          "xaxis": {
           "automargin": true,
           "gridcolor": "white",
           "linecolor": "white",
           "ticks": "",
           "title": {
            "standoff": 15
           },
           "zerolinecolor": "white",
           "zerolinewidth": 2
          },
          "yaxis": {
           "automargin": true,
           "gridcolor": "white",
           "linecolor": "white",
           "ticks": "",
           "title": {
            "standoff": 15
           },
           "zerolinecolor": "white",
           "zerolinewidth": 2
          }
         }
        },
        "title": {
         "automargin": true,
         "font": {
          "size": 18
         },
         "text": "Bike Usage Among Riders",
         "yref": "paper"
        },
        "xaxis": {
         "anchor": "y",
         "domain": [
          0.0,
          1.0
         ],
         "title": {
          "text": "Bike Type"
         }
        },
        "yaxis": {
         "anchor": "x",
         "domain": [
          0.0,
          1.0
         ],
         "title": {
          "text": "No. of Rides"
         }
        }
       }
      },
      "text/html": [
       "<div>                            <div id=\"26aa355a-899a-41be-bdd0-0b328ea57e7e\" class=\"plotly-graph-div\" style=\"height:525px; width:100%;\"></div>            <script type=\"text/javascript\">                require([\"plotly\"], function(Plotly) {                    window.PLOTLYENV=window.PLOTLYENV || {};                                    if (document.getElementById(\"26aa355a-899a-41be-bdd0-0b328ea57e7e\")) {                    Plotly.newPlot(                        \"26aa355a-899a-41be-bdd0-0b328ea57e7e\",                        [{\"alignmentgroup\":\"True\",\"customdata\":[[\"casual\",875554],[\"casual\",166284],[\"casual\",719840]],\"hovertemplate\":\"<b>%{hovertext}</b><br><br>Bike Type=%{x}<br>No. of Rides=%{text}<extra></extra>\",\"hovertext\":[\"casual\",\"casual\",\"casual\"],\"legendgroup\":\"casual\",\"marker\":{\"color\":\"#FF934F\",\"pattern\":{\"shape\":\"\"}},\"name\":\"casual\",\"offsetgroup\":\"casual\",\"orientation\":\"v\",\"showlegend\":true,\"text\":[875554.0,166284.0,719840.0],\"textposition\":\"auto\",\"x\":[\"classic_bike\",\"docked_bike\",\"electric_bike\"],\"xaxis\":\"x\",\"y\":[875554,166284,719840],\"yaxis\":\"y\",\"type\":\"bar\"},{\"alignmentgroup\":\"True\",\"customdata\":[[\"member\",1724061],[\"member\",0],[\"member\",958843]],\"hovertemplate\":\"<b>%{hovertext}</b><br><br>Bike Type=%{x}<br>No. of Rides=%{text}<extra></extra>\",\"hovertext\":[\"member\",\"member\",\"member\"],\"legendgroup\":\"member\",\"marker\":{\"color\":\"#058ED9\",\"pattern\":{\"shape\":\"\"}},\"name\":\"member\",\"offsetgroup\":\"member\",\"orientation\":\"v\",\"showlegend\":true,\"text\":[1724061.0,0.0,958843.0],\"textposition\":\"auto\",\"x\":[\"classic_bike\",\"docked_bike\",\"electric_bike\"],\"xaxis\":\"x\",\"y\":[1724061,0,958843],\"yaxis\":\"y\",\"type\":\"bar\"}],                        {\"template\":{\"data\":{\"histogram2dcontour\":[{\"type\":\"histogram2dcontour\",\"colorbar\":{\"outlinewidth\":0,\"ticks\":\"\"},\"colorscale\":[[0.0,\"#0d0887\"],[0.1111111111111111,\"#46039f\"],[0.2222222222222222,\"#7201a8\"],[0.3333333333333333,\"#9c179e\"],[0.4444444444444444,\"#bd3786\"],[0.5555555555555556,\"#d8576b\"],[0.6666666666666666,\"#ed7953\"],[0.7777777777777778,\"#fb9f3a\"],[0.8888888888888888,\"#fdca26\"],[1.0,\"#f0f921\"]]}],\"choropleth\":[{\"type\":\"choropleth\",\"colorbar\":{\"outlinewidth\":0,\"ticks\":\"\"}}],\"histogram2d\":[{\"type\":\"histogram2d\",\"colorbar\":{\"outlinewidth\":0,\"ticks\":\"\"},\"colorscale\":[[0.0,\"#0d0887\"],[0.1111111111111111,\"#46039f\"],[0.2222222222222222,\"#7201a8\"],[0.3333333333333333,\"#9c179e\"],[0.4444444444444444,\"#bd3786\"],[0.5555555555555556,\"#d8576b\"],[0.6666666666666666,\"#ed7953\"],[0.7777777777777778,\"#fb9f3a\"],[0.8888888888888888,\"#fdca26\"],[1.0,\"#f0f921\"]]}],\"heatmap\":[{\"type\":\"heatmap\",\"colorbar\":{\"outlinewidth\":0,\"ticks\":\"\"},\"colorscale\":[[0.0,\"#0d0887\"],[0.1111111111111111,\"#46039f\"],[0.2222222222222222,\"#7201a8\"],[0.3333333333333333,\"#9c179e\"],[0.4444444444444444,\"#bd3786\"],[0.5555555555555556,\"#d8576b\"],[0.6666666666666666,\"#ed7953\"],[0.7777777777777778,\"#fb9f3a\"],[0.8888888888888888,\"#fdca26\"],[1.0,\"#f0f921\"]]}],\"heatmapgl\":[{\"type\":\"heatmapgl\",\"colorbar\":{\"outlinewidth\":0,\"ticks\":\"\"},\"colorscale\":[[0.0,\"#0d0887\"],[0.1111111111111111,\"#46039f\"],[0.2222222222222222,\"#7201a8\"],[0.3333333333333333,\"#9c179e\"],[0.4444444444444444,\"#bd3786\"],[0.5555555555555556,\"#d8576b\"],[0.6666666666666666,\"#ed7953\"],[0.7777777777777778,\"#fb9f3a\"],[0.8888888888888888,\"#fdca26\"],[1.0,\"#f0f921\"]]}],\"contourcarpet\":[{\"type\":\"contourcarpet\",\"colorbar\":{\"outlinewidth\":0,\"ticks\":\"\"}}],\"contour\":[{\"type\":\"contour\",\"colorbar\":{\"outlinewidth\":0,\"ticks\":\"\"},\"colorscale\":[[0.0,\"#0d0887\"],[0.1111111111111111,\"#46039f\"],[0.2222222222222222,\"#7201a8\"],[0.3333333333333333,\"#9c179e\"],[0.4444444444444444,\"#bd3786\"],[0.5555555555555556,\"#d8576b\"],[0.6666666666666666,\"#ed7953\"],[0.7777777777777778,\"#fb9f3a\"],[0.8888888888888888,\"#fdca26\"],[1.0,\"#f0f921\"]]}],\"surface\":[{\"type\":\"surface\",\"colorbar\":{\"outlinewidth\":0,\"ticks\":\"\"},\"colorscale\":[[0.0,\"#0d0887\"],[0.1111111111111111,\"#46039f\"],[0.2222222222222222,\"#7201a8\"],[0.3333333333333333,\"#9c179e\"],[0.4444444444444444,\"#bd3786\"],[0.5555555555555556,\"#d8576b\"],[0.6666666666666666,\"#ed7953\"],[0.7777777777777778,\"#fb9f3a\"],[0.8888888888888888,\"#fdca26\"],[1.0,\"#f0f921\"]]}],\"mesh3d\":[{\"type\":\"mesh3d\",\"colorbar\":{\"outlinewidth\":0,\"ticks\":\"\"}}],\"scatter\":[{\"fillpattern\":{\"fillmode\":\"overlay\",\"size\":10,\"solidity\":0.2},\"type\":\"scatter\"}],\"parcoords\":[{\"type\":\"parcoords\",\"line\":{\"colorbar\":{\"outlinewidth\":0,\"ticks\":\"\"}}}],\"scatterpolargl\":[{\"type\":\"scatterpolargl\",\"marker\":{\"colorbar\":{\"outlinewidth\":0,\"ticks\":\"\"}}}],\"bar\":[{\"error_x\":{\"color\":\"#2a3f5f\"},\"error_y\":{\"color\":\"#2a3f5f\"},\"marker\":{\"line\":{\"color\":\"#E5ECF6\",\"width\":0.5},\"pattern\":{\"fillmode\":\"overlay\",\"size\":10,\"solidity\":0.2}},\"type\":\"bar\"}],\"scattergeo\":[{\"type\":\"scattergeo\",\"marker\":{\"colorbar\":{\"outlinewidth\":0,\"ticks\":\"\"}}}],\"scatterpolar\":[{\"type\":\"scatterpolar\",\"marker\":{\"colorbar\":{\"outlinewidth\":0,\"ticks\":\"\"}}}],\"histogram\":[{\"marker\":{\"pattern\":{\"fillmode\":\"overlay\",\"size\":10,\"solidity\":0.2}},\"type\":\"histogram\"}],\"scattergl\":[{\"type\":\"scattergl\",\"marker\":{\"colorbar\":{\"outlinewidth\":0,\"ticks\":\"\"}}}],\"scatter3d\":[{\"type\":\"scatter3d\",\"line\":{\"colorbar\":{\"outlinewidth\":0,\"ticks\":\"\"}},\"marker\":{\"colorbar\":{\"outlinewidth\":0,\"ticks\":\"\"}}}],\"scattermapbox\":[{\"type\":\"scattermapbox\",\"marker\":{\"colorbar\":{\"outlinewidth\":0,\"ticks\":\"\"}}}],\"scatterternary\":[{\"type\":\"scatterternary\",\"marker\":{\"colorbar\":{\"outlinewidth\":0,\"ticks\":\"\"}}}],\"scattercarpet\":[{\"type\":\"scattercarpet\",\"marker\":{\"colorbar\":{\"outlinewidth\":0,\"ticks\":\"\"}}}],\"carpet\":[{\"aaxis\":{\"endlinecolor\":\"#2a3f5f\",\"gridcolor\":\"white\",\"linecolor\":\"white\",\"minorgridcolor\":\"white\",\"startlinecolor\":\"#2a3f5f\"},\"baxis\":{\"endlinecolor\":\"#2a3f5f\",\"gridcolor\":\"white\",\"linecolor\":\"white\",\"minorgridcolor\":\"white\",\"startlinecolor\":\"#2a3f5f\"},\"type\":\"carpet\"}],\"table\":[{\"cells\":{\"fill\":{\"color\":\"#EBF0F8\"},\"line\":{\"color\":\"white\"}},\"header\":{\"fill\":{\"color\":\"#C8D4E3\"},\"line\":{\"color\":\"white\"}},\"type\":\"table\"}],\"barpolar\":[{\"marker\":{\"line\":{\"color\":\"#E5ECF6\",\"width\":0.5},\"pattern\":{\"fillmode\":\"overlay\",\"size\":10,\"solidity\":0.2}},\"type\":\"barpolar\"}],\"pie\":[{\"automargin\":true,\"type\":\"pie\"}]},\"layout\":{\"autotypenumbers\":\"strict\",\"colorway\":[\"#636efa\",\"#EF553B\",\"#00cc96\",\"#ab63fa\",\"#FFA15A\",\"#19d3f3\",\"#FF6692\",\"#B6E880\",\"#FF97FF\",\"#FECB52\"],\"font\":{\"color\":\"#2a3f5f\"},\"hovermode\":\"closest\",\"hoverlabel\":{\"align\":\"left\"},\"paper_bgcolor\":\"white\",\"plot_bgcolor\":\"#E5ECF6\",\"polar\":{\"bgcolor\":\"#E5ECF6\",\"angularaxis\":{\"gridcolor\":\"white\",\"linecolor\":\"white\",\"ticks\":\"\"},\"radialaxis\":{\"gridcolor\":\"white\",\"linecolor\":\"white\",\"ticks\":\"\"}},\"ternary\":{\"bgcolor\":\"#E5ECF6\",\"aaxis\":{\"gridcolor\":\"white\",\"linecolor\":\"white\",\"ticks\":\"\"},\"baxis\":{\"gridcolor\":\"white\",\"linecolor\":\"white\",\"ticks\":\"\"},\"caxis\":{\"gridcolor\":\"white\",\"linecolor\":\"white\",\"ticks\":\"\"}},\"coloraxis\":{\"colorbar\":{\"outlinewidth\":0,\"ticks\":\"\"}},\"colorscale\":{\"sequential\":[[0.0,\"#0d0887\"],[0.1111111111111111,\"#46039f\"],[0.2222222222222222,\"#7201a8\"],[0.3333333333333333,\"#9c179e\"],[0.4444444444444444,\"#bd3786\"],[0.5555555555555556,\"#d8576b\"],[0.6666666666666666,\"#ed7953\"],[0.7777777777777778,\"#fb9f3a\"],[0.8888888888888888,\"#fdca26\"],[1.0,\"#f0f921\"]],\"sequentialminus\":[[0.0,\"#0d0887\"],[0.1111111111111111,\"#46039f\"],[0.2222222222222222,\"#7201a8\"],[0.3333333333333333,\"#9c179e\"],[0.4444444444444444,\"#bd3786\"],[0.5555555555555556,\"#d8576b\"],[0.6666666666666666,\"#ed7953\"],[0.7777777777777778,\"#fb9f3a\"],[0.8888888888888888,\"#fdca26\"],[1.0,\"#f0f921\"]],\"diverging\":[[0,\"#8e0152\"],[0.1,\"#c51b7d\"],[0.2,\"#de77ae\"],[0.3,\"#f1b6da\"],[0.4,\"#fde0ef\"],[0.5,\"#f7f7f7\"],[0.6,\"#e6f5d0\"],[0.7,\"#b8e186\"],[0.8,\"#7fbc41\"],[0.9,\"#4d9221\"],[1,\"#276419\"]]},\"xaxis\":{\"gridcolor\":\"white\",\"linecolor\":\"white\",\"ticks\":\"\",\"title\":{\"standoff\":15},\"zerolinecolor\":\"white\",\"automargin\":true,\"zerolinewidth\":2},\"yaxis\":{\"gridcolor\":\"white\",\"linecolor\":\"white\",\"ticks\":\"\",\"title\":{\"standoff\":15},\"zerolinecolor\":\"white\",\"automargin\":true,\"zerolinewidth\":2},\"scene\":{\"xaxis\":{\"backgroundcolor\":\"#E5ECF6\",\"gridcolor\":\"white\",\"linecolor\":\"white\",\"showbackground\":true,\"ticks\":\"\",\"zerolinecolor\":\"white\",\"gridwidth\":2},\"yaxis\":{\"backgroundcolor\":\"#E5ECF6\",\"gridcolor\":\"white\",\"linecolor\":\"white\",\"showbackground\":true,\"ticks\":\"\",\"zerolinecolor\":\"white\",\"gridwidth\":2},\"zaxis\":{\"backgroundcolor\":\"#E5ECF6\",\"gridcolor\":\"white\",\"linecolor\":\"white\",\"showbackground\":true,\"ticks\":\"\",\"zerolinecolor\":\"white\",\"gridwidth\":2}},\"shapedefaults\":{\"line\":{\"color\":\"#2a3f5f\"}},\"annotationdefaults\":{\"arrowcolor\":\"#2a3f5f\",\"arrowhead\":0,\"arrowwidth\":1},\"geo\":{\"bgcolor\":\"white\",\"landcolor\":\"#E5ECF6\",\"subunitcolor\":\"white\",\"showland\":true,\"showlakes\":true,\"lakecolor\":\"white\"},\"title\":{\"x\":0.05},\"mapbox\":{\"style\":\"light\"}}},\"xaxis\":{\"anchor\":\"y\",\"domain\":[0.0,1.0],\"title\":{\"text\":\"Bike Type\"}},\"yaxis\":{\"anchor\":\"x\",\"domain\":[0.0,1.0],\"title\":{\"text\":\"No. of Rides\"}},\"legend\":{\"title\":{\"text\":\"User Type\"},\"tracegroupgap\":0},\"margin\":{\"t\":60},\"barmode\":\"group\",\"title\":{\"font\":{\"size\":18},\"text\":\"Bike Usage Among Riders\",\"automargin\":true,\"yref\":\"paper\"}},                        {\"responsive\": true}                    ).then(function(){\n",
       "                            \n",
       "var gd = document.getElementById('26aa355a-899a-41be-bdd0-0b328ea57e7e');\n",
       "var x = new MutationObserver(function (mutations, observer) {{\n",
       "        var display = window.getComputedStyle(gd).display;\n",
       "        if (!display || display === 'none') {{\n",
       "            console.log([gd, 'removed!']);\n",
       "            Plotly.purge(gd);\n",
       "            observer.disconnect();\n",
       "        }}\n",
       "}});\n",
       "\n",
       "// Listen for the removal of the full notebook cells\n",
       "var notebookContainer = gd.closest('#notebook-container');\n",
       "if (notebookContainer) {{\n",
       "    x.observe(notebookContainer, {childList: true});\n",
       "}}\n",
       "\n",
       "// Listen for the clearing of the current output cell\n",
       "var outputEl = gd.closest('.output');\n",
       "if (outputEl) {{\n",
       "    x.observe(outputEl, {childList: true});\n",
       "}}\n",
       "\n",
       "                        })                };                });            </script>        </div>"
      ]
     },
     "metadata": {},
     "output_type": "display_data"
    }
   ],
   "source": [
    "df_pv3 = cyc_data_combined.groupby(['rideable_type', 'member_casual'], as_index=False).count()\n",
    "\n",
    "fig_2 = px.bar(df_pv3, x = 'rideable_type', y = 'ride_id',\n",
    "        color = 'member_casual',\n",
    "        barmode='group',\n",
    "        text = 'ride_id', \n",
    "        labels = {'ride_id': 'No. of Rides', 'member_casual': 'User Type', 'rideable_type' : 'Bike Type'},\n",
    "        hover_name = 'member_casual', hover_data = {'member_casual': False, 'ride_length_min': False}, \n",
    "        color_discrete_map = {'casual': '#FF934F', 'member': '#058ED9'})\n",
    "fig_2.update_layout(\n",
    "    title=dict(text=\"Bike Usage Among Riders\",font=dict(size=18), automargin=True, yref='paper')\n",
    ")"
   ]
  },
  {
   "cell_type": "markdown",
   "id": "1d620540",
   "metadata": {
    "papermill": {
     "duration": 0.054403,
     "end_time": "2023-06-14T21:22:04.813099",
     "exception": false,
     "start_time": "2023-06-14T21:22:04.758696",
     "status": "completed"
    },
    "tags": []
   },
   "source": [
    "__Fig. 2__ - Types of bikes used among riders. Members tend to prefer classic bikes over electric, and do not use docked bikes. Contrastingly, casual members tend to use classic and electric bikes evenly"
   ]
  },
  {
   "cell_type": "markdown",
   "id": "c66b9fa7",
   "metadata": {
    "papermill": {
     "duration": 0.056409,
     "end_time": "2023-06-14T21:22:04.926656",
     "exception": false,
     "start_time": "2023-06-14T21:22:04.870247",
     "status": "completed"
    },
    "tags": []
   },
   "source": [
    "#### <span style='color:#2D8FC5'>Number of Rides per Month</span>"
   ]
  },
  {
   "cell_type": "code",
   "execution_count": 41,
   "id": "ee9c33db",
   "metadata": {
    "execution": {
     "iopub.execute_input": "2023-06-14T21:22:05.040086Z",
     "iopub.status.busy": "2023-06-14T21:22:05.039648Z",
     "iopub.status.idle": "2023-06-14T21:22:11.252085Z",
     "shell.execute_reply": "2023-06-14T21:22:11.250982Z"
    },
    "papermill": {
     "duration": 6.271663,
     "end_time": "2023-06-14T21:22:11.254492",
     "exception": false,
     "start_time": "2023-06-14T21:22:04.982829",
     "status": "completed"
    },
    "tags": []
   },
   "outputs": [
    {
     "data": {
      "text/html": [
       "<div>\n",
       "<style scoped>\n",
       "    .dataframe tbody tr th:only-of-type {\n",
       "        vertical-align: middle;\n",
       "    }\n",
       "\n",
       "    .dataframe tbody tr th {\n",
       "        vertical-align: top;\n",
       "    }\n",
       "\n",
       "    .dataframe thead tr th {\n",
       "        text-align: left;\n",
       "    }\n",
       "\n",
       "    .dataframe thead tr:last-of-type th {\n",
       "        text-align: right;\n",
       "    }\n",
       "</style>\n",
       "<table border=\"1\" class=\"dataframe\">\n",
       "  <thead>\n",
       "    <tr>\n",
       "      <th></th>\n",
       "      <th></th>\n",
       "      <th></th>\n",
       "      <th>count</th>\n",
       "    </tr>\n",
       "    <tr>\n",
       "      <th></th>\n",
       "      <th></th>\n",
       "      <th></th>\n",
       "      <th>ride_id</th>\n",
       "    </tr>\n",
       "    <tr>\n",
       "      <th>year</th>\n",
       "      <th>month</th>\n",
       "      <th>member_casual</th>\n",
       "      <th></th>\n",
       "    </tr>\n",
       "  </thead>\n",
       "  <tbody>\n",
       "    <tr>\n",
       "      <th rowspan=\"16\" valign=\"top\">2022</th>\n",
       "      <th rowspan=\"2\" valign=\"top\">May</th>\n",
       "      <th>casual</th>\n",
       "      <td>216938</td>\n",
       "    </tr>\n",
       "    <tr>\n",
       "      <th>member</th>\n",
       "      <td>277162</td>\n",
       "    </tr>\n",
       "    <tr>\n",
       "      <th rowspan=\"2\" valign=\"top\">Jun</th>\n",
       "      <th>casual</th>\n",
       "      <td>287553</td>\n",
       "    </tr>\n",
       "    <tr>\n",
       "      <th>member</th>\n",
       "      <td>322256</td>\n",
       "    </tr>\n",
       "    <tr>\n",
       "      <th rowspan=\"2\" valign=\"top\">Jul</th>\n",
       "      <th>casual</th>\n",
       "      <td>306612</td>\n",
       "    </tr>\n",
       "    <tr>\n",
       "      <th>member</th>\n",
       "      <td>324307</td>\n",
       "    </tr>\n",
       "    <tr>\n",
       "      <th rowspan=\"2\" valign=\"top\">Aug</th>\n",
       "      <th>casual</th>\n",
       "      <td>265748</td>\n",
       "    </tr>\n",
       "    <tr>\n",
       "      <th>member</th>\n",
       "      <td>328577</td>\n",
       "    </tr>\n",
       "    <tr>\n",
       "      <th rowspan=\"2\" valign=\"top\">Sep</th>\n",
       "      <th>casual</th>\n",
       "      <td>217485</td>\n",
       "    </tr>\n",
       "    <tr>\n",
       "      <th>member</th>\n",
       "      <td>307844</td>\n",
       "    </tr>\n",
       "    <tr>\n",
       "      <th rowspan=\"2\" valign=\"top\">Oct</th>\n",
       "      <th>casual</th>\n",
       "      <td>148865</td>\n",
       "    </tr>\n",
       "    <tr>\n",
       "      <th>member</th>\n",
       "      <td>257460</td>\n",
       "    </tr>\n",
       "    <tr>\n",
       "      <th rowspan=\"2\" valign=\"top\">Nov</th>\n",
       "      <th>casual</th>\n",
       "      <td>72366</td>\n",
       "    </tr>\n",
       "    <tr>\n",
       "      <th>member</th>\n",
       "      <td>178766</td>\n",
       "    </tr>\n",
       "    <tr>\n",
       "      <th rowspan=\"2\" valign=\"top\">Dec</th>\n",
       "      <th>casual</th>\n",
       "      <td>30979</td>\n",
       "    </tr>\n",
       "    <tr>\n",
       "      <th>member</th>\n",
       "      <td>101634</td>\n",
       "    </tr>\n",
       "    <tr>\n",
       "      <th rowspan=\"8\" valign=\"top\">2023</th>\n",
       "      <th rowspan=\"2\" valign=\"top\">Jan</th>\n",
       "      <th>casual</th>\n",
       "      <td>29021</td>\n",
       "    </tr>\n",
       "    <tr>\n",
       "      <th>member</th>\n",
       "      <td>115445</td>\n",
       "    </tr>\n",
       "    <tr>\n",
       "      <th rowspan=\"2\" valign=\"top\">Feb</th>\n",
       "      <th>casual</th>\n",
       "      <td>32209</td>\n",
       "    </tr>\n",
       "    <tr>\n",
       "      <th>member</th>\n",
       "      <td>113884</td>\n",
       "    </tr>\n",
       "    <tr>\n",
       "      <th rowspan=\"2\" valign=\"top\">Mar</th>\n",
       "      <th>casual</th>\n",
       "      <td>45739</td>\n",
       "    </tr>\n",
       "    <tr>\n",
       "      <th>member</th>\n",
       "      <td>148811</td>\n",
       "    </tr>\n",
       "    <tr>\n",
       "      <th rowspan=\"2\" valign=\"top\">Apr</th>\n",
       "      <th>casual</th>\n",
       "      <td>108163</td>\n",
       "    </tr>\n",
       "    <tr>\n",
       "      <th>member</th>\n",
       "      <td>206758</td>\n",
       "    </tr>\n",
       "    <tr>\n",
       "      <th>Total Count</th>\n",
       "      <th></th>\n",
       "      <th></th>\n",
       "      <td>4444582</td>\n",
       "    </tr>\n",
       "  </tbody>\n",
       "</table>\n",
       "</div>"
      ],
      "text/plain": [
       "                                   count\n",
       "                                 ride_id\n",
       "year        month member_casual         \n",
       "2022        May   casual          216938\n",
       "                  member          277162\n",
       "            Jun   casual          287553\n",
       "                  member          322256\n",
       "            Jul   casual          306612\n",
       "                  member          324307\n",
       "            Aug   casual          265748\n",
       "                  member          328577\n",
       "            Sep   casual          217485\n",
       "                  member          307844\n",
       "            Oct   casual          148865\n",
       "                  member          257460\n",
       "            Nov   casual           72366\n",
       "                  member          178766\n",
       "            Dec   casual           30979\n",
       "                  member          101634\n",
       "2023        Jan   casual           29021\n",
       "                  member          115445\n",
       "            Feb   casual           32209\n",
       "                  member          113884\n",
       "            Mar   casual           45739\n",
       "                  member          148811\n",
       "            Apr   casual          108163\n",
       "                  member          206758\n",
       "Total Count                      4444582"
      ]
     },
     "execution_count": 41,
     "metadata": {},
     "output_type": "execute_result"
    }
   ],
   "source": [
    "df_pv4 = pd.pivot_table(cyc_data_combined,\n",
    "              index = ['year', 'month', 'member_casual'],\n",
    "              values = 'ride_id',\n",
    "              aggfunc = ['count'],\n",
    "              margins = True,\n",
    "              margins_name = 'Total Count')\n",
    "df_pv4 = df_pv4.loc[(df_pv4 != 0).any(axis=1)] #filters out data with ride_id count =0\n",
    "df_pv4"
   ]
  },
  {
   "cell_type": "code",
   "execution_count": 42,
   "id": "2a0b434e",
   "metadata": {
    "execution": {
     "iopub.execute_input": "2023-06-14T21:22:11.367188Z",
     "iopub.status.busy": "2023-06-14T21:22:11.366750Z",
     "iopub.status.idle": "2023-06-14T21:22:20.825694Z",
     "shell.execute_reply": "2023-06-14T21:22:20.824932Z"
    },
    "papermill": {
     "duration": 9.518429,
     "end_time": "2023-06-14T21:22:20.828349",
     "exception": false,
     "start_time": "2023-06-14T21:22:11.309920",
     "status": "completed"
    },
    "tags": []
   },
   "outputs": [
    {
     "data": {
      "application/vnd.plotly.v1+json": {
       "config": {
        "plotlyServerURL": "https://plot.ly"
       },
       "data": [
        {
         "customdata": [
          [
           "casual",
           "2022"
          ],
          [
           "casual",
           "2022"
          ],
          [
           "casual",
           "2022"
          ],
          [
           "casual",
           "2022"
          ],
          [
           "casual",
           "2022"
          ],
          [
           "casual",
           "2022"
          ],
          [
           "casual",
           "2022"
          ],
          [
           "casual",
           "2022"
          ],
          [
           "casual",
           "2023"
          ],
          [
           "casual",
           "2023"
          ],
          [
           "casual",
           "2023"
          ],
          [
           "casual",
           "2023"
          ]
         ],
         "hovertemplate": "<b>%{hovertext}</b><br><br>Months=%{x}<br>No. of Rides=%{y}<br>year=%{customdata[1]}<extra></extra>",
         "hovertext": [
          "casual",
          "casual",
          "casual",
          "casual",
          "casual",
          "casual",
          "casual",
          "casual",
          "casual",
          "casual",
          "casual",
          "casual"
         ],
         "legendgroup": "casual",
         "line": {
          "color": "#FF934F",
          "dash": "solid",
          "shape": "spline"
         },
         "marker": {
          "symbol": "circle"
         },
         "mode": "lines+markers",
         "name": "casual",
         "orientation": "v",
         "showlegend": true,
         "type": "scatter",
         "x": [
          "May",
          "Jun",
          "Jul",
          "Aug",
          "Sep",
          "Oct",
          "Nov",
          "Dec",
          "Jan",
          "Feb",
          "Mar",
          "Apr"
         ],
         "xaxis": "x",
         "y": [
          216938,
          287553,
          306612,
          265748,
          217485,
          148865,
          72366,
          30979,
          29021,
          32209,
          45739,
          108163
         ],
         "yaxis": "y"
        },
        {
         "customdata": [
          [
           "member",
           "2022"
          ],
          [
           "member",
           "2022"
          ],
          [
           "member",
           "2022"
          ],
          [
           "member",
           "2022"
          ],
          [
           "member",
           "2022"
          ],
          [
           "member",
           "2022"
          ],
          [
           "member",
           "2022"
          ],
          [
           "member",
           "2022"
          ],
          [
           "member",
           "2023"
          ],
          [
           "member",
           "2023"
          ],
          [
           "member",
           "2023"
          ],
          [
           "member",
           "2023"
          ]
         ],
         "hovertemplate": "<b>%{hovertext}</b><br><br>Months=%{x}<br>No. of Rides=%{y}<br>year=%{customdata[1]}<extra></extra>",
         "hovertext": [
          "member",
          "member",
          "member",
          "member",
          "member",
          "member",
          "member",
          "member",
          "member",
          "member",
          "member",
          "member"
         ],
         "legendgroup": "member",
         "line": {
          "color": "#058ED9",
          "dash": "solid",
          "shape": "spline"
         },
         "marker": {
          "symbol": "circle"
         },
         "mode": "lines+markers",
         "name": "member",
         "orientation": "v",
         "showlegend": true,
         "type": "scatter",
         "x": [
          "May",
          "Jun",
          "Jul",
          "Aug",
          "Sep",
          "Oct",
          "Nov",
          "Dec",
          "Jan",
          "Feb",
          "Mar",
          "Apr"
         ],
         "xaxis": "x",
         "y": [
          277162,
          322256,
          324307,
          328577,
          307844,
          257460,
          178766,
          101634,
          115445,
          113884,
          148811,
          206758
         ],
         "yaxis": "y"
        }
       ],
       "layout": {
        "legend": {
         "title": {
          "text": "User Type"
         },
         "tracegroupgap": 0
        },
        "margin": {
         "t": 60
        },
        "template": {
         "data": {
          "bar": [
           {
            "error_x": {
             "color": "#2a3f5f"
            },
            "error_y": {
             "color": "#2a3f5f"
            },
            "marker": {
             "line": {
              "color": "#E5ECF6",
              "width": 0.5
             },
             "pattern": {
              "fillmode": "overlay",
              "size": 10,
              "solidity": 0.2
             }
            },
            "type": "bar"
           }
          ],
          "barpolar": [
           {
            "marker": {
             "line": {
              "color": "#E5ECF6",
              "width": 0.5
             },
             "pattern": {
              "fillmode": "overlay",
              "size": 10,
              "solidity": 0.2
             }
            },
            "type": "barpolar"
           }
          ],
          "carpet": [
           {
            "aaxis": {
             "endlinecolor": "#2a3f5f",
             "gridcolor": "white",
             "linecolor": "white",
             "minorgridcolor": "white",
             "startlinecolor": "#2a3f5f"
            },
            "baxis": {
             "endlinecolor": "#2a3f5f",
             "gridcolor": "white",
             "linecolor": "white",
             "minorgridcolor": "white",
             "startlinecolor": "#2a3f5f"
            },
            "type": "carpet"
           }
          ],
          "choropleth": [
           {
            "colorbar": {
             "outlinewidth": 0,
             "ticks": ""
            },
            "type": "choropleth"
           }
          ],
          "contour": [
           {
            "colorbar": {
             "outlinewidth": 0,
             "ticks": ""
            },
            "colorscale": [
             [
              0.0,
              "#0d0887"
             ],
             [
              0.1111111111111111,
              "#46039f"
             ],
             [
              0.2222222222222222,
              "#7201a8"
             ],
             [
              0.3333333333333333,
              "#9c179e"
             ],
             [
              0.4444444444444444,
              "#bd3786"
             ],
             [
              0.5555555555555556,
              "#d8576b"
             ],
             [
              0.6666666666666666,
              "#ed7953"
             ],
             [
              0.7777777777777778,
              "#fb9f3a"
             ],
             [
              0.8888888888888888,
              "#fdca26"
             ],
             [
              1.0,
              "#f0f921"
             ]
            ],
            "type": "contour"
           }
          ],
          "contourcarpet": [
           {
            "colorbar": {
             "outlinewidth": 0,
             "ticks": ""
            },
            "type": "contourcarpet"
           }
          ],
          "heatmap": [
           {
            "colorbar": {
             "outlinewidth": 0,
             "ticks": ""
            },
            "colorscale": [
             [
              0.0,
              "#0d0887"
             ],
             [
              0.1111111111111111,
              "#46039f"
             ],
             [
              0.2222222222222222,
              "#7201a8"
             ],
             [
              0.3333333333333333,
              "#9c179e"
             ],
             [
              0.4444444444444444,
              "#bd3786"
             ],
             [
              0.5555555555555556,
              "#d8576b"
             ],
             [
              0.6666666666666666,
              "#ed7953"
             ],
             [
              0.7777777777777778,
              "#fb9f3a"
             ],
             [
              0.8888888888888888,
              "#fdca26"
             ],
             [
              1.0,
              "#f0f921"
             ]
            ],
            "type": "heatmap"
           }
          ],
          "heatmapgl": [
           {
            "colorbar": {
             "outlinewidth": 0,
             "ticks": ""
            },
            "colorscale": [
             [
              0.0,
              "#0d0887"
             ],
             [
              0.1111111111111111,
              "#46039f"
             ],
             [
              0.2222222222222222,
              "#7201a8"
             ],
             [
              0.3333333333333333,
              "#9c179e"
             ],
             [
              0.4444444444444444,
              "#bd3786"
             ],
             [
              0.5555555555555556,
              "#d8576b"
             ],
             [
              0.6666666666666666,
              "#ed7953"
             ],
             [
              0.7777777777777778,
              "#fb9f3a"
             ],
             [
              0.8888888888888888,
              "#fdca26"
             ],
             [
              1.0,
              "#f0f921"
             ]
            ],
            "type": "heatmapgl"
           }
          ],
          "histogram": [
           {
            "marker": {
             "pattern": {
              "fillmode": "overlay",
              "size": 10,
              "solidity": 0.2
             }
            },
            "type": "histogram"
           }
          ],
          "histogram2d": [
           {
            "colorbar": {
             "outlinewidth": 0,
             "ticks": ""
            },
            "colorscale": [
             [
              0.0,
              "#0d0887"
             ],
             [
              0.1111111111111111,
              "#46039f"
             ],
             [
              0.2222222222222222,
              "#7201a8"
             ],
             [
              0.3333333333333333,
              "#9c179e"
             ],
             [
              0.4444444444444444,
              "#bd3786"
             ],
             [
              0.5555555555555556,
              "#d8576b"
             ],
             [
              0.6666666666666666,
              "#ed7953"
             ],
             [
              0.7777777777777778,
              "#fb9f3a"
             ],
             [
              0.8888888888888888,
              "#fdca26"
             ],
             [
              1.0,
              "#f0f921"
             ]
            ],
            "type": "histogram2d"
           }
          ],
          "histogram2dcontour": [
           {
            "colorbar": {
             "outlinewidth": 0,
             "ticks": ""
            },
            "colorscale": [
             [
              0.0,
              "#0d0887"
             ],
             [
              0.1111111111111111,
              "#46039f"
             ],
             [
              0.2222222222222222,
              "#7201a8"
             ],
             [
              0.3333333333333333,
              "#9c179e"
             ],
             [
              0.4444444444444444,
              "#bd3786"
             ],
             [
              0.5555555555555556,
              "#d8576b"
             ],
             [
              0.6666666666666666,
              "#ed7953"
             ],
             [
              0.7777777777777778,
              "#fb9f3a"
             ],
             [
              0.8888888888888888,
              "#fdca26"
             ],
             [
              1.0,
              "#f0f921"
             ]
            ],
            "type": "histogram2dcontour"
           }
          ],
          "mesh3d": [
           {
            "colorbar": {
             "outlinewidth": 0,
             "ticks": ""
            },
            "type": "mesh3d"
           }
          ],
          "parcoords": [
           {
            "line": {
             "colorbar": {
              "outlinewidth": 0,
              "ticks": ""
             }
            },
            "type": "parcoords"
           }
          ],
          "pie": [
           {
            "automargin": true,
            "type": "pie"
           }
          ],
          "scatter": [
           {
            "fillpattern": {
             "fillmode": "overlay",
             "size": 10,
             "solidity": 0.2
            },
            "type": "scatter"
           }
          ],
          "scatter3d": [
           {
            "line": {
             "colorbar": {
              "outlinewidth": 0,
              "ticks": ""
             }
            },
            "marker": {
             "colorbar": {
              "outlinewidth": 0,
              "ticks": ""
             }
            },
            "type": "scatter3d"
           }
          ],
          "scattercarpet": [
           {
            "marker": {
             "colorbar": {
              "outlinewidth": 0,
              "ticks": ""
             }
            },
            "type": "scattercarpet"
           }
          ],
          "scattergeo": [
           {
            "marker": {
             "colorbar": {
              "outlinewidth": 0,
              "ticks": ""
             }
            },
            "type": "scattergeo"
           }
          ],
          "scattergl": [
           {
            "marker": {
             "colorbar": {
              "outlinewidth": 0,
              "ticks": ""
             }
            },
            "type": "scattergl"
           }
          ],
          "scattermapbox": [
           {
            "marker": {
             "colorbar": {
              "outlinewidth": 0,
              "ticks": ""
             }
            },
            "type": "scattermapbox"
           }
          ],
          "scatterpolar": [
           {
            "marker": {
             "colorbar": {
              "outlinewidth": 0,
              "ticks": ""
             }
            },
            "type": "scatterpolar"
           }
          ],
          "scatterpolargl": [
           {
            "marker": {
             "colorbar": {
              "outlinewidth": 0,
              "ticks": ""
             }
            },
            "type": "scatterpolargl"
           }
          ],
          "scatterternary": [
           {
            "marker": {
             "colorbar": {
              "outlinewidth": 0,
              "ticks": ""
             }
            },
            "type": "scatterternary"
           }
          ],
          "surface": [
           {
            "colorbar": {
             "outlinewidth": 0,
             "ticks": ""
            },
            "colorscale": [
             [
              0.0,
              "#0d0887"
             ],
             [
              0.1111111111111111,
              "#46039f"
             ],
             [
              0.2222222222222222,
              "#7201a8"
             ],
             [
              0.3333333333333333,
              "#9c179e"
             ],
             [
              0.4444444444444444,
              "#bd3786"
             ],
             [
              0.5555555555555556,
              "#d8576b"
             ],
             [
              0.6666666666666666,
              "#ed7953"
             ],
             [
              0.7777777777777778,
              "#fb9f3a"
             ],
             [
              0.8888888888888888,
              "#fdca26"
             ],
             [
              1.0,
              "#f0f921"
             ]
            ],
            "type": "surface"
           }
          ],
          "table": [
           {
            "cells": {
             "fill": {
              "color": "#EBF0F8"
             },
             "line": {
              "color": "white"
             }
            },
            "header": {
             "fill": {
              "color": "#C8D4E3"
             },
             "line": {
              "color": "white"
             }
            },
            "type": "table"
           }
          ]
         },
         "layout": {
          "annotationdefaults": {
           "arrowcolor": "#2a3f5f",
           "arrowhead": 0,
           "arrowwidth": 1
          },
          "autotypenumbers": "strict",
          "coloraxis": {
           "colorbar": {
            "outlinewidth": 0,
            "ticks": ""
           }
          },
          "colorscale": {
           "diverging": [
            [
             0,
             "#8e0152"
            ],
            [
             0.1,
             "#c51b7d"
            ],
            [
             0.2,
             "#de77ae"
            ],
            [
             0.3,
             "#f1b6da"
            ],
            [
             0.4,
             "#fde0ef"
            ],
            [
             0.5,
             "#f7f7f7"
            ],
            [
             0.6,
             "#e6f5d0"
            ],
            [
             0.7,
             "#b8e186"
            ],
            [
             0.8,
             "#7fbc41"
            ],
            [
             0.9,
             "#4d9221"
            ],
            [
             1,
             "#276419"
            ]
           ],
           "sequential": [
            [
             0.0,
             "#0d0887"
            ],
            [
             0.1111111111111111,
             "#46039f"
            ],
            [
             0.2222222222222222,
             "#7201a8"
            ],
            [
             0.3333333333333333,
             "#9c179e"
            ],
            [
             0.4444444444444444,
             "#bd3786"
            ],
            [
             0.5555555555555556,
             "#d8576b"
            ],
            [
             0.6666666666666666,
             "#ed7953"
            ],
            [
             0.7777777777777778,
             "#fb9f3a"
            ],
            [
             0.8888888888888888,
             "#fdca26"
            ],
            [
             1.0,
             "#f0f921"
            ]
           ],
           "sequentialminus": [
            [
             0.0,
             "#0d0887"
            ],
            [
             0.1111111111111111,
             "#46039f"
            ],
            [
             0.2222222222222222,
             "#7201a8"
            ],
            [
             0.3333333333333333,
             "#9c179e"
            ],
            [
             0.4444444444444444,
             "#bd3786"
            ],
            [
             0.5555555555555556,
             "#d8576b"
            ],
            [
             0.6666666666666666,
             "#ed7953"
            ],
            [
             0.7777777777777778,
             "#fb9f3a"
            ],
            [
             0.8888888888888888,
             "#fdca26"
            ],
            [
             1.0,
             "#f0f921"
            ]
           ]
          },
          "colorway": [
           "#636efa",
           "#EF553B",
           "#00cc96",
           "#ab63fa",
           "#FFA15A",
           "#19d3f3",
           "#FF6692",
           "#B6E880",
           "#FF97FF",
           "#FECB52"
          ],
          "font": {
           "color": "#2a3f5f"
          },
          "geo": {
           "bgcolor": "white",
           "lakecolor": "white",
           "landcolor": "#E5ECF6",
           "showlakes": true,
           "showland": true,
           "subunitcolor": "white"
          },
          "hoverlabel": {
           "align": "left"
          },
          "hovermode": "closest",
          "mapbox": {
           "style": "light"
          },
          "paper_bgcolor": "white",
          "plot_bgcolor": "#E5ECF6",
          "polar": {
           "angularaxis": {
            "gridcolor": "white",
            "linecolor": "white",
            "ticks": ""
           },
           "bgcolor": "#E5ECF6",
           "radialaxis": {
            "gridcolor": "white",
            "linecolor": "white",
            "ticks": ""
           }
          },
          "scene": {
           "xaxis": {
            "backgroundcolor": "#E5ECF6",
            "gridcolor": "white",
            "gridwidth": 2,
            "linecolor": "white",
            "showbackground": true,
            "ticks": "",
            "zerolinecolor": "white"
           },
           "yaxis": {
            "backgroundcolor": "#E5ECF6",
            "gridcolor": "white",
            "gridwidth": 2,
            "linecolor": "white",
            "showbackground": true,
            "ticks": "",
            "zerolinecolor": "white"
           },
           "zaxis": {
            "backgroundcolor": "#E5ECF6",
            "gridcolor": "white",
            "gridwidth": 2,
            "linecolor": "white",
            "showbackground": true,
            "ticks": "",
            "zerolinecolor": "white"
           }
          },
          "shapedefaults": {
           "line": {
            "color": "#2a3f5f"
           }
          },
          "ternary": {
           "aaxis": {
            "gridcolor": "white",
            "linecolor": "white",
            "ticks": ""
           },
           "baxis": {
            "gridcolor": "white",
            "linecolor": "white",
            "ticks": ""
           },
           "bgcolor": "#E5ECF6",
           "caxis": {
            "gridcolor": "white",
            "linecolor": "white",
            "ticks": ""
           }
          },
          "title": {
           "x": 0.05
          },
          "xaxis": {
           "automargin": true,
           "gridcolor": "white",
           "linecolor": "white",
           "ticks": "",
           "title": {
            "standoff": 15
           },
           "zerolinecolor": "white",
           "zerolinewidth": 2
          },
          "yaxis": {
           "automargin": true,
           "gridcolor": "white",
           "linecolor": "white",
           "ticks": "",
           "title": {
            "standoff": 15
           },
           "zerolinecolor": "white",
           "zerolinewidth": 2
          }
         }
        },
        "title": {
         "automargin": true,
         "font": {
          "size": 18
         },
         "text": "Monthly Trips from (May 2022 - Apr 2023)",
         "yref": "paper"
        },
        "xaxis": {
         "anchor": "y",
         "domain": [
          0.0,
          1.0
         ],
         "title": {
          "text": "Months"
         }
        },
        "yaxis": {
         "anchor": "x",
         "domain": [
          0.0,
          1.0
         ],
         "range": [
          0,
          450000
         ],
         "title": {
          "text": "No. of Rides"
         }
        }
       }
      },
      "text/html": [
       "<div>                            <div id=\"d20c09af-8313-4706-b998-d1380ee0ce46\" class=\"plotly-graph-div\" style=\"height:525px; width:100%;\"></div>            <script type=\"text/javascript\">                require([\"plotly\"], function(Plotly) {                    window.PLOTLYENV=window.PLOTLYENV || {};                                    if (document.getElementById(\"d20c09af-8313-4706-b998-d1380ee0ce46\")) {                    Plotly.newPlot(                        \"d20c09af-8313-4706-b998-d1380ee0ce46\",                        [{\"customdata\":[[\"casual\",\"2022\"],[\"casual\",\"2022\"],[\"casual\",\"2022\"],[\"casual\",\"2022\"],[\"casual\",\"2022\"],[\"casual\",\"2022\"],[\"casual\",\"2022\"],[\"casual\",\"2022\"],[\"casual\",\"2023\"],[\"casual\",\"2023\"],[\"casual\",\"2023\"],[\"casual\",\"2023\"]],\"hovertemplate\":\"<b>%{hovertext}</b><br><br>Months=%{x}<br>No. of Rides=%{y}<br>year=%{customdata[1]}<extra></extra>\",\"hovertext\":[\"casual\",\"casual\",\"casual\",\"casual\",\"casual\",\"casual\",\"casual\",\"casual\",\"casual\",\"casual\",\"casual\",\"casual\"],\"legendgroup\":\"casual\",\"line\":{\"color\":\"#FF934F\",\"dash\":\"solid\",\"shape\":\"spline\"},\"marker\":{\"symbol\":\"circle\"},\"mode\":\"lines+markers\",\"name\":\"casual\",\"orientation\":\"v\",\"showlegend\":true,\"x\":[\"May\",\"Jun\",\"Jul\",\"Aug\",\"Sep\",\"Oct\",\"Nov\",\"Dec\",\"Jan\",\"Feb\",\"Mar\",\"Apr\"],\"xaxis\":\"x\",\"y\":[216938,287553,306612,265748,217485,148865,72366,30979,29021,32209,45739,108163],\"yaxis\":\"y\",\"type\":\"scatter\"},{\"customdata\":[[\"member\",\"2022\"],[\"member\",\"2022\"],[\"member\",\"2022\"],[\"member\",\"2022\"],[\"member\",\"2022\"],[\"member\",\"2022\"],[\"member\",\"2022\"],[\"member\",\"2022\"],[\"member\",\"2023\"],[\"member\",\"2023\"],[\"member\",\"2023\"],[\"member\",\"2023\"]],\"hovertemplate\":\"<b>%{hovertext}</b><br><br>Months=%{x}<br>No. of Rides=%{y}<br>year=%{customdata[1]}<extra></extra>\",\"hovertext\":[\"member\",\"member\",\"member\",\"member\",\"member\",\"member\",\"member\",\"member\",\"member\",\"member\",\"member\",\"member\"],\"legendgroup\":\"member\",\"line\":{\"color\":\"#058ED9\",\"dash\":\"solid\",\"shape\":\"spline\"},\"marker\":{\"symbol\":\"circle\"},\"mode\":\"lines+markers\",\"name\":\"member\",\"orientation\":\"v\",\"showlegend\":true,\"x\":[\"May\",\"Jun\",\"Jul\",\"Aug\",\"Sep\",\"Oct\",\"Nov\",\"Dec\",\"Jan\",\"Feb\",\"Mar\",\"Apr\"],\"xaxis\":\"x\",\"y\":[277162,322256,324307,328577,307844,257460,178766,101634,115445,113884,148811,206758],\"yaxis\":\"y\",\"type\":\"scatter\"}],                        {\"template\":{\"data\":{\"histogram2dcontour\":[{\"type\":\"histogram2dcontour\",\"colorbar\":{\"outlinewidth\":0,\"ticks\":\"\"},\"colorscale\":[[0.0,\"#0d0887\"],[0.1111111111111111,\"#46039f\"],[0.2222222222222222,\"#7201a8\"],[0.3333333333333333,\"#9c179e\"],[0.4444444444444444,\"#bd3786\"],[0.5555555555555556,\"#d8576b\"],[0.6666666666666666,\"#ed7953\"],[0.7777777777777778,\"#fb9f3a\"],[0.8888888888888888,\"#fdca26\"],[1.0,\"#f0f921\"]]}],\"choropleth\":[{\"type\":\"choropleth\",\"colorbar\":{\"outlinewidth\":0,\"ticks\":\"\"}}],\"histogram2d\":[{\"type\":\"histogram2d\",\"colorbar\":{\"outlinewidth\":0,\"ticks\":\"\"},\"colorscale\":[[0.0,\"#0d0887\"],[0.1111111111111111,\"#46039f\"],[0.2222222222222222,\"#7201a8\"],[0.3333333333333333,\"#9c179e\"],[0.4444444444444444,\"#bd3786\"],[0.5555555555555556,\"#d8576b\"],[0.6666666666666666,\"#ed7953\"],[0.7777777777777778,\"#fb9f3a\"],[0.8888888888888888,\"#fdca26\"],[1.0,\"#f0f921\"]]}],\"heatmap\":[{\"type\":\"heatmap\",\"colorbar\":{\"outlinewidth\":0,\"ticks\":\"\"},\"colorscale\":[[0.0,\"#0d0887\"],[0.1111111111111111,\"#46039f\"],[0.2222222222222222,\"#7201a8\"],[0.3333333333333333,\"#9c179e\"],[0.4444444444444444,\"#bd3786\"],[0.5555555555555556,\"#d8576b\"],[0.6666666666666666,\"#ed7953\"],[0.7777777777777778,\"#fb9f3a\"],[0.8888888888888888,\"#fdca26\"],[1.0,\"#f0f921\"]]}],\"heatmapgl\":[{\"type\":\"heatmapgl\",\"colorbar\":{\"outlinewidth\":0,\"ticks\":\"\"},\"colorscale\":[[0.0,\"#0d0887\"],[0.1111111111111111,\"#46039f\"],[0.2222222222222222,\"#7201a8\"],[0.3333333333333333,\"#9c179e\"],[0.4444444444444444,\"#bd3786\"],[0.5555555555555556,\"#d8576b\"],[0.6666666666666666,\"#ed7953\"],[0.7777777777777778,\"#fb9f3a\"],[0.8888888888888888,\"#fdca26\"],[1.0,\"#f0f921\"]]}],\"contourcarpet\":[{\"type\":\"contourcarpet\",\"colorbar\":{\"outlinewidth\":0,\"ticks\":\"\"}}],\"contour\":[{\"type\":\"contour\",\"colorbar\":{\"outlinewidth\":0,\"ticks\":\"\"},\"colorscale\":[[0.0,\"#0d0887\"],[0.1111111111111111,\"#46039f\"],[0.2222222222222222,\"#7201a8\"],[0.3333333333333333,\"#9c179e\"],[0.4444444444444444,\"#bd3786\"],[0.5555555555555556,\"#d8576b\"],[0.6666666666666666,\"#ed7953\"],[0.7777777777777778,\"#fb9f3a\"],[0.8888888888888888,\"#fdca26\"],[1.0,\"#f0f921\"]]}],\"surface\":[{\"type\":\"surface\",\"colorbar\":{\"outlinewidth\":0,\"ticks\":\"\"},\"colorscale\":[[0.0,\"#0d0887\"],[0.1111111111111111,\"#46039f\"],[0.2222222222222222,\"#7201a8\"],[0.3333333333333333,\"#9c179e\"],[0.4444444444444444,\"#bd3786\"],[0.5555555555555556,\"#d8576b\"],[0.6666666666666666,\"#ed7953\"],[0.7777777777777778,\"#fb9f3a\"],[0.8888888888888888,\"#fdca26\"],[1.0,\"#f0f921\"]]}],\"mesh3d\":[{\"type\":\"mesh3d\",\"colorbar\":{\"outlinewidth\":0,\"ticks\":\"\"}}],\"scatter\":[{\"fillpattern\":{\"fillmode\":\"overlay\",\"size\":10,\"solidity\":0.2},\"type\":\"scatter\"}],\"parcoords\":[{\"type\":\"parcoords\",\"line\":{\"colorbar\":{\"outlinewidth\":0,\"ticks\":\"\"}}}],\"scatterpolargl\":[{\"type\":\"scatterpolargl\",\"marker\":{\"colorbar\":{\"outlinewidth\":0,\"ticks\":\"\"}}}],\"bar\":[{\"error_x\":{\"color\":\"#2a3f5f\"},\"error_y\":{\"color\":\"#2a3f5f\"},\"marker\":{\"line\":{\"color\":\"#E5ECF6\",\"width\":0.5},\"pattern\":{\"fillmode\":\"overlay\",\"size\":10,\"solidity\":0.2}},\"type\":\"bar\"}],\"scattergeo\":[{\"type\":\"scattergeo\",\"marker\":{\"colorbar\":{\"outlinewidth\":0,\"ticks\":\"\"}}}],\"scatterpolar\":[{\"type\":\"scatterpolar\",\"marker\":{\"colorbar\":{\"outlinewidth\":0,\"ticks\":\"\"}}}],\"histogram\":[{\"marker\":{\"pattern\":{\"fillmode\":\"overlay\",\"size\":10,\"solidity\":0.2}},\"type\":\"histogram\"}],\"scattergl\":[{\"type\":\"scattergl\",\"marker\":{\"colorbar\":{\"outlinewidth\":0,\"ticks\":\"\"}}}],\"scatter3d\":[{\"type\":\"scatter3d\",\"line\":{\"colorbar\":{\"outlinewidth\":0,\"ticks\":\"\"}},\"marker\":{\"colorbar\":{\"outlinewidth\":0,\"ticks\":\"\"}}}],\"scattermapbox\":[{\"type\":\"scattermapbox\",\"marker\":{\"colorbar\":{\"outlinewidth\":0,\"ticks\":\"\"}}}],\"scatterternary\":[{\"type\":\"scatterternary\",\"marker\":{\"colorbar\":{\"outlinewidth\":0,\"ticks\":\"\"}}}],\"scattercarpet\":[{\"type\":\"scattercarpet\",\"marker\":{\"colorbar\":{\"outlinewidth\":0,\"ticks\":\"\"}}}],\"carpet\":[{\"aaxis\":{\"endlinecolor\":\"#2a3f5f\",\"gridcolor\":\"white\",\"linecolor\":\"white\",\"minorgridcolor\":\"white\",\"startlinecolor\":\"#2a3f5f\"},\"baxis\":{\"endlinecolor\":\"#2a3f5f\",\"gridcolor\":\"white\",\"linecolor\":\"white\",\"minorgridcolor\":\"white\",\"startlinecolor\":\"#2a3f5f\"},\"type\":\"carpet\"}],\"table\":[{\"cells\":{\"fill\":{\"color\":\"#EBF0F8\"},\"line\":{\"color\":\"white\"}},\"header\":{\"fill\":{\"color\":\"#C8D4E3\"},\"line\":{\"color\":\"white\"}},\"type\":\"table\"}],\"barpolar\":[{\"marker\":{\"line\":{\"color\":\"#E5ECF6\",\"width\":0.5},\"pattern\":{\"fillmode\":\"overlay\",\"size\":10,\"solidity\":0.2}},\"type\":\"barpolar\"}],\"pie\":[{\"automargin\":true,\"type\":\"pie\"}]},\"layout\":{\"autotypenumbers\":\"strict\",\"colorway\":[\"#636efa\",\"#EF553B\",\"#00cc96\",\"#ab63fa\",\"#FFA15A\",\"#19d3f3\",\"#FF6692\",\"#B6E880\",\"#FF97FF\",\"#FECB52\"],\"font\":{\"color\":\"#2a3f5f\"},\"hovermode\":\"closest\",\"hoverlabel\":{\"align\":\"left\"},\"paper_bgcolor\":\"white\",\"plot_bgcolor\":\"#E5ECF6\",\"polar\":{\"bgcolor\":\"#E5ECF6\",\"angularaxis\":{\"gridcolor\":\"white\",\"linecolor\":\"white\",\"ticks\":\"\"},\"radialaxis\":{\"gridcolor\":\"white\",\"linecolor\":\"white\",\"ticks\":\"\"}},\"ternary\":{\"bgcolor\":\"#E5ECF6\",\"aaxis\":{\"gridcolor\":\"white\",\"linecolor\":\"white\",\"ticks\":\"\"},\"baxis\":{\"gridcolor\":\"white\",\"linecolor\":\"white\",\"ticks\":\"\"},\"caxis\":{\"gridcolor\":\"white\",\"linecolor\":\"white\",\"ticks\":\"\"}},\"coloraxis\":{\"colorbar\":{\"outlinewidth\":0,\"ticks\":\"\"}},\"colorscale\":{\"sequential\":[[0.0,\"#0d0887\"],[0.1111111111111111,\"#46039f\"],[0.2222222222222222,\"#7201a8\"],[0.3333333333333333,\"#9c179e\"],[0.4444444444444444,\"#bd3786\"],[0.5555555555555556,\"#d8576b\"],[0.6666666666666666,\"#ed7953\"],[0.7777777777777778,\"#fb9f3a\"],[0.8888888888888888,\"#fdca26\"],[1.0,\"#f0f921\"]],\"sequentialminus\":[[0.0,\"#0d0887\"],[0.1111111111111111,\"#46039f\"],[0.2222222222222222,\"#7201a8\"],[0.3333333333333333,\"#9c179e\"],[0.4444444444444444,\"#bd3786\"],[0.5555555555555556,\"#d8576b\"],[0.6666666666666666,\"#ed7953\"],[0.7777777777777778,\"#fb9f3a\"],[0.8888888888888888,\"#fdca26\"],[1.0,\"#f0f921\"]],\"diverging\":[[0,\"#8e0152\"],[0.1,\"#c51b7d\"],[0.2,\"#de77ae\"],[0.3,\"#f1b6da\"],[0.4,\"#fde0ef\"],[0.5,\"#f7f7f7\"],[0.6,\"#e6f5d0\"],[0.7,\"#b8e186\"],[0.8,\"#7fbc41\"],[0.9,\"#4d9221\"],[1,\"#276419\"]]},\"xaxis\":{\"gridcolor\":\"white\",\"linecolor\":\"white\",\"ticks\":\"\",\"title\":{\"standoff\":15},\"zerolinecolor\":\"white\",\"automargin\":true,\"zerolinewidth\":2},\"yaxis\":{\"gridcolor\":\"white\",\"linecolor\":\"white\",\"ticks\":\"\",\"title\":{\"standoff\":15},\"zerolinecolor\":\"white\",\"automargin\":true,\"zerolinewidth\":2},\"scene\":{\"xaxis\":{\"backgroundcolor\":\"#E5ECF6\",\"gridcolor\":\"white\",\"linecolor\":\"white\",\"showbackground\":true,\"ticks\":\"\",\"zerolinecolor\":\"white\",\"gridwidth\":2},\"yaxis\":{\"backgroundcolor\":\"#E5ECF6\",\"gridcolor\":\"white\",\"linecolor\":\"white\",\"showbackground\":true,\"ticks\":\"\",\"zerolinecolor\":\"white\",\"gridwidth\":2},\"zaxis\":{\"backgroundcolor\":\"#E5ECF6\",\"gridcolor\":\"white\",\"linecolor\":\"white\",\"showbackground\":true,\"ticks\":\"\",\"zerolinecolor\":\"white\",\"gridwidth\":2}},\"shapedefaults\":{\"line\":{\"color\":\"#2a3f5f\"}},\"annotationdefaults\":{\"arrowcolor\":\"#2a3f5f\",\"arrowhead\":0,\"arrowwidth\":1},\"geo\":{\"bgcolor\":\"white\",\"landcolor\":\"#E5ECF6\",\"subunitcolor\":\"white\",\"showland\":true,\"showlakes\":true,\"lakecolor\":\"white\"},\"title\":{\"x\":0.05},\"mapbox\":{\"style\":\"light\"}}},\"xaxis\":{\"anchor\":\"y\",\"domain\":[0.0,1.0],\"title\":{\"text\":\"Months\"}},\"yaxis\":{\"anchor\":\"x\",\"domain\":[0.0,1.0],\"title\":{\"text\":\"No. of Rides\"},\"range\":[0,450000]},\"legend\":{\"title\":{\"text\":\"User Type\"},\"tracegroupgap\":0},\"margin\":{\"t\":60},\"title\":{\"font\":{\"size\":18},\"text\":\"Monthly Trips from (May 2022 - Apr 2023)\",\"automargin\":true,\"yref\":\"paper\"}},                        {\"responsive\": true}                    ).then(function(){\n",
       "                            \n",
       "var gd = document.getElementById('d20c09af-8313-4706-b998-d1380ee0ce46');\n",
       "var x = new MutationObserver(function (mutations, observer) {{\n",
       "        var display = window.getComputedStyle(gd).display;\n",
       "        if (!display || display === 'none') {{\n",
       "            console.log([gd, 'removed!']);\n",
       "            Plotly.purge(gd);\n",
       "            observer.disconnect();\n",
       "        }}\n",
       "}});\n",
       "\n",
       "// Listen for the removal of the full notebook cells\n",
       "var notebookContainer = gd.closest('#notebook-container');\n",
       "if (notebookContainer) {{\n",
       "    x.observe(notebookContainer, {childList: true});\n",
       "}}\n",
       "\n",
       "// Listen for the clearing of the current output cell\n",
       "var outputEl = gd.closest('.output');\n",
       "if (outputEl) {{\n",
       "    x.observe(outputEl, {childList: true});\n",
       "}}\n",
       "\n",
       "                        })                };                });            </script>        </div>"
      ]
     },
     "metadata": {},
     "output_type": "display_data"
    }
   ],
   "source": [
    "df_pv5 = cyc_data_combined.groupby(['year', 'month', 'member_casual'], as_index=False).count()\n",
    "df_pv5 = df_pv5[df_pv5['ride_id'] != 0]\n",
    "\n",
    "fig_3 = px.line(df_pv5, x = 'month', y = 'ride_id', range_y = [0,450000],\n",
    "        color = 'member_casual', \n",
    "        line_shape = 'spline',\n",
    "        markers=True, \n",
    "        labels = {'ride_id': 'No. of Rides', 'month': 'Months', 'member_casual': 'User Type'},\n",
    "        hover_name = 'member_casual', hover_data = {'member_casual': False, 'month': True, 'year':True, 'ride_id': True}, \n",
    "        color_discrete_map = {'casual': '#FF934F', 'member': '#058ED9'})\n",
    "fig_3.update_layout(\n",
    "    title=dict(text=\"Monthly Trips from (May 2022 - Apr 2023)\",font=dict(size=18), automargin=True, yref='paper')\n",
    ")"
   ]
  },
  {
   "cell_type": "markdown",
   "id": "52356633",
   "metadata": {
    "papermill": {
     "duration": 0.062711,
     "end_time": "2023-06-14T21:22:20.955148",
     "exception": false,
     "start_time": "2023-06-14T21:22:20.892437",
     "status": "completed"
    },
    "tags": []
   },
   "source": [
    "__Fig. 3__ - Total trips taken in a monthly basis among casual riders and members. On average, both casual riders and members increase bike usage in summer and spring months. "
   ]
  },
  {
   "cell_type": "code",
   "execution_count": 43,
   "id": "9b1b5e77",
   "metadata": {
    "execution": {
     "iopub.execute_input": "2023-06-14T21:22:21.084878Z",
     "iopub.status.busy": "2023-06-14T21:22:21.084364Z",
     "iopub.status.idle": "2023-06-14T21:22:23.261558Z",
     "shell.execute_reply": "2023-06-14T21:22:23.260404Z"
    },
    "papermill": {
     "duration": 2.245739,
     "end_time": "2023-06-14T21:22:23.263997",
     "exception": false,
     "start_time": "2023-06-14T21:22:21.018258",
     "status": "completed"
    },
    "tags": []
   },
   "outputs": [
    {
     "data": {
      "text/html": [
       "<div>\n",
       "<style scoped>\n",
       "    .dataframe tbody tr th:only-of-type {\n",
       "        vertical-align: middle;\n",
       "    }\n",
       "\n",
       "    .dataframe tbody tr th {\n",
       "        vertical-align: top;\n",
       "    }\n",
       "\n",
       "    .dataframe thead tr th {\n",
       "        text-align: left;\n",
       "    }\n",
       "\n",
       "    .dataframe thead tr:last-of-type th {\n",
       "        text-align: right;\n",
       "    }\n",
       "</style>\n",
       "<table border=\"1\" class=\"dataframe\">\n",
       "  <thead>\n",
       "    <tr>\n",
       "      <th></th>\n",
       "      <th></th>\n",
       "      <th>count</th>\n",
       "    </tr>\n",
       "    <tr>\n",
       "      <th></th>\n",
       "      <th></th>\n",
       "      <th>ride_id</th>\n",
       "    </tr>\n",
       "    <tr>\n",
       "      <th>season</th>\n",
       "      <th>member_casual</th>\n",
       "      <th></th>\n",
       "    </tr>\n",
       "  </thead>\n",
       "  <tbody>\n",
       "    <tr>\n",
       "      <th rowspan=\"2\" valign=\"top\">Autumn</th>\n",
       "      <th>casual</th>\n",
       "      <td>438716</td>\n",
       "    </tr>\n",
       "    <tr>\n",
       "      <th>member</th>\n",
       "      <td>744070</td>\n",
       "    </tr>\n",
       "    <tr>\n",
       "      <th rowspan=\"2\" valign=\"top\">Spring</th>\n",
       "      <th>casual</th>\n",
       "      <td>370840</td>\n",
       "    </tr>\n",
       "    <tr>\n",
       "      <th>member</th>\n",
       "      <td>632731</td>\n",
       "    </tr>\n",
       "    <tr>\n",
       "      <th rowspan=\"2\" valign=\"top\">Summer</th>\n",
       "      <th>casual</th>\n",
       "      <td>859913</td>\n",
       "    </tr>\n",
       "    <tr>\n",
       "      <th>member</th>\n",
       "      <td>975140</td>\n",
       "    </tr>\n",
       "    <tr>\n",
       "      <th rowspan=\"2\" valign=\"top\">Winter</th>\n",
       "      <th>casual</th>\n",
       "      <td>92209</td>\n",
       "    </tr>\n",
       "    <tr>\n",
       "      <th>member</th>\n",
       "      <td>330963</td>\n",
       "    </tr>\n",
       "  </tbody>\n",
       "</table>\n",
       "</div>"
      ],
      "text/plain": [
       "                       count\n",
       "                     ride_id\n",
       "season member_casual        \n",
       "Autumn casual         438716\n",
       "       member         744070\n",
       "Spring casual         370840\n",
       "       member         632731\n",
       "Summer casual         859913\n",
       "       member         975140\n",
       "Winter casual          92209\n",
       "       member         330963"
      ]
     },
     "execution_count": 43,
     "metadata": {},
     "output_type": "execute_result"
    }
   ],
   "source": [
    "df_pv6a = pd.pivot_table(cyc_data_combined,\n",
    "              index = ['season', 'member_casual'],\n",
    "              values = 'ride_id',\n",
    "              aggfunc = ['count'],\n",
    "              margins = False,\n",
    "              margins_name = 'Total Count')\n",
    "df_pv6a"
   ]
  },
  {
   "cell_type": "code",
   "execution_count": 44,
   "id": "4219bb2f",
   "metadata": {
    "execution": {
     "iopub.execute_input": "2023-06-14T21:22:23.393388Z",
     "iopub.status.busy": "2023-06-14T21:22:23.392573Z",
     "iopub.status.idle": "2023-06-14T21:22:32.741409Z",
     "shell.execute_reply": "2023-06-14T21:22:32.740258Z"
    },
    "papermill": {
     "duration": 9.416577,
     "end_time": "2023-06-14T21:22:32.743715",
     "exception": false,
     "start_time": "2023-06-14T21:22:23.327138",
     "status": "completed"
    },
    "tags": []
   },
   "outputs": [
    {
     "data": {
      "application/vnd.plotly.v1+json": {
       "config": {
        "plotlyServerURL": "https://plot.ly"
       },
       "data": [
        {
         "alignmentgroup": "True",
         "customdata": [
          [
           "casual"
          ],
          [
           "casual"
          ],
          [
           "casual"
          ],
          [
           "casual"
          ]
         ],
         "hovertemplate": "<b>%{hovertext}</b><br><br>User Type=%{customdata[0]}<br>Season=%{x}<br>No. of Rides=%{text}<extra></extra>",
         "hovertext": [
          "casual",
          "casual",
          "casual",
          "casual"
         ],
         "legendgroup": "casual",
         "marker": {
          "color": "#FF934F",
          "pattern": {
           "shape": ""
          }
         },
         "name": "casual",
         "offsetgroup": "casual",
         "orientation": "v",
         "showlegend": true,
         "text": [
          438716.0,
          370840.0,
          859913.0,
          92209.0
         ],
         "textposition": "auto",
         "type": "bar",
         "x": [
          "Autumn",
          "Spring",
          "Summer",
          "Winter"
         ],
         "xaxis": "x",
         "y": [
          438716,
          370840,
          859913,
          92209
         ],
         "yaxis": "y"
        },
        {
         "alignmentgroup": "True",
         "customdata": [
          [
           "member"
          ],
          [
           "member"
          ],
          [
           "member"
          ],
          [
           "member"
          ]
         ],
         "hovertemplate": "<b>%{hovertext}</b><br><br>User Type=%{customdata[0]}<br>Season=%{x}<br>No. of Rides=%{text}<extra></extra>",
         "hovertext": [
          "member",
          "member",
          "member",
          "member"
         ],
         "legendgroup": "member",
         "marker": {
          "color": "#058ED9",
          "pattern": {
           "shape": ""
          }
         },
         "name": "member",
         "offsetgroup": "member",
         "orientation": "v",
         "showlegend": true,
         "text": [
          744070.0,
          632731.0,
          975140.0,
          330963.0
         ],
         "textposition": "auto",
         "type": "bar",
         "x": [
          "Autumn",
          "Spring",
          "Summer",
          "Winter"
         ],
         "xaxis": "x",
         "y": [
          744070,
          632731,
          975140,
          330963
         ],
         "yaxis": "y"
        }
       ],
       "layout": {
        "barmode": "group",
        "legend": {
         "title": {
          "text": "User Type"
         },
         "tracegroupgap": 0
        },
        "margin": {
         "t": 60
        },
        "template": {
         "data": {
          "bar": [
           {
            "error_x": {
             "color": "#2a3f5f"
            },
            "error_y": {
             "color": "#2a3f5f"
            },
            "marker": {
             "line": {
              "color": "#E5ECF6",
              "width": 0.5
             },
             "pattern": {
              "fillmode": "overlay",
              "size": 10,
              "solidity": 0.2
             }
            },
            "type": "bar"
           }
          ],
          "barpolar": [
           {
            "marker": {
             "line": {
              "color": "#E5ECF6",
              "width": 0.5
             },
             "pattern": {
              "fillmode": "overlay",
              "size": 10,
              "solidity": 0.2
             }
            },
            "type": "barpolar"
           }
          ],
          "carpet": [
           {
            "aaxis": {
             "endlinecolor": "#2a3f5f",
             "gridcolor": "white",
             "linecolor": "white",
             "minorgridcolor": "white",
             "startlinecolor": "#2a3f5f"
            },
            "baxis": {
             "endlinecolor": "#2a3f5f",
             "gridcolor": "white",
             "linecolor": "white",
             "minorgridcolor": "white",
             "startlinecolor": "#2a3f5f"
            },
            "type": "carpet"
           }
          ],
          "choropleth": [
           {
            "colorbar": {
             "outlinewidth": 0,
             "ticks": ""
            },
            "type": "choropleth"
           }
          ],
          "contour": [
           {
            "colorbar": {
             "outlinewidth": 0,
             "ticks": ""
            },
            "colorscale": [
             [
              0.0,
              "#0d0887"
             ],
             [
              0.1111111111111111,
              "#46039f"
             ],
             [
              0.2222222222222222,
              "#7201a8"
             ],
             [
              0.3333333333333333,
              "#9c179e"
             ],
             [
              0.4444444444444444,
              "#bd3786"
             ],
             [
              0.5555555555555556,
              "#d8576b"
             ],
             [
              0.6666666666666666,
              "#ed7953"
             ],
             [
              0.7777777777777778,
              "#fb9f3a"
             ],
             [
              0.8888888888888888,
              "#fdca26"
             ],
             [
              1.0,
              "#f0f921"
             ]
            ],
            "type": "contour"
           }
          ],
          "contourcarpet": [
           {
            "colorbar": {
             "outlinewidth": 0,
             "ticks": ""
            },
            "type": "contourcarpet"
           }
          ],
          "heatmap": [
           {
            "colorbar": {
             "outlinewidth": 0,
             "ticks": ""
            },
            "colorscale": [
             [
              0.0,
              "#0d0887"
             ],
             [
              0.1111111111111111,
              "#46039f"
             ],
             [
              0.2222222222222222,
              "#7201a8"
             ],
             [
              0.3333333333333333,
              "#9c179e"
             ],
             [
              0.4444444444444444,
              "#bd3786"
             ],
             [
              0.5555555555555556,
              "#d8576b"
             ],
             [
              0.6666666666666666,
              "#ed7953"
             ],
             [
              0.7777777777777778,
              "#fb9f3a"
             ],
             [
              0.8888888888888888,
              "#fdca26"
             ],
             [
              1.0,
              "#f0f921"
             ]
            ],
            "type": "heatmap"
           }
          ],
          "heatmapgl": [
           {
            "colorbar": {
             "outlinewidth": 0,
             "ticks": ""
            },
            "colorscale": [
             [
              0.0,
              "#0d0887"
             ],
             [
              0.1111111111111111,
              "#46039f"
             ],
             [
              0.2222222222222222,
              "#7201a8"
             ],
             [
              0.3333333333333333,
              "#9c179e"
             ],
             [
              0.4444444444444444,
              "#bd3786"
             ],
             [
              0.5555555555555556,
              "#d8576b"
             ],
             [
              0.6666666666666666,
              "#ed7953"
             ],
             [
              0.7777777777777778,
              "#fb9f3a"
             ],
             [
              0.8888888888888888,
              "#fdca26"
             ],
             [
              1.0,
              "#f0f921"
             ]
            ],
            "type": "heatmapgl"
           }
          ],
          "histogram": [
           {
            "marker": {
             "pattern": {
              "fillmode": "overlay",
              "size": 10,
              "solidity": 0.2
             }
            },
            "type": "histogram"
           }
          ],
          "histogram2d": [
           {
            "colorbar": {
             "outlinewidth": 0,
             "ticks": ""
            },
            "colorscale": [
             [
              0.0,
              "#0d0887"
             ],
             [
              0.1111111111111111,
              "#46039f"
             ],
             [
              0.2222222222222222,
              "#7201a8"
             ],
             [
              0.3333333333333333,
              "#9c179e"
             ],
             [
              0.4444444444444444,
              "#bd3786"
             ],
             [
              0.5555555555555556,
              "#d8576b"
             ],
             [
              0.6666666666666666,
              "#ed7953"
             ],
             [
              0.7777777777777778,
              "#fb9f3a"
             ],
             [
              0.8888888888888888,
              "#fdca26"
             ],
             [
              1.0,
              "#f0f921"
             ]
            ],
            "type": "histogram2d"
           }
          ],
          "histogram2dcontour": [
           {
            "colorbar": {
             "outlinewidth": 0,
             "ticks": ""
            },
            "colorscale": [
             [
              0.0,
              "#0d0887"
             ],
             [
              0.1111111111111111,
              "#46039f"
             ],
             [
              0.2222222222222222,
              "#7201a8"
             ],
             [
              0.3333333333333333,
              "#9c179e"
             ],
             [
              0.4444444444444444,
              "#bd3786"
             ],
             [
              0.5555555555555556,
              "#d8576b"
             ],
             [
              0.6666666666666666,
              "#ed7953"
             ],
             [
              0.7777777777777778,
              "#fb9f3a"
             ],
             [
              0.8888888888888888,
              "#fdca26"
             ],
             [
              1.0,
              "#f0f921"
             ]
            ],
            "type": "histogram2dcontour"
           }
          ],
          "mesh3d": [
           {
            "colorbar": {
             "outlinewidth": 0,
             "ticks": ""
            },
            "type": "mesh3d"
           }
          ],
          "parcoords": [
           {
            "line": {
             "colorbar": {
              "outlinewidth": 0,
              "ticks": ""
             }
            },
            "type": "parcoords"
           }
          ],
          "pie": [
           {
            "automargin": true,
            "type": "pie"
           }
          ],
          "scatter": [
           {
            "fillpattern": {
             "fillmode": "overlay",
             "size": 10,
             "solidity": 0.2
            },
            "type": "scatter"
           }
          ],
          "scatter3d": [
           {
            "line": {
             "colorbar": {
              "outlinewidth": 0,
              "ticks": ""
             }
            },
            "marker": {
             "colorbar": {
              "outlinewidth": 0,
              "ticks": ""
             }
            },
            "type": "scatter3d"
           }
          ],
          "scattercarpet": [
           {
            "marker": {
             "colorbar": {
              "outlinewidth": 0,
              "ticks": ""
             }
            },
            "type": "scattercarpet"
           }
          ],
          "scattergeo": [
           {
            "marker": {
             "colorbar": {
              "outlinewidth": 0,
              "ticks": ""
             }
            },
            "type": "scattergeo"
           }
          ],
          "scattergl": [
           {
            "marker": {
             "colorbar": {
              "outlinewidth": 0,
              "ticks": ""
             }
            },
            "type": "scattergl"
           }
          ],
          "scattermapbox": [
           {
            "marker": {
             "colorbar": {
              "outlinewidth": 0,
              "ticks": ""
             }
            },
            "type": "scattermapbox"
           }
          ],
          "scatterpolar": [
           {
            "marker": {
             "colorbar": {
              "outlinewidth": 0,
              "ticks": ""
             }
            },
            "type": "scatterpolar"
           }
          ],
          "scatterpolargl": [
           {
            "marker": {
             "colorbar": {
              "outlinewidth": 0,
              "ticks": ""
             }
            },
            "type": "scatterpolargl"
           }
          ],
          "scatterternary": [
           {
            "marker": {
             "colorbar": {
              "outlinewidth": 0,
              "ticks": ""
             }
            },
            "type": "scatterternary"
           }
          ],
          "surface": [
           {
            "colorbar": {
             "outlinewidth": 0,
             "ticks": ""
            },
            "colorscale": [
             [
              0.0,
              "#0d0887"
             ],
             [
              0.1111111111111111,
              "#46039f"
             ],
             [
              0.2222222222222222,
              "#7201a8"
             ],
             [
              0.3333333333333333,
              "#9c179e"
             ],
             [
              0.4444444444444444,
              "#bd3786"
             ],
             [
              0.5555555555555556,
              "#d8576b"
             ],
             [
              0.6666666666666666,
              "#ed7953"
             ],
             [
              0.7777777777777778,
              "#fb9f3a"
             ],
             [
              0.8888888888888888,
              "#fdca26"
             ],
             [
              1.0,
              "#f0f921"
             ]
            ],
            "type": "surface"
           }
          ],
          "table": [
           {
            "cells": {
             "fill": {
              "color": "#EBF0F8"
             },
             "line": {
              "color": "white"
             }
            },
            "header": {
             "fill": {
              "color": "#C8D4E3"
             },
             "line": {
              "color": "white"
             }
            },
            "type": "table"
           }
          ]
         },
         "layout": {
          "annotationdefaults": {
           "arrowcolor": "#2a3f5f",
           "arrowhead": 0,
           "arrowwidth": 1
          },
          "autotypenumbers": "strict",
          "coloraxis": {
           "colorbar": {
            "outlinewidth": 0,
            "ticks": ""
           }
          },
          "colorscale": {
           "diverging": [
            [
             0,
             "#8e0152"
            ],
            [
             0.1,
             "#c51b7d"
            ],
            [
             0.2,
             "#de77ae"
            ],
            [
             0.3,
             "#f1b6da"
            ],
            [
             0.4,
             "#fde0ef"
            ],
            [
             0.5,
             "#f7f7f7"
            ],
            [
             0.6,
             "#e6f5d0"
            ],
            [
             0.7,
             "#b8e186"
            ],
            [
             0.8,
             "#7fbc41"
            ],
            [
             0.9,
             "#4d9221"
            ],
            [
             1,
             "#276419"
            ]
           ],
           "sequential": [
            [
             0.0,
             "#0d0887"
            ],
            [
             0.1111111111111111,
             "#46039f"
            ],
            [
             0.2222222222222222,
             "#7201a8"
            ],
            [
             0.3333333333333333,
             "#9c179e"
            ],
            [
             0.4444444444444444,
             "#bd3786"
            ],
            [
             0.5555555555555556,
             "#d8576b"
            ],
            [
             0.6666666666666666,
             "#ed7953"
            ],
            [
             0.7777777777777778,
             "#fb9f3a"
            ],
            [
             0.8888888888888888,
             "#fdca26"
            ],
            [
             1.0,
             "#f0f921"
            ]
           ],
           "sequentialminus": [
            [
             0.0,
             "#0d0887"
            ],
            [
             0.1111111111111111,
             "#46039f"
            ],
            [
             0.2222222222222222,
             "#7201a8"
            ],
            [
             0.3333333333333333,
             "#9c179e"
            ],
            [
             0.4444444444444444,
             "#bd3786"
            ],
            [
             0.5555555555555556,
             "#d8576b"
            ],
            [
             0.6666666666666666,
             "#ed7953"
            ],
            [
             0.7777777777777778,
             "#fb9f3a"
            ],
            [
             0.8888888888888888,
             "#fdca26"
            ],
            [
             1.0,
             "#f0f921"
            ]
           ]
          },
          "colorway": [
           "#636efa",
           "#EF553B",
           "#00cc96",
           "#ab63fa",
           "#FFA15A",
           "#19d3f3",
           "#FF6692",
           "#B6E880",
           "#FF97FF",
           "#FECB52"
          ],
          "font": {
           "color": "#2a3f5f"
          },
          "geo": {
           "bgcolor": "white",
           "lakecolor": "white",
           "landcolor": "#E5ECF6",
           "showlakes": true,
           "showland": true,
           "subunitcolor": "white"
          },
          "hoverlabel": {
           "align": "left"
          },
          "hovermode": "closest",
          "mapbox": {
           "style": "light"
          },
          "paper_bgcolor": "white",
          "plot_bgcolor": "#E5ECF6",
          "polar": {
           "angularaxis": {
            "gridcolor": "white",
            "linecolor": "white",
            "ticks": ""
           },
           "bgcolor": "#E5ECF6",
           "radialaxis": {
            "gridcolor": "white",
            "linecolor": "white",
            "ticks": ""
           }
          },
          "scene": {
           "xaxis": {
            "backgroundcolor": "#E5ECF6",
            "gridcolor": "white",
            "gridwidth": 2,
            "linecolor": "white",
            "showbackground": true,
            "ticks": "",
            "zerolinecolor": "white"
           },
           "yaxis": {
            "backgroundcolor": "#E5ECF6",
            "gridcolor": "white",
            "gridwidth": 2,
            "linecolor": "white",
            "showbackground": true,
            "ticks": "",
            "zerolinecolor": "white"
           },
           "zaxis": {
            "backgroundcolor": "#E5ECF6",
            "gridcolor": "white",
            "gridwidth": 2,
            "linecolor": "white",
            "showbackground": true,
            "ticks": "",
            "zerolinecolor": "white"
           }
          },
          "shapedefaults": {
           "line": {
            "color": "#2a3f5f"
           }
          },
          "ternary": {
           "aaxis": {
            "gridcolor": "white",
            "linecolor": "white",
            "ticks": ""
           },
           "baxis": {
            "gridcolor": "white",
            "linecolor": "white",
            "ticks": ""
           },
           "bgcolor": "#E5ECF6",
           "caxis": {
            "gridcolor": "white",
            "linecolor": "white",
            "ticks": ""
           }
          },
          "title": {
           "x": 0.05
          },
          "xaxis": {
           "automargin": true,
           "gridcolor": "white",
           "linecolor": "white",
           "ticks": "",
           "title": {
            "standoff": 15
           },
           "zerolinecolor": "white",
           "zerolinewidth": 2
          },
          "yaxis": {
           "automargin": true,
           "gridcolor": "white",
           "linecolor": "white",
           "ticks": "",
           "title": {
            "standoff": 15
           },
           "zerolinecolor": "white",
           "zerolinewidth": 2
          }
         }
        },
        "title": {
         "automargin": true,
         "font": {
          "size": 18
         },
         "text": "Trips taken by Season",
         "yref": "paper"
        },
        "xaxis": {
         "anchor": "y",
         "domain": [
          0.0,
          1.0
         ],
         "title": {
          "text": "Season"
         }
        },
        "yaxis": {
         "anchor": "x",
         "domain": [
          0.0,
          1.0
         ],
         "title": {
          "text": "No. of Rides"
         }
        }
       }
      },
      "text/html": [
       "<div>                            <div id=\"19c82395-7384-43f2-a799-cd805d4bdba3\" class=\"plotly-graph-div\" style=\"height:525px; width:100%;\"></div>            <script type=\"text/javascript\">                require([\"plotly\"], function(Plotly) {                    window.PLOTLYENV=window.PLOTLYENV || {};                                    if (document.getElementById(\"19c82395-7384-43f2-a799-cd805d4bdba3\")) {                    Plotly.newPlot(                        \"19c82395-7384-43f2-a799-cd805d4bdba3\",                        [{\"alignmentgroup\":\"True\",\"customdata\":[[\"casual\"],[\"casual\"],[\"casual\"],[\"casual\"]],\"hovertemplate\":\"<b>%{hovertext}</b><br><br>User Type=%{customdata[0]}<br>Season=%{x}<br>No. of Rides=%{text}<extra></extra>\",\"hovertext\":[\"casual\",\"casual\",\"casual\",\"casual\"],\"legendgroup\":\"casual\",\"marker\":{\"color\":\"#FF934F\",\"pattern\":{\"shape\":\"\"}},\"name\":\"casual\",\"offsetgroup\":\"casual\",\"orientation\":\"v\",\"showlegend\":true,\"text\":[438716.0,370840.0,859913.0,92209.0],\"textposition\":\"auto\",\"x\":[\"Autumn\",\"Spring\",\"Summer\",\"Winter\"],\"xaxis\":\"x\",\"y\":[438716,370840,859913,92209],\"yaxis\":\"y\",\"type\":\"bar\"},{\"alignmentgroup\":\"True\",\"customdata\":[[\"member\"],[\"member\"],[\"member\"],[\"member\"]],\"hovertemplate\":\"<b>%{hovertext}</b><br><br>User Type=%{customdata[0]}<br>Season=%{x}<br>No. of Rides=%{text}<extra></extra>\",\"hovertext\":[\"member\",\"member\",\"member\",\"member\"],\"legendgroup\":\"member\",\"marker\":{\"color\":\"#058ED9\",\"pattern\":{\"shape\":\"\"}},\"name\":\"member\",\"offsetgroup\":\"member\",\"orientation\":\"v\",\"showlegend\":true,\"text\":[744070.0,632731.0,975140.0,330963.0],\"textposition\":\"auto\",\"x\":[\"Autumn\",\"Spring\",\"Summer\",\"Winter\"],\"xaxis\":\"x\",\"y\":[744070,632731,975140,330963],\"yaxis\":\"y\",\"type\":\"bar\"}],                        {\"template\":{\"data\":{\"histogram2dcontour\":[{\"type\":\"histogram2dcontour\",\"colorbar\":{\"outlinewidth\":0,\"ticks\":\"\"},\"colorscale\":[[0.0,\"#0d0887\"],[0.1111111111111111,\"#46039f\"],[0.2222222222222222,\"#7201a8\"],[0.3333333333333333,\"#9c179e\"],[0.4444444444444444,\"#bd3786\"],[0.5555555555555556,\"#d8576b\"],[0.6666666666666666,\"#ed7953\"],[0.7777777777777778,\"#fb9f3a\"],[0.8888888888888888,\"#fdca26\"],[1.0,\"#f0f921\"]]}],\"choropleth\":[{\"type\":\"choropleth\",\"colorbar\":{\"outlinewidth\":0,\"ticks\":\"\"}}],\"histogram2d\":[{\"type\":\"histogram2d\",\"colorbar\":{\"outlinewidth\":0,\"ticks\":\"\"},\"colorscale\":[[0.0,\"#0d0887\"],[0.1111111111111111,\"#46039f\"],[0.2222222222222222,\"#7201a8\"],[0.3333333333333333,\"#9c179e\"],[0.4444444444444444,\"#bd3786\"],[0.5555555555555556,\"#d8576b\"],[0.6666666666666666,\"#ed7953\"],[0.7777777777777778,\"#fb9f3a\"],[0.8888888888888888,\"#fdca26\"],[1.0,\"#f0f921\"]]}],\"heatmap\":[{\"type\":\"heatmap\",\"colorbar\":{\"outlinewidth\":0,\"ticks\":\"\"},\"colorscale\":[[0.0,\"#0d0887\"],[0.1111111111111111,\"#46039f\"],[0.2222222222222222,\"#7201a8\"],[0.3333333333333333,\"#9c179e\"],[0.4444444444444444,\"#bd3786\"],[0.5555555555555556,\"#d8576b\"],[0.6666666666666666,\"#ed7953\"],[0.7777777777777778,\"#fb9f3a\"],[0.8888888888888888,\"#fdca26\"],[1.0,\"#f0f921\"]]}],\"heatmapgl\":[{\"type\":\"heatmapgl\",\"colorbar\":{\"outlinewidth\":0,\"ticks\":\"\"},\"colorscale\":[[0.0,\"#0d0887\"],[0.1111111111111111,\"#46039f\"],[0.2222222222222222,\"#7201a8\"],[0.3333333333333333,\"#9c179e\"],[0.4444444444444444,\"#bd3786\"],[0.5555555555555556,\"#d8576b\"],[0.6666666666666666,\"#ed7953\"],[0.7777777777777778,\"#fb9f3a\"],[0.8888888888888888,\"#fdca26\"],[1.0,\"#f0f921\"]]}],\"contourcarpet\":[{\"type\":\"contourcarpet\",\"colorbar\":{\"outlinewidth\":0,\"ticks\":\"\"}}],\"contour\":[{\"type\":\"contour\",\"colorbar\":{\"outlinewidth\":0,\"ticks\":\"\"},\"colorscale\":[[0.0,\"#0d0887\"],[0.1111111111111111,\"#46039f\"],[0.2222222222222222,\"#7201a8\"],[0.3333333333333333,\"#9c179e\"],[0.4444444444444444,\"#bd3786\"],[0.5555555555555556,\"#d8576b\"],[0.6666666666666666,\"#ed7953\"],[0.7777777777777778,\"#fb9f3a\"],[0.8888888888888888,\"#fdca26\"],[1.0,\"#f0f921\"]]}],\"surface\":[{\"type\":\"surface\",\"colorbar\":{\"outlinewidth\":0,\"ticks\":\"\"},\"colorscale\":[[0.0,\"#0d0887\"],[0.1111111111111111,\"#46039f\"],[0.2222222222222222,\"#7201a8\"],[0.3333333333333333,\"#9c179e\"],[0.4444444444444444,\"#bd3786\"],[0.5555555555555556,\"#d8576b\"],[0.6666666666666666,\"#ed7953\"],[0.7777777777777778,\"#fb9f3a\"],[0.8888888888888888,\"#fdca26\"],[1.0,\"#f0f921\"]]}],\"mesh3d\":[{\"type\":\"mesh3d\",\"colorbar\":{\"outlinewidth\":0,\"ticks\":\"\"}}],\"scatter\":[{\"fillpattern\":{\"fillmode\":\"overlay\",\"size\":10,\"solidity\":0.2},\"type\":\"scatter\"}],\"parcoords\":[{\"type\":\"parcoords\",\"line\":{\"colorbar\":{\"outlinewidth\":0,\"ticks\":\"\"}}}],\"scatterpolargl\":[{\"type\":\"scatterpolargl\",\"marker\":{\"colorbar\":{\"outlinewidth\":0,\"ticks\":\"\"}}}],\"bar\":[{\"error_x\":{\"color\":\"#2a3f5f\"},\"error_y\":{\"color\":\"#2a3f5f\"},\"marker\":{\"line\":{\"color\":\"#E5ECF6\",\"width\":0.5},\"pattern\":{\"fillmode\":\"overlay\",\"size\":10,\"solidity\":0.2}},\"type\":\"bar\"}],\"scattergeo\":[{\"type\":\"scattergeo\",\"marker\":{\"colorbar\":{\"outlinewidth\":0,\"ticks\":\"\"}}}],\"scatterpolar\":[{\"type\":\"scatterpolar\",\"marker\":{\"colorbar\":{\"outlinewidth\":0,\"ticks\":\"\"}}}],\"histogram\":[{\"marker\":{\"pattern\":{\"fillmode\":\"overlay\",\"size\":10,\"solidity\":0.2}},\"type\":\"histogram\"}],\"scattergl\":[{\"type\":\"scattergl\",\"marker\":{\"colorbar\":{\"outlinewidth\":0,\"ticks\":\"\"}}}],\"scatter3d\":[{\"type\":\"scatter3d\",\"line\":{\"colorbar\":{\"outlinewidth\":0,\"ticks\":\"\"}},\"marker\":{\"colorbar\":{\"outlinewidth\":0,\"ticks\":\"\"}}}],\"scattermapbox\":[{\"type\":\"scattermapbox\",\"marker\":{\"colorbar\":{\"outlinewidth\":0,\"ticks\":\"\"}}}],\"scatterternary\":[{\"type\":\"scatterternary\",\"marker\":{\"colorbar\":{\"outlinewidth\":0,\"ticks\":\"\"}}}],\"scattercarpet\":[{\"type\":\"scattercarpet\",\"marker\":{\"colorbar\":{\"outlinewidth\":0,\"ticks\":\"\"}}}],\"carpet\":[{\"aaxis\":{\"endlinecolor\":\"#2a3f5f\",\"gridcolor\":\"white\",\"linecolor\":\"white\",\"minorgridcolor\":\"white\",\"startlinecolor\":\"#2a3f5f\"},\"baxis\":{\"endlinecolor\":\"#2a3f5f\",\"gridcolor\":\"white\",\"linecolor\":\"white\",\"minorgridcolor\":\"white\",\"startlinecolor\":\"#2a3f5f\"},\"type\":\"carpet\"}],\"table\":[{\"cells\":{\"fill\":{\"color\":\"#EBF0F8\"},\"line\":{\"color\":\"white\"}},\"header\":{\"fill\":{\"color\":\"#C8D4E3\"},\"line\":{\"color\":\"white\"}},\"type\":\"table\"}],\"barpolar\":[{\"marker\":{\"line\":{\"color\":\"#E5ECF6\",\"width\":0.5},\"pattern\":{\"fillmode\":\"overlay\",\"size\":10,\"solidity\":0.2}},\"type\":\"barpolar\"}],\"pie\":[{\"automargin\":true,\"type\":\"pie\"}]},\"layout\":{\"autotypenumbers\":\"strict\",\"colorway\":[\"#636efa\",\"#EF553B\",\"#00cc96\",\"#ab63fa\",\"#FFA15A\",\"#19d3f3\",\"#FF6692\",\"#B6E880\",\"#FF97FF\",\"#FECB52\"],\"font\":{\"color\":\"#2a3f5f\"},\"hovermode\":\"closest\",\"hoverlabel\":{\"align\":\"left\"},\"paper_bgcolor\":\"white\",\"plot_bgcolor\":\"#E5ECF6\",\"polar\":{\"bgcolor\":\"#E5ECF6\",\"angularaxis\":{\"gridcolor\":\"white\",\"linecolor\":\"white\",\"ticks\":\"\"},\"radialaxis\":{\"gridcolor\":\"white\",\"linecolor\":\"white\",\"ticks\":\"\"}},\"ternary\":{\"bgcolor\":\"#E5ECF6\",\"aaxis\":{\"gridcolor\":\"white\",\"linecolor\":\"white\",\"ticks\":\"\"},\"baxis\":{\"gridcolor\":\"white\",\"linecolor\":\"white\",\"ticks\":\"\"},\"caxis\":{\"gridcolor\":\"white\",\"linecolor\":\"white\",\"ticks\":\"\"}},\"coloraxis\":{\"colorbar\":{\"outlinewidth\":0,\"ticks\":\"\"}},\"colorscale\":{\"sequential\":[[0.0,\"#0d0887\"],[0.1111111111111111,\"#46039f\"],[0.2222222222222222,\"#7201a8\"],[0.3333333333333333,\"#9c179e\"],[0.4444444444444444,\"#bd3786\"],[0.5555555555555556,\"#d8576b\"],[0.6666666666666666,\"#ed7953\"],[0.7777777777777778,\"#fb9f3a\"],[0.8888888888888888,\"#fdca26\"],[1.0,\"#f0f921\"]],\"sequentialminus\":[[0.0,\"#0d0887\"],[0.1111111111111111,\"#46039f\"],[0.2222222222222222,\"#7201a8\"],[0.3333333333333333,\"#9c179e\"],[0.4444444444444444,\"#bd3786\"],[0.5555555555555556,\"#d8576b\"],[0.6666666666666666,\"#ed7953\"],[0.7777777777777778,\"#fb9f3a\"],[0.8888888888888888,\"#fdca26\"],[1.0,\"#f0f921\"]],\"diverging\":[[0,\"#8e0152\"],[0.1,\"#c51b7d\"],[0.2,\"#de77ae\"],[0.3,\"#f1b6da\"],[0.4,\"#fde0ef\"],[0.5,\"#f7f7f7\"],[0.6,\"#e6f5d0\"],[0.7,\"#b8e186\"],[0.8,\"#7fbc41\"],[0.9,\"#4d9221\"],[1,\"#276419\"]]},\"xaxis\":{\"gridcolor\":\"white\",\"linecolor\":\"white\",\"ticks\":\"\",\"title\":{\"standoff\":15},\"zerolinecolor\":\"white\",\"automargin\":true,\"zerolinewidth\":2},\"yaxis\":{\"gridcolor\":\"white\",\"linecolor\":\"white\",\"ticks\":\"\",\"title\":{\"standoff\":15},\"zerolinecolor\":\"white\",\"automargin\":true,\"zerolinewidth\":2},\"scene\":{\"xaxis\":{\"backgroundcolor\":\"#E5ECF6\",\"gridcolor\":\"white\",\"linecolor\":\"white\",\"showbackground\":true,\"ticks\":\"\",\"zerolinecolor\":\"white\",\"gridwidth\":2},\"yaxis\":{\"backgroundcolor\":\"#E5ECF6\",\"gridcolor\":\"white\",\"linecolor\":\"white\",\"showbackground\":true,\"ticks\":\"\",\"zerolinecolor\":\"white\",\"gridwidth\":2},\"zaxis\":{\"backgroundcolor\":\"#E5ECF6\",\"gridcolor\":\"white\",\"linecolor\":\"white\",\"showbackground\":true,\"ticks\":\"\",\"zerolinecolor\":\"white\",\"gridwidth\":2}},\"shapedefaults\":{\"line\":{\"color\":\"#2a3f5f\"}},\"annotationdefaults\":{\"arrowcolor\":\"#2a3f5f\",\"arrowhead\":0,\"arrowwidth\":1},\"geo\":{\"bgcolor\":\"white\",\"landcolor\":\"#E5ECF6\",\"subunitcolor\":\"white\",\"showland\":true,\"showlakes\":true,\"lakecolor\":\"white\"},\"title\":{\"x\":0.05},\"mapbox\":{\"style\":\"light\"}}},\"xaxis\":{\"anchor\":\"y\",\"domain\":[0.0,1.0],\"title\":{\"text\":\"Season\"}},\"yaxis\":{\"anchor\":\"x\",\"domain\":[0.0,1.0],\"title\":{\"text\":\"No. of Rides\"}},\"legend\":{\"title\":{\"text\":\"User Type\"},\"tracegroupgap\":0},\"margin\":{\"t\":60},\"barmode\":\"group\",\"title\":{\"font\":{\"size\":18},\"text\":\"Trips taken by Season\",\"automargin\":true,\"yref\":\"paper\"}},                        {\"responsive\": true}                    ).then(function(){\n",
       "                            \n",
       "var gd = document.getElementById('19c82395-7384-43f2-a799-cd805d4bdba3');\n",
       "var x = new MutationObserver(function (mutations, observer) {{\n",
       "        var display = window.getComputedStyle(gd).display;\n",
       "        if (!display || display === 'none') {{\n",
       "            console.log([gd, 'removed!']);\n",
       "            Plotly.purge(gd);\n",
       "            observer.disconnect();\n",
       "        }}\n",
       "}});\n",
       "\n",
       "// Listen for the removal of the full notebook cells\n",
       "var notebookContainer = gd.closest('#notebook-container');\n",
       "if (notebookContainer) {{\n",
       "    x.observe(notebookContainer, {childList: true});\n",
       "}}\n",
       "\n",
       "// Listen for the clearing of the current output cell\n",
       "var outputEl = gd.closest('.output');\n",
       "if (outputEl) {{\n",
       "    x.observe(outputEl, {childList: true});\n",
       "}}\n",
       "\n",
       "                        })                };                });            </script>        </div>"
      ]
     },
     "metadata": {},
     "output_type": "display_data"
    }
   ],
   "source": [
    "df_pv6b = cyc_data_combined.groupby(['season', 'member_casual'], as_index=False).count()\n",
    "\n",
    "fig_3a = px.bar(df_pv6b, x = 'season', y = 'ride_id',\n",
    "        color = 'member_casual',\n",
    "        barmode='group',\n",
    "        text = 'ride_id', \n",
    "        labels = {'ride_id': 'No. of Rides', 'member_casual': 'User Type', 'season' : 'Season'},\n",
    "        hover_name = 'member_casual', hover_data = {'member_casual': True, 'ride_id': True}, \n",
    "        color_discrete_map = {'casual': '#FF934F', 'member': '#058ED9'})\n",
    "fig_3a.update_layout(\n",
    "    title=dict(text=\"Trips taken by Season\",font=dict(size=18), automargin=True, yref='paper')\n",
    ")"
   ]
  },
  {
   "cell_type": "markdown",
   "id": "5879144e",
   "metadata": {
    "papermill": {
     "duration": 0.071571,
     "end_time": "2023-06-14T21:22:32.952444",
     "exception": false,
     "start_time": "2023-06-14T21:22:32.880873",
     "status": "completed"
    },
    "tags": []
   },
   "source": [
    "__Fig.3a__ - See bike usage fluctuations among both casual riders and members. For casual riders see an increase of trips taken in spring, reaching a peak in summer, followed by a gradual decline in autumn into winter.  "
   ]
  },
  {
   "cell_type": "markdown",
   "id": "df7a79ae",
   "metadata": {
    "papermill": {
     "duration": 0.070678,
     "end_time": "2023-06-14T21:22:33.093916",
     "exception": false,
     "start_time": "2023-06-14T21:22:33.023238",
     "status": "completed"
    },
    "tags": []
   },
   "source": [
    "#### <span style='color:#2D8FC5'>Number of Rides per Weekday</span>"
   ]
  },
  {
   "cell_type": "code",
   "execution_count": 45,
   "id": "f7c33801",
   "metadata": {
    "execution": {
     "iopub.execute_input": "2023-06-14T21:22:33.237532Z",
     "iopub.status.busy": "2023-06-14T21:22:33.237111Z",
     "iopub.status.idle": "2023-06-14T21:22:37.214348Z",
     "shell.execute_reply": "2023-06-14T21:22:37.213314Z"
    },
    "papermill": {
     "duration": 4.052163,
     "end_time": "2023-06-14T21:22:37.216812",
     "exception": false,
     "start_time": "2023-06-14T21:22:33.164649",
     "status": "completed"
    },
    "tags": []
   },
   "outputs": [
    {
     "data": {
      "text/html": [
       "<div>\n",
       "<style scoped>\n",
       "    .dataframe tbody tr th:only-of-type {\n",
       "        vertical-align: middle;\n",
       "    }\n",
       "\n",
       "    .dataframe tbody tr th {\n",
       "        vertical-align: top;\n",
       "    }\n",
       "\n",
       "    .dataframe thead tr th {\n",
       "        text-align: left;\n",
       "    }\n",
       "\n",
       "    .dataframe thead tr:last-of-type th {\n",
       "        text-align: right;\n",
       "    }\n",
       "</style>\n",
       "<table border=\"1\" class=\"dataframe\">\n",
       "  <thead>\n",
       "    <tr>\n",
       "      <th></th>\n",
       "      <th></th>\n",
       "      <th>count</th>\n",
       "    </tr>\n",
       "    <tr>\n",
       "      <th></th>\n",
       "      <th></th>\n",
       "      <th>ride_id</th>\n",
       "    </tr>\n",
       "    <tr>\n",
       "      <th>day</th>\n",
       "      <th>member_casual</th>\n",
       "      <th></th>\n",
       "    </tr>\n",
       "  </thead>\n",
       "  <tbody>\n",
       "    <tr>\n",
       "      <th rowspan=\"2\" valign=\"top\">Mon</th>\n",
       "      <th>casual</th>\n",
       "      <td>206818</td>\n",
       "    </tr>\n",
       "    <tr>\n",
       "      <th>member</th>\n",
       "      <td>377612</td>\n",
       "    </tr>\n",
       "    <tr>\n",
       "      <th rowspan=\"2\" valign=\"top\">Tue</th>\n",
       "      <th>casual</th>\n",
       "      <td>200989</td>\n",
       "    </tr>\n",
       "    <tr>\n",
       "      <th>member</th>\n",
       "      <td>424685</td>\n",
       "    </tr>\n",
       "    <tr>\n",
       "      <th rowspan=\"2\" valign=\"top\">Wed</th>\n",
       "      <th>casual</th>\n",
       "      <td>209140</td>\n",
       "    </tr>\n",
       "    <tr>\n",
       "      <th>member</th>\n",
       "      <td>431050</td>\n",
       "    </tr>\n",
       "    <tr>\n",
       "      <th rowspan=\"2\" valign=\"top\">Thu</th>\n",
       "      <th>casual</th>\n",
       "      <td>234211</td>\n",
       "    </tr>\n",
       "    <tr>\n",
       "      <th>member</th>\n",
       "      <td>430168</td>\n",
       "    </tr>\n",
       "    <tr>\n",
       "      <th rowspan=\"2\" valign=\"top\">Fri</th>\n",
       "      <th>casual</th>\n",
       "      <td>257111</td>\n",
       "    </tr>\n",
       "    <tr>\n",
       "      <th>member</th>\n",
       "      <td>376682</td>\n",
       "    </tr>\n",
       "    <tr>\n",
       "      <th rowspan=\"2\" valign=\"top\">Sat</th>\n",
       "      <th>casual</th>\n",
       "      <td>356773</td>\n",
       "    </tr>\n",
       "    <tr>\n",
       "      <th>member</th>\n",
       "      <td>339059</td>\n",
       "    </tr>\n",
       "    <tr>\n",
       "      <th rowspan=\"2\" valign=\"top\">Sun</th>\n",
       "      <th>casual</th>\n",
       "      <td>296636</td>\n",
       "    </tr>\n",
       "    <tr>\n",
       "      <th>member</th>\n",
       "      <td>303648</td>\n",
       "    </tr>\n",
       "    <tr>\n",
       "      <th>Total Count</th>\n",
       "      <th></th>\n",
       "      <td>4444582</td>\n",
       "    </tr>\n",
       "  </tbody>\n",
       "</table>\n",
       "</div>"
      ],
      "text/plain": [
       "                             count\n",
       "                           ride_id\n",
       "day         member_casual         \n",
       "Mon         casual          206818\n",
       "            member          377612\n",
       "Tue         casual          200989\n",
       "            member          424685\n",
       "Wed         casual          209140\n",
       "            member          431050\n",
       "Thu         casual          234211\n",
       "            member          430168\n",
       "Fri         casual          257111\n",
       "            member          376682\n",
       "Sat         casual          356773\n",
       "            member          339059\n",
       "Sun         casual          296636\n",
       "            member          303648\n",
       "Total Count                4444582"
      ]
     },
     "execution_count": 45,
     "metadata": {},
     "output_type": "execute_result"
    }
   ],
   "source": [
    "df_pv6 = pd.pivot_table(cyc_data_combined,\n",
    "              index = ['day', 'member_casual'],\n",
    "              values = 'ride_id',\n",
    "              aggfunc = ['count'],\n",
    "              margins = True,\n",
    "              margins_name = 'Total Count')\n",
    "df_pv6"
   ]
  },
  {
   "cell_type": "code",
   "execution_count": 46,
   "id": "76dc71d5",
   "metadata": {
    "execution": {
     "iopub.execute_input": "2023-06-14T21:22:37.362012Z",
     "iopub.status.busy": "2023-06-14T21:22:37.361549Z",
     "iopub.status.idle": "2023-06-14T21:22:47.693964Z",
     "shell.execute_reply": "2023-06-14T21:22:47.692863Z"
    },
    "papermill": {
     "duration": 10.408288,
     "end_time": "2023-06-14T21:22:47.696640",
     "exception": false,
     "start_time": "2023-06-14T21:22:37.288352",
     "status": "completed"
    },
    "tags": []
   },
   "outputs": [
    {
     "data": {
      "application/vnd.plotly.v1+json": {
       "config": {
        "plotlyServerURL": "https://plot.ly"
       },
       "data": [
        {
         "customdata": [
          [
           "casual",
           206818
          ],
          [
           "casual",
           200989
          ],
          [
           "casual",
           209140
          ],
          [
           "casual",
           234211
          ],
          [
           "casual",
           257111
          ],
          [
           "casual",
           356773
          ],
          [
           "casual",
           296636
          ]
         ],
         "hovertemplate": "<b>%{hovertext}</b><br><br>Day=%{x}<br>No. of Rides=%{y}<extra></extra>",
         "hovertext": [
          "casual",
          "casual",
          "casual",
          "casual",
          "casual",
          "casual",
          "casual"
         ],
         "legendgroup": "casual",
         "line": {
          "color": "#FF934F",
          "dash": "solid",
          "shape": "spline"
         },
         "marker": {
          "symbol": "circle"
         },
         "mode": "lines+markers",
         "name": "casual",
         "orientation": "v",
         "showlegend": true,
         "type": "scatter",
         "x": [
          "Mon",
          "Tue",
          "Wed",
          "Thu",
          "Fri",
          "Sat",
          "Sun"
         ],
         "xaxis": "x",
         "y": [
          206818,
          200989,
          209140,
          234211,
          257111,
          356773,
          296636
         ],
         "yaxis": "y"
        },
        {
         "customdata": [
          [
           "member",
           377612
          ],
          [
           "member",
           424685
          ],
          [
           "member",
           431050
          ],
          [
           "member",
           430168
          ],
          [
           "member",
           376682
          ],
          [
           "member",
           339059
          ],
          [
           "member",
           303648
          ]
         ],
         "hovertemplate": "<b>%{hovertext}</b><br><br>Day=%{x}<br>No. of Rides=%{y}<extra></extra>",
         "hovertext": [
          "member",
          "member",
          "member",
          "member",
          "member",
          "member",
          "member"
         ],
         "legendgroup": "member",
         "line": {
          "color": "#058ED9",
          "dash": "solid",
          "shape": "spline"
         },
         "marker": {
          "symbol": "circle"
         },
         "mode": "lines+markers",
         "name": "member",
         "orientation": "v",
         "showlegend": true,
         "type": "scatter",
         "x": [
          "Mon",
          "Tue",
          "Wed",
          "Thu",
          "Fri",
          "Sat",
          "Sun"
         ],
         "xaxis": "x",
         "y": [
          377612,
          424685,
          431050,
          430168,
          376682,
          339059,
          303648
         ],
         "yaxis": "y"
        }
       ],
       "layout": {
        "legend": {
         "title": {
          "text": "User Type"
         },
         "tracegroupgap": 0
        },
        "margin": {
         "t": 60
        },
        "template": {
         "data": {
          "bar": [
           {
            "error_x": {
             "color": "#2a3f5f"
            },
            "error_y": {
             "color": "#2a3f5f"
            },
            "marker": {
             "line": {
              "color": "#E5ECF6",
              "width": 0.5
             },
             "pattern": {
              "fillmode": "overlay",
              "size": 10,
              "solidity": 0.2
             }
            },
            "type": "bar"
           }
          ],
          "barpolar": [
           {
            "marker": {
             "line": {
              "color": "#E5ECF6",
              "width": 0.5
             },
             "pattern": {
              "fillmode": "overlay",
              "size": 10,
              "solidity": 0.2
             }
            },
            "type": "barpolar"
           }
          ],
          "carpet": [
           {
            "aaxis": {
             "endlinecolor": "#2a3f5f",
             "gridcolor": "white",
             "linecolor": "white",
             "minorgridcolor": "white",
             "startlinecolor": "#2a3f5f"
            },
            "baxis": {
             "endlinecolor": "#2a3f5f",
             "gridcolor": "white",
             "linecolor": "white",
             "minorgridcolor": "white",
             "startlinecolor": "#2a3f5f"
            },
            "type": "carpet"
           }
          ],
          "choropleth": [
           {
            "colorbar": {
             "outlinewidth": 0,
             "ticks": ""
            },
            "type": "choropleth"
           }
          ],
          "contour": [
           {
            "colorbar": {
             "outlinewidth": 0,
             "ticks": ""
            },
            "colorscale": [
             [
              0.0,
              "#0d0887"
             ],
             [
              0.1111111111111111,
              "#46039f"
             ],
             [
              0.2222222222222222,
              "#7201a8"
             ],
             [
              0.3333333333333333,
              "#9c179e"
             ],
             [
              0.4444444444444444,
              "#bd3786"
             ],
             [
              0.5555555555555556,
              "#d8576b"
             ],
             [
              0.6666666666666666,
              "#ed7953"
             ],
             [
              0.7777777777777778,
              "#fb9f3a"
             ],
             [
              0.8888888888888888,
              "#fdca26"
             ],
             [
              1.0,
              "#f0f921"
             ]
            ],
            "type": "contour"
           }
          ],
          "contourcarpet": [
           {
            "colorbar": {
             "outlinewidth": 0,
             "ticks": ""
            },
            "type": "contourcarpet"
           }
          ],
          "heatmap": [
           {
            "colorbar": {
             "outlinewidth": 0,
             "ticks": ""
            },
            "colorscale": [
             [
              0.0,
              "#0d0887"
             ],
             [
              0.1111111111111111,
              "#46039f"
             ],
             [
              0.2222222222222222,
              "#7201a8"
             ],
             [
              0.3333333333333333,
              "#9c179e"
             ],
             [
              0.4444444444444444,
              "#bd3786"
             ],
             [
              0.5555555555555556,
              "#d8576b"
             ],
             [
              0.6666666666666666,
              "#ed7953"
             ],
             [
              0.7777777777777778,
              "#fb9f3a"
             ],
             [
              0.8888888888888888,
              "#fdca26"
             ],
             [
              1.0,
              "#f0f921"
             ]
            ],
            "type": "heatmap"
           }
          ],
          "heatmapgl": [
           {
            "colorbar": {
             "outlinewidth": 0,
             "ticks": ""
            },
            "colorscale": [
             [
              0.0,
              "#0d0887"
             ],
             [
              0.1111111111111111,
              "#46039f"
             ],
             [
              0.2222222222222222,
              "#7201a8"
             ],
             [
              0.3333333333333333,
              "#9c179e"
             ],
             [
              0.4444444444444444,
              "#bd3786"
             ],
             [
              0.5555555555555556,
              "#d8576b"
             ],
             [
              0.6666666666666666,
              "#ed7953"
             ],
             [
              0.7777777777777778,
              "#fb9f3a"
             ],
             [
              0.8888888888888888,
              "#fdca26"
             ],
             [
              1.0,
              "#f0f921"
             ]
            ],
            "type": "heatmapgl"
           }
          ],
          "histogram": [
           {
            "marker": {
             "pattern": {
              "fillmode": "overlay",
              "size": 10,
              "solidity": 0.2
             }
            },
            "type": "histogram"
           }
          ],
          "histogram2d": [
           {
            "colorbar": {
             "outlinewidth": 0,
             "ticks": ""
            },
            "colorscale": [
             [
              0.0,
              "#0d0887"
             ],
             [
              0.1111111111111111,
              "#46039f"
             ],
             [
              0.2222222222222222,
              "#7201a8"
             ],
             [
              0.3333333333333333,
              "#9c179e"
             ],
             [
              0.4444444444444444,
              "#bd3786"
             ],
             [
              0.5555555555555556,
              "#d8576b"
             ],
             [
              0.6666666666666666,
              "#ed7953"
             ],
             [
              0.7777777777777778,
              "#fb9f3a"
             ],
             [
              0.8888888888888888,
              "#fdca26"
             ],
             [
              1.0,
              "#f0f921"
             ]
            ],
            "type": "histogram2d"
           }
          ],
          "histogram2dcontour": [
           {
            "colorbar": {
             "outlinewidth": 0,
             "ticks": ""
            },
            "colorscale": [
             [
              0.0,
              "#0d0887"
             ],
             [
              0.1111111111111111,
              "#46039f"
             ],
             [
              0.2222222222222222,
              "#7201a8"
             ],
             [
              0.3333333333333333,
              "#9c179e"
             ],
             [
              0.4444444444444444,
              "#bd3786"
             ],
             [
              0.5555555555555556,
              "#d8576b"
             ],
             [
              0.6666666666666666,
              "#ed7953"
             ],
             [
              0.7777777777777778,
              "#fb9f3a"
             ],
             [
              0.8888888888888888,
              "#fdca26"
             ],
             [
              1.0,
              "#f0f921"
             ]
            ],
            "type": "histogram2dcontour"
           }
          ],
          "mesh3d": [
           {
            "colorbar": {
             "outlinewidth": 0,
             "ticks": ""
            },
            "type": "mesh3d"
           }
          ],
          "parcoords": [
           {
            "line": {
             "colorbar": {
              "outlinewidth": 0,
              "ticks": ""
             }
            },
            "type": "parcoords"
           }
          ],
          "pie": [
           {
            "automargin": true,
            "type": "pie"
           }
          ],
          "scatter": [
           {
            "fillpattern": {
             "fillmode": "overlay",
             "size": 10,
             "solidity": 0.2
            },
            "type": "scatter"
           }
          ],
          "scatter3d": [
           {
            "line": {
             "colorbar": {
              "outlinewidth": 0,
              "ticks": ""
             }
            },
            "marker": {
             "colorbar": {
              "outlinewidth": 0,
              "ticks": ""
             }
            },
            "type": "scatter3d"
           }
          ],
          "scattercarpet": [
           {
            "marker": {
             "colorbar": {
              "outlinewidth": 0,
              "ticks": ""
             }
            },
            "type": "scattercarpet"
           }
          ],
          "scattergeo": [
           {
            "marker": {
             "colorbar": {
              "outlinewidth": 0,
              "ticks": ""
             }
            },
            "type": "scattergeo"
           }
          ],
          "scattergl": [
           {
            "marker": {
             "colorbar": {
              "outlinewidth": 0,
              "ticks": ""
             }
            },
            "type": "scattergl"
           }
          ],
          "scattermapbox": [
           {
            "marker": {
             "colorbar": {
              "outlinewidth": 0,
              "ticks": ""
             }
            },
            "type": "scattermapbox"
           }
          ],
          "scatterpolar": [
           {
            "marker": {
             "colorbar": {
              "outlinewidth": 0,
              "ticks": ""
             }
            },
            "type": "scatterpolar"
           }
          ],
          "scatterpolargl": [
           {
            "marker": {
             "colorbar": {
              "outlinewidth": 0,
              "ticks": ""
             }
            },
            "type": "scatterpolargl"
           }
          ],
          "scatterternary": [
           {
            "marker": {
             "colorbar": {
              "outlinewidth": 0,
              "ticks": ""
             }
            },
            "type": "scatterternary"
           }
          ],
          "surface": [
           {
            "colorbar": {
             "outlinewidth": 0,
             "ticks": ""
            },
            "colorscale": [
             [
              0.0,
              "#0d0887"
             ],
             [
              0.1111111111111111,
              "#46039f"
             ],
             [
              0.2222222222222222,
              "#7201a8"
             ],
             [
              0.3333333333333333,
              "#9c179e"
             ],
             [
              0.4444444444444444,
              "#bd3786"
             ],
             [
              0.5555555555555556,
              "#d8576b"
             ],
             [
              0.6666666666666666,
              "#ed7953"
             ],
             [
              0.7777777777777778,
              "#fb9f3a"
             ],
             [
              0.8888888888888888,
              "#fdca26"
             ],
             [
              1.0,
              "#f0f921"
             ]
            ],
            "type": "surface"
           }
          ],
          "table": [
           {
            "cells": {
             "fill": {
              "color": "#EBF0F8"
             },
             "line": {
              "color": "white"
             }
            },
            "header": {
             "fill": {
              "color": "#C8D4E3"
             },
             "line": {
              "color": "white"
             }
            },
            "type": "table"
           }
          ]
         },
         "layout": {
          "annotationdefaults": {
           "arrowcolor": "#2a3f5f",
           "arrowhead": 0,
           "arrowwidth": 1
          },
          "autotypenumbers": "strict",
          "coloraxis": {
           "colorbar": {
            "outlinewidth": 0,
            "ticks": ""
           }
          },
          "colorscale": {
           "diverging": [
            [
             0,
             "#8e0152"
            ],
            [
             0.1,
             "#c51b7d"
            ],
            [
             0.2,
             "#de77ae"
            ],
            [
             0.3,
             "#f1b6da"
            ],
            [
             0.4,
             "#fde0ef"
            ],
            [
             0.5,
             "#f7f7f7"
            ],
            [
             0.6,
             "#e6f5d0"
            ],
            [
             0.7,
             "#b8e186"
            ],
            [
             0.8,
             "#7fbc41"
            ],
            [
             0.9,
             "#4d9221"
            ],
            [
             1,
             "#276419"
            ]
           ],
           "sequential": [
            [
             0.0,
             "#0d0887"
            ],
            [
             0.1111111111111111,
             "#46039f"
            ],
            [
             0.2222222222222222,
             "#7201a8"
            ],
            [
             0.3333333333333333,
             "#9c179e"
            ],
            [
             0.4444444444444444,
             "#bd3786"
            ],
            [
             0.5555555555555556,
             "#d8576b"
            ],
            [
             0.6666666666666666,
             "#ed7953"
            ],
            [
             0.7777777777777778,
             "#fb9f3a"
            ],
            [
             0.8888888888888888,
             "#fdca26"
            ],
            [
             1.0,
             "#f0f921"
            ]
           ],
           "sequentialminus": [
            [
             0.0,
             "#0d0887"
            ],
            [
             0.1111111111111111,
             "#46039f"
            ],
            [
             0.2222222222222222,
             "#7201a8"
            ],
            [
             0.3333333333333333,
             "#9c179e"
            ],
            [
             0.4444444444444444,
             "#bd3786"
            ],
            [
             0.5555555555555556,
             "#d8576b"
            ],
            [
             0.6666666666666666,
             "#ed7953"
            ],
            [
             0.7777777777777778,
             "#fb9f3a"
            ],
            [
             0.8888888888888888,
             "#fdca26"
            ],
            [
             1.0,
             "#f0f921"
            ]
           ]
          },
          "colorway": [
           "#636efa",
           "#EF553B",
           "#00cc96",
           "#ab63fa",
           "#FFA15A",
           "#19d3f3",
           "#FF6692",
           "#B6E880",
           "#FF97FF",
           "#FECB52"
          ],
          "font": {
           "color": "#2a3f5f"
          },
          "geo": {
           "bgcolor": "white",
           "lakecolor": "white",
           "landcolor": "#E5ECF6",
           "showlakes": true,
           "showland": true,
           "subunitcolor": "white"
          },
          "hoverlabel": {
           "align": "left"
          },
          "hovermode": "closest",
          "mapbox": {
           "style": "light"
          },
          "paper_bgcolor": "white",
          "plot_bgcolor": "#E5ECF6",
          "polar": {
           "angularaxis": {
            "gridcolor": "white",
            "linecolor": "white",
            "ticks": ""
           },
           "bgcolor": "#E5ECF6",
           "radialaxis": {
            "gridcolor": "white",
            "linecolor": "white",
            "ticks": ""
           }
          },
          "scene": {
           "xaxis": {
            "backgroundcolor": "#E5ECF6",
            "gridcolor": "white",
            "gridwidth": 2,
            "linecolor": "white",
            "showbackground": true,
            "ticks": "",
            "zerolinecolor": "white"
           },
           "yaxis": {
            "backgroundcolor": "#E5ECF6",
            "gridcolor": "white",
            "gridwidth": 2,
            "linecolor": "white",
            "showbackground": true,
            "ticks": "",
            "zerolinecolor": "white"
           },
           "zaxis": {
            "backgroundcolor": "#E5ECF6",
            "gridcolor": "white",
            "gridwidth": 2,
            "linecolor": "white",
            "showbackground": true,
            "ticks": "",
            "zerolinecolor": "white"
           }
          },
          "shapedefaults": {
           "line": {
            "color": "#2a3f5f"
           }
          },
          "ternary": {
           "aaxis": {
            "gridcolor": "white",
            "linecolor": "white",
            "ticks": ""
           },
           "baxis": {
            "gridcolor": "white",
            "linecolor": "white",
            "ticks": ""
           },
           "bgcolor": "#E5ECF6",
           "caxis": {
            "gridcolor": "white",
            "linecolor": "white",
            "ticks": ""
           }
          },
          "title": {
           "x": 0.05
          },
          "xaxis": {
           "automargin": true,
           "gridcolor": "white",
           "linecolor": "white",
           "ticks": "",
           "title": {
            "standoff": 15
           },
           "zerolinecolor": "white",
           "zerolinewidth": 2
          },
          "yaxis": {
           "automargin": true,
           "gridcolor": "white",
           "linecolor": "white",
           "ticks": "",
           "title": {
            "standoff": 15
           },
           "zerolinecolor": "white",
           "zerolinewidth": 2
          }
         }
        },
        "title": {
         "automargin": true,
         "font": {
          "size": 18
         },
         "text": "Daily Trips from (May 2022 - Apr 2023)",
         "yref": "paper"
        },
        "xaxis": {
         "anchor": "y",
         "domain": [
          0.0,
          1.0
         ],
         "title": {
          "text": "Day"
         }
        },
        "yaxis": {
         "anchor": "x",
         "domain": [
          0.0,
          1.0
         ],
         "range": [
          0,
          600000
         ],
         "title": {
          "text": "No. of Rides"
         }
        }
       }
      },
      "text/html": [
       "<div>                            <div id=\"3acde4ad-00f1-443a-9a8a-48c2f8ed4d51\" class=\"plotly-graph-div\" style=\"height:525px; width:100%;\"></div>            <script type=\"text/javascript\">                require([\"plotly\"], function(Plotly) {                    window.PLOTLYENV=window.PLOTLYENV || {};                                    if (document.getElementById(\"3acde4ad-00f1-443a-9a8a-48c2f8ed4d51\")) {                    Plotly.newPlot(                        \"3acde4ad-00f1-443a-9a8a-48c2f8ed4d51\",                        [{\"customdata\":[[\"casual\",206818],[\"casual\",200989],[\"casual\",209140],[\"casual\",234211],[\"casual\",257111],[\"casual\",356773],[\"casual\",296636]],\"hovertemplate\":\"<b>%{hovertext}</b><br><br>Day=%{x}<br>No. of Rides=%{y}<extra></extra>\",\"hovertext\":[\"casual\",\"casual\",\"casual\",\"casual\",\"casual\",\"casual\",\"casual\"],\"legendgroup\":\"casual\",\"line\":{\"color\":\"#FF934F\",\"dash\":\"solid\",\"shape\":\"spline\"},\"marker\":{\"symbol\":\"circle\"},\"mode\":\"lines+markers\",\"name\":\"casual\",\"orientation\":\"v\",\"showlegend\":true,\"x\":[\"Mon\",\"Tue\",\"Wed\",\"Thu\",\"Fri\",\"Sat\",\"Sun\"],\"xaxis\":\"x\",\"y\":[206818,200989,209140,234211,257111,356773,296636],\"yaxis\":\"y\",\"type\":\"scatter\"},{\"customdata\":[[\"member\",377612],[\"member\",424685],[\"member\",431050],[\"member\",430168],[\"member\",376682],[\"member\",339059],[\"member\",303648]],\"hovertemplate\":\"<b>%{hovertext}</b><br><br>Day=%{x}<br>No. of Rides=%{y}<extra></extra>\",\"hovertext\":[\"member\",\"member\",\"member\",\"member\",\"member\",\"member\",\"member\"],\"legendgroup\":\"member\",\"line\":{\"color\":\"#058ED9\",\"dash\":\"solid\",\"shape\":\"spline\"},\"marker\":{\"symbol\":\"circle\"},\"mode\":\"lines+markers\",\"name\":\"member\",\"orientation\":\"v\",\"showlegend\":true,\"x\":[\"Mon\",\"Tue\",\"Wed\",\"Thu\",\"Fri\",\"Sat\",\"Sun\"],\"xaxis\":\"x\",\"y\":[377612,424685,431050,430168,376682,339059,303648],\"yaxis\":\"y\",\"type\":\"scatter\"}],                        {\"template\":{\"data\":{\"histogram2dcontour\":[{\"type\":\"histogram2dcontour\",\"colorbar\":{\"outlinewidth\":0,\"ticks\":\"\"},\"colorscale\":[[0.0,\"#0d0887\"],[0.1111111111111111,\"#46039f\"],[0.2222222222222222,\"#7201a8\"],[0.3333333333333333,\"#9c179e\"],[0.4444444444444444,\"#bd3786\"],[0.5555555555555556,\"#d8576b\"],[0.6666666666666666,\"#ed7953\"],[0.7777777777777778,\"#fb9f3a\"],[0.8888888888888888,\"#fdca26\"],[1.0,\"#f0f921\"]]}],\"choropleth\":[{\"type\":\"choropleth\",\"colorbar\":{\"outlinewidth\":0,\"ticks\":\"\"}}],\"histogram2d\":[{\"type\":\"histogram2d\",\"colorbar\":{\"outlinewidth\":0,\"ticks\":\"\"},\"colorscale\":[[0.0,\"#0d0887\"],[0.1111111111111111,\"#46039f\"],[0.2222222222222222,\"#7201a8\"],[0.3333333333333333,\"#9c179e\"],[0.4444444444444444,\"#bd3786\"],[0.5555555555555556,\"#d8576b\"],[0.6666666666666666,\"#ed7953\"],[0.7777777777777778,\"#fb9f3a\"],[0.8888888888888888,\"#fdca26\"],[1.0,\"#f0f921\"]]}],\"heatmap\":[{\"type\":\"heatmap\",\"colorbar\":{\"outlinewidth\":0,\"ticks\":\"\"},\"colorscale\":[[0.0,\"#0d0887\"],[0.1111111111111111,\"#46039f\"],[0.2222222222222222,\"#7201a8\"],[0.3333333333333333,\"#9c179e\"],[0.4444444444444444,\"#bd3786\"],[0.5555555555555556,\"#d8576b\"],[0.6666666666666666,\"#ed7953\"],[0.7777777777777778,\"#fb9f3a\"],[0.8888888888888888,\"#fdca26\"],[1.0,\"#f0f921\"]]}],\"heatmapgl\":[{\"type\":\"heatmapgl\",\"colorbar\":{\"outlinewidth\":0,\"ticks\":\"\"},\"colorscale\":[[0.0,\"#0d0887\"],[0.1111111111111111,\"#46039f\"],[0.2222222222222222,\"#7201a8\"],[0.3333333333333333,\"#9c179e\"],[0.4444444444444444,\"#bd3786\"],[0.5555555555555556,\"#d8576b\"],[0.6666666666666666,\"#ed7953\"],[0.7777777777777778,\"#fb9f3a\"],[0.8888888888888888,\"#fdca26\"],[1.0,\"#f0f921\"]]}],\"contourcarpet\":[{\"type\":\"contourcarpet\",\"colorbar\":{\"outlinewidth\":0,\"ticks\":\"\"}}],\"contour\":[{\"type\":\"contour\",\"colorbar\":{\"outlinewidth\":0,\"ticks\":\"\"},\"colorscale\":[[0.0,\"#0d0887\"],[0.1111111111111111,\"#46039f\"],[0.2222222222222222,\"#7201a8\"],[0.3333333333333333,\"#9c179e\"],[0.4444444444444444,\"#bd3786\"],[0.5555555555555556,\"#d8576b\"],[0.6666666666666666,\"#ed7953\"],[0.7777777777777778,\"#fb9f3a\"],[0.8888888888888888,\"#fdca26\"],[1.0,\"#f0f921\"]]}],\"surface\":[{\"type\":\"surface\",\"colorbar\":{\"outlinewidth\":0,\"ticks\":\"\"},\"colorscale\":[[0.0,\"#0d0887\"],[0.1111111111111111,\"#46039f\"],[0.2222222222222222,\"#7201a8\"],[0.3333333333333333,\"#9c179e\"],[0.4444444444444444,\"#bd3786\"],[0.5555555555555556,\"#d8576b\"],[0.6666666666666666,\"#ed7953\"],[0.7777777777777778,\"#fb9f3a\"],[0.8888888888888888,\"#fdca26\"],[1.0,\"#f0f921\"]]}],\"mesh3d\":[{\"type\":\"mesh3d\",\"colorbar\":{\"outlinewidth\":0,\"ticks\":\"\"}}],\"scatter\":[{\"fillpattern\":{\"fillmode\":\"overlay\",\"size\":10,\"solidity\":0.2},\"type\":\"scatter\"}],\"parcoords\":[{\"type\":\"parcoords\",\"line\":{\"colorbar\":{\"outlinewidth\":0,\"ticks\":\"\"}}}],\"scatterpolargl\":[{\"type\":\"scatterpolargl\",\"marker\":{\"colorbar\":{\"outlinewidth\":0,\"ticks\":\"\"}}}],\"bar\":[{\"error_x\":{\"color\":\"#2a3f5f\"},\"error_y\":{\"color\":\"#2a3f5f\"},\"marker\":{\"line\":{\"color\":\"#E5ECF6\",\"width\":0.5},\"pattern\":{\"fillmode\":\"overlay\",\"size\":10,\"solidity\":0.2}},\"type\":\"bar\"}],\"scattergeo\":[{\"type\":\"scattergeo\",\"marker\":{\"colorbar\":{\"outlinewidth\":0,\"ticks\":\"\"}}}],\"scatterpolar\":[{\"type\":\"scatterpolar\",\"marker\":{\"colorbar\":{\"outlinewidth\":0,\"ticks\":\"\"}}}],\"histogram\":[{\"marker\":{\"pattern\":{\"fillmode\":\"overlay\",\"size\":10,\"solidity\":0.2}},\"type\":\"histogram\"}],\"scattergl\":[{\"type\":\"scattergl\",\"marker\":{\"colorbar\":{\"outlinewidth\":0,\"ticks\":\"\"}}}],\"scatter3d\":[{\"type\":\"scatter3d\",\"line\":{\"colorbar\":{\"outlinewidth\":0,\"ticks\":\"\"}},\"marker\":{\"colorbar\":{\"outlinewidth\":0,\"ticks\":\"\"}}}],\"scattermapbox\":[{\"type\":\"scattermapbox\",\"marker\":{\"colorbar\":{\"outlinewidth\":0,\"ticks\":\"\"}}}],\"scatterternary\":[{\"type\":\"scatterternary\",\"marker\":{\"colorbar\":{\"outlinewidth\":0,\"ticks\":\"\"}}}],\"scattercarpet\":[{\"type\":\"scattercarpet\",\"marker\":{\"colorbar\":{\"outlinewidth\":0,\"ticks\":\"\"}}}],\"carpet\":[{\"aaxis\":{\"endlinecolor\":\"#2a3f5f\",\"gridcolor\":\"white\",\"linecolor\":\"white\",\"minorgridcolor\":\"white\",\"startlinecolor\":\"#2a3f5f\"},\"baxis\":{\"endlinecolor\":\"#2a3f5f\",\"gridcolor\":\"white\",\"linecolor\":\"white\",\"minorgridcolor\":\"white\",\"startlinecolor\":\"#2a3f5f\"},\"type\":\"carpet\"}],\"table\":[{\"cells\":{\"fill\":{\"color\":\"#EBF0F8\"},\"line\":{\"color\":\"white\"}},\"header\":{\"fill\":{\"color\":\"#C8D4E3\"},\"line\":{\"color\":\"white\"}},\"type\":\"table\"}],\"barpolar\":[{\"marker\":{\"line\":{\"color\":\"#E5ECF6\",\"width\":0.5},\"pattern\":{\"fillmode\":\"overlay\",\"size\":10,\"solidity\":0.2}},\"type\":\"barpolar\"}],\"pie\":[{\"automargin\":true,\"type\":\"pie\"}]},\"layout\":{\"autotypenumbers\":\"strict\",\"colorway\":[\"#636efa\",\"#EF553B\",\"#00cc96\",\"#ab63fa\",\"#FFA15A\",\"#19d3f3\",\"#FF6692\",\"#B6E880\",\"#FF97FF\",\"#FECB52\"],\"font\":{\"color\":\"#2a3f5f\"},\"hovermode\":\"closest\",\"hoverlabel\":{\"align\":\"left\"},\"paper_bgcolor\":\"white\",\"plot_bgcolor\":\"#E5ECF6\",\"polar\":{\"bgcolor\":\"#E5ECF6\",\"angularaxis\":{\"gridcolor\":\"white\",\"linecolor\":\"white\",\"ticks\":\"\"},\"radialaxis\":{\"gridcolor\":\"white\",\"linecolor\":\"white\",\"ticks\":\"\"}},\"ternary\":{\"bgcolor\":\"#E5ECF6\",\"aaxis\":{\"gridcolor\":\"white\",\"linecolor\":\"white\",\"ticks\":\"\"},\"baxis\":{\"gridcolor\":\"white\",\"linecolor\":\"white\",\"ticks\":\"\"},\"caxis\":{\"gridcolor\":\"white\",\"linecolor\":\"white\",\"ticks\":\"\"}},\"coloraxis\":{\"colorbar\":{\"outlinewidth\":0,\"ticks\":\"\"}},\"colorscale\":{\"sequential\":[[0.0,\"#0d0887\"],[0.1111111111111111,\"#46039f\"],[0.2222222222222222,\"#7201a8\"],[0.3333333333333333,\"#9c179e\"],[0.4444444444444444,\"#bd3786\"],[0.5555555555555556,\"#d8576b\"],[0.6666666666666666,\"#ed7953\"],[0.7777777777777778,\"#fb9f3a\"],[0.8888888888888888,\"#fdca26\"],[1.0,\"#f0f921\"]],\"sequentialminus\":[[0.0,\"#0d0887\"],[0.1111111111111111,\"#46039f\"],[0.2222222222222222,\"#7201a8\"],[0.3333333333333333,\"#9c179e\"],[0.4444444444444444,\"#bd3786\"],[0.5555555555555556,\"#d8576b\"],[0.6666666666666666,\"#ed7953\"],[0.7777777777777778,\"#fb9f3a\"],[0.8888888888888888,\"#fdca26\"],[1.0,\"#f0f921\"]],\"diverging\":[[0,\"#8e0152\"],[0.1,\"#c51b7d\"],[0.2,\"#de77ae\"],[0.3,\"#f1b6da\"],[0.4,\"#fde0ef\"],[0.5,\"#f7f7f7\"],[0.6,\"#e6f5d0\"],[0.7,\"#b8e186\"],[0.8,\"#7fbc41\"],[0.9,\"#4d9221\"],[1,\"#276419\"]]},\"xaxis\":{\"gridcolor\":\"white\",\"linecolor\":\"white\",\"ticks\":\"\",\"title\":{\"standoff\":15},\"zerolinecolor\":\"white\",\"automargin\":true,\"zerolinewidth\":2},\"yaxis\":{\"gridcolor\":\"white\",\"linecolor\":\"white\",\"ticks\":\"\",\"title\":{\"standoff\":15},\"zerolinecolor\":\"white\",\"automargin\":true,\"zerolinewidth\":2},\"scene\":{\"xaxis\":{\"backgroundcolor\":\"#E5ECF6\",\"gridcolor\":\"white\",\"linecolor\":\"white\",\"showbackground\":true,\"ticks\":\"\",\"zerolinecolor\":\"white\",\"gridwidth\":2},\"yaxis\":{\"backgroundcolor\":\"#E5ECF6\",\"gridcolor\":\"white\",\"linecolor\":\"white\",\"showbackground\":true,\"ticks\":\"\",\"zerolinecolor\":\"white\",\"gridwidth\":2},\"zaxis\":{\"backgroundcolor\":\"#E5ECF6\",\"gridcolor\":\"white\",\"linecolor\":\"white\",\"showbackground\":true,\"ticks\":\"\",\"zerolinecolor\":\"white\",\"gridwidth\":2}},\"shapedefaults\":{\"line\":{\"color\":\"#2a3f5f\"}},\"annotationdefaults\":{\"arrowcolor\":\"#2a3f5f\",\"arrowhead\":0,\"arrowwidth\":1},\"geo\":{\"bgcolor\":\"white\",\"landcolor\":\"#E5ECF6\",\"subunitcolor\":\"white\",\"showland\":true,\"showlakes\":true,\"lakecolor\":\"white\"},\"title\":{\"x\":0.05},\"mapbox\":{\"style\":\"light\"}}},\"xaxis\":{\"anchor\":\"y\",\"domain\":[0.0,1.0],\"title\":{\"text\":\"Day\"}},\"yaxis\":{\"anchor\":\"x\",\"domain\":[0.0,1.0],\"title\":{\"text\":\"No. of Rides\"},\"range\":[0,600000]},\"legend\":{\"title\":{\"text\":\"User Type\"},\"tracegroupgap\":0},\"margin\":{\"t\":60},\"title\":{\"font\":{\"size\":18},\"text\":\"Daily Trips from (May 2022 - Apr 2023)\",\"automargin\":true,\"yref\":\"paper\"}},                        {\"responsive\": true}                    ).then(function(){\n",
       "                            \n",
       "var gd = document.getElementById('3acde4ad-00f1-443a-9a8a-48c2f8ed4d51');\n",
       "var x = new MutationObserver(function (mutations, observer) {{\n",
       "        var display = window.getComputedStyle(gd).display;\n",
       "        if (!display || display === 'none') {{\n",
       "            console.log([gd, 'removed!']);\n",
       "            Plotly.purge(gd);\n",
       "            observer.disconnect();\n",
       "        }}\n",
       "}});\n",
       "\n",
       "// Listen for the removal of the full notebook cells\n",
       "var notebookContainer = gd.closest('#notebook-container');\n",
       "if (notebookContainer) {{\n",
       "    x.observe(notebookContainer, {childList: true});\n",
       "}}\n",
       "\n",
       "// Listen for the clearing of the current output cell\n",
       "var outputEl = gd.closest('.output');\n",
       "if (outputEl) {{\n",
       "    x.observe(outputEl, {childList: true});\n",
       "}}\n",
       "\n",
       "                        })                };                });            </script>        </div>"
      ]
     },
     "metadata": {},
     "output_type": "display_data"
    }
   ],
   "source": [
    "df_pv7 = cyc_data_combined.groupby(['day', 'member_casual'], as_index=False).count()\n",
    "\n",
    "fig_4 = px.line(df_pv7, x = 'day', y = 'ride_id', range_y = [0,600000],\n",
    "        color = 'member_casual',  \n",
    "        line_shape = 'spline',\n",
    "        markers=True,\n",
    "        labels = {'ride_id': 'No. of Rides', 'day': 'Day', 'member_casual': 'User Type'},\n",
    "        hover_name = 'member_casual', hover_data = {'member_casual': False, 'month': False, 'ride_id': True}, \n",
    "        color_discrete_map = {'casual': '#FF934F', 'member': '#058ED9'})\n",
    "fig_4.update_layout(\n",
    "    title=dict(text=\"Daily Trips from (May 2022 - Apr 2023)\",font=dict(size=18), automargin=True, yref='paper')\n",
    ")"
   ]
  },
  {
   "cell_type": "markdown",
   "id": "911684be",
   "metadata": {
    "papermill": {
     "duration": 0.082491,
     "end_time": "2023-06-14T21:22:47.857747",
     "exception": false,
     "start_time": "2023-06-14T21:22:47.775256",
     "status": "completed"
    },
    "tags": []
   },
   "source": [
    "__Fig. 4__ - Daily total trips taken from May 2022 - Apr 2023. An increase in trips is observed among casual riders during the weekends. Members maintain trips undertaken throughout the week and decrease bike usage during the weekend. "
   ]
  },
  {
   "cell_type": "markdown",
   "id": "8c558370",
   "metadata": {
    "papermill": {
     "duration": 0.078488,
     "end_time": "2023-06-14T21:22:48.024299",
     "exception": false,
     "start_time": "2023-06-14T21:22:47.945811",
     "status": "completed"
    },
    "tags": []
   },
   "source": [
    "#### <span style='color:#2D8FC5'>Average Number of Rides per Hour</span>"
   ]
  },
  {
   "cell_type": "code",
   "execution_count": 47,
   "id": "f5d760e9",
   "metadata": {
    "execution": {
     "iopub.execute_input": "2023-06-14T21:22:48.184788Z",
     "iopub.status.busy": "2023-06-14T21:22:48.183680Z",
     "iopub.status.idle": "2023-06-14T21:22:52.297864Z",
     "shell.execute_reply": "2023-06-14T21:22:52.296647Z"
    },
    "papermill": {
     "duration": 4.196979,
     "end_time": "2023-06-14T21:22:52.300572",
     "exception": false,
     "start_time": "2023-06-14T21:22:48.103593",
     "status": "completed"
    },
    "tags": []
   },
   "outputs": [
    {
     "data": {
      "text/html": [
       "<div>\n",
       "<style scoped>\n",
       "    .dataframe tbody tr th:only-of-type {\n",
       "        vertical-align: middle;\n",
       "    }\n",
       "\n",
       "    .dataframe tbody tr th {\n",
       "        vertical-align: top;\n",
       "    }\n",
       "\n",
       "    .dataframe thead tr th {\n",
       "        text-align: left;\n",
       "    }\n",
       "\n",
       "    .dataframe thead tr:last-of-type th {\n",
       "        text-align: right;\n",
       "    }\n",
       "</style>\n",
       "<table border=\"1\" class=\"dataframe\">\n",
       "  <thead>\n",
       "    <tr>\n",
       "      <th></th>\n",
       "      <th></th>\n",
       "      <th>count</th>\n",
       "    </tr>\n",
       "    <tr>\n",
       "      <th></th>\n",
       "      <th></th>\n",
       "      <th>ride_id</th>\n",
       "    </tr>\n",
       "    <tr>\n",
       "      <th>hour</th>\n",
       "      <th>member_casual</th>\n",
       "      <th></th>\n",
       "    </tr>\n",
       "  </thead>\n",
       "  <tbody>\n",
       "    <tr>\n",
       "      <th rowspan=\"2\" valign=\"top\">1</th>\n",
       "      <th>casual</th>\n",
       "      <td>21230</td>\n",
       "    </tr>\n",
       "    <tr>\n",
       "      <th>member</th>\n",
       "      <td>15671</td>\n",
       "    </tr>\n",
       "    <tr>\n",
       "      <th rowspan=\"2\" valign=\"top\">2</th>\n",
       "      <th>casual</th>\n",
       "      <td>12684</td>\n",
       "    </tr>\n",
       "    <tr>\n",
       "      <th>member</th>\n",
       "      <td>8714</td>\n",
       "    </tr>\n",
       "    <tr>\n",
       "      <th rowspan=\"2\" valign=\"top\">3</th>\n",
       "      <th>casual</th>\n",
       "      <td>7028</td>\n",
       "    </tr>\n",
       "    <tr>\n",
       "      <th>member</th>\n",
       "      <td>5240</td>\n",
       "    </tr>\n",
       "    <tr>\n",
       "      <th rowspan=\"2\" valign=\"top\">4</th>\n",
       "      <th>casual</th>\n",
       "      <td>4651</td>\n",
       "    </tr>\n",
       "    <tr>\n",
       "      <th>member</th>\n",
       "      <td>6064</td>\n",
       "    </tr>\n",
       "    <tr>\n",
       "      <th rowspan=\"2\" valign=\"top\">5</th>\n",
       "      <th>casual</th>\n",
       "      <td>8633</td>\n",
       "    </tr>\n",
       "    <tr>\n",
       "      <th>member</th>\n",
       "      <td>25663</td>\n",
       "    </tr>\n",
       "    <tr>\n",
       "      <th rowspan=\"2\" valign=\"top\">6</th>\n",
       "      <th>casual</th>\n",
       "      <td>22909</td>\n",
       "    </tr>\n",
       "    <tr>\n",
       "      <th>member</th>\n",
       "      <td>78731</td>\n",
       "    </tr>\n",
       "    <tr>\n",
       "      <th rowspan=\"2\" valign=\"top\">7</th>\n",
       "      <th>casual</th>\n",
       "      <td>39515</td>\n",
       "    </tr>\n",
       "    <tr>\n",
       "      <th>member</th>\n",
       "      <td>146839</td>\n",
       "    </tr>\n",
       "    <tr>\n",
       "      <th rowspan=\"2\" valign=\"top\">8</th>\n",
       "      <th>casual</th>\n",
       "      <td>54332</td>\n",
       "    </tr>\n",
       "    <tr>\n",
       "      <th>member</th>\n",
       "      <td>173623</td>\n",
       "    </tr>\n",
       "    <tr>\n",
       "      <th rowspan=\"2\" valign=\"top\">9</th>\n",
       "      <th>casual</th>\n",
       "      <td>55873</td>\n",
       "    </tr>\n",
       "    <tr>\n",
       "      <th>member</th>\n",
       "      <td>116811</td>\n",
       "    </tr>\n",
       "    <tr>\n",
       "      <th rowspan=\"2\" valign=\"top\">10</th>\n",
       "      <th>casual</th>\n",
       "      <td>72632</td>\n",
       "    </tr>\n",
       "    <tr>\n",
       "      <th>member</th>\n",
       "      <td>107315</td>\n",
       "    </tr>\n",
       "    <tr>\n",
       "      <th rowspan=\"2\" valign=\"top\">11</th>\n",
       "      <th>casual</th>\n",
       "      <td>93956</td>\n",
       "    </tr>\n",
       "    <tr>\n",
       "      <th>member</th>\n",
       "      <td>127215</td>\n",
       "    </tr>\n",
       "    <tr>\n",
       "      <th rowspan=\"2\" valign=\"top\">12</th>\n",
       "      <th>casual</th>\n",
       "      <td>110755</td>\n",
       "    </tr>\n",
       "    <tr>\n",
       "      <th>member</th>\n",
       "      <td>146500</td>\n",
       "    </tr>\n",
       "    <tr>\n",
       "      <th rowspan=\"2\" valign=\"top\">13</th>\n",
       "      <th>casual</th>\n",
       "      <td>115171</td>\n",
       "    </tr>\n",
       "    <tr>\n",
       "      <th>member</th>\n",
       "      <td>144850</td>\n",
       "    </tr>\n",
       "    <tr>\n",
       "      <th rowspan=\"2\" valign=\"top\">14</th>\n",
       "      <th>casual</th>\n",
       "      <td>121622</td>\n",
       "    </tr>\n",
       "    <tr>\n",
       "      <th>member</th>\n",
       "      <td>144788</td>\n",
       "    </tr>\n",
       "    <tr>\n",
       "      <th rowspan=\"2\" valign=\"top\">15</th>\n",
       "      <th>casual</th>\n",
       "      <td>135107</td>\n",
       "    </tr>\n",
       "    <tr>\n",
       "      <th>member</th>\n",
       "      <td>178182</td>\n",
       "    </tr>\n",
       "    <tr>\n",
       "      <th rowspan=\"2\" valign=\"top\">16</th>\n",
       "      <th>casual</th>\n",
       "      <td>153464</td>\n",
       "    </tr>\n",
       "    <tr>\n",
       "      <th>member</th>\n",
       "      <td>241499</td>\n",
       "    </tr>\n",
       "    <tr>\n",
       "      <th rowspan=\"2\" valign=\"top\">17</th>\n",
       "      <th>casual</th>\n",
       "      <td>171034</td>\n",
       "    </tr>\n",
       "    <tr>\n",
       "      <th>member</th>\n",
       "      <td>290699</td>\n",
       "    </tr>\n",
       "    <tr>\n",
       "      <th rowspan=\"2\" valign=\"top\">18</th>\n",
       "      <th>casual</th>\n",
       "      <td>149882</td>\n",
       "    </tr>\n",
       "    <tr>\n",
       "      <th>member</th>\n",
       "      <td>229009</td>\n",
       "    </tr>\n",
       "    <tr>\n",
       "      <th rowspan=\"2\" valign=\"top\">19</th>\n",
       "      <th>casual</th>\n",
       "      <td>114013</td>\n",
       "    </tr>\n",
       "    <tr>\n",
       "      <th>member</th>\n",
       "      <td>163251</td>\n",
       "    </tr>\n",
       "    <tr>\n",
       "      <th rowspan=\"2\" valign=\"top\">20</th>\n",
       "      <th>casual</th>\n",
       "      <td>83234</td>\n",
       "    </tr>\n",
       "    <tr>\n",
       "      <th>member</th>\n",
       "      <td>113258</td>\n",
       "    </tr>\n",
       "    <tr>\n",
       "      <th rowspan=\"2\" valign=\"top\">21</th>\n",
       "      <th>casual</th>\n",
       "      <td>71218</td>\n",
       "    </tr>\n",
       "    <tr>\n",
       "      <th>member</th>\n",
       "      <td>87511</td>\n",
       "    </tr>\n",
       "    <tr>\n",
       "      <th rowspan=\"2\" valign=\"top\">22</th>\n",
       "      <th>casual</th>\n",
       "      <td>63264</td>\n",
       "    </tr>\n",
       "    <tr>\n",
       "      <th>member</th>\n",
       "      <td>64848</td>\n",
       "    </tr>\n",
       "    <tr>\n",
       "      <th rowspan=\"2\" valign=\"top\">23</th>\n",
       "      <th>casual</th>\n",
       "      <td>46154</td>\n",
       "    </tr>\n",
       "    <tr>\n",
       "      <th>member</th>\n",
       "      <td>40984</td>\n",
       "    </tr>\n",
       "    <tr>\n",
       "      <th rowspan=\"2\" valign=\"top\">24</th>\n",
       "      <th>casual</th>\n",
       "      <td>33317</td>\n",
       "    </tr>\n",
       "    <tr>\n",
       "      <th>member</th>\n",
       "      <td>25639</td>\n",
       "    </tr>\n",
       "    <tr>\n",
       "      <th>Total Count</th>\n",
       "      <th></th>\n",
       "      <td>4444582</td>\n",
       "    </tr>\n",
       "  </tbody>\n",
       "</table>\n",
       "</div>"
      ],
      "text/plain": [
       "                             count\n",
       "                           ride_id\n",
       "hour        member_casual         \n",
       "1           casual           21230\n",
       "            member           15671\n",
       "2           casual           12684\n",
       "            member            8714\n",
       "3           casual            7028\n",
       "            member            5240\n",
       "4           casual            4651\n",
       "            member            6064\n",
       "5           casual            8633\n",
       "            member           25663\n",
       "6           casual           22909\n",
       "            member           78731\n",
       "7           casual           39515\n",
       "            member          146839\n",
       "8           casual           54332\n",
       "            member          173623\n",
       "9           casual           55873\n",
       "            member          116811\n",
       "10          casual           72632\n",
       "            member          107315\n",
       "11          casual           93956\n",
       "            member          127215\n",
       "12          casual          110755\n",
       "            member          146500\n",
       "13          casual          115171\n",
       "            member          144850\n",
       "14          casual          121622\n",
       "            member          144788\n",
       "15          casual          135107\n",
       "            member          178182\n",
       "16          casual          153464\n",
       "            member          241499\n",
       "17          casual          171034\n",
       "            member          290699\n",
       "18          casual          149882\n",
       "            member          229009\n",
       "19          casual          114013\n",
       "            member          163251\n",
       "20          casual           83234\n",
       "            member          113258\n",
       "21          casual           71218\n",
       "            member           87511\n",
       "22          casual           63264\n",
       "            member           64848\n",
       "23          casual           46154\n",
       "            member           40984\n",
       "24          casual           33317\n",
       "            member           25639\n",
       "Total Count                4444582"
      ]
     },
     "execution_count": 47,
     "metadata": {},
     "output_type": "execute_result"
    }
   ],
   "source": [
    "df_pv8 = pd.pivot_table(cyc_data_combined,\n",
    "              index = ['hour', 'member_casual'],\n",
    "              values = 'ride_id',\n",
    "              aggfunc = ['count'],\n",
    "              margins = True,\n",
    "              margins_name = 'Total Count')\n",
    "df_pv8"
   ]
  },
  {
   "cell_type": "code",
   "execution_count": 48,
   "id": "e6fcb331",
   "metadata": {
    "execution": {
     "iopub.execute_input": "2023-06-14T21:22:52.460797Z",
     "iopub.status.busy": "2023-06-14T21:22:52.460408Z",
     "iopub.status.idle": "2023-06-14T21:23:02.783323Z",
     "shell.execute_reply": "2023-06-14T21:23:02.782239Z"
    },
    "papermill": {
     "duration": 10.406354,
     "end_time": "2023-06-14T21:23:02.786058",
     "exception": false,
     "start_time": "2023-06-14T21:22:52.379704",
     "status": "completed"
    },
    "tags": []
   },
   "outputs": [
    {
     "data": {
      "application/vnd.plotly.v1+json": {
       "config": {
        "plotlyServerURL": "https://plot.ly"
       },
       "data": [
        {
         "customdata": [
          [
           "casual",
           21230
          ],
          [
           "casual",
           12684
          ],
          [
           "casual",
           7028
          ],
          [
           "casual",
           4651
          ],
          [
           "casual",
           8633
          ],
          [
           "casual",
           22909
          ],
          [
           "casual",
           39515
          ],
          [
           "casual",
           54332
          ],
          [
           "casual",
           55873
          ],
          [
           "casual",
           72632
          ],
          [
           "casual",
           93956
          ],
          [
           "casual",
           110755
          ],
          [
           "casual",
           115171
          ],
          [
           "casual",
           121622
          ],
          [
           "casual",
           135107
          ],
          [
           "casual",
           153464
          ],
          [
           "casual",
           171034
          ],
          [
           "casual",
           149882
          ],
          [
           "casual",
           114013
          ],
          [
           "casual",
           83234
          ],
          [
           "casual",
           71218
          ],
          [
           "casual",
           63264
          ],
          [
           "casual",
           46154
          ],
          [
           "casual",
           33317
          ]
         ],
         "hovertemplate": "<b>%{hovertext}</b><br><br>Hours=%{x}<br>No. of Rides=%{y}<extra></extra>",
         "hovertext": [
          "casual",
          "casual",
          "casual",
          "casual",
          "casual",
          "casual",
          "casual",
          "casual",
          "casual",
          "casual",
          "casual",
          "casual",
          "casual",
          "casual",
          "casual",
          "casual",
          "casual",
          "casual",
          "casual",
          "casual",
          "casual",
          "casual",
          "casual",
          "casual"
         ],
         "legendgroup": "casual",
         "line": {
          "color": "#FF934F",
          "dash": "solid",
          "shape": "spline"
         },
         "marker": {
          "symbol": "circle"
         },
         "mode": "lines+markers",
         "name": "casual",
         "orientation": "v",
         "showlegend": true,
         "type": "scatter",
         "x": [
          1,
          2,
          3,
          4,
          5,
          6,
          7,
          8,
          9,
          10,
          11,
          12,
          13,
          14,
          15,
          16,
          17,
          18,
          19,
          20,
          21,
          22,
          23,
          24
         ],
         "xaxis": "x",
         "y": [
          21230,
          12684,
          7028,
          4651,
          8633,
          22909,
          39515,
          54332,
          55873,
          72632,
          93956,
          110755,
          115171,
          121622,
          135107,
          153464,
          171034,
          149882,
          114013,
          83234,
          71218,
          63264,
          46154,
          33317
         ],
         "yaxis": "y"
        },
        {
         "customdata": [
          [
           "member",
           15671
          ],
          [
           "member",
           8714
          ],
          [
           "member",
           5240
          ],
          [
           "member",
           6064
          ],
          [
           "member",
           25663
          ],
          [
           "member",
           78731
          ],
          [
           "member",
           146839
          ],
          [
           "member",
           173623
          ],
          [
           "member",
           116811
          ],
          [
           "member",
           107315
          ],
          [
           "member",
           127215
          ],
          [
           "member",
           146500
          ],
          [
           "member",
           144850
          ],
          [
           "member",
           144788
          ],
          [
           "member",
           178182
          ],
          [
           "member",
           241499
          ],
          [
           "member",
           290699
          ],
          [
           "member",
           229009
          ],
          [
           "member",
           163251
          ],
          [
           "member",
           113258
          ],
          [
           "member",
           87511
          ],
          [
           "member",
           64848
          ],
          [
           "member",
           40984
          ],
          [
           "member",
           25639
          ]
         ],
         "hovertemplate": "<b>%{hovertext}</b><br><br>Hours=%{x}<br>No. of Rides=%{y}<extra></extra>",
         "hovertext": [
          "member",
          "member",
          "member",
          "member",
          "member",
          "member",
          "member",
          "member",
          "member",
          "member",
          "member",
          "member",
          "member",
          "member",
          "member",
          "member",
          "member",
          "member",
          "member",
          "member",
          "member",
          "member",
          "member",
          "member"
         ],
         "legendgroup": "member",
         "line": {
          "color": "#058ED9",
          "dash": "solid",
          "shape": "spline"
         },
         "marker": {
          "symbol": "circle"
         },
         "mode": "lines+markers",
         "name": "member",
         "orientation": "v",
         "showlegend": true,
         "type": "scatter",
         "x": [
          1,
          2,
          3,
          4,
          5,
          6,
          7,
          8,
          9,
          10,
          11,
          12,
          13,
          14,
          15,
          16,
          17,
          18,
          19,
          20,
          21,
          22,
          23,
          24
         ],
         "xaxis": "x",
         "y": [
          15671,
          8714,
          5240,
          6064,
          25663,
          78731,
          146839,
          173623,
          116811,
          107315,
          127215,
          146500,
          144850,
          144788,
          178182,
          241499,
          290699,
          229009,
          163251,
          113258,
          87511,
          64848,
          40984,
          25639
         ],
         "yaxis": "y"
        }
       ],
       "layout": {
        "legend": {
         "title": {
          "text": "User Type"
         },
         "tracegroupgap": 0
        },
        "template": {
         "data": {
          "bar": [
           {
            "error_x": {
             "color": "#2a3f5f"
            },
            "error_y": {
             "color": "#2a3f5f"
            },
            "marker": {
             "line": {
              "color": "#E5ECF6",
              "width": 0.5
             },
             "pattern": {
              "fillmode": "overlay",
              "size": 10,
              "solidity": 0.2
             }
            },
            "type": "bar"
           }
          ],
          "barpolar": [
           {
            "marker": {
             "line": {
              "color": "#E5ECF6",
              "width": 0.5
             },
             "pattern": {
              "fillmode": "overlay",
              "size": 10,
              "solidity": 0.2
             }
            },
            "type": "barpolar"
           }
          ],
          "carpet": [
           {
            "aaxis": {
             "endlinecolor": "#2a3f5f",
             "gridcolor": "white",
             "linecolor": "white",
             "minorgridcolor": "white",
             "startlinecolor": "#2a3f5f"
            },
            "baxis": {
             "endlinecolor": "#2a3f5f",
             "gridcolor": "white",
             "linecolor": "white",
             "minorgridcolor": "white",
             "startlinecolor": "#2a3f5f"
            },
            "type": "carpet"
           }
          ],
          "choropleth": [
           {
            "colorbar": {
             "outlinewidth": 0,
             "ticks": ""
            },
            "type": "choropleth"
           }
          ],
          "contour": [
           {
            "colorbar": {
             "outlinewidth": 0,
             "ticks": ""
            },
            "colorscale": [
             [
              0.0,
              "#0d0887"
             ],
             [
              0.1111111111111111,
              "#46039f"
             ],
             [
              0.2222222222222222,
              "#7201a8"
             ],
             [
              0.3333333333333333,
              "#9c179e"
             ],
             [
              0.4444444444444444,
              "#bd3786"
             ],
             [
              0.5555555555555556,
              "#d8576b"
             ],
             [
              0.6666666666666666,
              "#ed7953"
             ],
             [
              0.7777777777777778,
              "#fb9f3a"
             ],
             [
              0.8888888888888888,
              "#fdca26"
             ],
             [
              1.0,
              "#f0f921"
             ]
            ],
            "type": "contour"
           }
          ],
          "contourcarpet": [
           {
            "colorbar": {
             "outlinewidth": 0,
             "ticks": ""
            },
            "type": "contourcarpet"
           }
          ],
          "heatmap": [
           {
            "colorbar": {
             "outlinewidth": 0,
             "ticks": ""
            },
            "colorscale": [
             [
              0.0,
              "#0d0887"
             ],
             [
              0.1111111111111111,
              "#46039f"
             ],
             [
              0.2222222222222222,
              "#7201a8"
             ],
             [
              0.3333333333333333,
              "#9c179e"
             ],
             [
              0.4444444444444444,
              "#bd3786"
             ],
             [
              0.5555555555555556,
              "#d8576b"
             ],
             [
              0.6666666666666666,
              "#ed7953"
             ],
             [
              0.7777777777777778,
              "#fb9f3a"
             ],
             [
              0.8888888888888888,
              "#fdca26"
             ],
             [
              1.0,
              "#f0f921"
             ]
            ],
            "type": "heatmap"
           }
          ],
          "heatmapgl": [
           {
            "colorbar": {
             "outlinewidth": 0,
             "ticks": ""
            },
            "colorscale": [
             [
              0.0,
              "#0d0887"
             ],
             [
              0.1111111111111111,
              "#46039f"
             ],
             [
              0.2222222222222222,
              "#7201a8"
             ],
             [
              0.3333333333333333,
              "#9c179e"
             ],
             [
              0.4444444444444444,
              "#bd3786"
             ],
             [
              0.5555555555555556,
              "#d8576b"
             ],
             [
              0.6666666666666666,
              "#ed7953"
             ],
             [
              0.7777777777777778,
              "#fb9f3a"
             ],
             [
              0.8888888888888888,
              "#fdca26"
             ],
             [
              1.0,
              "#f0f921"
             ]
            ],
            "type": "heatmapgl"
           }
          ],
          "histogram": [
           {
            "marker": {
             "pattern": {
              "fillmode": "overlay",
              "size": 10,
              "solidity": 0.2
             }
            },
            "type": "histogram"
           }
          ],
          "histogram2d": [
           {
            "colorbar": {
             "outlinewidth": 0,
             "ticks": ""
            },
            "colorscale": [
             [
              0.0,
              "#0d0887"
             ],
             [
              0.1111111111111111,
              "#46039f"
             ],
             [
              0.2222222222222222,
              "#7201a8"
             ],
             [
              0.3333333333333333,
              "#9c179e"
             ],
             [
              0.4444444444444444,
              "#bd3786"
             ],
             [
              0.5555555555555556,
              "#d8576b"
             ],
             [
              0.6666666666666666,
              "#ed7953"
             ],
             [
              0.7777777777777778,
              "#fb9f3a"
             ],
             [
              0.8888888888888888,
              "#fdca26"
             ],
             [
              1.0,
              "#f0f921"
             ]
            ],
            "type": "histogram2d"
           }
          ],
          "histogram2dcontour": [
           {
            "colorbar": {
             "outlinewidth": 0,
             "ticks": ""
            },
            "colorscale": [
             [
              0.0,
              "#0d0887"
             ],
             [
              0.1111111111111111,
              "#46039f"
             ],
             [
              0.2222222222222222,
              "#7201a8"
             ],
             [
              0.3333333333333333,
              "#9c179e"
             ],
             [
              0.4444444444444444,
              "#bd3786"
             ],
             [
              0.5555555555555556,
              "#d8576b"
             ],
             [
              0.6666666666666666,
              "#ed7953"
             ],
             [
              0.7777777777777778,
              "#fb9f3a"
             ],
             [
              0.8888888888888888,
              "#fdca26"
             ],
             [
              1.0,
              "#f0f921"
             ]
            ],
            "type": "histogram2dcontour"
           }
          ],
          "mesh3d": [
           {
            "colorbar": {
             "outlinewidth": 0,
             "ticks": ""
            },
            "type": "mesh3d"
           }
          ],
          "parcoords": [
           {
            "line": {
             "colorbar": {
              "outlinewidth": 0,
              "ticks": ""
             }
            },
            "type": "parcoords"
           }
          ],
          "pie": [
           {
            "automargin": true,
            "type": "pie"
           }
          ],
          "scatter": [
           {
            "fillpattern": {
             "fillmode": "overlay",
             "size": 10,
             "solidity": 0.2
            },
            "type": "scatter"
           }
          ],
          "scatter3d": [
           {
            "line": {
             "colorbar": {
              "outlinewidth": 0,
              "ticks": ""
             }
            },
            "marker": {
             "colorbar": {
              "outlinewidth": 0,
              "ticks": ""
             }
            },
            "type": "scatter3d"
           }
          ],
          "scattercarpet": [
           {
            "marker": {
             "colorbar": {
              "outlinewidth": 0,
              "ticks": ""
             }
            },
            "type": "scattercarpet"
           }
          ],
          "scattergeo": [
           {
            "marker": {
             "colorbar": {
              "outlinewidth": 0,
              "ticks": ""
             }
            },
            "type": "scattergeo"
           }
          ],
          "scattergl": [
           {
            "marker": {
             "colorbar": {
              "outlinewidth": 0,
              "ticks": ""
             }
            },
            "type": "scattergl"
           }
          ],
          "scattermapbox": [
           {
            "marker": {
             "colorbar": {
              "outlinewidth": 0,
              "ticks": ""
             }
            },
            "type": "scattermapbox"
           }
          ],
          "scatterpolar": [
           {
            "marker": {
             "colorbar": {
              "outlinewidth": 0,
              "ticks": ""
             }
            },
            "type": "scatterpolar"
           }
          ],
          "scatterpolargl": [
           {
            "marker": {
             "colorbar": {
              "outlinewidth": 0,
              "ticks": ""
             }
            },
            "type": "scatterpolargl"
           }
          ],
          "scatterternary": [
           {
            "marker": {
             "colorbar": {
              "outlinewidth": 0,
              "ticks": ""
             }
            },
            "type": "scatterternary"
           }
          ],
          "surface": [
           {
            "colorbar": {
             "outlinewidth": 0,
             "ticks": ""
            },
            "colorscale": [
             [
              0.0,
              "#0d0887"
             ],
             [
              0.1111111111111111,
              "#46039f"
             ],
             [
              0.2222222222222222,
              "#7201a8"
             ],
             [
              0.3333333333333333,
              "#9c179e"
             ],
             [
              0.4444444444444444,
              "#bd3786"
             ],
             [
              0.5555555555555556,
              "#d8576b"
             ],
             [
              0.6666666666666666,
              "#ed7953"
             ],
             [
              0.7777777777777778,
              "#fb9f3a"
             ],
             [
              0.8888888888888888,
              "#fdca26"
             ],
             [
              1.0,
              "#f0f921"
             ]
            ],
            "type": "surface"
           }
          ],
          "table": [
           {
            "cells": {
             "fill": {
              "color": "#EBF0F8"
             },
             "line": {
              "color": "white"
             }
            },
            "header": {
             "fill": {
              "color": "#C8D4E3"
             },
             "line": {
              "color": "white"
             }
            },
            "type": "table"
           }
          ]
         },
         "layout": {
          "annotationdefaults": {
           "arrowcolor": "#2a3f5f",
           "arrowhead": 0,
           "arrowwidth": 1
          },
          "autotypenumbers": "strict",
          "coloraxis": {
           "colorbar": {
            "outlinewidth": 0,
            "ticks": ""
           }
          },
          "colorscale": {
           "diverging": [
            [
             0,
             "#8e0152"
            ],
            [
             0.1,
             "#c51b7d"
            ],
            [
             0.2,
             "#de77ae"
            ],
            [
             0.3,
             "#f1b6da"
            ],
            [
             0.4,
             "#fde0ef"
            ],
            [
             0.5,
             "#f7f7f7"
            ],
            [
             0.6,
             "#e6f5d0"
            ],
            [
             0.7,
             "#b8e186"
            ],
            [
             0.8,
             "#7fbc41"
            ],
            [
             0.9,
             "#4d9221"
            ],
            [
             1,
             "#276419"
            ]
           ],
           "sequential": [
            [
             0.0,
             "#0d0887"
            ],
            [
             0.1111111111111111,
             "#46039f"
            ],
            [
             0.2222222222222222,
             "#7201a8"
            ],
            [
             0.3333333333333333,
             "#9c179e"
            ],
            [
             0.4444444444444444,
             "#bd3786"
            ],
            [
             0.5555555555555556,
             "#d8576b"
            ],
            [
             0.6666666666666666,
             "#ed7953"
            ],
            [
             0.7777777777777778,
             "#fb9f3a"
            ],
            [
             0.8888888888888888,
             "#fdca26"
            ],
            [
             1.0,
             "#f0f921"
            ]
           ],
           "sequentialminus": [
            [
             0.0,
             "#0d0887"
            ],
            [
             0.1111111111111111,
             "#46039f"
            ],
            [
             0.2222222222222222,
             "#7201a8"
            ],
            [
             0.3333333333333333,
             "#9c179e"
            ],
            [
             0.4444444444444444,
             "#bd3786"
            ],
            [
             0.5555555555555556,
             "#d8576b"
            ],
            [
             0.6666666666666666,
             "#ed7953"
            ],
            [
             0.7777777777777778,
             "#fb9f3a"
            ],
            [
             0.8888888888888888,
             "#fdca26"
            ],
            [
             1.0,
             "#f0f921"
            ]
           ]
          },
          "colorway": [
           "#636efa",
           "#EF553B",
           "#00cc96",
           "#ab63fa",
           "#FFA15A",
           "#19d3f3",
           "#FF6692",
           "#B6E880",
           "#FF97FF",
           "#FECB52"
          ],
          "font": {
           "color": "#2a3f5f"
          },
          "geo": {
           "bgcolor": "white",
           "lakecolor": "white",
           "landcolor": "#E5ECF6",
           "showlakes": true,
           "showland": true,
           "subunitcolor": "white"
          },
          "hoverlabel": {
           "align": "left"
          },
          "hovermode": "closest",
          "mapbox": {
           "style": "light"
          },
          "paper_bgcolor": "white",
          "plot_bgcolor": "#E5ECF6",
          "polar": {
           "angularaxis": {
            "gridcolor": "white",
            "linecolor": "white",
            "ticks": ""
           },
           "bgcolor": "#E5ECF6",
           "radialaxis": {
            "gridcolor": "white",
            "linecolor": "white",
            "ticks": ""
           }
          },
          "scene": {
           "xaxis": {
            "backgroundcolor": "#E5ECF6",
            "gridcolor": "white",
            "gridwidth": 2,
            "linecolor": "white",
            "showbackground": true,
            "ticks": "",
            "zerolinecolor": "white"
           },
           "yaxis": {
            "backgroundcolor": "#E5ECF6",
            "gridcolor": "white",
            "gridwidth": 2,
            "linecolor": "white",
            "showbackground": true,
            "ticks": "",
            "zerolinecolor": "white"
           },
           "zaxis": {
            "backgroundcolor": "#E5ECF6",
            "gridcolor": "white",
            "gridwidth": 2,
            "linecolor": "white",
            "showbackground": true,
            "ticks": "",
            "zerolinecolor": "white"
           }
          },
          "shapedefaults": {
           "line": {
            "color": "#2a3f5f"
           }
          },
          "ternary": {
           "aaxis": {
            "gridcolor": "white",
            "linecolor": "white",
            "ticks": ""
           },
           "baxis": {
            "gridcolor": "white",
            "linecolor": "white",
            "ticks": ""
           },
           "bgcolor": "#E5ECF6",
           "caxis": {
            "gridcolor": "white",
            "linecolor": "white",
            "ticks": ""
           }
          },
          "title": {
           "x": 0.05
          },
          "xaxis": {
           "automargin": true,
           "gridcolor": "white",
           "linecolor": "white",
           "ticks": "",
           "title": {
            "standoff": 15
           },
           "zerolinecolor": "white",
           "zerolinewidth": 2
          },
          "yaxis": {
           "automargin": true,
           "gridcolor": "white",
           "linecolor": "white",
           "ticks": "",
           "title": {
            "standoff": 15
           },
           "zerolinecolor": "white",
           "zerolinewidth": 2
          }
         }
        },
        "title": {
         "automargin": true,
         "font": {
          "size": 18
         },
         "text": "Average Trip Duration per Hour",
         "yref": "paper"
        },
        "xaxis": {
         "anchor": "y",
         "domain": [
          0.0,
          1.0
         ],
         "dtick": 1,
         "range": [
          1,
          24
         ],
         "title": {
          "text": "Hours"
         }
        },
        "yaxis": {
         "anchor": "x",
         "domain": [
          0.0,
          1.0
         ],
         "range": [
          0,
          400000
         ],
         "title": {
          "text": "No. of Rides"
         }
        }
       }
      },
      "text/html": [
       "<div>                            <div id=\"dcd25c16-4901-4021-a6f6-75d363218a79\" class=\"plotly-graph-div\" style=\"height:525px; width:100%;\"></div>            <script type=\"text/javascript\">                require([\"plotly\"], function(Plotly) {                    window.PLOTLYENV=window.PLOTLYENV || {};                                    if (document.getElementById(\"dcd25c16-4901-4021-a6f6-75d363218a79\")) {                    Plotly.newPlot(                        \"dcd25c16-4901-4021-a6f6-75d363218a79\",                        [{\"customdata\":[[\"casual\",21230],[\"casual\",12684],[\"casual\",7028],[\"casual\",4651],[\"casual\",8633],[\"casual\",22909],[\"casual\",39515],[\"casual\",54332],[\"casual\",55873],[\"casual\",72632],[\"casual\",93956],[\"casual\",110755],[\"casual\",115171],[\"casual\",121622],[\"casual\",135107],[\"casual\",153464],[\"casual\",171034],[\"casual\",149882],[\"casual\",114013],[\"casual\",83234],[\"casual\",71218],[\"casual\",63264],[\"casual\",46154],[\"casual\",33317]],\"hovertemplate\":\"<b>%{hovertext}</b><br><br>Hours=%{x}<br>No. of Rides=%{y}<extra></extra>\",\"hovertext\":[\"casual\",\"casual\",\"casual\",\"casual\",\"casual\",\"casual\",\"casual\",\"casual\",\"casual\",\"casual\",\"casual\",\"casual\",\"casual\",\"casual\",\"casual\",\"casual\",\"casual\",\"casual\",\"casual\",\"casual\",\"casual\",\"casual\",\"casual\",\"casual\"],\"legendgroup\":\"casual\",\"line\":{\"color\":\"#FF934F\",\"dash\":\"solid\",\"shape\":\"spline\"},\"marker\":{\"symbol\":\"circle\"},\"mode\":\"lines+markers\",\"name\":\"casual\",\"orientation\":\"v\",\"showlegend\":true,\"x\":[1,2,3,4,5,6,7,8,9,10,11,12,13,14,15,16,17,18,19,20,21,22,23,24],\"xaxis\":\"x\",\"y\":[21230,12684,7028,4651,8633,22909,39515,54332,55873,72632,93956,110755,115171,121622,135107,153464,171034,149882,114013,83234,71218,63264,46154,33317],\"yaxis\":\"y\",\"type\":\"scatter\"},{\"customdata\":[[\"member\",15671],[\"member\",8714],[\"member\",5240],[\"member\",6064],[\"member\",25663],[\"member\",78731],[\"member\",146839],[\"member\",173623],[\"member\",116811],[\"member\",107315],[\"member\",127215],[\"member\",146500],[\"member\",144850],[\"member\",144788],[\"member\",178182],[\"member\",241499],[\"member\",290699],[\"member\",229009],[\"member\",163251],[\"member\",113258],[\"member\",87511],[\"member\",64848],[\"member\",40984],[\"member\",25639]],\"hovertemplate\":\"<b>%{hovertext}</b><br><br>Hours=%{x}<br>No. of Rides=%{y}<extra></extra>\",\"hovertext\":[\"member\",\"member\",\"member\",\"member\",\"member\",\"member\",\"member\",\"member\",\"member\",\"member\",\"member\",\"member\",\"member\",\"member\",\"member\",\"member\",\"member\",\"member\",\"member\",\"member\",\"member\",\"member\",\"member\",\"member\"],\"legendgroup\":\"member\",\"line\":{\"color\":\"#058ED9\",\"dash\":\"solid\",\"shape\":\"spline\"},\"marker\":{\"symbol\":\"circle\"},\"mode\":\"lines+markers\",\"name\":\"member\",\"orientation\":\"v\",\"showlegend\":true,\"x\":[1,2,3,4,5,6,7,8,9,10,11,12,13,14,15,16,17,18,19,20,21,22,23,24],\"xaxis\":\"x\",\"y\":[15671,8714,5240,6064,25663,78731,146839,173623,116811,107315,127215,146500,144850,144788,178182,241499,290699,229009,163251,113258,87511,64848,40984,25639],\"yaxis\":\"y\",\"type\":\"scatter\"}],                        {\"template\":{\"data\":{\"histogram2dcontour\":[{\"type\":\"histogram2dcontour\",\"colorbar\":{\"outlinewidth\":0,\"ticks\":\"\"},\"colorscale\":[[0.0,\"#0d0887\"],[0.1111111111111111,\"#46039f\"],[0.2222222222222222,\"#7201a8\"],[0.3333333333333333,\"#9c179e\"],[0.4444444444444444,\"#bd3786\"],[0.5555555555555556,\"#d8576b\"],[0.6666666666666666,\"#ed7953\"],[0.7777777777777778,\"#fb9f3a\"],[0.8888888888888888,\"#fdca26\"],[1.0,\"#f0f921\"]]}],\"choropleth\":[{\"type\":\"choropleth\",\"colorbar\":{\"outlinewidth\":0,\"ticks\":\"\"}}],\"histogram2d\":[{\"type\":\"histogram2d\",\"colorbar\":{\"outlinewidth\":0,\"ticks\":\"\"},\"colorscale\":[[0.0,\"#0d0887\"],[0.1111111111111111,\"#46039f\"],[0.2222222222222222,\"#7201a8\"],[0.3333333333333333,\"#9c179e\"],[0.4444444444444444,\"#bd3786\"],[0.5555555555555556,\"#d8576b\"],[0.6666666666666666,\"#ed7953\"],[0.7777777777777778,\"#fb9f3a\"],[0.8888888888888888,\"#fdca26\"],[1.0,\"#f0f921\"]]}],\"heatmap\":[{\"type\":\"heatmap\",\"colorbar\":{\"outlinewidth\":0,\"ticks\":\"\"},\"colorscale\":[[0.0,\"#0d0887\"],[0.1111111111111111,\"#46039f\"],[0.2222222222222222,\"#7201a8\"],[0.3333333333333333,\"#9c179e\"],[0.4444444444444444,\"#bd3786\"],[0.5555555555555556,\"#d8576b\"],[0.6666666666666666,\"#ed7953\"],[0.7777777777777778,\"#fb9f3a\"],[0.8888888888888888,\"#fdca26\"],[1.0,\"#f0f921\"]]}],\"heatmapgl\":[{\"type\":\"heatmapgl\",\"colorbar\":{\"outlinewidth\":0,\"ticks\":\"\"},\"colorscale\":[[0.0,\"#0d0887\"],[0.1111111111111111,\"#46039f\"],[0.2222222222222222,\"#7201a8\"],[0.3333333333333333,\"#9c179e\"],[0.4444444444444444,\"#bd3786\"],[0.5555555555555556,\"#d8576b\"],[0.6666666666666666,\"#ed7953\"],[0.7777777777777778,\"#fb9f3a\"],[0.8888888888888888,\"#fdca26\"],[1.0,\"#f0f921\"]]}],\"contourcarpet\":[{\"type\":\"contourcarpet\",\"colorbar\":{\"outlinewidth\":0,\"ticks\":\"\"}}],\"contour\":[{\"type\":\"contour\",\"colorbar\":{\"outlinewidth\":0,\"ticks\":\"\"},\"colorscale\":[[0.0,\"#0d0887\"],[0.1111111111111111,\"#46039f\"],[0.2222222222222222,\"#7201a8\"],[0.3333333333333333,\"#9c179e\"],[0.4444444444444444,\"#bd3786\"],[0.5555555555555556,\"#d8576b\"],[0.6666666666666666,\"#ed7953\"],[0.7777777777777778,\"#fb9f3a\"],[0.8888888888888888,\"#fdca26\"],[1.0,\"#f0f921\"]]}],\"surface\":[{\"type\":\"surface\",\"colorbar\":{\"outlinewidth\":0,\"ticks\":\"\"},\"colorscale\":[[0.0,\"#0d0887\"],[0.1111111111111111,\"#46039f\"],[0.2222222222222222,\"#7201a8\"],[0.3333333333333333,\"#9c179e\"],[0.4444444444444444,\"#bd3786\"],[0.5555555555555556,\"#d8576b\"],[0.6666666666666666,\"#ed7953\"],[0.7777777777777778,\"#fb9f3a\"],[0.8888888888888888,\"#fdca26\"],[1.0,\"#f0f921\"]]}],\"mesh3d\":[{\"type\":\"mesh3d\",\"colorbar\":{\"outlinewidth\":0,\"ticks\":\"\"}}],\"scatter\":[{\"fillpattern\":{\"fillmode\":\"overlay\",\"size\":10,\"solidity\":0.2},\"type\":\"scatter\"}],\"parcoords\":[{\"type\":\"parcoords\",\"line\":{\"colorbar\":{\"outlinewidth\":0,\"ticks\":\"\"}}}],\"scatterpolargl\":[{\"type\":\"scatterpolargl\",\"marker\":{\"colorbar\":{\"outlinewidth\":0,\"ticks\":\"\"}}}],\"bar\":[{\"error_x\":{\"color\":\"#2a3f5f\"},\"error_y\":{\"color\":\"#2a3f5f\"},\"marker\":{\"line\":{\"color\":\"#E5ECF6\",\"width\":0.5},\"pattern\":{\"fillmode\":\"overlay\",\"size\":10,\"solidity\":0.2}},\"type\":\"bar\"}],\"scattergeo\":[{\"type\":\"scattergeo\",\"marker\":{\"colorbar\":{\"outlinewidth\":0,\"ticks\":\"\"}}}],\"scatterpolar\":[{\"type\":\"scatterpolar\",\"marker\":{\"colorbar\":{\"outlinewidth\":0,\"ticks\":\"\"}}}],\"histogram\":[{\"marker\":{\"pattern\":{\"fillmode\":\"overlay\",\"size\":10,\"solidity\":0.2}},\"type\":\"histogram\"}],\"scattergl\":[{\"type\":\"scattergl\",\"marker\":{\"colorbar\":{\"outlinewidth\":0,\"ticks\":\"\"}}}],\"scatter3d\":[{\"type\":\"scatter3d\",\"line\":{\"colorbar\":{\"outlinewidth\":0,\"ticks\":\"\"}},\"marker\":{\"colorbar\":{\"outlinewidth\":0,\"ticks\":\"\"}}}],\"scattermapbox\":[{\"type\":\"scattermapbox\",\"marker\":{\"colorbar\":{\"outlinewidth\":0,\"ticks\":\"\"}}}],\"scatterternary\":[{\"type\":\"scatterternary\",\"marker\":{\"colorbar\":{\"outlinewidth\":0,\"ticks\":\"\"}}}],\"scattercarpet\":[{\"type\":\"scattercarpet\",\"marker\":{\"colorbar\":{\"outlinewidth\":0,\"ticks\":\"\"}}}],\"carpet\":[{\"aaxis\":{\"endlinecolor\":\"#2a3f5f\",\"gridcolor\":\"white\",\"linecolor\":\"white\",\"minorgridcolor\":\"white\",\"startlinecolor\":\"#2a3f5f\"},\"baxis\":{\"endlinecolor\":\"#2a3f5f\",\"gridcolor\":\"white\",\"linecolor\":\"white\",\"minorgridcolor\":\"white\",\"startlinecolor\":\"#2a3f5f\"},\"type\":\"carpet\"}],\"table\":[{\"cells\":{\"fill\":{\"color\":\"#EBF0F8\"},\"line\":{\"color\":\"white\"}},\"header\":{\"fill\":{\"color\":\"#C8D4E3\"},\"line\":{\"color\":\"white\"}},\"type\":\"table\"}],\"barpolar\":[{\"marker\":{\"line\":{\"color\":\"#E5ECF6\",\"width\":0.5},\"pattern\":{\"fillmode\":\"overlay\",\"size\":10,\"solidity\":0.2}},\"type\":\"barpolar\"}],\"pie\":[{\"automargin\":true,\"type\":\"pie\"}]},\"layout\":{\"autotypenumbers\":\"strict\",\"colorway\":[\"#636efa\",\"#EF553B\",\"#00cc96\",\"#ab63fa\",\"#FFA15A\",\"#19d3f3\",\"#FF6692\",\"#B6E880\",\"#FF97FF\",\"#FECB52\"],\"font\":{\"color\":\"#2a3f5f\"},\"hovermode\":\"closest\",\"hoverlabel\":{\"align\":\"left\"},\"paper_bgcolor\":\"white\",\"plot_bgcolor\":\"#E5ECF6\",\"polar\":{\"bgcolor\":\"#E5ECF6\",\"angularaxis\":{\"gridcolor\":\"white\",\"linecolor\":\"white\",\"ticks\":\"\"},\"radialaxis\":{\"gridcolor\":\"white\",\"linecolor\":\"white\",\"ticks\":\"\"}},\"ternary\":{\"bgcolor\":\"#E5ECF6\",\"aaxis\":{\"gridcolor\":\"white\",\"linecolor\":\"white\",\"ticks\":\"\"},\"baxis\":{\"gridcolor\":\"white\",\"linecolor\":\"white\",\"ticks\":\"\"},\"caxis\":{\"gridcolor\":\"white\",\"linecolor\":\"white\",\"ticks\":\"\"}},\"coloraxis\":{\"colorbar\":{\"outlinewidth\":0,\"ticks\":\"\"}},\"colorscale\":{\"sequential\":[[0.0,\"#0d0887\"],[0.1111111111111111,\"#46039f\"],[0.2222222222222222,\"#7201a8\"],[0.3333333333333333,\"#9c179e\"],[0.4444444444444444,\"#bd3786\"],[0.5555555555555556,\"#d8576b\"],[0.6666666666666666,\"#ed7953\"],[0.7777777777777778,\"#fb9f3a\"],[0.8888888888888888,\"#fdca26\"],[1.0,\"#f0f921\"]],\"sequentialminus\":[[0.0,\"#0d0887\"],[0.1111111111111111,\"#46039f\"],[0.2222222222222222,\"#7201a8\"],[0.3333333333333333,\"#9c179e\"],[0.4444444444444444,\"#bd3786\"],[0.5555555555555556,\"#d8576b\"],[0.6666666666666666,\"#ed7953\"],[0.7777777777777778,\"#fb9f3a\"],[0.8888888888888888,\"#fdca26\"],[1.0,\"#f0f921\"]],\"diverging\":[[0,\"#8e0152\"],[0.1,\"#c51b7d\"],[0.2,\"#de77ae\"],[0.3,\"#f1b6da\"],[0.4,\"#fde0ef\"],[0.5,\"#f7f7f7\"],[0.6,\"#e6f5d0\"],[0.7,\"#b8e186\"],[0.8,\"#7fbc41\"],[0.9,\"#4d9221\"],[1,\"#276419\"]]},\"xaxis\":{\"gridcolor\":\"white\",\"linecolor\":\"white\",\"ticks\":\"\",\"title\":{\"standoff\":15},\"zerolinecolor\":\"white\",\"automargin\":true,\"zerolinewidth\":2},\"yaxis\":{\"gridcolor\":\"white\",\"linecolor\":\"white\",\"ticks\":\"\",\"title\":{\"standoff\":15},\"zerolinecolor\":\"white\",\"automargin\":true,\"zerolinewidth\":2},\"scene\":{\"xaxis\":{\"backgroundcolor\":\"#E5ECF6\",\"gridcolor\":\"white\",\"linecolor\":\"white\",\"showbackground\":true,\"ticks\":\"\",\"zerolinecolor\":\"white\",\"gridwidth\":2},\"yaxis\":{\"backgroundcolor\":\"#E5ECF6\",\"gridcolor\":\"white\",\"linecolor\":\"white\",\"showbackground\":true,\"ticks\":\"\",\"zerolinecolor\":\"white\",\"gridwidth\":2},\"zaxis\":{\"backgroundcolor\":\"#E5ECF6\",\"gridcolor\":\"white\",\"linecolor\":\"white\",\"showbackground\":true,\"ticks\":\"\",\"zerolinecolor\":\"white\",\"gridwidth\":2}},\"shapedefaults\":{\"line\":{\"color\":\"#2a3f5f\"}},\"annotationdefaults\":{\"arrowcolor\":\"#2a3f5f\",\"arrowhead\":0,\"arrowwidth\":1},\"geo\":{\"bgcolor\":\"white\",\"landcolor\":\"#E5ECF6\",\"subunitcolor\":\"white\",\"showland\":true,\"showlakes\":true,\"lakecolor\":\"white\"},\"title\":{\"x\":0.05},\"mapbox\":{\"style\":\"light\"}}},\"xaxis\":{\"anchor\":\"y\",\"domain\":[0.0,1.0],\"title\":{\"text\":\"Hours\"},\"range\":[1,24],\"dtick\":1},\"yaxis\":{\"anchor\":\"x\",\"domain\":[0.0,1.0],\"title\":{\"text\":\"No. of Rides\"},\"range\":[0,400000]},\"legend\":{\"title\":{\"text\":\"User Type\"},\"tracegroupgap\":0},\"title\":{\"text\":\"Average Trip Duration per Hour\",\"font\":{\"size\":18},\"automargin\":true,\"yref\":\"paper\"}},                        {\"responsive\": true}                    ).then(function(){\n",
       "                            \n",
       "var gd = document.getElementById('dcd25c16-4901-4021-a6f6-75d363218a79');\n",
       "var x = new MutationObserver(function (mutations, observer) {{\n",
       "        var display = window.getComputedStyle(gd).display;\n",
       "        if (!display || display === 'none') {{\n",
       "            console.log([gd, 'removed!']);\n",
       "            Plotly.purge(gd);\n",
       "            observer.disconnect();\n",
       "        }}\n",
       "}});\n",
       "\n",
       "// Listen for the removal of the full notebook cells\n",
       "var notebookContainer = gd.closest('#notebook-container');\n",
       "if (notebookContainer) {{\n",
       "    x.observe(notebookContainer, {childList: true});\n",
       "}}\n",
       "\n",
       "// Listen for the clearing of the current output cell\n",
       "var outputEl = gd.closest('.output');\n",
       "if (outputEl) {{\n",
       "    x.observe(outputEl, {childList: true});\n",
       "}}\n",
       "\n",
       "                        })                };                });            </script>        </div>"
      ]
     },
     "metadata": {},
     "output_type": "display_data"
    }
   ],
   "source": [
    "df_pv9 = cyc_data_combined.groupby(['hour', 'member_casual'], as_index=False).count()\n",
    "fig_5 = px.line(df_pv9, x = 'hour', y = 'ride_id', range_x = [1,24], range_y = [0,400000],\n",
    "                 color = 'member_casual',\n",
    "                 line_shape = 'spline',\n",
    "                 markers=True,\n",
    "                 labels = {'ride_id': 'No. of Rides', 'hour': 'Hours', 'member_casual': 'User Type'},\n",
    "                 hover_name = 'member_casual', hover_data = {'member_casual': False, 'month': False, 'ride_id': True},\n",
    "                 color_discrete_map = {'casual': '#FF934F', 'member': '#058ED9'},\n",
    "                 title=\"Average Trip Duration per Hour\")\n",
    "fig_5.update_xaxes(dtick=1)\n",
    "fig_5.update_layout(\n",
    "    title=dict(font=dict(size=18), automargin=True, yref='paper')\n",
    ")"
   ]
  },
  {
   "cell_type": "markdown",
   "id": "44ab2b26",
   "metadata": {
    "papermill": {
     "duration": 0.088369,
     "end_time": "2023-06-14T21:23:02.962348",
     "exception": false,
     "start_time": "2023-06-14T21:23:02.873979",
     "status": "completed"
    },
    "tags": []
   },
   "source": [
    "__Fig.5__ - Number of trips undertaken in a 24-hour period. Peak hours for both casual riders and members ranges from 3-7pm. A second rush hour peak, intensity to a lower extent, is observed from 6-9am amongst members. "
   ]
  },
  {
   "cell_type": "code",
   "execution_count": 49,
   "id": "38de25af",
   "metadata": {
    "execution": {
     "iopub.execute_input": "2023-06-14T21:23:03.139421Z",
     "iopub.status.busy": "2023-06-14T21:23:03.139040Z",
     "iopub.status.idle": "2023-06-14T21:23:05.337930Z",
     "shell.execute_reply": "2023-06-14T21:23:05.336812Z"
    },
    "papermill": {
     "duration": 2.2902,
     "end_time": "2023-06-14T21:23:05.340467",
     "exception": false,
     "start_time": "2023-06-14T21:23:03.050267",
     "status": "completed"
    },
    "tags": []
   },
   "outputs": [
    {
     "data": {
      "text/html": [
       "<div>\n",
       "<style scoped>\n",
       "    .dataframe tbody tr th:only-of-type {\n",
       "        vertical-align: middle;\n",
       "    }\n",
       "\n",
       "    .dataframe tbody tr th {\n",
       "        vertical-align: top;\n",
       "    }\n",
       "\n",
       "    .dataframe thead tr th {\n",
       "        text-align: left;\n",
       "    }\n",
       "\n",
       "    .dataframe thead tr:last-of-type th {\n",
       "        text-align: right;\n",
       "    }\n",
       "</style>\n",
       "<table border=\"1\" class=\"dataframe\">\n",
       "  <thead>\n",
       "    <tr>\n",
       "      <th></th>\n",
       "      <th></th>\n",
       "      <th>count</th>\n",
       "    </tr>\n",
       "    <tr>\n",
       "      <th></th>\n",
       "      <th></th>\n",
       "      <th>ride_id</th>\n",
       "    </tr>\n",
       "    <tr>\n",
       "      <th>season</th>\n",
       "      <th>member_casual</th>\n",
       "      <th></th>\n",
       "    </tr>\n",
       "  </thead>\n",
       "  <tbody>\n",
       "    <tr>\n",
       "      <th rowspan=\"2\" valign=\"top\">Autumn</th>\n",
       "      <th>casual</th>\n",
       "      <td>438716</td>\n",
       "    </tr>\n",
       "    <tr>\n",
       "      <th>member</th>\n",
       "      <td>744070</td>\n",
       "    </tr>\n",
       "    <tr>\n",
       "      <th rowspan=\"2\" valign=\"top\">Spring</th>\n",
       "      <th>casual</th>\n",
       "      <td>370840</td>\n",
       "    </tr>\n",
       "    <tr>\n",
       "      <th>member</th>\n",
       "      <td>632731</td>\n",
       "    </tr>\n",
       "    <tr>\n",
       "      <th rowspan=\"2\" valign=\"top\">Summer</th>\n",
       "      <th>casual</th>\n",
       "      <td>859913</td>\n",
       "    </tr>\n",
       "    <tr>\n",
       "      <th>member</th>\n",
       "      <td>975140</td>\n",
       "    </tr>\n",
       "    <tr>\n",
       "      <th rowspan=\"2\" valign=\"top\">Winter</th>\n",
       "      <th>casual</th>\n",
       "      <td>92209</td>\n",
       "    </tr>\n",
       "    <tr>\n",
       "      <th>member</th>\n",
       "      <td>330963</td>\n",
       "    </tr>\n",
       "  </tbody>\n",
       "</table>\n",
       "</div>"
      ],
      "text/plain": [
       "                       count\n",
       "                     ride_id\n",
       "season member_casual        \n",
       "Autumn casual         438716\n",
       "       member         744070\n",
       "Spring casual         370840\n",
       "       member         632731\n",
       "Summer casual         859913\n",
       "       member         975140\n",
       "Winter casual          92209\n",
       "       member         330963"
      ]
     },
     "execution_count": 49,
     "metadata": {},
     "output_type": "execute_result"
    }
   ],
   "source": [
    "df_pv8a = pd.pivot_table(cyc_data_combined,\n",
    "              index = ['season', 'member_casual'],\n",
    "              values = 'ride_id',\n",
    "              aggfunc = ['count'],\n",
    "              margins = False,\n",
    "              margins_name = 'Total Count')\n",
    "df_pv8a"
   ]
  },
  {
   "cell_type": "markdown",
   "id": "a63c5645",
   "metadata": {
    "papermill": {
     "duration": 0.087247,
     "end_time": "2023-06-14T21:23:05.515235",
     "exception": false,
     "start_time": "2023-06-14T21:23:05.427988",
     "status": "completed"
    },
    "tags": []
   },
   "source": [
    "#### <span style='color:#2D8FC5'>Average trip length</span>"
   ]
  },
  {
   "cell_type": "code",
   "execution_count": 50,
   "id": "ab7befc3",
   "metadata": {
    "execution": {
     "iopub.execute_input": "2023-06-14T21:23:05.695042Z",
     "iopub.status.busy": "2023-06-14T21:23:05.694626Z",
     "iopub.status.idle": "2023-06-14T21:23:05.938368Z",
     "shell.execute_reply": "2023-06-14T21:23:05.937273Z"
    },
    "papermill": {
     "duration": 0.336408,
     "end_time": "2023-06-14T21:23:05.940804",
     "exception": false,
     "start_time": "2023-06-14T21:23:05.604396",
     "status": "completed"
    },
    "tags": []
   },
   "outputs": [
    {
     "data": {
      "text/html": [
       "<div>\n",
       "<style scoped>\n",
       "    .dataframe tbody tr th:only-of-type {\n",
       "        vertical-align: middle;\n",
       "    }\n",
       "\n",
       "    .dataframe tbody tr th {\n",
       "        vertical-align: top;\n",
       "    }\n",
       "\n",
       "    .dataframe thead tr th {\n",
       "        text-align: left;\n",
       "    }\n",
       "\n",
       "    .dataframe thead tr:last-of-type th {\n",
       "        text-align: right;\n",
       "    }\n",
       "</style>\n",
       "<table border=\"1\" class=\"dataframe\">\n",
       "  <thead>\n",
       "    <tr>\n",
       "      <th></th>\n",
       "      <th>mean</th>\n",
       "    </tr>\n",
       "    <tr>\n",
       "      <th></th>\n",
       "      <th>ride_length_min</th>\n",
       "    </tr>\n",
       "    <tr>\n",
       "      <th>member_casual</th>\n",
       "      <th></th>\n",
       "    </tr>\n",
       "  </thead>\n",
       "  <tbody>\n",
       "    <tr>\n",
       "      <th>casual</th>\n",
       "      <td>23.043702</td>\n",
       "    </tr>\n",
       "    <tr>\n",
       "      <th>member</th>\n",
       "      <td>12.029953</td>\n",
       "    </tr>\n",
       "    <tr>\n",
       "      <th>Total Ride Average</th>\n",
       "      <td>16.395421</td>\n",
       "    </tr>\n",
       "  </tbody>\n",
       "</table>\n",
       "</div>"
      ],
      "text/plain": [
       "                              mean\n",
       "                   ride_length_min\n",
       "member_casual                     \n",
       "casual                   23.043702\n",
       "member                   12.029953\n",
       "Total Ride Average       16.395421"
      ]
     },
     "execution_count": 50,
     "metadata": {},
     "output_type": "execute_result"
    }
   ],
   "source": [
    "df_pv10 = pd.pivot_table(cyc_data_combined,\n",
    "               index = 'member_casual',\n",
    "               values = ['ride_length_min'],\n",
    "               aggfunc = ['mean'],\n",
    "               margins = True,\n",
    "               margins_name = 'Total Ride Average')\n",
    "df_pv10"
   ]
  },
  {
   "cell_type": "code",
   "execution_count": 51,
   "id": "3824a57b",
   "metadata": {
    "execution": {
     "iopub.execute_input": "2023-06-14T21:23:06.119808Z",
     "iopub.status.busy": "2023-06-14T21:23:06.119431Z",
     "iopub.status.idle": "2023-06-14T21:23:06.273454Z",
     "shell.execute_reply": "2023-06-14T21:23:06.272336Z"
    },
    "papermill": {
     "duration": 0.24582,
     "end_time": "2023-06-14T21:23:06.275941",
     "exception": false,
     "start_time": "2023-06-14T21:23:06.030121",
     "status": "completed"
    },
    "tags": []
   },
   "outputs": [
    {
     "data": {
      "application/vnd.plotly.v1+json": {
       "config": {
        "plotlyServerURL": "https://plot.ly"
       },
       "data": [
        {
         "alignmentgroup": "True",
         "hovertemplate": "<b>%{hovertext}</b><br><br>Average trip length (minutes)=%{text}<extra></extra>",
         "hovertext": [
          "casual"
         ],
         "legendgroup": "casual",
         "marker": {
          "color": "#FF934F",
          "pattern": {
           "shape": ""
          }
         },
         "name": "casual",
         "offsetgroup": "casual",
         "orientation": "h",
         "showlegend": true,
         "text": [
          23.04
         ],
         "textposition": "auto",
         "type": "bar",
         "x": [
          23.04
         ],
         "xaxis": "x",
         "y": [
          "casual"
         ],
         "yaxis": "y"
        },
        {
         "alignmentgroup": "True",
         "hovertemplate": "<b>%{hovertext}</b><br><br>Average trip length (minutes)=%{text}<extra></extra>",
         "hovertext": [
          "member"
         ],
         "legendgroup": "member",
         "marker": {
          "color": "#058ED9",
          "pattern": {
           "shape": ""
          }
         },
         "name": "member",
         "offsetgroup": "member",
         "orientation": "h",
         "showlegend": true,
         "text": [
          12.03
         ],
         "textposition": "auto",
         "type": "bar",
         "x": [
          12.03
         ],
         "xaxis": "x",
         "y": [
          "member"
         ],
         "yaxis": "y"
        }
       ],
       "layout": {
        "barmode": "relative",
        "height": 300,
        "legend": {
         "title": {
          "text": "User Type"
         },
         "tracegroupgap": 0
        },
        "margin": {
         "t": 60
        },
        "template": {
         "data": {
          "bar": [
           {
            "error_x": {
             "color": "#2a3f5f"
            },
            "error_y": {
             "color": "#2a3f5f"
            },
            "marker": {
             "line": {
              "color": "#E5ECF6",
              "width": 0.5
             },
             "pattern": {
              "fillmode": "overlay",
              "size": 10,
              "solidity": 0.2
             }
            },
            "type": "bar"
           }
          ],
          "barpolar": [
           {
            "marker": {
             "line": {
              "color": "#E5ECF6",
              "width": 0.5
             },
             "pattern": {
              "fillmode": "overlay",
              "size": 10,
              "solidity": 0.2
             }
            },
            "type": "barpolar"
           }
          ],
          "carpet": [
           {
            "aaxis": {
             "endlinecolor": "#2a3f5f",
             "gridcolor": "white",
             "linecolor": "white",
             "minorgridcolor": "white",
             "startlinecolor": "#2a3f5f"
            },
            "baxis": {
             "endlinecolor": "#2a3f5f",
             "gridcolor": "white",
             "linecolor": "white",
             "minorgridcolor": "white",
             "startlinecolor": "#2a3f5f"
            },
            "type": "carpet"
           }
          ],
          "choropleth": [
           {
            "colorbar": {
             "outlinewidth": 0,
             "ticks": ""
            },
            "type": "choropleth"
           }
          ],
          "contour": [
           {
            "colorbar": {
             "outlinewidth": 0,
             "ticks": ""
            },
            "colorscale": [
             [
              0.0,
              "#0d0887"
             ],
             [
              0.1111111111111111,
              "#46039f"
             ],
             [
              0.2222222222222222,
              "#7201a8"
             ],
             [
              0.3333333333333333,
              "#9c179e"
             ],
             [
              0.4444444444444444,
              "#bd3786"
             ],
             [
              0.5555555555555556,
              "#d8576b"
             ],
             [
              0.6666666666666666,
              "#ed7953"
             ],
             [
              0.7777777777777778,
              "#fb9f3a"
             ],
             [
              0.8888888888888888,
              "#fdca26"
             ],
             [
              1.0,
              "#f0f921"
             ]
            ],
            "type": "contour"
           }
          ],
          "contourcarpet": [
           {
            "colorbar": {
             "outlinewidth": 0,
             "ticks": ""
            },
            "type": "contourcarpet"
           }
          ],
          "heatmap": [
           {
            "colorbar": {
             "outlinewidth": 0,
             "ticks": ""
            },
            "colorscale": [
             [
              0.0,
              "#0d0887"
             ],
             [
              0.1111111111111111,
              "#46039f"
             ],
             [
              0.2222222222222222,
              "#7201a8"
             ],
             [
              0.3333333333333333,
              "#9c179e"
             ],
             [
              0.4444444444444444,
              "#bd3786"
             ],
             [
              0.5555555555555556,
              "#d8576b"
             ],
             [
              0.6666666666666666,
              "#ed7953"
             ],
             [
              0.7777777777777778,
              "#fb9f3a"
             ],
             [
              0.8888888888888888,
              "#fdca26"
             ],
             [
              1.0,
              "#f0f921"
             ]
            ],
            "type": "heatmap"
           }
          ],
          "heatmapgl": [
           {
            "colorbar": {
             "outlinewidth": 0,
             "ticks": ""
            },
            "colorscale": [
             [
              0.0,
              "#0d0887"
             ],
             [
              0.1111111111111111,
              "#46039f"
             ],
             [
              0.2222222222222222,
              "#7201a8"
             ],
             [
              0.3333333333333333,
              "#9c179e"
             ],
             [
              0.4444444444444444,
              "#bd3786"
             ],
             [
              0.5555555555555556,
              "#d8576b"
             ],
             [
              0.6666666666666666,
              "#ed7953"
             ],
             [
              0.7777777777777778,
              "#fb9f3a"
             ],
             [
              0.8888888888888888,
              "#fdca26"
             ],
             [
              1.0,
              "#f0f921"
             ]
            ],
            "type": "heatmapgl"
           }
          ],
          "histogram": [
           {
            "marker": {
             "pattern": {
              "fillmode": "overlay",
              "size": 10,
              "solidity": 0.2
             }
            },
            "type": "histogram"
           }
          ],
          "histogram2d": [
           {
            "colorbar": {
             "outlinewidth": 0,
             "ticks": ""
            },
            "colorscale": [
             [
              0.0,
              "#0d0887"
             ],
             [
              0.1111111111111111,
              "#46039f"
             ],
             [
              0.2222222222222222,
              "#7201a8"
             ],
             [
              0.3333333333333333,
              "#9c179e"
             ],
             [
              0.4444444444444444,
              "#bd3786"
             ],
             [
              0.5555555555555556,
              "#d8576b"
             ],
             [
              0.6666666666666666,
              "#ed7953"
             ],
             [
              0.7777777777777778,
              "#fb9f3a"
             ],
             [
              0.8888888888888888,
              "#fdca26"
             ],
             [
              1.0,
              "#f0f921"
             ]
            ],
            "type": "histogram2d"
           }
          ],
          "histogram2dcontour": [
           {
            "colorbar": {
             "outlinewidth": 0,
             "ticks": ""
            },
            "colorscale": [
             [
              0.0,
              "#0d0887"
             ],
             [
              0.1111111111111111,
              "#46039f"
             ],
             [
              0.2222222222222222,
              "#7201a8"
             ],
             [
              0.3333333333333333,
              "#9c179e"
             ],
             [
              0.4444444444444444,
              "#bd3786"
             ],
             [
              0.5555555555555556,
              "#d8576b"
             ],
             [
              0.6666666666666666,
              "#ed7953"
             ],
             [
              0.7777777777777778,
              "#fb9f3a"
             ],
             [
              0.8888888888888888,
              "#fdca26"
             ],
             [
              1.0,
              "#f0f921"
             ]
            ],
            "type": "histogram2dcontour"
           }
          ],
          "mesh3d": [
           {
            "colorbar": {
             "outlinewidth": 0,
             "ticks": ""
            },
            "type": "mesh3d"
           }
          ],
          "parcoords": [
           {
            "line": {
             "colorbar": {
              "outlinewidth": 0,
              "ticks": ""
             }
            },
            "type": "parcoords"
           }
          ],
          "pie": [
           {
            "automargin": true,
            "type": "pie"
           }
          ],
          "scatter": [
           {
            "fillpattern": {
             "fillmode": "overlay",
             "size": 10,
             "solidity": 0.2
            },
            "type": "scatter"
           }
          ],
          "scatter3d": [
           {
            "line": {
             "colorbar": {
              "outlinewidth": 0,
              "ticks": ""
             }
            },
            "marker": {
             "colorbar": {
              "outlinewidth": 0,
              "ticks": ""
             }
            },
            "type": "scatter3d"
           }
          ],
          "scattercarpet": [
           {
            "marker": {
             "colorbar": {
              "outlinewidth": 0,
              "ticks": ""
             }
            },
            "type": "scattercarpet"
           }
          ],
          "scattergeo": [
           {
            "marker": {
             "colorbar": {
              "outlinewidth": 0,
              "ticks": ""
             }
            },
            "type": "scattergeo"
           }
          ],
          "scattergl": [
           {
            "marker": {
             "colorbar": {
              "outlinewidth": 0,
              "ticks": ""
             }
            },
            "type": "scattergl"
           }
          ],
          "scattermapbox": [
           {
            "marker": {
             "colorbar": {
              "outlinewidth": 0,
              "ticks": ""
             }
            },
            "type": "scattermapbox"
           }
          ],
          "scatterpolar": [
           {
            "marker": {
             "colorbar": {
              "outlinewidth": 0,
              "ticks": ""
             }
            },
            "type": "scatterpolar"
           }
          ],
          "scatterpolargl": [
           {
            "marker": {
             "colorbar": {
              "outlinewidth": 0,
              "ticks": ""
             }
            },
            "type": "scatterpolargl"
           }
          ],
          "scatterternary": [
           {
            "marker": {
             "colorbar": {
              "outlinewidth": 0,
              "ticks": ""
             }
            },
            "type": "scatterternary"
           }
          ],
          "surface": [
           {
            "colorbar": {
             "outlinewidth": 0,
             "ticks": ""
            },
            "colorscale": [
             [
              0.0,
              "#0d0887"
             ],
             [
              0.1111111111111111,
              "#46039f"
             ],
             [
              0.2222222222222222,
              "#7201a8"
             ],
             [
              0.3333333333333333,
              "#9c179e"
             ],
             [
              0.4444444444444444,
              "#bd3786"
             ],
             [
              0.5555555555555556,
              "#d8576b"
             ],
             [
              0.6666666666666666,
              "#ed7953"
             ],
             [
              0.7777777777777778,
              "#fb9f3a"
             ],
             [
              0.8888888888888888,
              "#fdca26"
             ],
             [
              1.0,
              "#f0f921"
             ]
            ],
            "type": "surface"
           }
          ],
          "table": [
           {
            "cells": {
             "fill": {
              "color": "#EBF0F8"
             },
             "line": {
              "color": "white"
             }
            },
            "header": {
             "fill": {
              "color": "#C8D4E3"
             },
             "line": {
              "color": "white"
             }
            },
            "type": "table"
           }
          ]
         },
         "layout": {
          "annotationdefaults": {
           "arrowcolor": "#2a3f5f",
           "arrowhead": 0,
           "arrowwidth": 1
          },
          "autotypenumbers": "strict",
          "coloraxis": {
           "colorbar": {
            "outlinewidth": 0,
            "ticks": ""
           }
          },
          "colorscale": {
           "diverging": [
            [
             0,
             "#8e0152"
            ],
            [
             0.1,
             "#c51b7d"
            ],
            [
             0.2,
             "#de77ae"
            ],
            [
             0.3,
             "#f1b6da"
            ],
            [
             0.4,
             "#fde0ef"
            ],
            [
             0.5,
             "#f7f7f7"
            ],
            [
             0.6,
             "#e6f5d0"
            ],
            [
             0.7,
             "#b8e186"
            ],
            [
             0.8,
             "#7fbc41"
            ],
            [
             0.9,
             "#4d9221"
            ],
            [
             1,
             "#276419"
            ]
           ],
           "sequential": [
            [
             0.0,
             "#0d0887"
            ],
            [
             0.1111111111111111,
             "#46039f"
            ],
            [
             0.2222222222222222,
             "#7201a8"
            ],
            [
             0.3333333333333333,
             "#9c179e"
            ],
            [
             0.4444444444444444,
             "#bd3786"
            ],
            [
             0.5555555555555556,
             "#d8576b"
            ],
            [
             0.6666666666666666,
             "#ed7953"
            ],
            [
             0.7777777777777778,
             "#fb9f3a"
            ],
            [
             0.8888888888888888,
             "#fdca26"
            ],
            [
             1.0,
             "#f0f921"
            ]
           ],
           "sequentialminus": [
            [
             0.0,
             "#0d0887"
            ],
            [
             0.1111111111111111,
             "#46039f"
            ],
            [
             0.2222222222222222,
             "#7201a8"
            ],
            [
             0.3333333333333333,
             "#9c179e"
            ],
            [
             0.4444444444444444,
             "#bd3786"
            ],
            [
             0.5555555555555556,
             "#d8576b"
            ],
            [
             0.6666666666666666,
             "#ed7953"
            ],
            [
             0.7777777777777778,
             "#fb9f3a"
            ],
            [
             0.8888888888888888,
             "#fdca26"
            ],
            [
             1.0,
             "#f0f921"
            ]
           ]
          },
          "colorway": [
           "#636efa",
           "#EF553B",
           "#00cc96",
           "#ab63fa",
           "#FFA15A",
           "#19d3f3",
           "#FF6692",
           "#B6E880",
           "#FF97FF",
           "#FECB52"
          ],
          "font": {
           "color": "#2a3f5f"
          },
          "geo": {
           "bgcolor": "white",
           "lakecolor": "white",
           "landcolor": "#E5ECF6",
           "showlakes": true,
           "showland": true,
           "subunitcolor": "white"
          },
          "hoverlabel": {
           "align": "left"
          },
          "hovermode": "closest",
          "mapbox": {
           "style": "light"
          },
          "paper_bgcolor": "white",
          "plot_bgcolor": "#E5ECF6",
          "polar": {
           "angularaxis": {
            "gridcolor": "white",
            "linecolor": "white",
            "ticks": ""
           },
           "bgcolor": "#E5ECF6",
           "radialaxis": {
            "gridcolor": "white",
            "linecolor": "white",
            "ticks": ""
           }
          },
          "scene": {
           "xaxis": {
            "backgroundcolor": "#E5ECF6",
            "gridcolor": "white",
            "gridwidth": 2,
            "linecolor": "white",
            "showbackground": true,
            "ticks": "",
            "zerolinecolor": "white"
           },
           "yaxis": {
            "backgroundcolor": "#E5ECF6",
            "gridcolor": "white",
            "gridwidth": 2,
            "linecolor": "white",
            "showbackground": true,
            "ticks": "",
            "zerolinecolor": "white"
           },
           "zaxis": {
            "backgroundcolor": "#E5ECF6",
            "gridcolor": "white",
            "gridwidth": 2,
            "linecolor": "white",
            "showbackground": true,
            "ticks": "",
            "zerolinecolor": "white"
           }
          },
          "shapedefaults": {
           "line": {
            "color": "#2a3f5f"
           }
          },
          "ternary": {
           "aaxis": {
            "gridcolor": "white",
            "linecolor": "white",
            "ticks": ""
           },
           "baxis": {
            "gridcolor": "white",
            "linecolor": "white",
            "ticks": ""
           },
           "bgcolor": "#E5ECF6",
           "caxis": {
            "gridcolor": "white",
            "linecolor": "white",
            "ticks": ""
           }
          },
          "title": {
           "x": 0.05
          },
          "xaxis": {
           "automargin": true,
           "gridcolor": "white",
           "linecolor": "white",
           "ticks": "",
           "title": {
            "standoff": 15
           },
           "zerolinecolor": "white",
           "zerolinewidth": 2
          },
          "yaxis": {
           "automargin": true,
           "gridcolor": "white",
           "linecolor": "white",
           "ticks": "",
           "title": {
            "standoff": 15
           },
           "zerolinecolor": "white",
           "zerolinewidth": 2
          }
         }
        },
        "title": {
         "automargin": true,
         "font": {
          "size": 18
         },
         "text": "Average Trip Length Per Bike Rider",
         "yref": "paper"
        },
        "xaxis": {
         "anchor": "y",
         "domain": [
          0.0,
          1.0
         ],
         "range": [
          0,
          40
         ],
         "title": {
          "text": "Average trip length (minutes)"
         }
        },
        "yaxis": {
         "anchor": "x",
         "categoryarray": [
          "member",
          "casual"
         ],
         "categoryorder": "array",
         "domain": [
          0.0,
          1.0
         ],
         "title": {
          "text": "User Type"
         }
        }
       }
      },
      "text/html": [
       "<div>                            <div id=\"72b56c94-9d3b-4559-a31f-39eb2db2441a\" class=\"plotly-graph-div\" style=\"height:300px; width:100%;\"></div>            <script type=\"text/javascript\">                require([\"plotly\"], function(Plotly) {                    window.PLOTLYENV=window.PLOTLYENV || {};                                    if (document.getElementById(\"72b56c94-9d3b-4559-a31f-39eb2db2441a\")) {                    Plotly.newPlot(                        \"72b56c94-9d3b-4559-a31f-39eb2db2441a\",                        [{\"alignmentgroup\":\"True\",\"hovertemplate\":\"<b>%{hovertext}</b><br><br>Average trip length (minutes)=%{text}<extra></extra>\",\"hovertext\":[\"casual\"],\"legendgroup\":\"casual\",\"marker\":{\"color\":\"#FF934F\",\"pattern\":{\"shape\":\"\"}},\"name\":\"casual\",\"offsetgroup\":\"casual\",\"orientation\":\"h\",\"showlegend\":true,\"text\":[23.04],\"textposition\":\"auto\",\"x\":[23.04],\"xaxis\":\"x\",\"y\":[\"casual\"],\"yaxis\":\"y\",\"type\":\"bar\"},{\"alignmentgroup\":\"True\",\"hovertemplate\":\"<b>%{hovertext}</b><br><br>Average trip length (minutes)=%{text}<extra></extra>\",\"hovertext\":[\"member\"],\"legendgroup\":\"member\",\"marker\":{\"color\":\"#058ED9\",\"pattern\":{\"shape\":\"\"}},\"name\":\"member\",\"offsetgroup\":\"member\",\"orientation\":\"h\",\"showlegend\":true,\"text\":[12.03],\"textposition\":\"auto\",\"x\":[12.03],\"xaxis\":\"x\",\"y\":[\"member\"],\"yaxis\":\"y\",\"type\":\"bar\"}],                        {\"template\":{\"data\":{\"histogram2dcontour\":[{\"type\":\"histogram2dcontour\",\"colorbar\":{\"outlinewidth\":0,\"ticks\":\"\"},\"colorscale\":[[0.0,\"#0d0887\"],[0.1111111111111111,\"#46039f\"],[0.2222222222222222,\"#7201a8\"],[0.3333333333333333,\"#9c179e\"],[0.4444444444444444,\"#bd3786\"],[0.5555555555555556,\"#d8576b\"],[0.6666666666666666,\"#ed7953\"],[0.7777777777777778,\"#fb9f3a\"],[0.8888888888888888,\"#fdca26\"],[1.0,\"#f0f921\"]]}],\"choropleth\":[{\"type\":\"choropleth\",\"colorbar\":{\"outlinewidth\":0,\"ticks\":\"\"}}],\"histogram2d\":[{\"type\":\"histogram2d\",\"colorbar\":{\"outlinewidth\":0,\"ticks\":\"\"},\"colorscale\":[[0.0,\"#0d0887\"],[0.1111111111111111,\"#46039f\"],[0.2222222222222222,\"#7201a8\"],[0.3333333333333333,\"#9c179e\"],[0.4444444444444444,\"#bd3786\"],[0.5555555555555556,\"#d8576b\"],[0.6666666666666666,\"#ed7953\"],[0.7777777777777778,\"#fb9f3a\"],[0.8888888888888888,\"#fdca26\"],[1.0,\"#f0f921\"]]}],\"heatmap\":[{\"type\":\"heatmap\",\"colorbar\":{\"outlinewidth\":0,\"ticks\":\"\"},\"colorscale\":[[0.0,\"#0d0887\"],[0.1111111111111111,\"#46039f\"],[0.2222222222222222,\"#7201a8\"],[0.3333333333333333,\"#9c179e\"],[0.4444444444444444,\"#bd3786\"],[0.5555555555555556,\"#d8576b\"],[0.6666666666666666,\"#ed7953\"],[0.7777777777777778,\"#fb9f3a\"],[0.8888888888888888,\"#fdca26\"],[1.0,\"#f0f921\"]]}],\"heatmapgl\":[{\"type\":\"heatmapgl\",\"colorbar\":{\"outlinewidth\":0,\"ticks\":\"\"},\"colorscale\":[[0.0,\"#0d0887\"],[0.1111111111111111,\"#46039f\"],[0.2222222222222222,\"#7201a8\"],[0.3333333333333333,\"#9c179e\"],[0.4444444444444444,\"#bd3786\"],[0.5555555555555556,\"#d8576b\"],[0.6666666666666666,\"#ed7953\"],[0.7777777777777778,\"#fb9f3a\"],[0.8888888888888888,\"#fdca26\"],[1.0,\"#f0f921\"]]}],\"contourcarpet\":[{\"type\":\"contourcarpet\",\"colorbar\":{\"outlinewidth\":0,\"ticks\":\"\"}}],\"contour\":[{\"type\":\"contour\",\"colorbar\":{\"outlinewidth\":0,\"ticks\":\"\"},\"colorscale\":[[0.0,\"#0d0887\"],[0.1111111111111111,\"#46039f\"],[0.2222222222222222,\"#7201a8\"],[0.3333333333333333,\"#9c179e\"],[0.4444444444444444,\"#bd3786\"],[0.5555555555555556,\"#d8576b\"],[0.6666666666666666,\"#ed7953\"],[0.7777777777777778,\"#fb9f3a\"],[0.8888888888888888,\"#fdca26\"],[1.0,\"#f0f921\"]]}],\"surface\":[{\"type\":\"surface\",\"colorbar\":{\"outlinewidth\":0,\"ticks\":\"\"},\"colorscale\":[[0.0,\"#0d0887\"],[0.1111111111111111,\"#46039f\"],[0.2222222222222222,\"#7201a8\"],[0.3333333333333333,\"#9c179e\"],[0.4444444444444444,\"#bd3786\"],[0.5555555555555556,\"#d8576b\"],[0.6666666666666666,\"#ed7953\"],[0.7777777777777778,\"#fb9f3a\"],[0.8888888888888888,\"#fdca26\"],[1.0,\"#f0f921\"]]}],\"mesh3d\":[{\"type\":\"mesh3d\",\"colorbar\":{\"outlinewidth\":0,\"ticks\":\"\"}}],\"scatter\":[{\"fillpattern\":{\"fillmode\":\"overlay\",\"size\":10,\"solidity\":0.2},\"type\":\"scatter\"}],\"parcoords\":[{\"type\":\"parcoords\",\"line\":{\"colorbar\":{\"outlinewidth\":0,\"ticks\":\"\"}}}],\"scatterpolargl\":[{\"type\":\"scatterpolargl\",\"marker\":{\"colorbar\":{\"outlinewidth\":0,\"ticks\":\"\"}}}],\"bar\":[{\"error_x\":{\"color\":\"#2a3f5f\"},\"error_y\":{\"color\":\"#2a3f5f\"},\"marker\":{\"line\":{\"color\":\"#E5ECF6\",\"width\":0.5},\"pattern\":{\"fillmode\":\"overlay\",\"size\":10,\"solidity\":0.2}},\"type\":\"bar\"}],\"scattergeo\":[{\"type\":\"scattergeo\",\"marker\":{\"colorbar\":{\"outlinewidth\":0,\"ticks\":\"\"}}}],\"scatterpolar\":[{\"type\":\"scatterpolar\",\"marker\":{\"colorbar\":{\"outlinewidth\":0,\"ticks\":\"\"}}}],\"histogram\":[{\"marker\":{\"pattern\":{\"fillmode\":\"overlay\",\"size\":10,\"solidity\":0.2}},\"type\":\"histogram\"}],\"scattergl\":[{\"type\":\"scattergl\",\"marker\":{\"colorbar\":{\"outlinewidth\":0,\"ticks\":\"\"}}}],\"scatter3d\":[{\"type\":\"scatter3d\",\"line\":{\"colorbar\":{\"outlinewidth\":0,\"ticks\":\"\"}},\"marker\":{\"colorbar\":{\"outlinewidth\":0,\"ticks\":\"\"}}}],\"scattermapbox\":[{\"type\":\"scattermapbox\",\"marker\":{\"colorbar\":{\"outlinewidth\":0,\"ticks\":\"\"}}}],\"scatterternary\":[{\"type\":\"scatterternary\",\"marker\":{\"colorbar\":{\"outlinewidth\":0,\"ticks\":\"\"}}}],\"scattercarpet\":[{\"type\":\"scattercarpet\",\"marker\":{\"colorbar\":{\"outlinewidth\":0,\"ticks\":\"\"}}}],\"carpet\":[{\"aaxis\":{\"endlinecolor\":\"#2a3f5f\",\"gridcolor\":\"white\",\"linecolor\":\"white\",\"minorgridcolor\":\"white\",\"startlinecolor\":\"#2a3f5f\"},\"baxis\":{\"endlinecolor\":\"#2a3f5f\",\"gridcolor\":\"white\",\"linecolor\":\"white\",\"minorgridcolor\":\"white\",\"startlinecolor\":\"#2a3f5f\"},\"type\":\"carpet\"}],\"table\":[{\"cells\":{\"fill\":{\"color\":\"#EBF0F8\"},\"line\":{\"color\":\"white\"}},\"header\":{\"fill\":{\"color\":\"#C8D4E3\"},\"line\":{\"color\":\"white\"}},\"type\":\"table\"}],\"barpolar\":[{\"marker\":{\"line\":{\"color\":\"#E5ECF6\",\"width\":0.5},\"pattern\":{\"fillmode\":\"overlay\",\"size\":10,\"solidity\":0.2}},\"type\":\"barpolar\"}],\"pie\":[{\"automargin\":true,\"type\":\"pie\"}]},\"layout\":{\"autotypenumbers\":\"strict\",\"colorway\":[\"#636efa\",\"#EF553B\",\"#00cc96\",\"#ab63fa\",\"#FFA15A\",\"#19d3f3\",\"#FF6692\",\"#B6E880\",\"#FF97FF\",\"#FECB52\"],\"font\":{\"color\":\"#2a3f5f\"},\"hovermode\":\"closest\",\"hoverlabel\":{\"align\":\"left\"},\"paper_bgcolor\":\"white\",\"plot_bgcolor\":\"#E5ECF6\",\"polar\":{\"bgcolor\":\"#E5ECF6\",\"angularaxis\":{\"gridcolor\":\"white\",\"linecolor\":\"white\",\"ticks\":\"\"},\"radialaxis\":{\"gridcolor\":\"white\",\"linecolor\":\"white\",\"ticks\":\"\"}},\"ternary\":{\"bgcolor\":\"#E5ECF6\",\"aaxis\":{\"gridcolor\":\"white\",\"linecolor\":\"white\",\"ticks\":\"\"},\"baxis\":{\"gridcolor\":\"white\",\"linecolor\":\"white\",\"ticks\":\"\"},\"caxis\":{\"gridcolor\":\"white\",\"linecolor\":\"white\",\"ticks\":\"\"}},\"coloraxis\":{\"colorbar\":{\"outlinewidth\":0,\"ticks\":\"\"}},\"colorscale\":{\"sequential\":[[0.0,\"#0d0887\"],[0.1111111111111111,\"#46039f\"],[0.2222222222222222,\"#7201a8\"],[0.3333333333333333,\"#9c179e\"],[0.4444444444444444,\"#bd3786\"],[0.5555555555555556,\"#d8576b\"],[0.6666666666666666,\"#ed7953\"],[0.7777777777777778,\"#fb9f3a\"],[0.8888888888888888,\"#fdca26\"],[1.0,\"#f0f921\"]],\"sequentialminus\":[[0.0,\"#0d0887\"],[0.1111111111111111,\"#46039f\"],[0.2222222222222222,\"#7201a8\"],[0.3333333333333333,\"#9c179e\"],[0.4444444444444444,\"#bd3786\"],[0.5555555555555556,\"#d8576b\"],[0.6666666666666666,\"#ed7953\"],[0.7777777777777778,\"#fb9f3a\"],[0.8888888888888888,\"#fdca26\"],[1.0,\"#f0f921\"]],\"diverging\":[[0,\"#8e0152\"],[0.1,\"#c51b7d\"],[0.2,\"#de77ae\"],[0.3,\"#f1b6da\"],[0.4,\"#fde0ef\"],[0.5,\"#f7f7f7\"],[0.6,\"#e6f5d0\"],[0.7,\"#b8e186\"],[0.8,\"#7fbc41\"],[0.9,\"#4d9221\"],[1,\"#276419\"]]},\"xaxis\":{\"gridcolor\":\"white\",\"linecolor\":\"white\",\"ticks\":\"\",\"title\":{\"standoff\":15},\"zerolinecolor\":\"white\",\"automargin\":true,\"zerolinewidth\":2},\"yaxis\":{\"gridcolor\":\"white\",\"linecolor\":\"white\",\"ticks\":\"\",\"title\":{\"standoff\":15},\"zerolinecolor\":\"white\",\"automargin\":true,\"zerolinewidth\":2},\"scene\":{\"xaxis\":{\"backgroundcolor\":\"#E5ECF6\",\"gridcolor\":\"white\",\"linecolor\":\"white\",\"showbackground\":true,\"ticks\":\"\",\"zerolinecolor\":\"white\",\"gridwidth\":2},\"yaxis\":{\"backgroundcolor\":\"#E5ECF6\",\"gridcolor\":\"white\",\"linecolor\":\"white\",\"showbackground\":true,\"ticks\":\"\",\"zerolinecolor\":\"white\",\"gridwidth\":2},\"zaxis\":{\"backgroundcolor\":\"#E5ECF6\",\"gridcolor\":\"white\",\"linecolor\":\"white\",\"showbackground\":true,\"ticks\":\"\",\"zerolinecolor\":\"white\",\"gridwidth\":2}},\"shapedefaults\":{\"line\":{\"color\":\"#2a3f5f\"}},\"annotationdefaults\":{\"arrowcolor\":\"#2a3f5f\",\"arrowhead\":0,\"arrowwidth\":1},\"geo\":{\"bgcolor\":\"white\",\"landcolor\":\"#E5ECF6\",\"subunitcolor\":\"white\",\"showland\":true,\"showlakes\":true,\"lakecolor\":\"white\"},\"title\":{\"x\":0.05},\"mapbox\":{\"style\":\"light\"}}},\"xaxis\":{\"anchor\":\"y\",\"domain\":[0.0,1.0],\"title\":{\"text\":\"Average trip length (minutes)\"},\"range\":[0,40]},\"yaxis\":{\"anchor\":\"x\",\"domain\":[0.0,1.0],\"title\":{\"text\":\"User Type\"},\"categoryorder\":\"array\",\"categoryarray\":[\"member\",\"casual\"]},\"legend\":{\"title\":{\"text\":\"User Type\"},\"tracegroupgap\":0},\"margin\":{\"t\":60},\"barmode\":\"relative\",\"height\":300,\"title\":{\"font\":{\"size\":18},\"text\":\"Average Trip Length Per Bike Rider\",\"automargin\":true,\"yref\":\"paper\"}},                        {\"responsive\": true}                    ).then(function(){\n",
       "                            \n",
       "var gd = document.getElementById('72b56c94-9d3b-4559-a31f-39eb2db2441a');\n",
       "var x = new MutationObserver(function (mutations, observer) {{\n",
       "        var display = window.getComputedStyle(gd).display;\n",
       "        if (!display || display === 'none') {{\n",
       "            console.log([gd, 'removed!']);\n",
       "            Plotly.purge(gd);\n",
       "            observer.disconnect();\n",
       "        }}\n",
       "}});\n",
       "\n",
       "// Listen for the removal of the full notebook cells\n",
       "var notebookContainer = gd.closest('#notebook-container');\n",
       "if (notebookContainer) {{\n",
       "    x.observe(notebookContainer, {childList: true});\n",
       "}}\n",
       "\n",
       "// Listen for the clearing of the current output cell\n",
       "var outputEl = gd.closest('.output');\n",
       "if (outputEl) {{\n",
       "    x.observe(outputEl, {childList: true});\n",
       "}}\n",
       "\n",
       "                        })                };                });            </script>        </div>"
      ]
     },
     "metadata": {},
     "output_type": "display_data"
    }
   ],
   "source": [
    "df_pv11 = round(cyc_data_combined.groupby('member_casual', as_index=False)['ride_length_min'].mean(),2)\n",
    "\n",
    "fig_6 = px.bar(df_pv11, y = 'member_casual', x = 'ride_length_min', range_x = [0,40],\n",
    "        color = 'member_casual', \n",
    "        height = 300,\n",
    "        text = 'ride_length_min', \n",
    "        labels = {'ride_length_min': 'Average trip length (minutes)', 'member_casual': 'User Type'},\n",
    "        hover_name = 'member_casual', hover_data = {'member_casual': False, 'ride_length_min': True}, \n",
    "        color_discrete_map = {'casual': '#FF934F', 'member': '#058ED9'})\n",
    "fig_6.update_layout(\n",
    "    title=dict(text=\"Average Trip Length Per Bike Rider\",font=dict(size=18), automargin=True, yref='paper')\n",
    ")"
   ]
  },
  {
   "cell_type": "markdown",
   "id": "192c7683",
   "metadata": {
    "papermill": {
     "duration": 0.09555,
     "end_time": "2023-06-14T21:23:06.469155",
     "exception": false,
     "start_time": "2023-06-14T21:23:06.373605",
     "status": "completed"
    },
    "tags": []
   },
   "source": [
    "__Fig.6__ - Average trip length per user type in minutes. On average, casual riders use bikes about double the amount the time compared to members.  "
   ]
  },
  {
   "cell_type": "code",
   "execution_count": 52,
   "id": "e2a3e0e2",
   "metadata": {
    "execution": {
     "iopub.execute_input": "2023-06-14T21:23:06.661681Z",
     "iopub.status.busy": "2023-06-14T21:23:06.661289Z",
     "iopub.status.idle": "2023-06-14T21:23:06.866324Z",
     "shell.execute_reply": "2023-06-14T21:23:06.865058Z"
    },
    "papermill": {
     "duration": 0.305106,
     "end_time": "2023-06-14T21:23:06.868990",
     "exception": false,
     "start_time": "2023-06-14T21:23:06.563884",
     "status": "completed"
    },
    "tags": []
   },
   "outputs": [
    {
     "data": {
      "text/html": [
       "<div>\n",
       "<style scoped>\n",
       "    .dataframe tbody tr th:only-of-type {\n",
       "        vertical-align: middle;\n",
       "    }\n",
       "\n",
       "    .dataframe tbody tr th {\n",
       "        vertical-align: top;\n",
       "    }\n",
       "\n",
       "    .dataframe thead th {\n",
       "        text-align: right;\n",
       "    }\n",
       "</style>\n",
       "<table border=\"1\" class=\"dataframe\">\n",
       "  <thead>\n",
       "    <tr style=\"text-align: right;\">\n",
       "      <th></th>\n",
       "      <th>month</th>\n",
       "      <th>member_casual</th>\n",
       "      <th>avg_trip_min</th>\n",
       "    </tr>\n",
       "  </thead>\n",
       "  <tbody>\n",
       "    <tr>\n",
       "      <th>0</th>\n",
       "      <td>Jan</td>\n",
       "      <td>casual</td>\n",
       "      <td>14.68</td>\n",
       "    </tr>\n",
       "    <tr>\n",
       "      <th>1</th>\n",
       "      <td>Jan</td>\n",
       "      <td>member</td>\n",
       "      <td>9.78</td>\n",
       "    </tr>\n",
       "    <tr>\n",
       "      <th>2</th>\n",
       "      <td>Feb</td>\n",
       "      <td>casual</td>\n",
       "      <td>17.54</td>\n",
       "    </tr>\n",
       "    <tr>\n",
       "      <th>3</th>\n",
       "      <td>Feb</td>\n",
       "      <td>member</td>\n",
       "      <td>10.20</td>\n",
       "    </tr>\n",
       "    <tr>\n",
       "      <th>4</th>\n",
       "      <td>Mar</td>\n",
       "      <td>casual</td>\n",
       "      <td>16.60</td>\n",
       "    </tr>\n",
       "    <tr>\n",
       "      <th>5</th>\n",
       "      <td>Mar</td>\n",
       "      <td>member</td>\n",
       "      <td>10.00</td>\n",
       "    </tr>\n",
       "    <tr>\n",
       "      <th>6</th>\n",
       "      <td>Apr</td>\n",
       "      <td>casual</td>\n",
       "      <td>22.62</td>\n",
       "    </tr>\n",
       "    <tr>\n",
       "      <th>7</th>\n",
       "      <td>Apr</td>\n",
       "      <td>member</td>\n",
       "      <td>11.44</td>\n",
       "    </tr>\n",
       "    <tr>\n",
       "      <th>8</th>\n",
       "      <td>May</td>\n",
       "      <td>casual</td>\n",
       "      <td>27.63</td>\n",
       "    </tr>\n",
       "    <tr>\n",
       "      <th>9</th>\n",
       "      <td>May</td>\n",
       "      <td>member</td>\n",
       "      <td>13.05</td>\n",
       "    </tr>\n",
       "    <tr>\n",
       "      <th>10</th>\n",
       "      <td>Jun</td>\n",
       "      <td>casual</td>\n",
       "      <td>24.91</td>\n",
       "    </tr>\n",
       "    <tr>\n",
       "      <th>11</th>\n",
       "      <td>Jun</td>\n",
       "      <td>member</td>\n",
       "      <td>13.44</td>\n",
       "    </tr>\n",
       "    <tr>\n",
       "      <th>12</th>\n",
       "      <td>Jul</td>\n",
       "      <td>casual</td>\n",
       "      <td>25.01</td>\n",
       "    </tr>\n",
       "    <tr>\n",
       "      <th>13</th>\n",
       "      <td>Jul</td>\n",
       "      <td>member</td>\n",
       "      <td>13.28</td>\n",
       "    </tr>\n",
       "    <tr>\n",
       "      <th>14</th>\n",
       "      <td>Aug</td>\n",
       "      <td>casual</td>\n",
       "      <td>23.17</td>\n",
       "    </tr>\n",
       "    <tr>\n",
       "      <th>15</th>\n",
       "      <td>Aug</td>\n",
       "      <td>member</td>\n",
       "      <td>12.87</td>\n",
       "    </tr>\n",
       "    <tr>\n",
       "      <th>16</th>\n",
       "      <td>Sep</td>\n",
       "      <td>casual</td>\n",
       "      <td>21.65</td>\n",
       "    </tr>\n",
       "    <tr>\n",
       "      <th>17</th>\n",
       "      <td>Sep</td>\n",
       "      <td>member</td>\n",
       "      <td>12.38</td>\n",
       "    </tr>\n",
       "    <tr>\n",
       "      <th>18</th>\n",
       "      <td>Oct</td>\n",
       "      <td>casual</td>\n",
       "      <td>20.31</td>\n",
       "    </tr>\n",
       "    <tr>\n",
       "      <th>19</th>\n",
       "      <td>Oct</td>\n",
       "      <td>member</td>\n",
       "      <td>11.42</td>\n",
       "    </tr>\n",
       "    <tr>\n",
       "      <th>20</th>\n",
       "      <td>Nov</td>\n",
       "      <td>casual</td>\n",
       "      <td>17.03</td>\n",
       "    </tr>\n",
       "    <tr>\n",
       "      <th>21</th>\n",
       "      <td>Nov</td>\n",
       "      <td>member</td>\n",
       "      <td>10.54</td>\n",
       "    </tr>\n",
       "    <tr>\n",
       "      <th>22</th>\n",
       "      <td>Dec</td>\n",
       "      <td>casual</td>\n",
       "      <td>14.60</td>\n",
       "    </tr>\n",
       "    <tr>\n",
       "      <th>23</th>\n",
       "      <td>Dec</td>\n",
       "      <td>member</td>\n",
       "      <td>9.93</td>\n",
       "    </tr>\n",
       "  </tbody>\n",
       "</table>\n",
       "</div>"
      ],
      "text/plain": [
       "   month member_casual  avg_trip_min\n",
       "0    Jan        casual         14.68\n",
       "1    Jan        member          9.78\n",
       "2    Feb        casual         17.54\n",
       "3    Feb        member         10.20\n",
       "4    Mar        casual         16.60\n",
       "5    Mar        member         10.00\n",
       "6    Apr        casual         22.62\n",
       "7    Apr        member         11.44\n",
       "8    May        casual         27.63\n",
       "9    May        member         13.05\n",
       "10   Jun        casual         24.91\n",
       "11   Jun        member         13.44\n",
       "12   Jul        casual         25.01\n",
       "13   Jul        member         13.28\n",
       "14   Aug        casual         23.17\n",
       "15   Aug        member         12.87\n",
       "16   Sep        casual         21.65\n",
       "17   Sep        member         12.38\n",
       "18   Oct        casual         20.31\n",
       "19   Oct        member         11.42\n",
       "20   Nov        casual         17.03\n",
       "21   Nov        member         10.54\n",
       "22   Dec        casual         14.60\n",
       "23   Dec        member          9.93"
      ]
     },
     "execution_count": 52,
     "metadata": {},
     "output_type": "execute_result"
    }
   ],
   "source": [
    "df_pv12= cyc_data_combined.groupby(['month', 'member_casual'], as_index=False)[['ride_length_min']].mean().round(2).rename(columns = {'ride_length_min': 'avg_trip_min'})\n",
    "df_pv12"
   ]
  },
  {
   "cell_type": "code",
   "execution_count": 53,
   "id": "c2ebdb2c",
   "metadata": {
    "execution": {
     "iopub.execute_input": "2023-06-14T21:23:07.062474Z",
     "iopub.status.busy": "2023-06-14T21:23:07.061826Z",
     "iopub.status.idle": "2023-06-14T21:23:07.154662Z",
     "shell.execute_reply": "2023-06-14T21:23:07.153549Z"
    },
    "papermill": {
     "duration": 0.19193,
     "end_time": "2023-06-14T21:23:07.157382",
     "exception": false,
     "start_time": "2023-06-14T21:23:06.965452",
     "status": "completed"
    },
    "tags": []
   },
   "outputs": [
    {
     "data": {
      "application/vnd.plotly.v1+json": {
       "config": {
        "plotlyServerURL": "https://plot.ly"
       },
       "data": [
        {
         "customdata": [
          [
           "casual"
          ],
          [
           "casual"
          ],
          [
           "casual"
          ],
          [
           "casual"
          ],
          [
           "casual"
          ],
          [
           "casual"
          ],
          [
           "casual"
          ],
          [
           "casual"
          ],
          [
           "casual"
          ],
          [
           "casual"
          ],
          [
           "casual"
          ],
          [
           "casual"
          ]
         ],
         "hovertemplate": "<b>%{hovertext}</b><br><br>Month=%{x}<br>Average trip length (min)=%{y}<extra></extra>",
         "hovertext": [
          "casual",
          "casual",
          "casual",
          "casual",
          "casual",
          "casual",
          "casual",
          "casual",
          "casual",
          "casual",
          "casual",
          "casual"
         ],
         "legendgroup": "casual",
         "line": {
          "color": "#FF934F",
          "dash": "solid",
          "shape": "spline"
         },
         "marker": {
          "symbol": "circle"
         },
         "mode": "lines+markers",
         "name": "casual",
         "orientation": "v",
         "showlegend": true,
         "type": "scatter",
         "x": [
          "Jan",
          "Feb",
          "Mar",
          "Apr",
          "May",
          "Jun",
          "Jul",
          "Aug",
          "Sep",
          "Oct",
          "Nov",
          "Dec"
         ],
         "xaxis": "x",
         "y": [
          14.68,
          17.54,
          16.6,
          22.62,
          27.63,
          24.91,
          25.01,
          23.17,
          21.65,
          20.31,
          17.03,
          14.6
         ],
         "yaxis": "y"
        },
        {
         "customdata": [
          [
           "member"
          ],
          [
           "member"
          ],
          [
           "member"
          ],
          [
           "member"
          ],
          [
           "member"
          ],
          [
           "member"
          ],
          [
           "member"
          ],
          [
           "member"
          ],
          [
           "member"
          ],
          [
           "member"
          ],
          [
           "member"
          ],
          [
           "member"
          ]
         ],
         "hovertemplate": "<b>%{hovertext}</b><br><br>Month=%{x}<br>Average trip length (min)=%{y}<extra></extra>",
         "hovertext": [
          "member",
          "member",
          "member",
          "member",
          "member",
          "member",
          "member",
          "member",
          "member",
          "member",
          "member",
          "member"
         ],
         "legendgroup": "member",
         "line": {
          "color": "#058ED9",
          "dash": "solid",
          "shape": "spline"
         },
         "marker": {
          "symbol": "circle"
         },
         "mode": "lines+markers",
         "name": "member",
         "orientation": "v",
         "showlegend": true,
         "type": "scatter",
         "x": [
          "Jan",
          "Feb",
          "Mar",
          "Apr",
          "May",
          "Jun",
          "Jul",
          "Aug",
          "Sep",
          "Oct",
          "Nov",
          "Dec"
         ],
         "xaxis": "x",
         "y": [
          9.78,
          10.2,
          10.0,
          11.44,
          13.05,
          13.44,
          13.28,
          12.87,
          12.38,
          11.42,
          10.54,
          9.93
         ],
         "yaxis": "y"
        }
       ],
       "layout": {
        "legend": {
         "title": {
          "text": "User Type"
         },
         "tracegroupgap": 0
        },
        "margin": {
         "t": 60
        },
        "template": {
         "data": {
          "bar": [
           {
            "error_x": {
             "color": "#2a3f5f"
            },
            "error_y": {
             "color": "#2a3f5f"
            },
            "marker": {
             "line": {
              "color": "#E5ECF6",
              "width": 0.5
             },
             "pattern": {
              "fillmode": "overlay",
              "size": 10,
              "solidity": 0.2
             }
            },
            "type": "bar"
           }
          ],
          "barpolar": [
           {
            "marker": {
             "line": {
              "color": "#E5ECF6",
              "width": 0.5
             },
             "pattern": {
              "fillmode": "overlay",
              "size": 10,
              "solidity": 0.2
             }
            },
            "type": "barpolar"
           }
          ],
          "carpet": [
           {
            "aaxis": {
             "endlinecolor": "#2a3f5f",
             "gridcolor": "white",
             "linecolor": "white",
             "minorgridcolor": "white",
             "startlinecolor": "#2a3f5f"
            },
            "baxis": {
             "endlinecolor": "#2a3f5f",
             "gridcolor": "white",
             "linecolor": "white",
             "minorgridcolor": "white",
             "startlinecolor": "#2a3f5f"
            },
            "type": "carpet"
           }
          ],
          "choropleth": [
           {
            "colorbar": {
             "outlinewidth": 0,
             "ticks": ""
            },
            "type": "choropleth"
           }
          ],
          "contour": [
           {
            "colorbar": {
             "outlinewidth": 0,
             "ticks": ""
            },
            "colorscale": [
             [
              0.0,
              "#0d0887"
             ],
             [
              0.1111111111111111,
              "#46039f"
             ],
             [
              0.2222222222222222,
              "#7201a8"
             ],
             [
              0.3333333333333333,
              "#9c179e"
             ],
             [
              0.4444444444444444,
              "#bd3786"
             ],
             [
              0.5555555555555556,
              "#d8576b"
             ],
             [
              0.6666666666666666,
              "#ed7953"
             ],
             [
              0.7777777777777778,
              "#fb9f3a"
             ],
             [
              0.8888888888888888,
              "#fdca26"
             ],
             [
              1.0,
              "#f0f921"
             ]
            ],
            "type": "contour"
           }
          ],
          "contourcarpet": [
           {
            "colorbar": {
             "outlinewidth": 0,
             "ticks": ""
            },
            "type": "contourcarpet"
           }
          ],
          "heatmap": [
           {
            "colorbar": {
             "outlinewidth": 0,
             "ticks": ""
            },
            "colorscale": [
             [
              0.0,
              "#0d0887"
             ],
             [
              0.1111111111111111,
              "#46039f"
             ],
             [
              0.2222222222222222,
              "#7201a8"
             ],
             [
              0.3333333333333333,
              "#9c179e"
             ],
             [
              0.4444444444444444,
              "#bd3786"
             ],
             [
              0.5555555555555556,
              "#d8576b"
             ],
             [
              0.6666666666666666,
              "#ed7953"
             ],
             [
              0.7777777777777778,
              "#fb9f3a"
             ],
             [
              0.8888888888888888,
              "#fdca26"
             ],
             [
              1.0,
              "#f0f921"
             ]
            ],
            "type": "heatmap"
           }
          ],
          "heatmapgl": [
           {
            "colorbar": {
             "outlinewidth": 0,
             "ticks": ""
            },
            "colorscale": [
             [
              0.0,
              "#0d0887"
             ],
             [
              0.1111111111111111,
              "#46039f"
             ],
             [
              0.2222222222222222,
              "#7201a8"
             ],
             [
              0.3333333333333333,
              "#9c179e"
             ],
             [
              0.4444444444444444,
              "#bd3786"
             ],
             [
              0.5555555555555556,
              "#d8576b"
             ],
             [
              0.6666666666666666,
              "#ed7953"
             ],
             [
              0.7777777777777778,
              "#fb9f3a"
             ],
             [
              0.8888888888888888,
              "#fdca26"
             ],
             [
              1.0,
              "#f0f921"
             ]
            ],
            "type": "heatmapgl"
           }
          ],
          "histogram": [
           {
            "marker": {
             "pattern": {
              "fillmode": "overlay",
              "size": 10,
              "solidity": 0.2
             }
            },
            "type": "histogram"
           }
          ],
          "histogram2d": [
           {
            "colorbar": {
             "outlinewidth": 0,
             "ticks": ""
            },
            "colorscale": [
             [
              0.0,
              "#0d0887"
             ],
             [
              0.1111111111111111,
              "#46039f"
             ],
             [
              0.2222222222222222,
              "#7201a8"
             ],
             [
              0.3333333333333333,
              "#9c179e"
             ],
             [
              0.4444444444444444,
              "#bd3786"
             ],
             [
              0.5555555555555556,
              "#d8576b"
             ],
             [
              0.6666666666666666,
              "#ed7953"
             ],
             [
              0.7777777777777778,
              "#fb9f3a"
             ],
             [
              0.8888888888888888,
              "#fdca26"
             ],
             [
              1.0,
              "#f0f921"
             ]
            ],
            "type": "histogram2d"
           }
          ],
          "histogram2dcontour": [
           {
            "colorbar": {
             "outlinewidth": 0,
             "ticks": ""
            },
            "colorscale": [
             [
              0.0,
              "#0d0887"
             ],
             [
              0.1111111111111111,
              "#46039f"
             ],
             [
              0.2222222222222222,
              "#7201a8"
             ],
             [
              0.3333333333333333,
              "#9c179e"
             ],
             [
              0.4444444444444444,
              "#bd3786"
             ],
             [
              0.5555555555555556,
              "#d8576b"
             ],
             [
              0.6666666666666666,
              "#ed7953"
             ],
             [
              0.7777777777777778,
              "#fb9f3a"
             ],
             [
              0.8888888888888888,
              "#fdca26"
             ],
             [
              1.0,
              "#f0f921"
             ]
            ],
            "type": "histogram2dcontour"
           }
          ],
          "mesh3d": [
           {
            "colorbar": {
             "outlinewidth": 0,
             "ticks": ""
            },
            "type": "mesh3d"
           }
          ],
          "parcoords": [
           {
            "line": {
             "colorbar": {
              "outlinewidth": 0,
              "ticks": ""
             }
            },
            "type": "parcoords"
           }
          ],
          "pie": [
           {
            "automargin": true,
            "type": "pie"
           }
          ],
          "scatter": [
           {
            "fillpattern": {
             "fillmode": "overlay",
             "size": 10,
             "solidity": 0.2
            },
            "type": "scatter"
           }
          ],
          "scatter3d": [
           {
            "line": {
             "colorbar": {
              "outlinewidth": 0,
              "ticks": ""
             }
            },
            "marker": {
             "colorbar": {
              "outlinewidth": 0,
              "ticks": ""
             }
            },
            "type": "scatter3d"
           }
          ],
          "scattercarpet": [
           {
            "marker": {
             "colorbar": {
              "outlinewidth": 0,
              "ticks": ""
             }
            },
            "type": "scattercarpet"
           }
          ],
          "scattergeo": [
           {
            "marker": {
             "colorbar": {
              "outlinewidth": 0,
              "ticks": ""
             }
            },
            "type": "scattergeo"
           }
          ],
          "scattergl": [
           {
            "marker": {
             "colorbar": {
              "outlinewidth": 0,
              "ticks": ""
             }
            },
            "type": "scattergl"
           }
          ],
          "scattermapbox": [
           {
            "marker": {
             "colorbar": {
              "outlinewidth": 0,
              "ticks": ""
             }
            },
            "type": "scattermapbox"
           }
          ],
          "scatterpolar": [
           {
            "marker": {
             "colorbar": {
              "outlinewidth": 0,
              "ticks": ""
             }
            },
            "type": "scatterpolar"
           }
          ],
          "scatterpolargl": [
           {
            "marker": {
             "colorbar": {
              "outlinewidth": 0,
              "ticks": ""
             }
            },
            "type": "scatterpolargl"
           }
          ],
          "scatterternary": [
           {
            "marker": {
             "colorbar": {
              "outlinewidth": 0,
              "ticks": ""
             }
            },
            "type": "scatterternary"
           }
          ],
          "surface": [
           {
            "colorbar": {
             "outlinewidth": 0,
             "ticks": ""
            },
            "colorscale": [
             [
              0.0,
              "#0d0887"
             ],
             [
              0.1111111111111111,
              "#46039f"
             ],
             [
              0.2222222222222222,
              "#7201a8"
             ],
             [
              0.3333333333333333,
              "#9c179e"
             ],
             [
              0.4444444444444444,
              "#bd3786"
             ],
             [
              0.5555555555555556,
              "#d8576b"
             ],
             [
              0.6666666666666666,
              "#ed7953"
             ],
             [
              0.7777777777777778,
              "#fb9f3a"
             ],
             [
              0.8888888888888888,
              "#fdca26"
             ],
             [
              1.0,
              "#f0f921"
             ]
            ],
            "type": "surface"
           }
          ],
          "table": [
           {
            "cells": {
             "fill": {
              "color": "#EBF0F8"
             },
             "line": {
              "color": "white"
             }
            },
            "header": {
             "fill": {
              "color": "#C8D4E3"
             },
             "line": {
              "color": "white"
             }
            },
            "type": "table"
           }
          ]
         },
         "layout": {
          "annotationdefaults": {
           "arrowcolor": "#2a3f5f",
           "arrowhead": 0,
           "arrowwidth": 1
          },
          "autotypenumbers": "strict",
          "coloraxis": {
           "colorbar": {
            "outlinewidth": 0,
            "ticks": ""
           }
          },
          "colorscale": {
           "diverging": [
            [
             0,
             "#8e0152"
            ],
            [
             0.1,
             "#c51b7d"
            ],
            [
             0.2,
             "#de77ae"
            ],
            [
             0.3,
             "#f1b6da"
            ],
            [
             0.4,
             "#fde0ef"
            ],
            [
             0.5,
             "#f7f7f7"
            ],
            [
             0.6,
             "#e6f5d0"
            ],
            [
             0.7,
             "#b8e186"
            ],
            [
             0.8,
             "#7fbc41"
            ],
            [
             0.9,
             "#4d9221"
            ],
            [
             1,
             "#276419"
            ]
           ],
           "sequential": [
            [
             0.0,
             "#0d0887"
            ],
            [
             0.1111111111111111,
             "#46039f"
            ],
            [
             0.2222222222222222,
             "#7201a8"
            ],
            [
             0.3333333333333333,
             "#9c179e"
            ],
            [
             0.4444444444444444,
             "#bd3786"
            ],
            [
             0.5555555555555556,
             "#d8576b"
            ],
            [
             0.6666666666666666,
             "#ed7953"
            ],
            [
             0.7777777777777778,
             "#fb9f3a"
            ],
            [
             0.8888888888888888,
             "#fdca26"
            ],
            [
             1.0,
             "#f0f921"
            ]
           ],
           "sequentialminus": [
            [
             0.0,
             "#0d0887"
            ],
            [
             0.1111111111111111,
             "#46039f"
            ],
            [
             0.2222222222222222,
             "#7201a8"
            ],
            [
             0.3333333333333333,
             "#9c179e"
            ],
            [
             0.4444444444444444,
             "#bd3786"
            ],
            [
             0.5555555555555556,
             "#d8576b"
            ],
            [
             0.6666666666666666,
             "#ed7953"
            ],
            [
             0.7777777777777778,
             "#fb9f3a"
            ],
            [
             0.8888888888888888,
             "#fdca26"
            ],
            [
             1.0,
             "#f0f921"
            ]
           ]
          },
          "colorway": [
           "#636efa",
           "#EF553B",
           "#00cc96",
           "#ab63fa",
           "#FFA15A",
           "#19d3f3",
           "#FF6692",
           "#B6E880",
           "#FF97FF",
           "#FECB52"
          ],
          "font": {
           "color": "#2a3f5f"
          },
          "geo": {
           "bgcolor": "white",
           "lakecolor": "white",
           "landcolor": "#E5ECF6",
           "showlakes": true,
           "showland": true,
           "subunitcolor": "white"
          },
          "hoverlabel": {
           "align": "left"
          },
          "hovermode": "closest",
          "mapbox": {
           "style": "light"
          },
          "paper_bgcolor": "white",
          "plot_bgcolor": "#E5ECF6",
          "polar": {
           "angularaxis": {
            "gridcolor": "white",
            "linecolor": "white",
            "ticks": ""
           },
           "bgcolor": "#E5ECF6",
           "radialaxis": {
            "gridcolor": "white",
            "linecolor": "white",
            "ticks": ""
           }
          },
          "scene": {
           "xaxis": {
            "backgroundcolor": "#E5ECF6",
            "gridcolor": "white",
            "gridwidth": 2,
            "linecolor": "white",
            "showbackground": true,
            "ticks": "",
            "zerolinecolor": "white"
           },
           "yaxis": {
            "backgroundcolor": "#E5ECF6",
            "gridcolor": "white",
            "gridwidth": 2,
            "linecolor": "white",
            "showbackground": true,
            "ticks": "",
            "zerolinecolor": "white"
           },
           "zaxis": {
            "backgroundcolor": "#E5ECF6",
            "gridcolor": "white",
            "gridwidth": 2,
            "linecolor": "white",
            "showbackground": true,
            "ticks": "",
            "zerolinecolor": "white"
           }
          },
          "shapedefaults": {
           "line": {
            "color": "#2a3f5f"
           }
          },
          "ternary": {
           "aaxis": {
            "gridcolor": "white",
            "linecolor": "white",
            "ticks": ""
           },
           "baxis": {
            "gridcolor": "white",
            "linecolor": "white",
            "ticks": ""
           },
           "bgcolor": "#E5ECF6",
           "caxis": {
            "gridcolor": "white",
            "linecolor": "white",
            "ticks": ""
           }
          },
          "title": {
           "x": 0.05
          },
          "xaxis": {
           "automargin": true,
           "gridcolor": "white",
           "linecolor": "white",
           "ticks": "",
           "title": {
            "standoff": 15
           },
           "zerolinecolor": "white",
           "zerolinewidth": 2
          },
          "yaxis": {
           "automargin": true,
           "gridcolor": "white",
           "linecolor": "white",
           "ticks": "",
           "title": {
            "standoff": 15
           },
           "zerolinecolor": "white",
           "zerolinewidth": 2
          }
         }
        },
        "title": {
         "automargin": true,
         "font": {
          "size": 18
         },
         "text": "Monthly Average Trip Length (May 2022 - Apr 2023)",
         "yref": "paper"
        },
        "xaxis": {
         "anchor": "y",
         "domain": [
          0.0,
          1.0
         ],
         "title": {
          "text": "Month"
         }
        },
        "yaxis": {
         "anchor": "x",
         "domain": [
          0.0,
          1.0
         ],
         "title": {
          "text": "Average trip length (min)"
         }
        }
       }
      },
      "text/html": [
       "<div>                            <div id=\"db5f9422-6526-4a2b-af5c-7c0b7348ef37\" class=\"plotly-graph-div\" style=\"height:525px; width:100%;\"></div>            <script type=\"text/javascript\">                require([\"plotly\"], function(Plotly) {                    window.PLOTLYENV=window.PLOTLYENV || {};                                    if (document.getElementById(\"db5f9422-6526-4a2b-af5c-7c0b7348ef37\")) {                    Plotly.newPlot(                        \"db5f9422-6526-4a2b-af5c-7c0b7348ef37\",                        [{\"customdata\":[[\"casual\"],[\"casual\"],[\"casual\"],[\"casual\"],[\"casual\"],[\"casual\"],[\"casual\"],[\"casual\"],[\"casual\"],[\"casual\"],[\"casual\"],[\"casual\"]],\"hovertemplate\":\"<b>%{hovertext}</b><br><br>Month=%{x}<br>Average trip length (min)=%{y}<extra></extra>\",\"hovertext\":[\"casual\",\"casual\",\"casual\",\"casual\",\"casual\",\"casual\",\"casual\",\"casual\",\"casual\",\"casual\",\"casual\",\"casual\"],\"legendgroup\":\"casual\",\"line\":{\"color\":\"#FF934F\",\"dash\":\"solid\",\"shape\":\"spline\"},\"marker\":{\"symbol\":\"circle\"},\"mode\":\"lines+markers\",\"name\":\"casual\",\"orientation\":\"v\",\"showlegend\":true,\"x\":[\"Jan\",\"Feb\",\"Mar\",\"Apr\",\"May\",\"Jun\",\"Jul\",\"Aug\",\"Sep\",\"Oct\",\"Nov\",\"Dec\"],\"xaxis\":\"x\",\"y\":[14.68,17.54,16.6,22.62,27.63,24.91,25.01,23.17,21.65,20.31,17.03,14.6],\"yaxis\":\"y\",\"type\":\"scatter\"},{\"customdata\":[[\"member\"],[\"member\"],[\"member\"],[\"member\"],[\"member\"],[\"member\"],[\"member\"],[\"member\"],[\"member\"],[\"member\"],[\"member\"],[\"member\"]],\"hovertemplate\":\"<b>%{hovertext}</b><br><br>Month=%{x}<br>Average trip length (min)=%{y}<extra></extra>\",\"hovertext\":[\"member\",\"member\",\"member\",\"member\",\"member\",\"member\",\"member\",\"member\",\"member\",\"member\",\"member\",\"member\"],\"legendgroup\":\"member\",\"line\":{\"color\":\"#058ED9\",\"dash\":\"solid\",\"shape\":\"spline\"},\"marker\":{\"symbol\":\"circle\"},\"mode\":\"lines+markers\",\"name\":\"member\",\"orientation\":\"v\",\"showlegend\":true,\"x\":[\"Jan\",\"Feb\",\"Mar\",\"Apr\",\"May\",\"Jun\",\"Jul\",\"Aug\",\"Sep\",\"Oct\",\"Nov\",\"Dec\"],\"xaxis\":\"x\",\"y\":[9.78,10.2,10.0,11.44,13.05,13.44,13.28,12.87,12.38,11.42,10.54,9.93],\"yaxis\":\"y\",\"type\":\"scatter\"}],                        {\"template\":{\"data\":{\"histogram2dcontour\":[{\"type\":\"histogram2dcontour\",\"colorbar\":{\"outlinewidth\":0,\"ticks\":\"\"},\"colorscale\":[[0.0,\"#0d0887\"],[0.1111111111111111,\"#46039f\"],[0.2222222222222222,\"#7201a8\"],[0.3333333333333333,\"#9c179e\"],[0.4444444444444444,\"#bd3786\"],[0.5555555555555556,\"#d8576b\"],[0.6666666666666666,\"#ed7953\"],[0.7777777777777778,\"#fb9f3a\"],[0.8888888888888888,\"#fdca26\"],[1.0,\"#f0f921\"]]}],\"choropleth\":[{\"type\":\"choropleth\",\"colorbar\":{\"outlinewidth\":0,\"ticks\":\"\"}}],\"histogram2d\":[{\"type\":\"histogram2d\",\"colorbar\":{\"outlinewidth\":0,\"ticks\":\"\"},\"colorscale\":[[0.0,\"#0d0887\"],[0.1111111111111111,\"#46039f\"],[0.2222222222222222,\"#7201a8\"],[0.3333333333333333,\"#9c179e\"],[0.4444444444444444,\"#bd3786\"],[0.5555555555555556,\"#d8576b\"],[0.6666666666666666,\"#ed7953\"],[0.7777777777777778,\"#fb9f3a\"],[0.8888888888888888,\"#fdca26\"],[1.0,\"#f0f921\"]]}],\"heatmap\":[{\"type\":\"heatmap\",\"colorbar\":{\"outlinewidth\":0,\"ticks\":\"\"},\"colorscale\":[[0.0,\"#0d0887\"],[0.1111111111111111,\"#46039f\"],[0.2222222222222222,\"#7201a8\"],[0.3333333333333333,\"#9c179e\"],[0.4444444444444444,\"#bd3786\"],[0.5555555555555556,\"#d8576b\"],[0.6666666666666666,\"#ed7953\"],[0.7777777777777778,\"#fb9f3a\"],[0.8888888888888888,\"#fdca26\"],[1.0,\"#f0f921\"]]}],\"heatmapgl\":[{\"type\":\"heatmapgl\",\"colorbar\":{\"outlinewidth\":0,\"ticks\":\"\"},\"colorscale\":[[0.0,\"#0d0887\"],[0.1111111111111111,\"#46039f\"],[0.2222222222222222,\"#7201a8\"],[0.3333333333333333,\"#9c179e\"],[0.4444444444444444,\"#bd3786\"],[0.5555555555555556,\"#d8576b\"],[0.6666666666666666,\"#ed7953\"],[0.7777777777777778,\"#fb9f3a\"],[0.8888888888888888,\"#fdca26\"],[1.0,\"#f0f921\"]]}],\"contourcarpet\":[{\"type\":\"contourcarpet\",\"colorbar\":{\"outlinewidth\":0,\"ticks\":\"\"}}],\"contour\":[{\"type\":\"contour\",\"colorbar\":{\"outlinewidth\":0,\"ticks\":\"\"},\"colorscale\":[[0.0,\"#0d0887\"],[0.1111111111111111,\"#46039f\"],[0.2222222222222222,\"#7201a8\"],[0.3333333333333333,\"#9c179e\"],[0.4444444444444444,\"#bd3786\"],[0.5555555555555556,\"#d8576b\"],[0.6666666666666666,\"#ed7953\"],[0.7777777777777778,\"#fb9f3a\"],[0.8888888888888888,\"#fdca26\"],[1.0,\"#f0f921\"]]}],\"surface\":[{\"type\":\"surface\",\"colorbar\":{\"outlinewidth\":0,\"ticks\":\"\"},\"colorscale\":[[0.0,\"#0d0887\"],[0.1111111111111111,\"#46039f\"],[0.2222222222222222,\"#7201a8\"],[0.3333333333333333,\"#9c179e\"],[0.4444444444444444,\"#bd3786\"],[0.5555555555555556,\"#d8576b\"],[0.6666666666666666,\"#ed7953\"],[0.7777777777777778,\"#fb9f3a\"],[0.8888888888888888,\"#fdca26\"],[1.0,\"#f0f921\"]]}],\"mesh3d\":[{\"type\":\"mesh3d\",\"colorbar\":{\"outlinewidth\":0,\"ticks\":\"\"}}],\"scatter\":[{\"fillpattern\":{\"fillmode\":\"overlay\",\"size\":10,\"solidity\":0.2},\"type\":\"scatter\"}],\"parcoords\":[{\"type\":\"parcoords\",\"line\":{\"colorbar\":{\"outlinewidth\":0,\"ticks\":\"\"}}}],\"scatterpolargl\":[{\"type\":\"scatterpolargl\",\"marker\":{\"colorbar\":{\"outlinewidth\":0,\"ticks\":\"\"}}}],\"bar\":[{\"error_x\":{\"color\":\"#2a3f5f\"},\"error_y\":{\"color\":\"#2a3f5f\"},\"marker\":{\"line\":{\"color\":\"#E5ECF6\",\"width\":0.5},\"pattern\":{\"fillmode\":\"overlay\",\"size\":10,\"solidity\":0.2}},\"type\":\"bar\"}],\"scattergeo\":[{\"type\":\"scattergeo\",\"marker\":{\"colorbar\":{\"outlinewidth\":0,\"ticks\":\"\"}}}],\"scatterpolar\":[{\"type\":\"scatterpolar\",\"marker\":{\"colorbar\":{\"outlinewidth\":0,\"ticks\":\"\"}}}],\"histogram\":[{\"marker\":{\"pattern\":{\"fillmode\":\"overlay\",\"size\":10,\"solidity\":0.2}},\"type\":\"histogram\"}],\"scattergl\":[{\"type\":\"scattergl\",\"marker\":{\"colorbar\":{\"outlinewidth\":0,\"ticks\":\"\"}}}],\"scatter3d\":[{\"type\":\"scatter3d\",\"line\":{\"colorbar\":{\"outlinewidth\":0,\"ticks\":\"\"}},\"marker\":{\"colorbar\":{\"outlinewidth\":0,\"ticks\":\"\"}}}],\"scattermapbox\":[{\"type\":\"scattermapbox\",\"marker\":{\"colorbar\":{\"outlinewidth\":0,\"ticks\":\"\"}}}],\"scatterternary\":[{\"type\":\"scatterternary\",\"marker\":{\"colorbar\":{\"outlinewidth\":0,\"ticks\":\"\"}}}],\"scattercarpet\":[{\"type\":\"scattercarpet\",\"marker\":{\"colorbar\":{\"outlinewidth\":0,\"ticks\":\"\"}}}],\"carpet\":[{\"aaxis\":{\"endlinecolor\":\"#2a3f5f\",\"gridcolor\":\"white\",\"linecolor\":\"white\",\"minorgridcolor\":\"white\",\"startlinecolor\":\"#2a3f5f\"},\"baxis\":{\"endlinecolor\":\"#2a3f5f\",\"gridcolor\":\"white\",\"linecolor\":\"white\",\"minorgridcolor\":\"white\",\"startlinecolor\":\"#2a3f5f\"},\"type\":\"carpet\"}],\"table\":[{\"cells\":{\"fill\":{\"color\":\"#EBF0F8\"},\"line\":{\"color\":\"white\"}},\"header\":{\"fill\":{\"color\":\"#C8D4E3\"},\"line\":{\"color\":\"white\"}},\"type\":\"table\"}],\"barpolar\":[{\"marker\":{\"line\":{\"color\":\"#E5ECF6\",\"width\":0.5},\"pattern\":{\"fillmode\":\"overlay\",\"size\":10,\"solidity\":0.2}},\"type\":\"barpolar\"}],\"pie\":[{\"automargin\":true,\"type\":\"pie\"}]},\"layout\":{\"autotypenumbers\":\"strict\",\"colorway\":[\"#636efa\",\"#EF553B\",\"#00cc96\",\"#ab63fa\",\"#FFA15A\",\"#19d3f3\",\"#FF6692\",\"#B6E880\",\"#FF97FF\",\"#FECB52\"],\"font\":{\"color\":\"#2a3f5f\"},\"hovermode\":\"closest\",\"hoverlabel\":{\"align\":\"left\"},\"paper_bgcolor\":\"white\",\"plot_bgcolor\":\"#E5ECF6\",\"polar\":{\"bgcolor\":\"#E5ECF6\",\"angularaxis\":{\"gridcolor\":\"white\",\"linecolor\":\"white\",\"ticks\":\"\"},\"radialaxis\":{\"gridcolor\":\"white\",\"linecolor\":\"white\",\"ticks\":\"\"}},\"ternary\":{\"bgcolor\":\"#E5ECF6\",\"aaxis\":{\"gridcolor\":\"white\",\"linecolor\":\"white\",\"ticks\":\"\"},\"baxis\":{\"gridcolor\":\"white\",\"linecolor\":\"white\",\"ticks\":\"\"},\"caxis\":{\"gridcolor\":\"white\",\"linecolor\":\"white\",\"ticks\":\"\"}},\"coloraxis\":{\"colorbar\":{\"outlinewidth\":0,\"ticks\":\"\"}},\"colorscale\":{\"sequential\":[[0.0,\"#0d0887\"],[0.1111111111111111,\"#46039f\"],[0.2222222222222222,\"#7201a8\"],[0.3333333333333333,\"#9c179e\"],[0.4444444444444444,\"#bd3786\"],[0.5555555555555556,\"#d8576b\"],[0.6666666666666666,\"#ed7953\"],[0.7777777777777778,\"#fb9f3a\"],[0.8888888888888888,\"#fdca26\"],[1.0,\"#f0f921\"]],\"sequentialminus\":[[0.0,\"#0d0887\"],[0.1111111111111111,\"#46039f\"],[0.2222222222222222,\"#7201a8\"],[0.3333333333333333,\"#9c179e\"],[0.4444444444444444,\"#bd3786\"],[0.5555555555555556,\"#d8576b\"],[0.6666666666666666,\"#ed7953\"],[0.7777777777777778,\"#fb9f3a\"],[0.8888888888888888,\"#fdca26\"],[1.0,\"#f0f921\"]],\"diverging\":[[0,\"#8e0152\"],[0.1,\"#c51b7d\"],[0.2,\"#de77ae\"],[0.3,\"#f1b6da\"],[0.4,\"#fde0ef\"],[0.5,\"#f7f7f7\"],[0.6,\"#e6f5d0\"],[0.7,\"#b8e186\"],[0.8,\"#7fbc41\"],[0.9,\"#4d9221\"],[1,\"#276419\"]]},\"xaxis\":{\"gridcolor\":\"white\",\"linecolor\":\"white\",\"ticks\":\"\",\"title\":{\"standoff\":15},\"zerolinecolor\":\"white\",\"automargin\":true,\"zerolinewidth\":2},\"yaxis\":{\"gridcolor\":\"white\",\"linecolor\":\"white\",\"ticks\":\"\",\"title\":{\"standoff\":15},\"zerolinecolor\":\"white\",\"automargin\":true,\"zerolinewidth\":2},\"scene\":{\"xaxis\":{\"backgroundcolor\":\"#E5ECF6\",\"gridcolor\":\"white\",\"linecolor\":\"white\",\"showbackground\":true,\"ticks\":\"\",\"zerolinecolor\":\"white\",\"gridwidth\":2},\"yaxis\":{\"backgroundcolor\":\"#E5ECF6\",\"gridcolor\":\"white\",\"linecolor\":\"white\",\"showbackground\":true,\"ticks\":\"\",\"zerolinecolor\":\"white\",\"gridwidth\":2},\"zaxis\":{\"backgroundcolor\":\"#E5ECF6\",\"gridcolor\":\"white\",\"linecolor\":\"white\",\"showbackground\":true,\"ticks\":\"\",\"zerolinecolor\":\"white\",\"gridwidth\":2}},\"shapedefaults\":{\"line\":{\"color\":\"#2a3f5f\"}},\"annotationdefaults\":{\"arrowcolor\":\"#2a3f5f\",\"arrowhead\":0,\"arrowwidth\":1},\"geo\":{\"bgcolor\":\"white\",\"landcolor\":\"#E5ECF6\",\"subunitcolor\":\"white\",\"showland\":true,\"showlakes\":true,\"lakecolor\":\"white\"},\"title\":{\"x\":0.05},\"mapbox\":{\"style\":\"light\"}}},\"xaxis\":{\"anchor\":\"y\",\"domain\":[0.0,1.0],\"title\":{\"text\":\"Month\"}},\"yaxis\":{\"anchor\":\"x\",\"domain\":[0.0,1.0],\"title\":{\"text\":\"Average trip length (min)\"}},\"legend\":{\"title\":{\"text\":\"User Type\"},\"tracegroupgap\":0},\"margin\":{\"t\":60},\"title\":{\"font\":{\"size\":18},\"text\":\"Monthly Average Trip Length (May 2022 - Apr 2023)\",\"automargin\":true,\"yref\":\"paper\"}},                        {\"responsive\": true}                    ).then(function(){\n",
       "                            \n",
       "var gd = document.getElementById('db5f9422-6526-4a2b-af5c-7c0b7348ef37');\n",
       "var x = new MutationObserver(function (mutations, observer) {{\n",
       "        var display = window.getComputedStyle(gd).display;\n",
       "        if (!display || display === 'none') {{\n",
       "            console.log([gd, 'removed!']);\n",
       "            Plotly.purge(gd);\n",
       "            observer.disconnect();\n",
       "        }}\n",
       "}});\n",
       "\n",
       "// Listen for the removal of the full notebook cells\n",
       "var notebookContainer = gd.closest('#notebook-container');\n",
       "if (notebookContainer) {{\n",
       "    x.observe(notebookContainer, {childList: true});\n",
       "}}\n",
       "\n",
       "// Listen for the clearing of the current output cell\n",
       "var outputEl = gd.closest('.output');\n",
       "if (outputEl) {{\n",
       "    x.observe(outputEl, {childList: true});\n",
       "}}\n",
       "\n",
       "                        })                };                });            </script>        </div>"
      ]
     },
     "metadata": {},
     "output_type": "display_data"
    }
   ],
   "source": [
    "fig_7 = px.line(df_pv12, \n",
    "                 x='month', \n",
    "                 y='avg_trip_min', \n",
    "                 color='member_casual', \n",
    "                 markers=True,\n",
    "                 line_shape='spline',\n",
    "                 labels={'avg_trip_min': 'Average trip length (min)', 'month': 'Month', 'member_casual': 'User Type'},\n",
    "                 hover_name='member_casual',\n",
    "                 hover_data = {'member_casual': False, 'month': True, 'avg_trip_min': True},\n",
    "                 color_discrete_map = {'casual': '#FF934F', 'member': '#058ED9'}\n",
    "                )\n",
    "fig_7.update_layout(\n",
    "    title=dict(text=\"Monthly Average Trip Length (May 2022 - Apr 2023)\",font=dict(size=18), automargin=True, yref='paper')\n",
    ")"
   ]
  },
  {
   "cell_type": "markdown",
   "id": "c473376a",
   "metadata": {
    "papermill": {
     "duration": 0.102652,
     "end_time": "2023-06-14T21:23:07.362804",
     "exception": false,
     "start_time": "2023-06-14T21:23:07.260152",
     "status": "completed"
    },
    "tags": []
   },
   "source": [
    "__Fig.7__ - Monthly average trip length for casual riders and members. On average, an increase in trip length for casual riders is observed in the months of March - May followed by a gradual decrease approcahing winter months. "
   ]
  },
  {
   "cell_type": "code",
   "execution_count": 54,
   "id": "06fd1577",
   "metadata": {
    "execution": {
     "iopub.execute_input": "2023-06-14T21:23:07.570773Z",
     "iopub.status.busy": "2023-06-14T21:23:07.569536Z",
     "iopub.status.idle": "2023-06-14T21:23:08.304670Z",
     "shell.execute_reply": "2023-06-14T21:23:08.303667Z"
    },
    "papermill": {
     "duration": 0.842556,
     "end_time": "2023-06-14T21:23:08.308145",
     "exception": false,
     "start_time": "2023-06-14T21:23:07.465589",
     "status": "completed"
    },
    "tags": []
   },
   "outputs": [
    {
     "data": {
      "application/vnd.plotly.v1+json": {
       "config": {
        "plotlyServerURL": "https://plot.ly"
       },
       "data": [
        {
         "alignmentgroup": "True",
         "customdata": [
          [
           "casual"
          ],
          [
           "casual"
          ],
          [
           "casual"
          ],
          [
           "casual"
          ]
         ],
         "hovertemplate": "<b>%{hovertext}</b><br><br>Season=%{x}<br>Average trip length (min)=%{text}<extra></extra>",
         "hovertext": [
          "casual",
          "casual",
          "casual",
          "casual"
         ],
         "legendgroup": "casual",
         "marker": {
          "color": "#FF934F",
          "pattern": {
           "shape": ""
          }
         },
         "name": "casual",
         "offsetgroup": "casual",
         "orientation": "v",
         "showlegend": true,
         "text": [
          20.43,
          24.81,
          24.41,
          15.65
         ],
         "textposition": "auto",
         "type": "bar",
         "x": [
          "Autumn",
          "Spring",
          "Summer",
          "Winter"
         ],
         "xaxis": "x",
         "y": [
          20.43,
          24.81,
          24.41,
          15.65
         ],
         "yaxis": "y"
        },
        {
         "alignmentgroup": "True",
         "customdata": [
          [
           "member"
          ],
          [
           "member"
          ],
          [
           "member"
          ],
          [
           "member"
          ]
         ],
         "hovertemplate": "<b>%{hovertext}</b><br><br>Season=%{x}<br>Average trip length (min)=%{text}<extra></extra>",
         "hovertext": [
          "member",
          "member",
          "member",
          "member"
         ],
         "legendgroup": "member",
         "marker": {
          "color": "#058ED9",
          "pattern": {
           "shape": ""
          }
         },
         "name": "member",
         "offsetgroup": "member",
         "orientation": "v",
         "showlegend": true,
         "text": [
          11.61,
          11.81,
          13.2,
          9.97
         ],
         "textposition": "auto",
         "type": "bar",
         "x": [
          "Autumn",
          "Spring",
          "Summer",
          "Winter"
         ],
         "xaxis": "x",
         "y": [
          11.61,
          11.81,
          13.2,
          9.97
         ],
         "yaxis": "y"
        }
       ],
       "layout": {
        "barmode": "group",
        "legend": {
         "title": {
          "text": "User Type"
         },
         "tracegroupgap": 0
        },
        "margin": {
         "t": 60
        },
        "template": {
         "data": {
          "bar": [
           {
            "error_x": {
             "color": "#2a3f5f"
            },
            "error_y": {
             "color": "#2a3f5f"
            },
            "marker": {
             "line": {
              "color": "#E5ECF6",
              "width": 0.5
             },
             "pattern": {
              "fillmode": "overlay",
              "size": 10,
              "solidity": 0.2
             }
            },
            "type": "bar"
           }
          ],
          "barpolar": [
           {
            "marker": {
             "line": {
              "color": "#E5ECF6",
              "width": 0.5
             },
             "pattern": {
              "fillmode": "overlay",
              "size": 10,
              "solidity": 0.2
             }
            },
            "type": "barpolar"
           }
          ],
          "carpet": [
           {
            "aaxis": {
             "endlinecolor": "#2a3f5f",
             "gridcolor": "white",
             "linecolor": "white",
             "minorgridcolor": "white",
             "startlinecolor": "#2a3f5f"
            },
            "baxis": {
             "endlinecolor": "#2a3f5f",
             "gridcolor": "white",
             "linecolor": "white",
             "minorgridcolor": "white",
             "startlinecolor": "#2a3f5f"
            },
            "type": "carpet"
           }
          ],
          "choropleth": [
           {
            "colorbar": {
             "outlinewidth": 0,
             "ticks": ""
            },
            "type": "choropleth"
           }
          ],
          "contour": [
           {
            "colorbar": {
             "outlinewidth": 0,
             "ticks": ""
            },
            "colorscale": [
             [
              0.0,
              "#0d0887"
             ],
             [
              0.1111111111111111,
              "#46039f"
             ],
             [
              0.2222222222222222,
              "#7201a8"
             ],
             [
              0.3333333333333333,
              "#9c179e"
             ],
             [
              0.4444444444444444,
              "#bd3786"
             ],
             [
              0.5555555555555556,
              "#d8576b"
             ],
             [
              0.6666666666666666,
              "#ed7953"
             ],
             [
              0.7777777777777778,
              "#fb9f3a"
             ],
             [
              0.8888888888888888,
              "#fdca26"
             ],
             [
              1.0,
              "#f0f921"
             ]
            ],
            "type": "contour"
           }
          ],
          "contourcarpet": [
           {
            "colorbar": {
             "outlinewidth": 0,
             "ticks": ""
            },
            "type": "contourcarpet"
           }
          ],
          "heatmap": [
           {
            "colorbar": {
             "outlinewidth": 0,
             "ticks": ""
            },
            "colorscale": [
             [
              0.0,
              "#0d0887"
             ],
             [
              0.1111111111111111,
              "#46039f"
             ],
             [
              0.2222222222222222,
              "#7201a8"
             ],
             [
              0.3333333333333333,
              "#9c179e"
             ],
             [
              0.4444444444444444,
              "#bd3786"
             ],
             [
              0.5555555555555556,
              "#d8576b"
             ],
             [
              0.6666666666666666,
              "#ed7953"
             ],
             [
              0.7777777777777778,
              "#fb9f3a"
             ],
             [
              0.8888888888888888,
              "#fdca26"
             ],
             [
              1.0,
              "#f0f921"
             ]
            ],
            "type": "heatmap"
           }
          ],
          "heatmapgl": [
           {
            "colorbar": {
             "outlinewidth": 0,
             "ticks": ""
            },
            "colorscale": [
             [
              0.0,
              "#0d0887"
             ],
             [
              0.1111111111111111,
              "#46039f"
             ],
             [
              0.2222222222222222,
              "#7201a8"
             ],
             [
              0.3333333333333333,
              "#9c179e"
             ],
             [
              0.4444444444444444,
              "#bd3786"
             ],
             [
              0.5555555555555556,
              "#d8576b"
             ],
             [
              0.6666666666666666,
              "#ed7953"
             ],
             [
              0.7777777777777778,
              "#fb9f3a"
             ],
             [
              0.8888888888888888,
              "#fdca26"
             ],
             [
              1.0,
              "#f0f921"
             ]
            ],
            "type": "heatmapgl"
           }
          ],
          "histogram": [
           {
            "marker": {
             "pattern": {
              "fillmode": "overlay",
              "size": 10,
              "solidity": 0.2
             }
            },
            "type": "histogram"
           }
          ],
          "histogram2d": [
           {
            "colorbar": {
             "outlinewidth": 0,
             "ticks": ""
            },
            "colorscale": [
             [
              0.0,
              "#0d0887"
             ],
             [
              0.1111111111111111,
              "#46039f"
             ],
             [
              0.2222222222222222,
              "#7201a8"
             ],
             [
              0.3333333333333333,
              "#9c179e"
             ],
             [
              0.4444444444444444,
              "#bd3786"
             ],
             [
              0.5555555555555556,
              "#d8576b"
             ],
             [
              0.6666666666666666,
              "#ed7953"
             ],
             [
              0.7777777777777778,
              "#fb9f3a"
             ],
             [
              0.8888888888888888,
              "#fdca26"
             ],
             [
              1.0,
              "#f0f921"
             ]
            ],
            "type": "histogram2d"
           }
          ],
          "histogram2dcontour": [
           {
            "colorbar": {
             "outlinewidth": 0,
             "ticks": ""
            },
            "colorscale": [
             [
              0.0,
              "#0d0887"
             ],
             [
              0.1111111111111111,
              "#46039f"
             ],
             [
              0.2222222222222222,
              "#7201a8"
             ],
             [
              0.3333333333333333,
              "#9c179e"
             ],
             [
              0.4444444444444444,
              "#bd3786"
             ],
             [
              0.5555555555555556,
              "#d8576b"
             ],
             [
              0.6666666666666666,
              "#ed7953"
             ],
             [
              0.7777777777777778,
              "#fb9f3a"
             ],
             [
              0.8888888888888888,
              "#fdca26"
             ],
             [
              1.0,
              "#f0f921"
             ]
            ],
            "type": "histogram2dcontour"
           }
          ],
          "mesh3d": [
           {
            "colorbar": {
             "outlinewidth": 0,
             "ticks": ""
            },
            "type": "mesh3d"
           }
          ],
          "parcoords": [
           {
            "line": {
             "colorbar": {
              "outlinewidth": 0,
              "ticks": ""
             }
            },
            "type": "parcoords"
           }
          ],
          "pie": [
           {
            "automargin": true,
            "type": "pie"
           }
          ],
          "scatter": [
           {
            "fillpattern": {
             "fillmode": "overlay",
             "size": 10,
             "solidity": 0.2
            },
            "type": "scatter"
           }
          ],
          "scatter3d": [
           {
            "line": {
             "colorbar": {
              "outlinewidth": 0,
              "ticks": ""
             }
            },
            "marker": {
             "colorbar": {
              "outlinewidth": 0,
              "ticks": ""
             }
            },
            "type": "scatter3d"
           }
          ],
          "scattercarpet": [
           {
            "marker": {
             "colorbar": {
              "outlinewidth": 0,
              "ticks": ""
             }
            },
            "type": "scattercarpet"
           }
          ],
          "scattergeo": [
           {
            "marker": {
             "colorbar": {
              "outlinewidth": 0,
              "ticks": ""
             }
            },
            "type": "scattergeo"
           }
          ],
          "scattergl": [
           {
            "marker": {
             "colorbar": {
              "outlinewidth": 0,
              "ticks": ""
             }
            },
            "type": "scattergl"
           }
          ],
          "scattermapbox": [
           {
            "marker": {
             "colorbar": {
              "outlinewidth": 0,
              "ticks": ""
             }
            },
            "type": "scattermapbox"
           }
          ],
          "scatterpolar": [
           {
            "marker": {
             "colorbar": {
              "outlinewidth": 0,
              "ticks": ""
             }
            },
            "type": "scatterpolar"
           }
          ],
          "scatterpolargl": [
           {
            "marker": {
             "colorbar": {
              "outlinewidth": 0,
              "ticks": ""
             }
            },
            "type": "scatterpolargl"
           }
          ],
          "scatterternary": [
           {
            "marker": {
             "colorbar": {
              "outlinewidth": 0,
              "ticks": ""
             }
            },
            "type": "scatterternary"
           }
          ],
          "surface": [
           {
            "colorbar": {
             "outlinewidth": 0,
             "ticks": ""
            },
            "colorscale": [
             [
              0.0,
              "#0d0887"
             ],
             [
              0.1111111111111111,
              "#46039f"
             ],
             [
              0.2222222222222222,
              "#7201a8"
             ],
             [
              0.3333333333333333,
              "#9c179e"
             ],
             [
              0.4444444444444444,
              "#bd3786"
             ],
             [
              0.5555555555555556,
              "#d8576b"
             ],
             [
              0.6666666666666666,
              "#ed7953"
             ],
             [
              0.7777777777777778,
              "#fb9f3a"
             ],
             [
              0.8888888888888888,
              "#fdca26"
             ],
             [
              1.0,
              "#f0f921"
             ]
            ],
            "type": "surface"
           }
          ],
          "table": [
           {
            "cells": {
             "fill": {
              "color": "#EBF0F8"
             },
             "line": {
              "color": "white"
             }
            },
            "header": {
             "fill": {
              "color": "#C8D4E3"
             },
             "line": {
              "color": "white"
             }
            },
            "type": "table"
           }
          ]
         },
         "layout": {
          "annotationdefaults": {
           "arrowcolor": "#2a3f5f",
           "arrowhead": 0,
           "arrowwidth": 1
          },
          "autotypenumbers": "strict",
          "coloraxis": {
           "colorbar": {
            "outlinewidth": 0,
            "ticks": ""
           }
          },
          "colorscale": {
           "diverging": [
            [
             0,
             "#8e0152"
            ],
            [
             0.1,
             "#c51b7d"
            ],
            [
             0.2,
             "#de77ae"
            ],
            [
             0.3,
             "#f1b6da"
            ],
            [
             0.4,
             "#fde0ef"
            ],
            [
             0.5,
             "#f7f7f7"
            ],
            [
             0.6,
             "#e6f5d0"
            ],
            [
             0.7,
             "#b8e186"
            ],
            [
             0.8,
             "#7fbc41"
            ],
            [
             0.9,
             "#4d9221"
            ],
            [
             1,
             "#276419"
            ]
           ],
           "sequential": [
            [
             0.0,
             "#0d0887"
            ],
            [
             0.1111111111111111,
             "#46039f"
            ],
            [
             0.2222222222222222,
             "#7201a8"
            ],
            [
             0.3333333333333333,
             "#9c179e"
            ],
            [
             0.4444444444444444,
             "#bd3786"
            ],
            [
             0.5555555555555556,
             "#d8576b"
            ],
            [
             0.6666666666666666,
             "#ed7953"
            ],
            [
             0.7777777777777778,
             "#fb9f3a"
            ],
            [
             0.8888888888888888,
             "#fdca26"
            ],
            [
             1.0,
             "#f0f921"
            ]
           ],
           "sequentialminus": [
            [
             0.0,
             "#0d0887"
            ],
            [
             0.1111111111111111,
             "#46039f"
            ],
            [
             0.2222222222222222,
             "#7201a8"
            ],
            [
             0.3333333333333333,
             "#9c179e"
            ],
            [
             0.4444444444444444,
             "#bd3786"
            ],
            [
             0.5555555555555556,
             "#d8576b"
            ],
            [
             0.6666666666666666,
             "#ed7953"
            ],
            [
             0.7777777777777778,
             "#fb9f3a"
            ],
            [
             0.8888888888888888,
             "#fdca26"
            ],
            [
             1.0,
             "#f0f921"
            ]
           ]
          },
          "colorway": [
           "#636efa",
           "#EF553B",
           "#00cc96",
           "#ab63fa",
           "#FFA15A",
           "#19d3f3",
           "#FF6692",
           "#B6E880",
           "#FF97FF",
           "#FECB52"
          ],
          "font": {
           "color": "#2a3f5f"
          },
          "geo": {
           "bgcolor": "white",
           "lakecolor": "white",
           "landcolor": "#E5ECF6",
           "showlakes": true,
           "showland": true,
           "subunitcolor": "white"
          },
          "hoverlabel": {
           "align": "left"
          },
          "hovermode": "closest",
          "mapbox": {
           "style": "light"
          },
          "paper_bgcolor": "white",
          "plot_bgcolor": "#E5ECF6",
          "polar": {
           "angularaxis": {
            "gridcolor": "white",
            "linecolor": "white",
            "ticks": ""
           },
           "bgcolor": "#E5ECF6",
           "radialaxis": {
            "gridcolor": "white",
            "linecolor": "white",
            "ticks": ""
           }
          },
          "scene": {
           "xaxis": {
            "backgroundcolor": "#E5ECF6",
            "gridcolor": "white",
            "gridwidth": 2,
            "linecolor": "white",
            "showbackground": true,
            "ticks": "",
            "zerolinecolor": "white"
           },
           "yaxis": {
            "backgroundcolor": "#E5ECF6",
            "gridcolor": "white",
            "gridwidth": 2,
            "linecolor": "white",
            "showbackground": true,
            "ticks": "",
            "zerolinecolor": "white"
           },
           "zaxis": {
            "backgroundcolor": "#E5ECF6",
            "gridcolor": "white",
            "gridwidth": 2,
            "linecolor": "white",
            "showbackground": true,
            "ticks": "",
            "zerolinecolor": "white"
           }
          },
          "shapedefaults": {
           "line": {
            "color": "#2a3f5f"
           }
          },
          "ternary": {
           "aaxis": {
            "gridcolor": "white",
            "linecolor": "white",
            "ticks": ""
           },
           "baxis": {
            "gridcolor": "white",
            "linecolor": "white",
            "ticks": ""
           },
           "bgcolor": "#E5ECF6",
           "caxis": {
            "gridcolor": "white",
            "linecolor": "white",
            "ticks": ""
           }
          },
          "title": {
           "x": 0.05
          },
          "xaxis": {
           "automargin": true,
           "gridcolor": "white",
           "linecolor": "white",
           "ticks": "",
           "title": {
            "standoff": 15
           },
           "zerolinecolor": "white",
           "zerolinewidth": 2
          },
          "yaxis": {
           "automargin": true,
           "gridcolor": "white",
           "linecolor": "white",
           "ticks": "",
           "title": {
            "standoff": 15
           },
           "zerolinecolor": "white",
           "zerolinewidth": 2
          }
         }
        },
        "title": {
         "automargin": true,
         "font": {
          "size": 18
         },
         "text": "Average Trip Length by Season",
         "yref": "paper"
        },
        "xaxis": {
         "anchor": "y",
         "domain": [
          0.0,
          1.0
         ],
         "title": {
          "text": "Season"
         }
        },
        "yaxis": {
         "anchor": "x",
         "domain": [
          0.0,
          1.0
         ],
         "title": {
          "text": "Average trip length (min)"
         }
        }
       }
      },
      "text/html": [
       "<div>                            <div id=\"0a4508cc-c011-4581-b90c-c30e993ef7d3\" class=\"plotly-graph-div\" style=\"height:525px; width:100%;\"></div>            <script type=\"text/javascript\">                require([\"plotly\"], function(Plotly) {                    window.PLOTLYENV=window.PLOTLYENV || {};                                    if (document.getElementById(\"0a4508cc-c011-4581-b90c-c30e993ef7d3\")) {                    Plotly.newPlot(                        \"0a4508cc-c011-4581-b90c-c30e993ef7d3\",                        [{\"alignmentgroup\":\"True\",\"customdata\":[[\"casual\"],[\"casual\"],[\"casual\"],[\"casual\"]],\"hovertemplate\":\"<b>%{hovertext}</b><br><br>Season=%{x}<br>Average trip length (min)=%{text}<extra></extra>\",\"hovertext\":[\"casual\",\"casual\",\"casual\",\"casual\"],\"legendgroup\":\"casual\",\"marker\":{\"color\":\"#FF934F\",\"pattern\":{\"shape\":\"\"}},\"name\":\"casual\",\"offsetgroup\":\"casual\",\"orientation\":\"v\",\"showlegend\":true,\"text\":[20.43,24.81,24.41,15.65],\"textposition\":\"auto\",\"x\":[\"Autumn\",\"Spring\",\"Summer\",\"Winter\"],\"xaxis\":\"x\",\"y\":[20.43,24.81,24.41,15.65],\"yaxis\":\"y\",\"type\":\"bar\"},{\"alignmentgroup\":\"True\",\"customdata\":[[\"member\"],[\"member\"],[\"member\"],[\"member\"]],\"hovertemplate\":\"<b>%{hovertext}</b><br><br>Season=%{x}<br>Average trip length (min)=%{text}<extra></extra>\",\"hovertext\":[\"member\",\"member\",\"member\",\"member\"],\"legendgroup\":\"member\",\"marker\":{\"color\":\"#058ED9\",\"pattern\":{\"shape\":\"\"}},\"name\":\"member\",\"offsetgroup\":\"member\",\"orientation\":\"v\",\"showlegend\":true,\"text\":[11.61,11.81,13.2,9.97],\"textposition\":\"auto\",\"x\":[\"Autumn\",\"Spring\",\"Summer\",\"Winter\"],\"xaxis\":\"x\",\"y\":[11.61,11.81,13.2,9.97],\"yaxis\":\"y\",\"type\":\"bar\"}],                        {\"template\":{\"data\":{\"histogram2dcontour\":[{\"type\":\"histogram2dcontour\",\"colorbar\":{\"outlinewidth\":0,\"ticks\":\"\"},\"colorscale\":[[0.0,\"#0d0887\"],[0.1111111111111111,\"#46039f\"],[0.2222222222222222,\"#7201a8\"],[0.3333333333333333,\"#9c179e\"],[0.4444444444444444,\"#bd3786\"],[0.5555555555555556,\"#d8576b\"],[0.6666666666666666,\"#ed7953\"],[0.7777777777777778,\"#fb9f3a\"],[0.8888888888888888,\"#fdca26\"],[1.0,\"#f0f921\"]]}],\"choropleth\":[{\"type\":\"choropleth\",\"colorbar\":{\"outlinewidth\":0,\"ticks\":\"\"}}],\"histogram2d\":[{\"type\":\"histogram2d\",\"colorbar\":{\"outlinewidth\":0,\"ticks\":\"\"},\"colorscale\":[[0.0,\"#0d0887\"],[0.1111111111111111,\"#46039f\"],[0.2222222222222222,\"#7201a8\"],[0.3333333333333333,\"#9c179e\"],[0.4444444444444444,\"#bd3786\"],[0.5555555555555556,\"#d8576b\"],[0.6666666666666666,\"#ed7953\"],[0.7777777777777778,\"#fb9f3a\"],[0.8888888888888888,\"#fdca26\"],[1.0,\"#f0f921\"]]}],\"heatmap\":[{\"type\":\"heatmap\",\"colorbar\":{\"outlinewidth\":0,\"ticks\":\"\"},\"colorscale\":[[0.0,\"#0d0887\"],[0.1111111111111111,\"#46039f\"],[0.2222222222222222,\"#7201a8\"],[0.3333333333333333,\"#9c179e\"],[0.4444444444444444,\"#bd3786\"],[0.5555555555555556,\"#d8576b\"],[0.6666666666666666,\"#ed7953\"],[0.7777777777777778,\"#fb9f3a\"],[0.8888888888888888,\"#fdca26\"],[1.0,\"#f0f921\"]]}],\"heatmapgl\":[{\"type\":\"heatmapgl\",\"colorbar\":{\"outlinewidth\":0,\"ticks\":\"\"},\"colorscale\":[[0.0,\"#0d0887\"],[0.1111111111111111,\"#46039f\"],[0.2222222222222222,\"#7201a8\"],[0.3333333333333333,\"#9c179e\"],[0.4444444444444444,\"#bd3786\"],[0.5555555555555556,\"#d8576b\"],[0.6666666666666666,\"#ed7953\"],[0.7777777777777778,\"#fb9f3a\"],[0.8888888888888888,\"#fdca26\"],[1.0,\"#f0f921\"]]}],\"contourcarpet\":[{\"type\":\"contourcarpet\",\"colorbar\":{\"outlinewidth\":0,\"ticks\":\"\"}}],\"contour\":[{\"type\":\"contour\",\"colorbar\":{\"outlinewidth\":0,\"ticks\":\"\"},\"colorscale\":[[0.0,\"#0d0887\"],[0.1111111111111111,\"#46039f\"],[0.2222222222222222,\"#7201a8\"],[0.3333333333333333,\"#9c179e\"],[0.4444444444444444,\"#bd3786\"],[0.5555555555555556,\"#d8576b\"],[0.6666666666666666,\"#ed7953\"],[0.7777777777777778,\"#fb9f3a\"],[0.8888888888888888,\"#fdca26\"],[1.0,\"#f0f921\"]]}],\"surface\":[{\"type\":\"surface\",\"colorbar\":{\"outlinewidth\":0,\"ticks\":\"\"},\"colorscale\":[[0.0,\"#0d0887\"],[0.1111111111111111,\"#46039f\"],[0.2222222222222222,\"#7201a8\"],[0.3333333333333333,\"#9c179e\"],[0.4444444444444444,\"#bd3786\"],[0.5555555555555556,\"#d8576b\"],[0.6666666666666666,\"#ed7953\"],[0.7777777777777778,\"#fb9f3a\"],[0.8888888888888888,\"#fdca26\"],[1.0,\"#f0f921\"]]}],\"mesh3d\":[{\"type\":\"mesh3d\",\"colorbar\":{\"outlinewidth\":0,\"ticks\":\"\"}}],\"scatter\":[{\"fillpattern\":{\"fillmode\":\"overlay\",\"size\":10,\"solidity\":0.2},\"type\":\"scatter\"}],\"parcoords\":[{\"type\":\"parcoords\",\"line\":{\"colorbar\":{\"outlinewidth\":0,\"ticks\":\"\"}}}],\"scatterpolargl\":[{\"type\":\"scatterpolargl\",\"marker\":{\"colorbar\":{\"outlinewidth\":0,\"ticks\":\"\"}}}],\"bar\":[{\"error_x\":{\"color\":\"#2a3f5f\"},\"error_y\":{\"color\":\"#2a3f5f\"},\"marker\":{\"line\":{\"color\":\"#E5ECF6\",\"width\":0.5},\"pattern\":{\"fillmode\":\"overlay\",\"size\":10,\"solidity\":0.2}},\"type\":\"bar\"}],\"scattergeo\":[{\"type\":\"scattergeo\",\"marker\":{\"colorbar\":{\"outlinewidth\":0,\"ticks\":\"\"}}}],\"scatterpolar\":[{\"type\":\"scatterpolar\",\"marker\":{\"colorbar\":{\"outlinewidth\":0,\"ticks\":\"\"}}}],\"histogram\":[{\"marker\":{\"pattern\":{\"fillmode\":\"overlay\",\"size\":10,\"solidity\":0.2}},\"type\":\"histogram\"}],\"scattergl\":[{\"type\":\"scattergl\",\"marker\":{\"colorbar\":{\"outlinewidth\":0,\"ticks\":\"\"}}}],\"scatter3d\":[{\"type\":\"scatter3d\",\"line\":{\"colorbar\":{\"outlinewidth\":0,\"ticks\":\"\"}},\"marker\":{\"colorbar\":{\"outlinewidth\":0,\"ticks\":\"\"}}}],\"scattermapbox\":[{\"type\":\"scattermapbox\",\"marker\":{\"colorbar\":{\"outlinewidth\":0,\"ticks\":\"\"}}}],\"scatterternary\":[{\"type\":\"scatterternary\",\"marker\":{\"colorbar\":{\"outlinewidth\":0,\"ticks\":\"\"}}}],\"scattercarpet\":[{\"type\":\"scattercarpet\",\"marker\":{\"colorbar\":{\"outlinewidth\":0,\"ticks\":\"\"}}}],\"carpet\":[{\"aaxis\":{\"endlinecolor\":\"#2a3f5f\",\"gridcolor\":\"white\",\"linecolor\":\"white\",\"minorgridcolor\":\"white\",\"startlinecolor\":\"#2a3f5f\"},\"baxis\":{\"endlinecolor\":\"#2a3f5f\",\"gridcolor\":\"white\",\"linecolor\":\"white\",\"minorgridcolor\":\"white\",\"startlinecolor\":\"#2a3f5f\"},\"type\":\"carpet\"}],\"table\":[{\"cells\":{\"fill\":{\"color\":\"#EBF0F8\"},\"line\":{\"color\":\"white\"}},\"header\":{\"fill\":{\"color\":\"#C8D4E3\"},\"line\":{\"color\":\"white\"}},\"type\":\"table\"}],\"barpolar\":[{\"marker\":{\"line\":{\"color\":\"#E5ECF6\",\"width\":0.5},\"pattern\":{\"fillmode\":\"overlay\",\"size\":10,\"solidity\":0.2}},\"type\":\"barpolar\"}],\"pie\":[{\"automargin\":true,\"type\":\"pie\"}]},\"layout\":{\"autotypenumbers\":\"strict\",\"colorway\":[\"#636efa\",\"#EF553B\",\"#00cc96\",\"#ab63fa\",\"#FFA15A\",\"#19d3f3\",\"#FF6692\",\"#B6E880\",\"#FF97FF\",\"#FECB52\"],\"font\":{\"color\":\"#2a3f5f\"},\"hovermode\":\"closest\",\"hoverlabel\":{\"align\":\"left\"},\"paper_bgcolor\":\"white\",\"plot_bgcolor\":\"#E5ECF6\",\"polar\":{\"bgcolor\":\"#E5ECF6\",\"angularaxis\":{\"gridcolor\":\"white\",\"linecolor\":\"white\",\"ticks\":\"\"},\"radialaxis\":{\"gridcolor\":\"white\",\"linecolor\":\"white\",\"ticks\":\"\"}},\"ternary\":{\"bgcolor\":\"#E5ECF6\",\"aaxis\":{\"gridcolor\":\"white\",\"linecolor\":\"white\",\"ticks\":\"\"},\"baxis\":{\"gridcolor\":\"white\",\"linecolor\":\"white\",\"ticks\":\"\"},\"caxis\":{\"gridcolor\":\"white\",\"linecolor\":\"white\",\"ticks\":\"\"}},\"coloraxis\":{\"colorbar\":{\"outlinewidth\":0,\"ticks\":\"\"}},\"colorscale\":{\"sequential\":[[0.0,\"#0d0887\"],[0.1111111111111111,\"#46039f\"],[0.2222222222222222,\"#7201a8\"],[0.3333333333333333,\"#9c179e\"],[0.4444444444444444,\"#bd3786\"],[0.5555555555555556,\"#d8576b\"],[0.6666666666666666,\"#ed7953\"],[0.7777777777777778,\"#fb9f3a\"],[0.8888888888888888,\"#fdca26\"],[1.0,\"#f0f921\"]],\"sequentialminus\":[[0.0,\"#0d0887\"],[0.1111111111111111,\"#46039f\"],[0.2222222222222222,\"#7201a8\"],[0.3333333333333333,\"#9c179e\"],[0.4444444444444444,\"#bd3786\"],[0.5555555555555556,\"#d8576b\"],[0.6666666666666666,\"#ed7953\"],[0.7777777777777778,\"#fb9f3a\"],[0.8888888888888888,\"#fdca26\"],[1.0,\"#f0f921\"]],\"diverging\":[[0,\"#8e0152\"],[0.1,\"#c51b7d\"],[0.2,\"#de77ae\"],[0.3,\"#f1b6da\"],[0.4,\"#fde0ef\"],[0.5,\"#f7f7f7\"],[0.6,\"#e6f5d0\"],[0.7,\"#b8e186\"],[0.8,\"#7fbc41\"],[0.9,\"#4d9221\"],[1,\"#276419\"]]},\"xaxis\":{\"gridcolor\":\"white\",\"linecolor\":\"white\",\"ticks\":\"\",\"title\":{\"standoff\":15},\"zerolinecolor\":\"white\",\"automargin\":true,\"zerolinewidth\":2},\"yaxis\":{\"gridcolor\":\"white\",\"linecolor\":\"white\",\"ticks\":\"\",\"title\":{\"standoff\":15},\"zerolinecolor\":\"white\",\"automargin\":true,\"zerolinewidth\":2},\"scene\":{\"xaxis\":{\"backgroundcolor\":\"#E5ECF6\",\"gridcolor\":\"white\",\"linecolor\":\"white\",\"showbackground\":true,\"ticks\":\"\",\"zerolinecolor\":\"white\",\"gridwidth\":2},\"yaxis\":{\"backgroundcolor\":\"#E5ECF6\",\"gridcolor\":\"white\",\"linecolor\":\"white\",\"showbackground\":true,\"ticks\":\"\",\"zerolinecolor\":\"white\",\"gridwidth\":2},\"zaxis\":{\"backgroundcolor\":\"#E5ECF6\",\"gridcolor\":\"white\",\"linecolor\":\"white\",\"showbackground\":true,\"ticks\":\"\",\"zerolinecolor\":\"white\",\"gridwidth\":2}},\"shapedefaults\":{\"line\":{\"color\":\"#2a3f5f\"}},\"annotationdefaults\":{\"arrowcolor\":\"#2a3f5f\",\"arrowhead\":0,\"arrowwidth\":1},\"geo\":{\"bgcolor\":\"white\",\"landcolor\":\"#E5ECF6\",\"subunitcolor\":\"white\",\"showland\":true,\"showlakes\":true,\"lakecolor\":\"white\"},\"title\":{\"x\":0.05},\"mapbox\":{\"style\":\"light\"}}},\"xaxis\":{\"anchor\":\"y\",\"domain\":[0.0,1.0],\"title\":{\"text\":\"Season\"}},\"yaxis\":{\"anchor\":\"x\",\"domain\":[0.0,1.0],\"title\":{\"text\":\"Average trip length (min)\"}},\"legend\":{\"title\":{\"text\":\"User Type\"},\"tracegroupgap\":0},\"margin\":{\"t\":60},\"barmode\":\"group\",\"title\":{\"font\":{\"size\":18},\"text\":\"Average Trip Length by Season\",\"automargin\":true,\"yref\":\"paper\"}},                        {\"responsive\": true}                    ).then(function(){\n",
       "                            \n",
       "var gd = document.getElementById('0a4508cc-c011-4581-b90c-c30e993ef7d3');\n",
       "var x = new MutationObserver(function (mutations, observer) {{\n",
       "        var display = window.getComputedStyle(gd).display;\n",
       "        if (!display || display === 'none') {{\n",
       "            console.log([gd, 'removed!']);\n",
       "            Plotly.purge(gd);\n",
       "            observer.disconnect();\n",
       "        }}\n",
       "}});\n",
       "\n",
       "// Listen for the removal of the full notebook cells\n",
       "var notebookContainer = gd.closest('#notebook-container');\n",
       "if (notebookContainer) {{\n",
       "    x.observe(notebookContainer, {childList: true});\n",
       "}}\n",
       "\n",
       "// Listen for the clearing of the current output cell\n",
       "var outputEl = gd.closest('.output');\n",
       "if (outputEl) {{\n",
       "    x.observe(outputEl, {childList: true});\n",
       "}}\n",
       "\n",
       "                        })                };                });            </script>        </div>"
      ]
     },
     "metadata": {},
     "output_type": "display_data"
    }
   ],
   "source": [
    "df_pv12a= cyc_data_combined.groupby(['season', 'member_casual'], as_index=False)[['ride_length_min']].mean().round(2).rename(columns = {'ride_length_min': 'avg_trip_min'})\n",
    "df_pv12a\n",
    "\n",
    "fig_7a = px.bar(df_pv12a, x = 'season', y = 'avg_trip_min',\n",
    "        color = 'member_casual',\n",
    "        barmode='group',\n",
    "        text = 'avg_trip_min', \n",
    "        labels = {'avg_trip_min': 'Average trip length (min)', 'member_casual': 'User Type', 'season': 'Season'},\n",
    "        hover_name = 'member_casual', hover_data = {'member_casual': False, 'avg_trip_min': True}, \n",
    "        color_discrete_map = {'casual': '#FF934F', 'member': '#058ED9'})\n",
    "fig_7a.update_layout(\n",
    "    title=dict(text=\"Average Trip Length by Season\",font=dict(size=18), automargin=True, yref='paper')\n",
    ")\n"
   ]
  },
  {
   "cell_type": "markdown",
   "id": "9e0df975",
   "metadata": {
    "papermill": {
     "duration": 0.12068,
     "end_time": "2023-06-14T21:23:08.539107",
     "exception": false,
     "start_time": "2023-06-14T21:23:08.418427",
     "status": "completed"
    },
    "tags": []
   },
   "source": [
    "__Fig.7b__ - Duration of trips for members remains fairly constant. Casual riders have the highest trip durations during spring and summer months, followed by a gradual decrease in autumn and winter. "
   ]
  },
  {
   "cell_type": "code",
   "execution_count": 55,
   "id": "a88fe182",
   "metadata": {
    "execution": {
     "iopub.execute_input": "2023-06-14T21:23:08.827771Z",
     "iopub.status.busy": "2023-06-14T21:23:08.827359Z",
     "iopub.status.idle": "2023-06-14T21:23:09.044829Z",
     "shell.execute_reply": "2023-06-14T21:23:09.044021Z"
    },
    "papermill": {
     "duration": 0.396686,
     "end_time": "2023-06-14T21:23:09.046991",
     "exception": false,
     "start_time": "2023-06-14T21:23:08.650305",
     "status": "completed"
    },
    "tags": []
   },
   "outputs": [
    {
     "data": {
      "text/html": [
       "<div>\n",
       "<style scoped>\n",
       "    .dataframe tbody tr th:only-of-type {\n",
       "        vertical-align: middle;\n",
       "    }\n",
       "\n",
       "    .dataframe tbody tr th {\n",
       "        vertical-align: top;\n",
       "    }\n",
       "\n",
       "    .dataframe thead th {\n",
       "        text-align: right;\n",
       "    }\n",
       "</style>\n",
       "<table border=\"1\" class=\"dataframe\">\n",
       "  <thead>\n",
       "    <tr style=\"text-align: right;\">\n",
       "      <th></th>\n",
       "      <th>day</th>\n",
       "      <th>member_casual</th>\n",
       "      <th>avg_trip_min</th>\n",
       "    </tr>\n",
       "  </thead>\n",
       "  <tbody>\n",
       "    <tr>\n",
       "      <th>0</th>\n",
       "      <td>Mon</td>\n",
       "      <td>casual</td>\n",
       "      <td>23.66</td>\n",
       "    </tr>\n",
       "    <tr>\n",
       "      <th>1</th>\n",
       "      <td>Mon</td>\n",
       "      <td>member</td>\n",
       "      <td>11.49</td>\n",
       "    </tr>\n",
       "    <tr>\n",
       "      <th>2</th>\n",
       "      <td>Tue</td>\n",
       "      <td>casual</td>\n",
       "      <td>20.63</td>\n",
       "    </tr>\n",
       "    <tr>\n",
       "      <th>3</th>\n",
       "      <td>Tue</td>\n",
       "      <td>member</td>\n",
       "      <td>11.45</td>\n",
       "    </tr>\n",
       "    <tr>\n",
       "      <th>4</th>\n",
       "      <td>Wed</td>\n",
       "      <td>casual</td>\n",
       "      <td>19.64</td>\n",
       "    </tr>\n",
       "    <tr>\n",
       "      <th>5</th>\n",
       "      <td>Wed</td>\n",
       "      <td>member</td>\n",
       "      <td>11.44</td>\n",
       "    </tr>\n",
       "    <tr>\n",
       "      <th>6</th>\n",
       "      <td>Thu</td>\n",
       "      <td>casual</td>\n",
       "      <td>20.46</td>\n",
       "    </tr>\n",
       "    <tr>\n",
       "      <th>7</th>\n",
       "      <td>Thu</td>\n",
       "      <td>member</td>\n",
       "      <td>11.62</td>\n",
       "    </tr>\n",
       "    <tr>\n",
       "      <th>8</th>\n",
       "      <td>Fri</td>\n",
       "      <td>casual</td>\n",
       "      <td>21.90</td>\n",
       "    </tr>\n",
       "    <tr>\n",
       "      <th>9</th>\n",
       "      <td>Fri</td>\n",
       "      <td>member</td>\n",
       "      <td>11.82</td>\n",
       "    </tr>\n",
       "    <tr>\n",
       "      <th>10</th>\n",
       "      <td>Sat</td>\n",
       "      <td>casual</td>\n",
       "      <td>25.72</td>\n",
       "    </tr>\n",
       "    <tr>\n",
       "      <th>11</th>\n",
       "      <td>Sat</td>\n",
       "      <td>member</td>\n",
       "      <td>13.59</td>\n",
       "    </tr>\n",
       "    <tr>\n",
       "      <th>12</th>\n",
       "      <td>Sun</td>\n",
       "      <td>casual</td>\n",
       "      <td>26.47</td>\n",
       "    </tr>\n",
       "    <tr>\n",
       "      <th>13</th>\n",
       "      <td>Sun</td>\n",
       "      <td>member</td>\n",
       "      <td>13.44</td>\n",
       "    </tr>\n",
       "  </tbody>\n",
       "</table>\n",
       "</div>"
      ],
      "text/plain": [
       "    day member_casual  avg_trip_min\n",
       "0   Mon        casual         23.66\n",
       "1   Mon        member         11.49\n",
       "2   Tue        casual         20.63\n",
       "3   Tue        member         11.45\n",
       "4   Wed        casual         19.64\n",
       "5   Wed        member         11.44\n",
       "6   Thu        casual         20.46\n",
       "7   Thu        member         11.62\n",
       "8   Fri        casual         21.90\n",
       "9   Fri        member         11.82\n",
       "10  Sat        casual         25.72\n",
       "11  Sat        member         13.59\n",
       "12  Sun        casual         26.47\n",
       "13  Sun        member         13.44"
      ]
     },
     "execution_count": 55,
     "metadata": {},
     "output_type": "execute_result"
    }
   ],
   "source": [
    "df_pv13= cyc_data_combined.groupby(['day', 'member_casual'], as_index=False)[['ride_length_min']].mean().round(2).rename(columns={\"ride_length_min\":\"avg_trip_min\"})\n",
    "df_pv13"
   ]
  },
  {
   "cell_type": "code",
   "execution_count": 56,
   "id": "100d543f",
   "metadata": {
    "execution": {
     "iopub.execute_input": "2023-06-14T21:23:09.270514Z",
     "iopub.status.busy": "2023-06-14T21:23:09.269823Z",
     "iopub.status.idle": "2023-06-14T21:23:09.360368Z",
     "shell.execute_reply": "2023-06-14T21:23:09.359153Z"
    },
    "papermill": {
     "duration": 0.204813,
     "end_time": "2023-06-14T21:23:09.362813",
     "exception": false,
     "start_time": "2023-06-14T21:23:09.158000",
     "status": "completed"
    },
    "tags": []
   },
   "outputs": [
    {
     "data": {
      "application/vnd.plotly.v1+json": {
       "config": {
        "plotlyServerURL": "https://plot.ly"
       },
       "data": [
        {
         "alignmentgroup": "True",
         "customdata": [
          [
           "casual"
          ],
          [
           "casual"
          ],
          [
           "casual"
          ],
          [
           "casual"
          ],
          [
           "casual"
          ],
          [
           "casual"
          ],
          [
           "casual"
          ]
         ],
         "hovertemplate": "<b>%{hovertext}</b><br><br>Days=%{x}<br>Average trip length (min)=%{text}<extra></extra>",
         "hovertext": [
          "casual",
          "casual",
          "casual",
          "casual",
          "casual",
          "casual",
          "casual"
         ],
         "legendgroup": "casual",
         "marker": {
          "color": "#FF934F",
          "pattern": {
           "shape": ""
          }
         },
         "name": "casual",
         "offsetgroup": "casual",
         "orientation": "v",
         "showlegend": true,
         "text": [
          23.66,
          20.63,
          19.64,
          20.46,
          21.9,
          25.72,
          26.47
         ],
         "textposition": "auto",
         "type": "bar",
         "x": [
          "Mon",
          "Tue",
          "Wed",
          "Thu",
          "Fri",
          "Sat",
          "Sun"
         ],
         "xaxis": "x",
         "y": [
          23.66,
          20.63,
          19.64,
          20.46,
          21.9,
          25.72,
          26.47
         ],
         "yaxis": "y"
        },
        {
         "alignmentgroup": "True",
         "customdata": [
          [
           "member"
          ],
          [
           "member"
          ],
          [
           "member"
          ],
          [
           "member"
          ],
          [
           "member"
          ],
          [
           "member"
          ],
          [
           "member"
          ]
         ],
         "hovertemplate": "<b>%{hovertext}</b><br><br>Days=%{x}<br>Average trip length (min)=%{text}<extra></extra>",
         "hovertext": [
          "member",
          "member",
          "member",
          "member",
          "member",
          "member",
          "member"
         ],
         "legendgroup": "member",
         "marker": {
          "color": "#058ED9",
          "pattern": {
           "shape": ""
          }
         },
         "name": "member",
         "offsetgroup": "member",
         "orientation": "v",
         "showlegend": true,
         "text": [
          11.49,
          11.45,
          11.44,
          11.62,
          11.82,
          13.59,
          13.44
         ],
         "textposition": "auto",
         "type": "bar",
         "x": [
          "Mon",
          "Tue",
          "Wed",
          "Thu",
          "Fri",
          "Sat",
          "Sun"
         ],
         "xaxis": "x",
         "y": [
          11.49,
          11.45,
          11.44,
          11.62,
          11.82,
          13.59,
          13.44
         ],
         "yaxis": "y"
        }
       ],
       "layout": {
        "barmode": "group",
        "legend": {
         "title": {
          "text": "User Type"
         },
         "tracegroupgap": 0
        },
        "margin": {
         "t": 60
        },
        "template": {
         "data": {
          "bar": [
           {
            "error_x": {
             "color": "#2a3f5f"
            },
            "error_y": {
             "color": "#2a3f5f"
            },
            "marker": {
             "line": {
              "color": "#E5ECF6",
              "width": 0.5
             },
             "pattern": {
              "fillmode": "overlay",
              "size": 10,
              "solidity": 0.2
             }
            },
            "type": "bar"
           }
          ],
          "barpolar": [
           {
            "marker": {
             "line": {
              "color": "#E5ECF6",
              "width": 0.5
             },
             "pattern": {
              "fillmode": "overlay",
              "size": 10,
              "solidity": 0.2
             }
            },
            "type": "barpolar"
           }
          ],
          "carpet": [
           {
            "aaxis": {
             "endlinecolor": "#2a3f5f",
             "gridcolor": "white",
             "linecolor": "white",
             "minorgridcolor": "white",
             "startlinecolor": "#2a3f5f"
            },
            "baxis": {
             "endlinecolor": "#2a3f5f",
             "gridcolor": "white",
             "linecolor": "white",
             "minorgridcolor": "white",
             "startlinecolor": "#2a3f5f"
            },
            "type": "carpet"
           }
          ],
          "choropleth": [
           {
            "colorbar": {
             "outlinewidth": 0,
             "ticks": ""
            },
            "type": "choropleth"
           }
          ],
          "contour": [
           {
            "colorbar": {
             "outlinewidth": 0,
             "ticks": ""
            },
            "colorscale": [
             [
              0.0,
              "#0d0887"
             ],
             [
              0.1111111111111111,
              "#46039f"
             ],
             [
              0.2222222222222222,
              "#7201a8"
             ],
             [
              0.3333333333333333,
              "#9c179e"
             ],
             [
              0.4444444444444444,
              "#bd3786"
             ],
             [
              0.5555555555555556,
              "#d8576b"
             ],
             [
              0.6666666666666666,
              "#ed7953"
             ],
             [
              0.7777777777777778,
              "#fb9f3a"
             ],
             [
              0.8888888888888888,
              "#fdca26"
             ],
             [
              1.0,
              "#f0f921"
             ]
            ],
            "type": "contour"
           }
          ],
          "contourcarpet": [
           {
            "colorbar": {
             "outlinewidth": 0,
             "ticks": ""
            },
            "type": "contourcarpet"
           }
          ],
          "heatmap": [
           {
            "colorbar": {
             "outlinewidth": 0,
             "ticks": ""
            },
            "colorscale": [
             [
              0.0,
              "#0d0887"
             ],
             [
              0.1111111111111111,
              "#46039f"
             ],
             [
              0.2222222222222222,
              "#7201a8"
             ],
             [
              0.3333333333333333,
              "#9c179e"
             ],
             [
              0.4444444444444444,
              "#bd3786"
             ],
             [
              0.5555555555555556,
              "#d8576b"
             ],
             [
              0.6666666666666666,
              "#ed7953"
             ],
             [
              0.7777777777777778,
              "#fb9f3a"
             ],
             [
              0.8888888888888888,
              "#fdca26"
             ],
             [
              1.0,
              "#f0f921"
             ]
            ],
            "type": "heatmap"
           }
          ],
          "heatmapgl": [
           {
            "colorbar": {
             "outlinewidth": 0,
             "ticks": ""
            },
            "colorscale": [
             [
              0.0,
              "#0d0887"
             ],
             [
              0.1111111111111111,
              "#46039f"
             ],
             [
              0.2222222222222222,
              "#7201a8"
             ],
             [
              0.3333333333333333,
              "#9c179e"
             ],
             [
              0.4444444444444444,
              "#bd3786"
             ],
             [
              0.5555555555555556,
              "#d8576b"
             ],
             [
              0.6666666666666666,
              "#ed7953"
             ],
             [
              0.7777777777777778,
              "#fb9f3a"
             ],
             [
              0.8888888888888888,
              "#fdca26"
             ],
             [
              1.0,
              "#f0f921"
             ]
            ],
            "type": "heatmapgl"
           }
          ],
          "histogram": [
           {
            "marker": {
             "pattern": {
              "fillmode": "overlay",
              "size": 10,
              "solidity": 0.2
             }
            },
            "type": "histogram"
           }
          ],
          "histogram2d": [
           {
            "colorbar": {
             "outlinewidth": 0,
             "ticks": ""
            },
            "colorscale": [
             [
              0.0,
              "#0d0887"
             ],
             [
              0.1111111111111111,
              "#46039f"
             ],
             [
              0.2222222222222222,
              "#7201a8"
             ],
             [
              0.3333333333333333,
              "#9c179e"
             ],
             [
              0.4444444444444444,
              "#bd3786"
             ],
             [
              0.5555555555555556,
              "#d8576b"
             ],
             [
              0.6666666666666666,
              "#ed7953"
             ],
             [
              0.7777777777777778,
              "#fb9f3a"
             ],
             [
              0.8888888888888888,
              "#fdca26"
             ],
             [
              1.0,
              "#f0f921"
             ]
            ],
            "type": "histogram2d"
           }
          ],
          "histogram2dcontour": [
           {
            "colorbar": {
             "outlinewidth": 0,
             "ticks": ""
            },
            "colorscale": [
             [
              0.0,
              "#0d0887"
             ],
             [
              0.1111111111111111,
              "#46039f"
             ],
             [
              0.2222222222222222,
              "#7201a8"
             ],
             [
              0.3333333333333333,
              "#9c179e"
             ],
             [
              0.4444444444444444,
              "#bd3786"
             ],
             [
              0.5555555555555556,
              "#d8576b"
             ],
             [
              0.6666666666666666,
              "#ed7953"
             ],
             [
              0.7777777777777778,
              "#fb9f3a"
             ],
             [
              0.8888888888888888,
              "#fdca26"
             ],
             [
              1.0,
              "#f0f921"
             ]
            ],
            "type": "histogram2dcontour"
           }
          ],
          "mesh3d": [
           {
            "colorbar": {
             "outlinewidth": 0,
             "ticks": ""
            },
            "type": "mesh3d"
           }
          ],
          "parcoords": [
           {
            "line": {
             "colorbar": {
              "outlinewidth": 0,
              "ticks": ""
             }
            },
            "type": "parcoords"
           }
          ],
          "pie": [
           {
            "automargin": true,
            "type": "pie"
           }
          ],
          "scatter": [
           {
            "fillpattern": {
             "fillmode": "overlay",
             "size": 10,
             "solidity": 0.2
            },
            "type": "scatter"
           }
          ],
          "scatter3d": [
           {
            "line": {
             "colorbar": {
              "outlinewidth": 0,
              "ticks": ""
             }
            },
            "marker": {
             "colorbar": {
              "outlinewidth": 0,
              "ticks": ""
             }
            },
            "type": "scatter3d"
           }
          ],
          "scattercarpet": [
           {
            "marker": {
             "colorbar": {
              "outlinewidth": 0,
              "ticks": ""
             }
            },
            "type": "scattercarpet"
           }
          ],
          "scattergeo": [
           {
            "marker": {
             "colorbar": {
              "outlinewidth": 0,
              "ticks": ""
             }
            },
            "type": "scattergeo"
           }
          ],
          "scattergl": [
           {
            "marker": {
             "colorbar": {
              "outlinewidth": 0,
              "ticks": ""
             }
            },
            "type": "scattergl"
           }
          ],
          "scattermapbox": [
           {
            "marker": {
             "colorbar": {
              "outlinewidth": 0,
              "ticks": ""
             }
            },
            "type": "scattermapbox"
           }
          ],
          "scatterpolar": [
           {
            "marker": {
             "colorbar": {
              "outlinewidth": 0,
              "ticks": ""
             }
            },
            "type": "scatterpolar"
           }
          ],
          "scatterpolargl": [
           {
            "marker": {
             "colorbar": {
              "outlinewidth": 0,
              "ticks": ""
             }
            },
            "type": "scatterpolargl"
           }
          ],
          "scatterternary": [
           {
            "marker": {
             "colorbar": {
              "outlinewidth": 0,
              "ticks": ""
             }
            },
            "type": "scatterternary"
           }
          ],
          "surface": [
           {
            "colorbar": {
             "outlinewidth": 0,
             "ticks": ""
            },
            "colorscale": [
             [
              0.0,
              "#0d0887"
             ],
             [
              0.1111111111111111,
              "#46039f"
             ],
             [
              0.2222222222222222,
              "#7201a8"
             ],
             [
              0.3333333333333333,
              "#9c179e"
             ],
             [
              0.4444444444444444,
              "#bd3786"
             ],
             [
              0.5555555555555556,
              "#d8576b"
             ],
             [
              0.6666666666666666,
              "#ed7953"
             ],
             [
              0.7777777777777778,
              "#fb9f3a"
             ],
             [
              0.8888888888888888,
              "#fdca26"
             ],
             [
              1.0,
              "#f0f921"
             ]
            ],
            "type": "surface"
           }
          ],
          "table": [
           {
            "cells": {
             "fill": {
              "color": "#EBF0F8"
             },
             "line": {
              "color": "white"
             }
            },
            "header": {
             "fill": {
              "color": "#C8D4E3"
             },
             "line": {
              "color": "white"
             }
            },
            "type": "table"
           }
          ]
         },
         "layout": {
          "annotationdefaults": {
           "arrowcolor": "#2a3f5f",
           "arrowhead": 0,
           "arrowwidth": 1
          },
          "autotypenumbers": "strict",
          "coloraxis": {
           "colorbar": {
            "outlinewidth": 0,
            "ticks": ""
           }
          },
          "colorscale": {
           "diverging": [
            [
             0,
             "#8e0152"
            ],
            [
             0.1,
             "#c51b7d"
            ],
            [
             0.2,
             "#de77ae"
            ],
            [
             0.3,
             "#f1b6da"
            ],
            [
             0.4,
             "#fde0ef"
            ],
            [
             0.5,
             "#f7f7f7"
            ],
            [
             0.6,
             "#e6f5d0"
            ],
            [
             0.7,
             "#b8e186"
            ],
            [
             0.8,
             "#7fbc41"
            ],
            [
             0.9,
             "#4d9221"
            ],
            [
             1,
             "#276419"
            ]
           ],
           "sequential": [
            [
             0.0,
             "#0d0887"
            ],
            [
             0.1111111111111111,
             "#46039f"
            ],
            [
             0.2222222222222222,
             "#7201a8"
            ],
            [
             0.3333333333333333,
             "#9c179e"
            ],
            [
             0.4444444444444444,
             "#bd3786"
            ],
            [
             0.5555555555555556,
             "#d8576b"
            ],
            [
             0.6666666666666666,
             "#ed7953"
            ],
            [
             0.7777777777777778,
             "#fb9f3a"
            ],
            [
             0.8888888888888888,
             "#fdca26"
            ],
            [
             1.0,
             "#f0f921"
            ]
           ],
           "sequentialminus": [
            [
             0.0,
             "#0d0887"
            ],
            [
             0.1111111111111111,
             "#46039f"
            ],
            [
             0.2222222222222222,
             "#7201a8"
            ],
            [
             0.3333333333333333,
             "#9c179e"
            ],
            [
             0.4444444444444444,
             "#bd3786"
            ],
            [
             0.5555555555555556,
             "#d8576b"
            ],
            [
             0.6666666666666666,
             "#ed7953"
            ],
            [
             0.7777777777777778,
             "#fb9f3a"
            ],
            [
             0.8888888888888888,
             "#fdca26"
            ],
            [
             1.0,
             "#f0f921"
            ]
           ]
          },
          "colorway": [
           "#636efa",
           "#EF553B",
           "#00cc96",
           "#ab63fa",
           "#FFA15A",
           "#19d3f3",
           "#FF6692",
           "#B6E880",
           "#FF97FF",
           "#FECB52"
          ],
          "font": {
           "color": "#2a3f5f"
          },
          "geo": {
           "bgcolor": "white",
           "lakecolor": "white",
           "landcolor": "#E5ECF6",
           "showlakes": true,
           "showland": true,
           "subunitcolor": "white"
          },
          "hoverlabel": {
           "align": "left"
          },
          "hovermode": "closest",
          "mapbox": {
           "style": "light"
          },
          "paper_bgcolor": "white",
          "plot_bgcolor": "#E5ECF6",
          "polar": {
           "angularaxis": {
            "gridcolor": "white",
            "linecolor": "white",
            "ticks": ""
           },
           "bgcolor": "#E5ECF6",
           "radialaxis": {
            "gridcolor": "white",
            "linecolor": "white",
            "ticks": ""
           }
          },
          "scene": {
           "xaxis": {
            "backgroundcolor": "#E5ECF6",
            "gridcolor": "white",
            "gridwidth": 2,
            "linecolor": "white",
            "showbackground": true,
            "ticks": "",
            "zerolinecolor": "white"
           },
           "yaxis": {
            "backgroundcolor": "#E5ECF6",
            "gridcolor": "white",
            "gridwidth": 2,
            "linecolor": "white",
            "showbackground": true,
            "ticks": "",
            "zerolinecolor": "white"
           },
           "zaxis": {
            "backgroundcolor": "#E5ECF6",
            "gridcolor": "white",
            "gridwidth": 2,
            "linecolor": "white",
            "showbackground": true,
            "ticks": "",
            "zerolinecolor": "white"
           }
          },
          "shapedefaults": {
           "line": {
            "color": "#2a3f5f"
           }
          },
          "ternary": {
           "aaxis": {
            "gridcolor": "white",
            "linecolor": "white",
            "ticks": ""
           },
           "baxis": {
            "gridcolor": "white",
            "linecolor": "white",
            "ticks": ""
           },
           "bgcolor": "#E5ECF6",
           "caxis": {
            "gridcolor": "white",
            "linecolor": "white",
            "ticks": ""
           }
          },
          "title": {
           "x": 0.05
          },
          "xaxis": {
           "automargin": true,
           "gridcolor": "white",
           "linecolor": "white",
           "ticks": "",
           "title": {
            "standoff": 15
           },
           "zerolinecolor": "white",
           "zerolinewidth": 2
          },
          "yaxis": {
           "automargin": true,
           "gridcolor": "white",
           "linecolor": "white",
           "ticks": "",
           "title": {
            "standoff": 15
           },
           "zerolinecolor": "white",
           "zerolinewidth": 2
          }
         }
        },
        "title": {
         "automargin": true,
         "font": {
          "size": 18
         },
         "text": "Daily Average Trip Length (May 2022 - Apr 2023)",
         "yref": "paper"
        },
        "xaxis": {
         "anchor": "y",
         "domain": [
          0.0,
          1.0
         ],
         "title": {
          "text": "Days"
         }
        },
        "yaxis": {
         "anchor": "x",
         "domain": [
          0.0,
          1.0
         ],
         "title": {
          "text": "Average trip length (min)"
         }
        }
       }
      },
      "text/html": [
       "<div>                            <div id=\"b0c7039b-6b3c-4e89-a93a-4a5806cdb101\" class=\"plotly-graph-div\" style=\"height:525px; width:100%;\"></div>            <script type=\"text/javascript\">                require([\"plotly\"], function(Plotly) {                    window.PLOTLYENV=window.PLOTLYENV || {};                                    if (document.getElementById(\"b0c7039b-6b3c-4e89-a93a-4a5806cdb101\")) {                    Plotly.newPlot(                        \"b0c7039b-6b3c-4e89-a93a-4a5806cdb101\",                        [{\"alignmentgroup\":\"True\",\"customdata\":[[\"casual\"],[\"casual\"],[\"casual\"],[\"casual\"],[\"casual\"],[\"casual\"],[\"casual\"]],\"hovertemplate\":\"<b>%{hovertext}</b><br><br>Days=%{x}<br>Average trip length (min)=%{text}<extra></extra>\",\"hovertext\":[\"casual\",\"casual\",\"casual\",\"casual\",\"casual\",\"casual\",\"casual\"],\"legendgroup\":\"casual\",\"marker\":{\"color\":\"#FF934F\",\"pattern\":{\"shape\":\"\"}},\"name\":\"casual\",\"offsetgroup\":\"casual\",\"orientation\":\"v\",\"showlegend\":true,\"text\":[23.66,20.63,19.64,20.46,21.9,25.72,26.47],\"textposition\":\"auto\",\"x\":[\"Mon\",\"Tue\",\"Wed\",\"Thu\",\"Fri\",\"Sat\",\"Sun\"],\"xaxis\":\"x\",\"y\":[23.66,20.63,19.64,20.46,21.9,25.72,26.47],\"yaxis\":\"y\",\"type\":\"bar\"},{\"alignmentgroup\":\"True\",\"customdata\":[[\"member\"],[\"member\"],[\"member\"],[\"member\"],[\"member\"],[\"member\"],[\"member\"]],\"hovertemplate\":\"<b>%{hovertext}</b><br><br>Days=%{x}<br>Average trip length (min)=%{text}<extra></extra>\",\"hovertext\":[\"member\",\"member\",\"member\",\"member\",\"member\",\"member\",\"member\"],\"legendgroup\":\"member\",\"marker\":{\"color\":\"#058ED9\",\"pattern\":{\"shape\":\"\"}},\"name\":\"member\",\"offsetgroup\":\"member\",\"orientation\":\"v\",\"showlegend\":true,\"text\":[11.49,11.45,11.44,11.62,11.82,13.59,13.44],\"textposition\":\"auto\",\"x\":[\"Mon\",\"Tue\",\"Wed\",\"Thu\",\"Fri\",\"Sat\",\"Sun\"],\"xaxis\":\"x\",\"y\":[11.49,11.45,11.44,11.62,11.82,13.59,13.44],\"yaxis\":\"y\",\"type\":\"bar\"}],                        {\"template\":{\"data\":{\"histogram2dcontour\":[{\"type\":\"histogram2dcontour\",\"colorbar\":{\"outlinewidth\":0,\"ticks\":\"\"},\"colorscale\":[[0.0,\"#0d0887\"],[0.1111111111111111,\"#46039f\"],[0.2222222222222222,\"#7201a8\"],[0.3333333333333333,\"#9c179e\"],[0.4444444444444444,\"#bd3786\"],[0.5555555555555556,\"#d8576b\"],[0.6666666666666666,\"#ed7953\"],[0.7777777777777778,\"#fb9f3a\"],[0.8888888888888888,\"#fdca26\"],[1.0,\"#f0f921\"]]}],\"choropleth\":[{\"type\":\"choropleth\",\"colorbar\":{\"outlinewidth\":0,\"ticks\":\"\"}}],\"histogram2d\":[{\"type\":\"histogram2d\",\"colorbar\":{\"outlinewidth\":0,\"ticks\":\"\"},\"colorscale\":[[0.0,\"#0d0887\"],[0.1111111111111111,\"#46039f\"],[0.2222222222222222,\"#7201a8\"],[0.3333333333333333,\"#9c179e\"],[0.4444444444444444,\"#bd3786\"],[0.5555555555555556,\"#d8576b\"],[0.6666666666666666,\"#ed7953\"],[0.7777777777777778,\"#fb9f3a\"],[0.8888888888888888,\"#fdca26\"],[1.0,\"#f0f921\"]]}],\"heatmap\":[{\"type\":\"heatmap\",\"colorbar\":{\"outlinewidth\":0,\"ticks\":\"\"},\"colorscale\":[[0.0,\"#0d0887\"],[0.1111111111111111,\"#46039f\"],[0.2222222222222222,\"#7201a8\"],[0.3333333333333333,\"#9c179e\"],[0.4444444444444444,\"#bd3786\"],[0.5555555555555556,\"#d8576b\"],[0.6666666666666666,\"#ed7953\"],[0.7777777777777778,\"#fb9f3a\"],[0.8888888888888888,\"#fdca26\"],[1.0,\"#f0f921\"]]}],\"heatmapgl\":[{\"type\":\"heatmapgl\",\"colorbar\":{\"outlinewidth\":0,\"ticks\":\"\"},\"colorscale\":[[0.0,\"#0d0887\"],[0.1111111111111111,\"#46039f\"],[0.2222222222222222,\"#7201a8\"],[0.3333333333333333,\"#9c179e\"],[0.4444444444444444,\"#bd3786\"],[0.5555555555555556,\"#d8576b\"],[0.6666666666666666,\"#ed7953\"],[0.7777777777777778,\"#fb9f3a\"],[0.8888888888888888,\"#fdca26\"],[1.0,\"#f0f921\"]]}],\"contourcarpet\":[{\"type\":\"contourcarpet\",\"colorbar\":{\"outlinewidth\":0,\"ticks\":\"\"}}],\"contour\":[{\"type\":\"contour\",\"colorbar\":{\"outlinewidth\":0,\"ticks\":\"\"},\"colorscale\":[[0.0,\"#0d0887\"],[0.1111111111111111,\"#46039f\"],[0.2222222222222222,\"#7201a8\"],[0.3333333333333333,\"#9c179e\"],[0.4444444444444444,\"#bd3786\"],[0.5555555555555556,\"#d8576b\"],[0.6666666666666666,\"#ed7953\"],[0.7777777777777778,\"#fb9f3a\"],[0.8888888888888888,\"#fdca26\"],[1.0,\"#f0f921\"]]}],\"surface\":[{\"type\":\"surface\",\"colorbar\":{\"outlinewidth\":0,\"ticks\":\"\"},\"colorscale\":[[0.0,\"#0d0887\"],[0.1111111111111111,\"#46039f\"],[0.2222222222222222,\"#7201a8\"],[0.3333333333333333,\"#9c179e\"],[0.4444444444444444,\"#bd3786\"],[0.5555555555555556,\"#d8576b\"],[0.6666666666666666,\"#ed7953\"],[0.7777777777777778,\"#fb9f3a\"],[0.8888888888888888,\"#fdca26\"],[1.0,\"#f0f921\"]]}],\"mesh3d\":[{\"type\":\"mesh3d\",\"colorbar\":{\"outlinewidth\":0,\"ticks\":\"\"}}],\"scatter\":[{\"fillpattern\":{\"fillmode\":\"overlay\",\"size\":10,\"solidity\":0.2},\"type\":\"scatter\"}],\"parcoords\":[{\"type\":\"parcoords\",\"line\":{\"colorbar\":{\"outlinewidth\":0,\"ticks\":\"\"}}}],\"scatterpolargl\":[{\"type\":\"scatterpolargl\",\"marker\":{\"colorbar\":{\"outlinewidth\":0,\"ticks\":\"\"}}}],\"bar\":[{\"error_x\":{\"color\":\"#2a3f5f\"},\"error_y\":{\"color\":\"#2a3f5f\"},\"marker\":{\"line\":{\"color\":\"#E5ECF6\",\"width\":0.5},\"pattern\":{\"fillmode\":\"overlay\",\"size\":10,\"solidity\":0.2}},\"type\":\"bar\"}],\"scattergeo\":[{\"type\":\"scattergeo\",\"marker\":{\"colorbar\":{\"outlinewidth\":0,\"ticks\":\"\"}}}],\"scatterpolar\":[{\"type\":\"scatterpolar\",\"marker\":{\"colorbar\":{\"outlinewidth\":0,\"ticks\":\"\"}}}],\"histogram\":[{\"marker\":{\"pattern\":{\"fillmode\":\"overlay\",\"size\":10,\"solidity\":0.2}},\"type\":\"histogram\"}],\"scattergl\":[{\"type\":\"scattergl\",\"marker\":{\"colorbar\":{\"outlinewidth\":0,\"ticks\":\"\"}}}],\"scatter3d\":[{\"type\":\"scatter3d\",\"line\":{\"colorbar\":{\"outlinewidth\":0,\"ticks\":\"\"}},\"marker\":{\"colorbar\":{\"outlinewidth\":0,\"ticks\":\"\"}}}],\"scattermapbox\":[{\"type\":\"scattermapbox\",\"marker\":{\"colorbar\":{\"outlinewidth\":0,\"ticks\":\"\"}}}],\"scatterternary\":[{\"type\":\"scatterternary\",\"marker\":{\"colorbar\":{\"outlinewidth\":0,\"ticks\":\"\"}}}],\"scattercarpet\":[{\"type\":\"scattercarpet\",\"marker\":{\"colorbar\":{\"outlinewidth\":0,\"ticks\":\"\"}}}],\"carpet\":[{\"aaxis\":{\"endlinecolor\":\"#2a3f5f\",\"gridcolor\":\"white\",\"linecolor\":\"white\",\"minorgridcolor\":\"white\",\"startlinecolor\":\"#2a3f5f\"},\"baxis\":{\"endlinecolor\":\"#2a3f5f\",\"gridcolor\":\"white\",\"linecolor\":\"white\",\"minorgridcolor\":\"white\",\"startlinecolor\":\"#2a3f5f\"},\"type\":\"carpet\"}],\"table\":[{\"cells\":{\"fill\":{\"color\":\"#EBF0F8\"},\"line\":{\"color\":\"white\"}},\"header\":{\"fill\":{\"color\":\"#C8D4E3\"},\"line\":{\"color\":\"white\"}},\"type\":\"table\"}],\"barpolar\":[{\"marker\":{\"line\":{\"color\":\"#E5ECF6\",\"width\":0.5},\"pattern\":{\"fillmode\":\"overlay\",\"size\":10,\"solidity\":0.2}},\"type\":\"barpolar\"}],\"pie\":[{\"automargin\":true,\"type\":\"pie\"}]},\"layout\":{\"autotypenumbers\":\"strict\",\"colorway\":[\"#636efa\",\"#EF553B\",\"#00cc96\",\"#ab63fa\",\"#FFA15A\",\"#19d3f3\",\"#FF6692\",\"#B6E880\",\"#FF97FF\",\"#FECB52\"],\"font\":{\"color\":\"#2a3f5f\"},\"hovermode\":\"closest\",\"hoverlabel\":{\"align\":\"left\"},\"paper_bgcolor\":\"white\",\"plot_bgcolor\":\"#E5ECF6\",\"polar\":{\"bgcolor\":\"#E5ECF6\",\"angularaxis\":{\"gridcolor\":\"white\",\"linecolor\":\"white\",\"ticks\":\"\"},\"radialaxis\":{\"gridcolor\":\"white\",\"linecolor\":\"white\",\"ticks\":\"\"}},\"ternary\":{\"bgcolor\":\"#E5ECF6\",\"aaxis\":{\"gridcolor\":\"white\",\"linecolor\":\"white\",\"ticks\":\"\"},\"baxis\":{\"gridcolor\":\"white\",\"linecolor\":\"white\",\"ticks\":\"\"},\"caxis\":{\"gridcolor\":\"white\",\"linecolor\":\"white\",\"ticks\":\"\"}},\"coloraxis\":{\"colorbar\":{\"outlinewidth\":0,\"ticks\":\"\"}},\"colorscale\":{\"sequential\":[[0.0,\"#0d0887\"],[0.1111111111111111,\"#46039f\"],[0.2222222222222222,\"#7201a8\"],[0.3333333333333333,\"#9c179e\"],[0.4444444444444444,\"#bd3786\"],[0.5555555555555556,\"#d8576b\"],[0.6666666666666666,\"#ed7953\"],[0.7777777777777778,\"#fb9f3a\"],[0.8888888888888888,\"#fdca26\"],[1.0,\"#f0f921\"]],\"sequentialminus\":[[0.0,\"#0d0887\"],[0.1111111111111111,\"#46039f\"],[0.2222222222222222,\"#7201a8\"],[0.3333333333333333,\"#9c179e\"],[0.4444444444444444,\"#bd3786\"],[0.5555555555555556,\"#d8576b\"],[0.6666666666666666,\"#ed7953\"],[0.7777777777777778,\"#fb9f3a\"],[0.8888888888888888,\"#fdca26\"],[1.0,\"#f0f921\"]],\"diverging\":[[0,\"#8e0152\"],[0.1,\"#c51b7d\"],[0.2,\"#de77ae\"],[0.3,\"#f1b6da\"],[0.4,\"#fde0ef\"],[0.5,\"#f7f7f7\"],[0.6,\"#e6f5d0\"],[0.7,\"#b8e186\"],[0.8,\"#7fbc41\"],[0.9,\"#4d9221\"],[1,\"#276419\"]]},\"xaxis\":{\"gridcolor\":\"white\",\"linecolor\":\"white\",\"ticks\":\"\",\"title\":{\"standoff\":15},\"zerolinecolor\":\"white\",\"automargin\":true,\"zerolinewidth\":2},\"yaxis\":{\"gridcolor\":\"white\",\"linecolor\":\"white\",\"ticks\":\"\",\"title\":{\"standoff\":15},\"zerolinecolor\":\"white\",\"automargin\":true,\"zerolinewidth\":2},\"scene\":{\"xaxis\":{\"backgroundcolor\":\"#E5ECF6\",\"gridcolor\":\"white\",\"linecolor\":\"white\",\"showbackground\":true,\"ticks\":\"\",\"zerolinecolor\":\"white\",\"gridwidth\":2},\"yaxis\":{\"backgroundcolor\":\"#E5ECF6\",\"gridcolor\":\"white\",\"linecolor\":\"white\",\"showbackground\":true,\"ticks\":\"\",\"zerolinecolor\":\"white\",\"gridwidth\":2},\"zaxis\":{\"backgroundcolor\":\"#E5ECF6\",\"gridcolor\":\"white\",\"linecolor\":\"white\",\"showbackground\":true,\"ticks\":\"\",\"zerolinecolor\":\"white\",\"gridwidth\":2}},\"shapedefaults\":{\"line\":{\"color\":\"#2a3f5f\"}},\"annotationdefaults\":{\"arrowcolor\":\"#2a3f5f\",\"arrowhead\":0,\"arrowwidth\":1},\"geo\":{\"bgcolor\":\"white\",\"landcolor\":\"#E5ECF6\",\"subunitcolor\":\"white\",\"showland\":true,\"showlakes\":true,\"lakecolor\":\"white\"},\"title\":{\"x\":0.05},\"mapbox\":{\"style\":\"light\"}}},\"xaxis\":{\"anchor\":\"y\",\"domain\":[0.0,1.0],\"title\":{\"text\":\"Days\"}},\"yaxis\":{\"anchor\":\"x\",\"domain\":[0.0,1.0],\"title\":{\"text\":\"Average trip length (min)\"}},\"legend\":{\"title\":{\"text\":\"User Type\"},\"tracegroupgap\":0},\"margin\":{\"t\":60},\"barmode\":\"group\",\"title\":{\"font\":{\"size\":18},\"text\":\"Daily Average Trip Length (May 2022 - Apr 2023)\",\"automargin\":true,\"yref\":\"paper\"}},                        {\"responsive\": true}                    ).then(function(){\n",
       "                            \n",
       "var gd = document.getElementById('b0c7039b-6b3c-4e89-a93a-4a5806cdb101');\n",
       "var x = new MutationObserver(function (mutations, observer) {{\n",
       "        var display = window.getComputedStyle(gd).display;\n",
       "        if (!display || display === 'none') {{\n",
       "            console.log([gd, 'removed!']);\n",
       "            Plotly.purge(gd);\n",
       "            observer.disconnect();\n",
       "        }}\n",
       "}});\n",
       "\n",
       "// Listen for the removal of the full notebook cells\n",
       "var notebookContainer = gd.closest('#notebook-container');\n",
       "if (notebookContainer) {{\n",
       "    x.observe(notebookContainer, {childList: true});\n",
       "}}\n",
       "\n",
       "// Listen for the clearing of the current output cell\n",
       "var outputEl = gd.closest('.output');\n",
       "if (outputEl) {{\n",
       "    x.observe(outputEl, {childList: true});\n",
       "}}\n",
       "\n",
       "                        })                };                });            </script>        </div>"
      ]
     },
     "metadata": {},
     "output_type": "display_data"
    }
   ],
   "source": [
    "fig_8 = px.bar(df_pv13, x = 'day', y = 'avg_trip_min',\n",
    "        color = 'member_casual',\n",
    "        barmode='group',\n",
    "        text = 'avg_trip_min', \n",
    "        labels = {'avg_trip_min': 'Average trip length (min)', 'member_casual': 'User Type', 'day': 'Days'},\n",
    "        hover_name = 'member_casual', hover_data = {'member_casual': False, 'avg_trip_min': True}, \n",
    "        color_discrete_map = {'casual': '#FF934F', 'member': '#058ED9'})\n",
    "fig_8.update_layout(\n",
    "    title=dict(text=\"Daily Average Trip Length (May 2022 - Apr 2023)\",font=dict(size=18), automargin=True, yref='paper')\n",
    ")"
   ]
  },
  {
   "cell_type": "markdown",
   "id": "83620d52",
   "metadata": {
    "papermill": {
     "duration": 0.1301,
     "end_time": "2023-06-14T21:23:09.612947",
     "exception": false,
     "start_time": "2023-06-14T21:23:09.482847",
     "status": "completed"
    },
    "tags": []
   },
   "source": [
    "__Fig.8__ - Daily average trip length for casual riders and members. On average, members maintain their daily average bike usage. In contrast, an increase in trip length is observed during the weekends for casual riders."
   ]
  },
  {
   "cell_type": "code",
   "execution_count": 57,
   "id": "2679f169",
   "metadata": {
    "execution": {
     "iopub.execute_input": "2023-06-14T21:23:09.852940Z",
     "iopub.status.busy": "2023-06-14T21:23:09.852485Z",
     "iopub.status.idle": "2023-06-14T21:23:10.116053Z",
     "shell.execute_reply": "2023-06-14T21:23:10.114857Z"
    },
    "papermill": {
     "duration": 0.387564,
     "end_time": "2023-06-14T21:23:10.119036",
     "exception": false,
     "start_time": "2023-06-14T21:23:09.731472",
     "status": "completed"
    },
    "tags": []
   },
   "outputs": [
    {
     "data": {
      "text/html": [
       "<div>\n",
       "<style scoped>\n",
       "    .dataframe tbody tr th:only-of-type {\n",
       "        vertical-align: middle;\n",
       "    }\n",
       "\n",
       "    .dataframe tbody tr th {\n",
       "        vertical-align: top;\n",
       "    }\n",
       "\n",
       "    .dataframe thead th {\n",
       "        text-align: right;\n",
       "    }\n",
       "</style>\n",
       "<table border=\"1\" class=\"dataframe\">\n",
       "  <thead>\n",
       "    <tr style=\"text-align: right;\">\n",
       "      <th></th>\n",
       "      <th>hour</th>\n",
       "      <th>member_casual</th>\n",
       "      <th>avg_trip_min</th>\n",
       "    </tr>\n",
       "  </thead>\n",
       "  <tbody>\n",
       "    <tr>\n",
       "      <th>0</th>\n",
       "      <td>1</td>\n",
       "      <td>casual</td>\n",
       "      <td>22.25</td>\n",
       "    </tr>\n",
       "    <tr>\n",
       "      <th>1</th>\n",
       "      <td>1</td>\n",
       "      <td>member</td>\n",
       "      <td>11.92</td>\n",
       "    </tr>\n",
       "    <tr>\n",
       "      <th>2</th>\n",
       "      <td>2</td>\n",
       "      <td>casual</td>\n",
       "      <td>21.59</td>\n",
       "    </tr>\n",
       "    <tr>\n",
       "      <th>3</th>\n",
       "      <td>2</td>\n",
       "      <td>member</td>\n",
       "      <td>12.16</td>\n",
       "    </tr>\n",
       "    <tr>\n",
       "      <th>4</th>\n",
       "      <td>3</td>\n",
       "      <td>casual</td>\n",
       "      <td>20.78</td>\n",
       "    </tr>\n",
       "    <tr>\n",
       "      <th>5</th>\n",
       "      <td>3</td>\n",
       "      <td>member</td>\n",
       "      <td>11.86</td>\n",
       "    </tr>\n",
       "    <tr>\n",
       "      <th>6</th>\n",
       "      <td>4</td>\n",
       "      <td>casual</td>\n",
       "      <td>18.53</td>\n",
       "    </tr>\n",
       "    <tr>\n",
       "      <th>7</th>\n",
       "      <td>4</td>\n",
       "      <td>member</td>\n",
       "      <td>12.12</td>\n",
       "    </tr>\n",
       "    <tr>\n",
       "      <th>8</th>\n",
       "      <td>5</td>\n",
       "      <td>casual</td>\n",
       "      <td>15.55</td>\n",
       "    </tr>\n",
       "    <tr>\n",
       "      <th>9</th>\n",
       "      <td>5</td>\n",
       "      <td>member</td>\n",
       "      <td>9.87</td>\n",
       "    </tr>\n",
       "    <tr>\n",
       "      <th>10</th>\n",
       "      <td>6</td>\n",
       "      <td>casual</td>\n",
       "      <td>15.06</td>\n",
       "    </tr>\n",
       "    <tr>\n",
       "      <th>11</th>\n",
       "      <td>6</td>\n",
       "      <td>member</td>\n",
       "      <td>10.37</td>\n",
       "    </tr>\n",
       "    <tr>\n",
       "      <th>12</th>\n",
       "      <td>7</td>\n",
       "      <td>casual</td>\n",
       "      <td>14.71</td>\n",
       "    </tr>\n",
       "    <tr>\n",
       "      <th>13</th>\n",
       "      <td>7</td>\n",
       "      <td>member</td>\n",
       "      <td>10.91</td>\n",
       "    </tr>\n",
       "    <tr>\n",
       "      <th>14</th>\n",
       "      <td>8</td>\n",
       "      <td>casual</td>\n",
       "      <td>16.81</td>\n",
       "    </tr>\n",
       "    <tr>\n",
       "      <th>15</th>\n",
       "      <td>8</td>\n",
       "      <td>member</td>\n",
       "      <td>10.75</td>\n",
       "    </tr>\n",
       "    <tr>\n",
       "      <th>16</th>\n",
       "      <td>9</td>\n",
       "      <td>casual</td>\n",
       "      <td>22.83</td>\n",
       "    </tr>\n",
       "    <tr>\n",
       "      <th>17</th>\n",
       "      <td>9</td>\n",
       "      <td>member</td>\n",
       "      <td>10.98</td>\n",
       "    </tr>\n",
       "    <tr>\n",
       "      <th>18</th>\n",
       "      <td>10</td>\n",
       "      <td>casual</td>\n",
       "      <td>27.25</td>\n",
       "    </tr>\n",
       "    <tr>\n",
       "      <th>19</th>\n",
       "      <td>10</td>\n",
       "      <td>member</td>\n",
       "      <td>11.80</td>\n",
       "    </tr>\n",
       "    <tr>\n",
       "      <th>20</th>\n",
       "      <td>11</td>\n",
       "      <td>casual</td>\n",
       "      <td>27.73</td>\n",
       "    </tr>\n",
       "    <tr>\n",
       "      <th>21</th>\n",
       "      <td>11</td>\n",
       "      <td>member</td>\n",
       "      <td>12.05</td>\n",
       "    </tr>\n",
       "    <tr>\n",
       "      <th>22</th>\n",
       "      <td>12</td>\n",
       "      <td>casual</td>\n",
       "      <td>27.03</td>\n",
       "    </tr>\n",
       "    <tr>\n",
       "      <th>23</th>\n",
       "      <td>12</td>\n",
       "      <td>member</td>\n",
       "      <td>11.88</td>\n",
       "    </tr>\n",
       "    <tr>\n",
       "      <th>24</th>\n",
       "      <td>13</td>\n",
       "      <td>casual</td>\n",
       "      <td>27.04</td>\n",
       "    </tr>\n",
       "    <tr>\n",
       "      <th>25</th>\n",
       "      <td>13</td>\n",
       "      <td>member</td>\n",
       "      <td>12.02</td>\n",
       "    </tr>\n",
       "    <tr>\n",
       "      <th>26</th>\n",
       "      <td>14</td>\n",
       "      <td>casual</td>\n",
       "      <td>26.85</td>\n",
       "    </tr>\n",
       "    <tr>\n",
       "      <th>27</th>\n",
       "      <td>14</td>\n",
       "      <td>member</td>\n",
       "      <td>12.43</td>\n",
       "    </tr>\n",
       "    <tr>\n",
       "      <th>28</th>\n",
       "      <td>15</td>\n",
       "      <td>casual</td>\n",
       "      <td>25.20</td>\n",
       "    </tr>\n",
       "    <tr>\n",
       "      <th>29</th>\n",
       "      <td>15</td>\n",
       "      <td>member</td>\n",
       "      <td>12.33</td>\n",
       "    </tr>\n",
       "    <tr>\n",
       "      <th>30</th>\n",
       "      <td>16</td>\n",
       "      <td>casual</td>\n",
       "      <td>23.01</td>\n",
       "    </tr>\n",
       "    <tr>\n",
       "      <th>31</th>\n",
       "      <td>16</td>\n",
       "      <td>member</td>\n",
       "      <td>12.48</td>\n",
       "    </tr>\n",
       "    <tr>\n",
       "      <th>32</th>\n",
       "      <td>17</td>\n",
       "      <td>casual</td>\n",
       "      <td>21.46</td>\n",
       "    </tr>\n",
       "    <tr>\n",
       "      <th>33</th>\n",
       "      <td>17</td>\n",
       "      <td>member</td>\n",
       "      <td>12.81</td>\n",
       "    </tr>\n",
       "    <tr>\n",
       "      <th>34</th>\n",
       "      <td>18</td>\n",
       "      <td>casual</td>\n",
       "      <td>21.60</td>\n",
       "    </tr>\n",
       "    <tr>\n",
       "      <th>35</th>\n",
       "      <td>18</td>\n",
       "      <td>member</td>\n",
       "      <td>12.74</td>\n",
       "    </tr>\n",
       "    <tr>\n",
       "      <th>36</th>\n",
       "      <td>19</td>\n",
       "      <td>casual</td>\n",
       "      <td>21.41</td>\n",
       "    </tr>\n",
       "    <tr>\n",
       "      <th>37</th>\n",
       "      <td>19</td>\n",
       "      <td>member</td>\n",
       "      <td>12.59</td>\n",
       "    </tr>\n",
       "    <tr>\n",
       "      <th>38</th>\n",
       "      <td>20</td>\n",
       "      <td>casual</td>\n",
       "      <td>21.47</td>\n",
       "    </tr>\n",
       "    <tr>\n",
       "      <th>39</th>\n",
       "      <td>20</td>\n",
       "      <td>member</td>\n",
       "      <td>12.39</td>\n",
       "    </tr>\n",
       "    <tr>\n",
       "      <th>40</th>\n",
       "      <td>21</td>\n",
       "      <td>casual</td>\n",
       "      <td>20.16</td>\n",
       "    </tr>\n",
       "    <tr>\n",
       "      <th>41</th>\n",
       "      <td>21</td>\n",
       "      <td>member</td>\n",
       "      <td>11.97</td>\n",
       "    </tr>\n",
       "    <tr>\n",
       "      <th>42</th>\n",
       "      <td>22</td>\n",
       "      <td>casual</td>\n",
       "      <td>19.80</td>\n",
       "    </tr>\n",
       "    <tr>\n",
       "      <th>43</th>\n",
       "      <td>22</td>\n",
       "      <td>member</td>\n",
       "      <td>12.07</td>\n",
       "    </tr>\n",
       "    <tr>\n",
       "      <th>44</th>\n",
       "      <td>23</td>\n",
       "      <td>casual</td>\n",
       "      <td>20.73</td>\n",
       "    </tr>\n",
       "    <tr>\n",
       "      <th>45</th>\n",
       "      <td>23</td>\n",
       "      <td>member</td>\n",
       "      <td>12.18</td>\n",
       "    </tr>\n",
       "    <tr>\n",
       "      <th>46</th>\n",
       "      <td>24</td>\n",
       "      <td>casual</td>\n",
       "      <td>20.79</td>\n",
       "    </tr>\n",
       "    <tr>\n",
       "      <th>47</th>\n",
       "      <td>24</td>\n",
       "      <td>member</td>\n",
       "      <td>11.91</td>\n",
       "    </tr>\n",
       "  </tbody>\n",
       "</table>\n",
       "</div>"
      ],
      "text/plain": [
       "    hour member_casual  avg_trip_min\n",
       "0      1        casual         22.25\n",
       "1      1        member         11.92\n",
       "2      2        casual         21.59\n",
       "3      2        member         12.16\n",
       "4      3        casual         20.78\n",
       "5      3        member         11.86\n",
       "6      4        casual         18.53\n",
       "7      4        member         12.12\n",
       "8      5        casual         15.55\n",
       "9      5        member          9.87\n",
       "10     6        casual         15.06\n",
       "11     6        member         10.37\n",
       "12     7        casual         14.71\n",
       "13     7        member         10.91\n",
       "14     8        casual         16.81\n",
       "15     8        member         10.75\n",
       "16     9        casual         22.83\n",
       "17     9        member         10.98\n",
       "18    10        casual         27.25\n",
       "19    10        member         11.80\n",
       "20    11        casual         27.73\n",
       "21    11        member         12.05\n",
       "22    12        casual         27.03\n",
       "23    12        member         11.88\n",
       "24    13        casual         27.04\n",
       "25    13        member         12.02\n",
       "26    14        casual         26.85\n",
       "27    14        member         12.43\n",
       "28    15        casual         25.20\n",
       "29    15        member         12.33\n",
       "30    16        casual         23.01\n",
       "31    16        member         12.48\n",
       "32    17        casual         21.46\n",
       "33    17        member         12.81\n",
       "34    18        casual         21.60\n",
       "35    18        member         12.74\n",
       "36    19        casual         21.41\n",
       "37    19        member         12.59\n",
       "38    20        casual         21.47\n",
       "39    20        member         12.39\n",
       "40    21        casual         20.16\n",
       "41    21        member         11.97\n",
       "42    22        casual         19.80\n",
       "43    22        member         12.07\n",
       "44    23        casual         20.73\n",
       "45    23        member         12.18\n",
       "46    24        casual         20.79\n",
       "47    24        member         11.91"
      ]
     },
     "execution_count": 57,
     "metadata": {},
     "output_type": "execute_result"
    }
   ],
   "source": [
    "df_pv14= cyc_data_combined.groupby(['hour', 'member_casual'], as_index=False)[['ride_length_min']].mean().round(2).rename(columns={\"ride_length_min\":\"avg_trip_min\"})\n",
    "df_pv14"
   ]
  },
  {
   "cell_type": "code",
   "execution_count": 58,
   "id": "c5c3aab2",
   "metadata": {
    "execution": {
     "iopub.execute_input": "2023-06-14T21:23:10.360059Z",
     "iopub.status.busy": "2023-06-14T21:23:10.359610Z",
     "iopub.status.idle": "2023-06-14T21:23:10.451487Z",
     "shell.execute_reply": "2023-06-14T21:23:10.450413Z"
    },
    "papermill": {
     "duration": 0.215392,
     "end_time": "2023-06-14T21:23:10.454252",
     "exception": false,
     "start_time": "2023-06-14T21:23:10.238860",
     "status": "completed"
    },
    "tags": []
   },
   "outputs": [
    {
     "data": {
      "application/vnd.plotly.v1+json": {
       "config": {
        "plotlyServerURL": "https://plot.ly"
       },
       "data": [
        {
         "customdata": [
          [
           "casual"
          ],
          [
           "casual"
          ],
          [
           "casual"
          ],
          [
           "casual"
          ],
          [
           "casual"
          ],
          [
           "casual"
          ],
          [
           "casual"
          ],
          [
           "casual"
          ],
          [
           "casual"
          ],
          [
           "casual"
          ],
          [
           "casual"
          ],
          [
           "casual"
          ],
          [
           "casual"
          ],
          [
           "casual"
          ],
          [
           "casual"
          ],
          [
           "casual"
          ],
          [
           "casual"
          ],
          [
           "casual"
          ],
          [
           "casual"
          ],
          [
           "casual"
          ],
          [
           "casual"
          ],
          [
           "casual"
          ],
          [
           "casual"
          ],
          [
           "casual"
          ]
         ],
         "hovertemplate": "<b>%{hovertext}</b><br><br>Hour=%{x}<br>Average trip length (min)=%{y}<extra></extra>",
         "hovertext": [
          "casual",
          "casual",
          "casual",
          "casual",
          "casual",
          "casual",
          "casual",
          "casual",
          "casual",
          "casual",
          "casual",
          "casual",
          "casual",
          "casual",
          "casual",
          "casual",
          "casual",
          "casual",
          "casual",
          "casual",
          "casual",
          "casual",
          "casual",
          "casual"
         ],
         "legendgroup": "casual",
         "line": {
          "color": "#FF934F",
          "dash": "solid",
          "shape": "spline"
         },
         "marker": {
          "symbol": "circle"
         },
         "mode": "lines+markers",
         "name": "casual",
         "orientation": "v",
         "showlegend": true,
         "type": "scatter",
         "x": [
          1,
          2,
          3,
          4,
          5,
          6,
          7,
          8,
          9,
          10,
          11,
          12,
          13,
          14,
          15,
          16,
          17,
          18,
          19,
          20,
          21,
          22,
          23,
          24
         ],
         "xaxis": "x",
         "y": [
          22.25,
          21.59,
          20.78,
          18.53,
          15.55,
          15.06,
          14.71,
          16.81,
          22.83,
          27.25,
          27.73,
          27.03,
          27.04,
          26.85,
          25.2,
          23.01,
          21.46,
          21.6,
          21.41,
          21.47,
          20.16,
          19.8,
          20.73,
          20.79
         ],
         "yaxis": "y"
        },
        {
         "customdata": [
          [
           "member"
          ],
          [
           "member"
          ],
          [
           "member"
          ],
          [
           "member"
          ],
          [
           "member"
          ],
          [
           "member"
          ],
          [
           "member"
          ],
          [
           "member"
          ],
          [
           "member"
          ],
          [
           "member"
          ],
          [
           "member"
          ],
          [
           "member"
          ],
          [
           "member"
          ],
          [
           "member"
          ],
          [
           "member"
          ],
          [
           "member"
          ],
          [
           "member"
          ],
          [
           "member"
          ],
          [
           "member"
          ],
          [
           "member"
          ],
          [
           "member"
          ],
          [
           "member"
          ],
          [
           "member"
          ],
          [
           "member"
          ]
         ],
         "hovertemplate": "<b>%{hovertext}</b><br><br>Hour=%{x}<br>Average trip length (min)=%{y}<extra></extra>",
         "hovertext": [
          "member",
          "member",
          "member",
          "member",
          "member",
          "member",
          "member",
          "member",
          "member",
          "member",
          "member",
          "member",
          "member",
          "member",
          "member",
          "member",
          "member",
          "member",
          "member",
          "member",
          "member",
          "member",
          "member",
          "member"
         ],
         "legendgroup": "member",
         "line": {
          "color": "#058ED9",
          "dash": "solid",
          "shape": "spline"
         },
         "marker": {
          "symbol": "circle"
         },
         "mode": "lines+markers",
         "name": "member",
         "orientation": "v",
         "showlegend": true,
         "type": "scatter",
         "x": [
          1,
          2,
          3,
          4,
          5,
          6,
          7,
          8,
          9,
          10,
          11,
          12,
          13,
          14,
          15,
          16,
          17,
          18,
          19,
          20,
          21,
          22,
          23,
          24
         ],
         "xaxis": "x",
         "y": [
          11.92,
          12.16,
          11.86,
          12.12,
          9.87,
          10.37,
          10.91,
          10.75,
          10.98,
          11.8,
          12.05,
          11.88,
          12.02,
          12.43,
          12.33,
          12.48,
          12.81,
          12.74,
          12.59,
          12.39,
          11.97,
          12.07,
          12.18,
          11.91
         ],
         "yaxis": "y"
        }
       ],
       "layout": {
        "legend": {
         "title": {
          "text": "User Type"
         },
         "tracegroupgap": 0
        },
        "margin": {
         "t": 60
        },
        "template": {
         "data": {
          "bar": [
           {
            "error_x": {
             "color": "#2a3f5f"
            },
            "error_y": {
             "color": "#2a3f5f"
            },
            "marker": {
             "line": {
              "color": "#E5ECF6",
              "width": 0.5
             },
             "pattern": {
              "fillmode": "overlay",
              "size": 10,
              "solidity": 0.2
             }
            },
            "type": "bar"
           }
          ],
          "barpolar": [
           {
            "marker": {
             "line": {
              "color": "#E5ECF6",
              "width": 0.5
             },
             "pattern": {
              "fillmode": "overlay",
              "size": 10,
              "solidity": 0.2
             }
            },
            "type": "barpolar"
           }
          ],
          "carpet": [
           {
            "aaxis": {
             "endlinecolor": "#2a3f5f",
             "gridcolor": "white",
             "linecolor": "white",
             "minorgridcolor": "white",
             "startlinecolor": "#2a3f5f"
            },
            "baxis": {
             "endlinecolor": "#2a3f5f",
             "gridcolor": "white",
             "linecolor": "white",
             "minorgridcolor": "white",
             "startlinecolor": "#2a3f5f"
            },
            "type": "carpet"
           }
          ],
          "choropleth": [
           {
            "colorbar": {
             "outlinewidth": 0,
             "ticks": ""
            },
            "type": "choropleth"
           }
          ],
          "contour": [
           {
            "colorbar": {
             "outlinewidth": 0,
             "ticks": ""
            },
            "colorscale": [
             [
              0.0,
              "#0d0887"
             ],
             [
              0.1111111111111111,
              "#46039f"
             ],
             [
              0.2222222222222222,
              "#7201a8"
             ],
             [
              0.3333333333333333,
              "#9c179e"
             ],
             [
              0.4444444444444444,
              "#bd3786"
             ],
             [
              0.5555555555555556,
              "#d8576b"
             ],
             [
              0.6666666666666666,
              "#ed7953"
             ],
             [
              0.7777777777777778,
              "#fb9f3a"
             ],
             [
              0.8888888888888888,
              "#fdca26"
             ],
             [
              1.0,
              "#f0f921"
             ]
            ],
            "type": "contour"
           }
          ],
          "contourcarpet": [
           {
            "colorbar": {
             "outlinewidth": 0,
             "ticks": ""
            },
            "type": "contourcarpet"
           }
          ],
          "heatmap": [
           {
            "colorbar": {
             "outlinewidth": 0,
             "ticks": ""
            },
            "colorscale": [
             [
              0.0,
              "#0d0887"
             ],
             [
              0.1111111111111111,
              "#46039f"
             ],
             [
              0.2222222222222222,
              "#7201a8"
             ],
             [
              0.3333333333333333,
              "#9c179e"
             ],
             [
              0.4444444444444444,
              "#bd3786"
             ],
             [
              0.5555555555555556,
              "#d8576b"
             ],
             [
              0.6666666666666666,
              "#ed7953"
             ],
             [
              0.7777777777777778,
              "#fb9f3a"
             ],
             [
              0.8888888888888888,
              "#fdca26"
             ],
             [
              1.0,
              "#f0f921"
             ]
            ],
            "type": "heatmap"
           }
          ],
          "heatmapgl": [
           {
            "colorbar": {
             "outlinewidth": 0,
             "ticks": ""
            },
            "colorscale": [
             [
              0.0,
              "#0d0887"
             ],
             [
              0.1111111111111111,
              "#46039f"
             ],
             [
              0.2222222222222222,
              "#7201a8"
             ],
             [
              0.3333333333333333,
              "#9c179e"
             ],
             [
              0.4444444444444444,
              "#bd3786"
             ],
             [
              0.5555555555555556,
              "#d8576b"
             ],
             [
              0.6666666666666666,
              "#ed7953"
             ],
             [
              0.7777777777777778,
              "#fb9f3a"
             ],
             [
              0.8888888888888888,
              "#fdca26"
             ],
             [
              1.0,
              "#f0f921"
             ]
            ],
            "type": "heatmapgl"
           }
          ],
          "histogram": [
           {
            "marker": {
             "pattern": {
              "fillmode": "overlay",
              "size": 10,
              "solidity": 0.2
             }
            },
            "type": "histogram"
           }
          ],
          "histogram2d": [
           {
            "colorbar": {
             "outlinewidth": 0,
             "ticks": ""
            },
            "colorscale": [
             [
              0.0,
              "#0d0887"
             ],
             [
              0.1111111111111111,
              "#46039f"
             ],
             [
              0.2222222222222222,
              "#7201a8"
             ],
             [
              0.3333333333333333,
              "#9c179e"
             ],
             [
              0.4444444444444444,
              "#bd3786"
             ],
             [
              0.5555555555555556,
              "#d8576b"
             ],
             [
              0.6666666666666666,
              "#ed7953"
             ],
             [
              0.7777777777777778,
              "#fb9f3a"
             ],
             [
              0.8888888888888888,
              "#fdca26"
             ],
             [
              1.0,
              "#f0f921"
             ]
            ],
            "type": "histogram2d"
           }
          ],
          "histogram2dcontour": [
           {
            "colorbar": {
             "outlinewidth": 0,
             "ticks": ""
            },
            "colorscale": [
             [
              0.0,
              "#0d0887"
             ],
             [
              0.1111111111111111,
              "#46039f"
             ],
             [
              0.2222222222222222,
              "#7201a8"
             ],
             [
              0.3333333333333333,
              "#9c179e"
             ],
             [
              0.4444444444444444,
              "#bd3786"
             ],
             [
              0.5555555555555556,
              "#d8576b"
             ],
             [
              0.6666666666666666,
              "#ed7953"
             ],
             [
              0.7777777777777778,
              "#fb9f3a"
             ],
             [
              0.8888888888888888,
              "#fdca26"
             ],
             [
              1.0,
              "#f0f921"
             ]
            ],
            "type": "histogram2dcontour"
           }
          ],
          "mesh3d": [
           {
            "colorbar": {
             "outlinewidth": 0,
             "ticks": ""
            },
            "type": "mesh3d"
           }
          ],
          "parcoords": [
           {
            "line": {
             "colorbar": {
              "outlinewidth": 0,
              "ticks": ""
             }
            },
            "type": "parcoords"
           }
          ],
          "pie": [
           {
            "automargin": true,
            "type": "pie"
           }
          ],
          "scatter": [
           {
            "fillpattern": {
             "fillmode": "overlay",
             "size": 10,
             "solidity": 0.2
            },
            "type": "scatter"
           }
          ],
          "scatter3d": [
           {
            "line": {
             "colorbar": {
              "outlinewidth": 0,
              "ticks": ""
             }
            },
            "marker": {
             "colorbar": {
              "outlinewidth": 0,
              "ticks": ""
             }
            },
            "type": "scatter3d"
           }
          ],
          "scattercarpet": [
           {
            "marker": {
             "colorbar": {
              "outlinewidth": 0,
              "ticks": ""
             }
            },
            "type": "scattercarpet"
           }
          ],
          "scattergeo": [
           {
            "marker": {
             "colorbar": {
              "outlinewidth": 0,
              "ticks": ""
             }
            },
            "type": "scattergeo"
           }
          ],
          "scattergl": [
           {
            "marker": {
             "colorbar": {
              "outlinewidth": 0,
              "ticks": ""
             }
            },
            "type": "scattergl"
           }
          ],
          "scattermapbox": [
           {
            "marker": {
             "colorbar": {
              "outlinewidth": 0,
              "ticks": ""
             }
            },
            "type": "scattermapbox"
           }
          ],
          "scatterpolar": [
           {
            "marker": {
             "colorbar": {
              "outlinewidth": 0,
              "ticks": ""
             }
            },
            "type": "scatterpolar"
           }
          ],
          "scatterpolargl": [
           {
            "marker": {
             "colorbar": {
              "outlinewidth": 0,
              "ticks": ""
             }
            },
            "type": "scatterpolargl"
           }
          ],
          "scatterternary": [
           {
            "marker": {
             "colorbar": {
              "outlinewidth": 0,
              "ticks": ""
             }
            },
            "type": "scatterternary"
           }
          ],
          "surface": [
           {
            "colorbar": {
             "outlinewidth": 0,
             "ticks": ""
            },
            "colorscale": [
             [
              0.0,
              "#0d0887"
             ],
             [
              0.1111111111111111,
              "#46039f"
             ],
             [
              0.2222222222222222,
              "#7201a8"
             ],
             [
              0.3333333333333333,
              "#9c179e"
             ],
             [
              0.4444444444444444,
              "#bd3786"
             ],
             [
              0.5555555555555556,
              "#d8576b"
             ],
             [
              0.6666666666666666,
              "#ed7953"
             ],
             [
              0.7777777777777778,
              "#fb9f3a"
             ],
             [
              0.8888888888888888,
              "#fdca26"
             ],
             [
              1.0,
              "#f0f921"
             ]
            ],
            "type": "surface"
           }
          ],
          "table": [
           {
            "cells": {
             "fill": {
              "color": "#EBF0F8"
             },
             "line": {
              "color": "white"
             }
            },
            "header": {
             "fill": {
              "color": "#C8D4E3"
             },
             "line": {
              "color": "white"
             }
            },
            "type": "table"
           }
          ]
         },
         "layout": {
          "annotationdefaults": {
           "arrowcolor": "#2a3f5f",
           "arrowhead": 0,
           "arrowwidth": 1
          },
          "autotypenumbers": "strict",
          "coloraxis": {
           "colorbar": {
            "outlinewidth": 0,
            "ticks": ""
           }
          },
          "colorscale": {
           "diverging": [
            [
             0,
             "#8e0152"
            ],
            [
             0.1,
             "#c51b7d"
            ],
            [
             0.2,
             "#de77ae"
            ],
            [
             0.3,
             "#f1b6da"
            ],
            [
             0.4,
             "#fde0ef"
            ],
            [
             0.5,
             "#f7f7f7"
            ],
            [
             0.6,
             "#e6f5d0"
            ],
            [
             0.7,
             "#b8e186"
            ],
            [
             0.8,
             "#7fbc41"
            ],
            [
             0.9,
             "#4d9221"
            ],
            [
             1,
             "#276419"
            ]
           ],
           "sequential": [
            [
             0.0,
             "#0d0887"
            ],
            [
             0.1111111111111111,
             "#46039f"
            ],
            [
             0.2222222222222222,
             "#7201a8"
            ],
            [
             0.3333333333333333,
             "#9c179e"
            ],
            [
             0.4444444444444444,
             "#bd3786"
            ],
            [
             0.5555555555555556,
             "#d8576b"
            ],
            [
             0.6666666666666666,
             "#ed7953"
            ],
            [
             0.7777777777777778,
             "#fb9f3a"
            ],
            [
             0.8888888888888888,
             "#fdca26"
            ],
            [
             1.0,
             "#f0f921"
            ]
           ],
           "sequentialminus": [
            [
             0.0,
             "#0d0887"
            ],
            [
             0.1111111111111111,
             "#46039f"
            ],
            [
             0.2222222222222222,
             "#7201a8"
            ],
            [
             0.3333333333333333,
             "#9c179e"
            ],
            [
             0.4444444444444444,
             "#bd3786"
            ],
            [
             0.5555555555555556,
             "#d8576b"
            ],
            [
             0.6666666666666666,
             "#ed7953"
            ],
            [
             0.7777777777777778,
             "#fb9f3a"
            ],
            [
             0.8888888888888888,
             "#fdca26"
            ],
            [
             1.0,
             "#f0f921"
            ]
           ]
          },
          "colorway": [
           "#636efa",
           "#EF553B",
           "#00cc96",
           "#ab63fa",
           "#FFA15A",
           "#19d3f3",
           "#FF6692",
           "#B6E880",
           "#FF97FF",
           "#FECB52"
          ],
          "font": {
           "color": "#2a3f5f"
          },
          "geo": {
           "bgcolor": "white",
           "lakecolor": "white",
           "landcolor": "#E5ECF6",
           "showlakes": true,
           "showland": true,
           "subunitcolor": "white"
          },
          "hoverlabel": {
           "align": "left"
          },
          "hovermode": "closest",
          "mapbox": {
           "style": "light"
          },
          "paper_bgcolor": "white",
          "plot_bgcolor": "#E5ECF6",
          "polar": {
           "angularaxis": {
            "gridcolor": "white",
            "linecolor": "white",
            "ticks": ""
           },
           "bgcolor": "#E5ECF6",
           "radialaxis": {
            "gridcolor": "white",
            "linecolor": "white",
            "ticks": ""
           }
          },
          "scene": {
           "xaxis": {
            "backgroundcolor": "#E5ECF6",
            "gridcolor": "white",
            "gridwidth": 2,
            "linecolor": "white",
            "showbackground": true,
            "ticks": "",
            "zerolinecolor": "white"
           },
           "yaxis": {
            "backgroundcolor": "#E5ECF6",
            "gridcolor": "white",
            "gridwidth": 2,
            "linecolor": "white",
            "showbackground": true,
            "ticks": "",
            "zerolinecolor": "white"
           },
           "zaxis": {
            "backgroundcolor": "#E5ECF6",
            "gridcolor": "white",
            "gridwidth": 2,
            "linecolor": "white",
            "showbackground": true,
            "ticks": "",
            "zerolinecolor": "white"
           }
          },
          "shapedefaults": {
           "line": {
            "color": "#2a3f5f"
           }
          },
          "ternary": {
           "aaxis": {
            "gridcolor": "white",
            "linecolor": "white",
            "ticks": ""
           },
           "baxis": {
            "gridcolor": "white",
            "linecolor": "white",
            "ticks": ""
           },
           "bgcolor": "#E5ECF6",
           "caxis": {
            "gridcolor": "white",
            "linecolor": "white",
            "ticks": ""
           }
          },
          "title": {
           "x": 0.05
          },
          "xaxis": {
           "automargin": true,
           "gridcolor": "white",
           "linecolor": "white",
           "ticks": "",
           "title": {
            "standoff": 15
           },
           "zerolinecolor": "white",
           "zerolinewidth": 2
          },
          "yaxis": {
           "automargin": true,
           "gridcolor": "white",
           "linecolor": "white",
           "ticks": "",
           "title": {
            "standoff": 15
           },
           "zerolinecolor": "white",
           "zerolinewidth": 2
          }
         }
        },
        "title": {
         "automargin": true,
         "font": {
          "size": 18
         },
         "text": "Hourly Average Trip Length (May 2022 - Apr 2023)",
         "yref": "paper"
        },
        "xaxis": {
         "anchor": "y",
         "domain": [
          0.0,
          1.0
         ],
         "dtick": 1,
         "range": [
          1,
          24
         ],
         "title": {
          "text": "Hour"
         }
        },
        "yaxis": {
         "anchor": "x",
         "domain": [
          0.0,
          1.0
         ],
         "title": {
          "text": "Average trip length (min)"
         }
        }
       }
      },
      "text/html": [
       "<div>                            <div id=\"b7dd4712-7be2-4b04-bd27-a04ed16994b5\" class=\"plotly-graph-div\" style=\"height:525px; width:100%;\"></div>            <script type=\"text/javascript\">                require([\"plotly\"], function(Plotly) {                    window.PLOTLYENV=window.PLOTLYENV || {};                                    if (document.getElementById(\"b7dd4712-7be2-4b04-bd27-a04ed16994b5\")) {                    Plotly.newPlot(                        \"b7dd4712-7be2-4b04-bd27-a04ed16994b5\",                        [{\"customdata\":[[\"casual\"],[\"casual\"],[\"casual\"],[\"casual\"],[\"casual\"],[\"casual\"],[\"casual\"],[\"casual\"],[\"casual\"],[\"casual\"],[\"casual\"],[\"casual\"],[\"casual\"],[\"casual\"],[\"casual\"],[\"casual\"],[\"casual\"],[\"casual\"],[\"casual\"],[\"casual\"],[\"casual\"],[\"casual\"],[\"casual\"],[\"casual\"]],\"hovertemplate\":\"<b>%{hovertext}</b><br><br>Hour=%{x}<br>Average trip length (min)=%{y}<extra></extra>\",\"hovertext\":[\"casual\",\"casual\",\"casual\",\"casual\",\"casual\",\"casual\",\"casual\",\"casual\",\"casual\",\"casual\",\"casual\",\"casual\",\"casual\",\"casual\",\"casual\",\"casual\",\"casual\",\"casual\",\"casual\",\"casual\",\"casual\",\"casual\",\"casual\",\"casual\"],\"legendgroup\":\"casual\",\"line\":{\"color\":\"#FF934F\",\"dash\":\"solid\",\"shape\":\"spline\"},\"marker\":{\"symbol\":\"circle\"},\"mode\":\"lines+markers\",\"name\":\"casual\",\"orientation\":\"v\",\"showlegend\":true,\"x\":[1,2,3,4,5,6,7,8,9,10,11,12,13,14,15,16,17,18,19,20,21,22,23,24],\"xaxis\":\"x\",\"y\":[22.25,21.59,20.78,18.53,15.55,15.06,14.71,16.81,22.83,27.25,27.73,27.03,27.04,26.85,25.2,23.01,21.46,21.6,21.41,21.47,20.16,19.8,20.73,20.79],\"yaxis\":\"y\",\"type\":\"scatter\"},{\"customdata\":[[\"member\"],[\"member\"],[\"member\"],[\"member\"],[\"member\"],[\"member\"],[\"member\"],[\"member\"],[\"member\"],[\"member\"],[\"member\"],[\"member\"],[\"member\"],[\"member\"],[\"member\"],[\"member\"],[\"member\"],[\"member\"],[\"member\"],[\"member\"],[\"member\"],[\"member\"],[\"member\"],[\"member\"]],\"hovertemplate\":\"<b>%{hovertext}</b><br><br>Hour=%{x}<br>Average trip length (min)=%{y}<extra></extra>\",\"hovertext\":[\"member\",\"member\",\"member\",\"member\",\"member\",\"member\",\"member\",\"member\",\"member\",\"member\",\"member\",\"member\",\"member\",\"member\",\"member\",\"member\",\"member\",\"member\",\"member\",\"member\",\"member\",\"member\",\"member\",\"member\"],\"legendgroup\":\"member\",\"line\":{\"color\":\"#058ED9\",\"dash\":\"solid\",\"shape\":\"spline\"},\"marker\":{\"symbol\":\"circle\"},\"mode\":\"lines+markers\",\"name\":\"member\",\"orientation\":\"v\",\"showlegend\":true,\"x\":[1,2,3,4,5,6,7,8,9,10,11,12,13,14,15,16,17,18,19,20,21,22,23,24],\"xaxis\":\"x\",\"y\":[11.92,12.16,11.86,12.12,9.87,10.37,10.91,10.75,10.98,11.8,12.05,11.88,12.02,12.43,12.33,12.48,12.81,12.74,12.59,12.39,11.97,12.07,12.18,11.91],\"yaxis\":\"y\",\"type\":\"scatter\"}],                        {\"template\":{\"data\":{\"histogram2dcontour\":[{\"type\":\"histogram2dcontour\",\"colorbar\":{\"outlinewidth\":0,\"ticks\":\"\"},\"colorscale\":[[0.0,\"#0d0887\"],[0.1111111111111111,\"#46039f\"],[0.2222222222222222,\"#7201a8\"],[0.3333333333333333,\"#9c179e\"],[0.4444444444444444,\"#bd3786\"],[0.5555555555555556,\"#d8576b\"],[0.6666666666666666,\"#ed7953\"],[0.7777777777777778,\"#fb9f3a\"],[0.8888888888888888,\"#fdca26\"],[1.0,\"#f0f921\"]]}],\"choropleth\":[{\"type\":\"choropleth\",\"colorbar\":{\"outlinewidth\":0,\"ticks\":\"\"}}],\"histogram2d\":[{\"type\":\"histogram2d\",\"colorbar\":{\"outlinewidth\":0,\"ticks\":\"\"},\"colorscale\":[[0.0,\"#0d0887\"],[0.1111111111111111,\"#46039f\"],[0.2222222222222222,\"#7201a8\"],[0.3333333333333333,\"#9c179e\"],[0.4444444444444444,\"#bd3786\"],[0.5555555555555556,\"#d8576b\"],[0.6666666666666666,\"#ed7953\"],[0.7777777777777778,\"#fb9f3a\"],[0.8888888888888888,\"#fdca26\"],[1.0,\"#f0f921\"]]}],\"heatmap\":[{\"type\":\"heatmap\",\"colorbar\":{\"outlinewidth\":0,\"ticks\":\"\"},\"colorscale\":[[0.0,\"#0d0887\"],[0.1111111111111111,\"#46039f\"],[0.2222222222222222,\"#7201a8\"],[0.3333333333333333,\"#9c179e\"],[0.4444444444444444,\"#bd3786\"],[0.5555555555555556,\"#d8576b\"],[0.6666666666666666,\"#ed7953\"],[0.7777777777777778,\"#fb9f3a\"],[0.8888888888888888,\"#fdca26\"],[1.0,\"#f0f921\"]]}],\"heatmapgl\":[{\"type\":\"heatmapgl\",\"colorbar\":{\"outlinewidth\":0,\"ticks\":\"\"},\"colorscale\":[[0.0,\"#0d0887\"],[0.1111111111111111,\"#46039f\"],[0.2222222222222222,\"#7201a8\"],[0.3333333333333333,\"#9c179e\"],[0.4444444444444444,\"#bd3786\"],[0.5555555555555556,\"#d8576b\"],[0.6666666666666666,\"#ed7953\"],[0.7777777777777778,\"#fb9f3a\"],[0.8888888888888888,\"#fdca26\"],[1.0,\"#f0f921\"]]}],\"contourcarpet\":[{\"type\":\"contourcarpet\",\"colorbar\":{\"outlinewidth\":0,\"ticks\":\"\"}}],\"contour\":[{\"type\":\"contour\",\"colorbar\":{\"outlinewidth\":0,\"ticks\":\"\"},\"colorscale\":[[0.0,\"#0d0887\"],[0.1111111111111111,\"#46039f\"],[0.2222222222222222,\"#7201a8\"],[0.3333333333333333,\"#9c179e\"],[0.4444444444444444,\"#bd3786\"],[0.5555555555555556,\"#d8576b\"],[0.6666666666666666,\"#ed7953\"],[0.7777777777777778,\"#fb9f3a\"],[0.8888888888888888,\"#fdca26\"],[1.0,\"#f0f921\"]]}],\"surface\":[{\"type\":\"surface\",\"colorbar\":{\"outlinewidth\":0,\"ticks\":\"\"},\"colorscale\":[[0.0,\"#0d0887\"],[0.1111111111111111,\"#46039f\"],[0.2222222222222222,\"#7201a8\"],[0.3333333333333333,\"#9c179e\"],[0.4444444444444444,\"#bd3786\"],[0.5555555555555556,\"#d8576b\"],[0.6666666666666666,\"#ed7953\"],[0.7777777777777778,\"#fb9f3a\"],[0.8888888888888888,\"#fdca26\"],[1.0,\"#f0f921\"]]}],\"mesh3d\":[{\"type\":\"mesh3d\",\"colorbar\":{\"outlinewidth\":0,\"ticks\":\"\"}}],\"scatter\":[{\"fillpattern\":{\"fillmode\":\"overlay\",\"size\":10,\"solidity\":0.2},\"type\":\"scatter\"}],\"parcoords\":[{\"type\":\"parcoords\",\"line\":{\"colorbar\":{\"outlinewidth\":0,\"ticks\":\"\"}}}],\"scatterpolargl\":[{\"type\":\"scatterpolargl\",\"marker\":{\"colorbar\":{\"outlinewidth\":0,\"ticks\":\"\"}}}],\"bar\":[{\"error_x\":{\"color\":\"#2a3f5f\"},\"error_y\":{\"color\":\"#2a3f5f\"},\"marker\":{\"line\":{\"color\":\"#E5ECF6\",\"width\":0.5},\"pattern\":{\"fillmode\":\"overlay\",\"size\":10,\"solidity\":0.2}},\"type\":\"bar\"}],\"scattergeo\":[{\"type\":\"scattergeo\",\"marker\":{\"colorbar\":{\"outlinewidth\":0,\"ticks\":\"\"}}}],\"scatterpolar\":[{\"type\":\"scatterpolar\",\"marker\":{\"colorbar\":{\"outlinewidth\":0,\"ticks\":\"\"}}}],\"histogram\":[{\"marker\":{\"pattern\":{\"fillmode\":\"overlay\",\"size\":10,\"solidity\":0.2}},\"type\":\"histogram\"}],\"scattergl\":[{\"type\":\"scattergl\",\"marker\":{\"colorbar\":{\"outlinewidth\":0,\"ticks\":\"\"}}}],\"scatter3d\":[{\"type\":\"scatter3d\",\"line\":{\"colorbar\":{\"outlinewidth\":0,\"ticks\":\"\"}},\"marker\":{\"colorbar\":{\"outlinewidth\":0,\"ticks\":\"\"}}}],\"scattermapbox\":[{\"type\":\"scattermapbox\",\"marker\":{\"colorbar\":{\"outlinewidth\":0,\"ticks\":\"\"}}}],\"scatterternary\":[{\"type\":\"scatterternary\",\"marker\":{\"colorbar\":{\"outlinewidth\":0,\"ticks\":\"\"}}}],\"scattercarpet\":[{\"type\":\"scattercarpet\",\"marker\":{\"colorbar\":{\"outlinewidth\":0,\"ticks\":\"\"}}}],\"carpet\":[{\"aaxis\":{\"endlinecolor\":\"#2a3f5f\",\"gridcolor\":\"white\",\"linecolor\":\"white\",\"minorgridcolor\":\"white\",\"startlinecolor\":\"#2a3f5f\"},\"baxis\":{\"endlinecolor\":\"#2a3f5f\",\"gridcolor\":\"white\",\"linecolor\":\"white\",\"minorgridcolor\":\"white\",\"startlinecolor\":\"#2a3f5f\"},\"type\":\"carpet\"}],\"table\":[{\"cells\":{\"fill\":{\"color\":\"#EBF0F8\"},\"line\":{\"color\":\"white\"}},\"header\":{\"fill\":{\"color\":\"#C8D4E3\"},\"line\":{\"color\":\"white\"}},\"type\":\"table\"}],\"barpolar\":[{\"marker\":{\"line\":{\"color\":\"#E5ECF6\",\"width\":0.5},\"pattern\":{\"fillmode\":\"overlay\",\"size\":10,\"solidity\":0.2}},\"type\":\"barpolar\"}],\"pie\":[{\"automargin\":true,\"type\":\"pie\"}]},\"layout\":{\"autotypenumbers\":\"strict\",\"colorway\":[\"#636efa\",\"#EF553B\",\"#00cc96\",\"#ab63fa\",\"#FFA15A\",\"#19d3f3\",\"#FF6692\",\"#B6E880\",\"#FF97FF\",\"#FECB52\"],\"font\":{\"color\":\"#2a3f5f\"},\"hovermode\":\"closest\",\"hoverlabel\":{\"align\":\"left\"},\"paper_bgcolor\":\"white\",\"plot_bgcolor\":\"#E5ECF6\",\"polar\":{\"bgcolor\":\"#E5ECF6\",\"angularaxis\":{\"gridcolor\":\"white\",\"linecolor\":\"white\",\"ticks\":\"\"},\"radialaxis\":{\"gridcolor\":\"white\",\"linecolor\":\"white\",\"ticks\":\"\"}},\"ternary\":{\"bgcolor\":\"#E5ECF6\",\"aaxis\":{\"gridcolor\":\"white\",\"linecolor\":\"white\",\"ticks\":\"\"},\"baxis\":{\"gridcolor\":\"white\",\"linecolor\":\"white\",\"ticks\":\"\"},\"caxis\":{\"gridcolor\":\"white\",\"linecolor\":\"white\",\"ticks\":\"\"}},\"coloraxis\":{\"colorbar\":{\"outlinewidth\":0,\"ticks\":\"\"}},\"colorscale\":{\"sequential\":[[0.0,\"#0d0887\"],[0.1111111111111111,\"#46039f\"],[0.2222222222222222,\"#7201a8\"],[0.3333333333333333,\"#9c179e\"],[0.4444444444444444,\"#bd3786\"],[0.5555555555555556,\"#d8576b\"],[0.6666666666666666,\"#ed7953\"],[0.7777777777777778,\"#fb9f3a\"],[0.8888888888888888,\"#fdca26\"],[1.0,\"#f0f921\"]],\"sequentialminus\":[[0.0,\"#0d0887\"],[0.1111111111111111,\"#46039f\"],[0.2222222222222222,\"#7201a8\"],[0.3333333333333333,\"#9c179e\"],[0.4444444444444444,\"#bd3786\"],[0.5555555555555556,\"#d8576b\"],[0.6666666666666666,\"#ed7953\"],[0.7777777777777778,\"#fb9f3a\"],[0.8888888888888888,\"#fdca26\"],[1.0,\"#f0f921\"]],\"diverging\":[[0,\"#8e0152\"],[0.1,\"#c51b7d\"],[0.2,\"#de77ae\"],[0.3,\"#f1b6da\"],[0.4,\"#fde0ef\"],[0.5,\"#f7f7f7\"],[0.6,\"#e6f5d0\"],[0.7,\"#b8e186\"],[0.8,\"#7fbc41\"],[0.9,\"#4d9221\"],[1,\"#276419\"]]},\"xaxis\":{\"gridcolor\":\"white\",\"linecolor\":\"white\",\"ticks\":\"\",\"title\":{\"standoff\":15},\"zerolinecolor\":\"white\",\"automargin\":true,\"zerolinewidth\":2},\"yaxis\":{\"gridcolor\":\"white\",\"linecolor\":\"white\",\"ticks\":\"\",\"title\":{\"standoff\":15},\"zerolinecolor\":\"white\",\"automargin\":true,\"zerolinewidth\":2},\"scene\":{\"xaxis\":{\"backgroundcolor\":\"#E5ECF6\",\"gridcolor\":\"white\",\"linecolor\":\"white\",\"showbackground\":true,\"ticks\":\"\",\"zerolinecolor\":\"white\",\"gridwidth\":2},\"yaxis\":{\"backgroundcolor\":\"#E5ECF6\",\"gridcolor\":\"white\",\"linecolor\":\"white\",\"showbackground\":true,\"ticks\":\"\",\"zerolinecolor\":\"white\",\"gridwidth\":2},\"zaxis\":{\"backgroundcolor\":\"#E5ECF6\",\"gridcolor\":\"white\",\"linecolor\":\"white\",\"showbackground\":true,\"ticks\":\"\",\"zerolinecolor\":\"white\",\"gridwidth\":2}},\"shapedefaults\":{\"line\":{\"color\":\"#2a3f5f\"}},\"annotationdefaults\":{\"arrowcolor\":\"#2a3f5f\",\"arrowhead\":0,\"arrowwidth\":1},\"geo\":{\"bgcolor\":\"white\",\"landcolor\":\"#E5ECF6\",\"subunitcolor\":\"white\",\"showland\":true,\"showlakes\":true,\"lakecolor\":\"white\"},\"title\":{\"x\":0.05},\"mapbox\":{\"style\":\"light\"}}},\"xaxis\":{\"anchor\":\"y\",\"domain\":[0.0,1.0],\"title\":{\"text\":\"Hour\"},\"range\":[1,24],\"dtick\":1},\"yaxis\":{\"anchor\":\"x\",\"domain\":[0.0,1.0],\"title\":{\"text\":\"Average trip length (min)\"}},\"legend\":{\"title\":{\"text\":\"User Type\"},\"tracegroupgap\":0},\"margin\":{\"t\":60},\"title\":{\"font\":{\"size\":18},\"text\":\"Hourly Average Trip Length (May 2022 - Apr 2023)\",\"automargin\":true,\"yref\":\"paper\"}},                        {\"responsive\": true}                    ).then(function(){\n",
       "                            \n",
       "var gd = document.getElementById('b7dd4712-7be2-4b04-bd27-a04ed16994b5');\n",
       "var x = new MutationObserver(function (mutations, observer) {{\n",
       "        var display = window.getComputedStyle(gd).display;\n",
       "        if (!display || display === 'none') {{\n",
       "            console.log([gd, 'removed!']);\n",
       "            Plotly.purge(gd);\n",
       "            observer.disconnect();\n",
       "        }}\n",
       "}});\n",
       "\n",
       "// Listen for the removal of the full notebook cells\n",
       "var notebookContainer = gd.closest('#notebook-container');\n",
       "if (notebookContainer) {{\n",
       "    x.observe(notebookContainer, {childList: true});\n",
       "}}\n",
       "\n",
       "// Listen for the clearing of the current output cell\n",
       "var outputEl = gd.closest('.output');\n",
       "if (outputEl) {{\n",
       "    x.observe(outputEl, {childList: true});\n",
       "}}\n",
       "\n",
       "                        })                };                });            </script>        </div>"
      ]
     },
     "metadata": {},
     "output_type": "display_data"
    }
   ],
   "source": [
    "fig_9 = px.line(df_pv14, \n",
    "                 x='hour', \n",
    "                 y='avg_trip_min', \n",
    "                 color='member_casual',\n",
    "                 range_x = [1,24],\n",
    "                 markers=True,\n",
    "                 line_shape='spline',\n",
    "                 labels={'avg_trip_min': 'Average trip length (min)', 'hour': 'Hour', 'member_casual': 'User Type'},\n",
    "                 hover_name='member_casual',\n",
    "                 hover_data = {'member_casual': False, 'hour': True, 'avg_trip_min': True},\n",
    "                 color_discrete_map = {'casual': '#FF934F', 'member': '#058ED9'}\n",
    "                )\n",
    "fig_9.update_xaxes(dtick=1)\n",
    "fig_9.update_layout(\n",
    "    title=dict(text=\"Hourly Average Trip Length (May 2022 - Apr 2023)\",font=dict(size=18), automargin=True, yref='paper')\n",
    ")"
   ]
  },
  {
   "cell_type": "markdown",
   "id": "b1866aea",
   "metadata": {
    "papermill": {
     "duration": 0.126854,
     "end_time": "2023-06-14T21:23:10.708135",
     "exception": false,
     "start_time": "2023-06-14T21:23:10.581281",
     "status": "completed"
    },
    "tags": []
   },
   "source": [
    "__Fig.9__ - Hourly average trip length for casual riders and members. On average, members maintain their hourly average bike usage. In contrast, casual riders take longer trips from 9am-4pm. "
   ]
  },
  {
   "cell_type": "markdown",
   "id": "319799be",
   "metadata": {
    "papermill": {
     "duration": 0.129014,
     "end_time": "2023-06-14T21:23:10.967638",
     "exception": false,
     "start_time": "2023-06-14T21:23:10.838624",
     "status": "completed"
    },
    "tags": []
   },
   "source": [
    "#### <span style='color:#2D8FC5'>Top 10 trip starting locations: Casual vs Members</span>"
   ]
  },
  {
   "cell_type": "markdown",
   "id": "eba6a248",
   "metadata": {
    "papermill": {
     "duration": 0.136337,
     "end_time": "2023-06-14T21:23:11.230138",
     "exception": false,
     "start_time": "2023-06-14T21:23:11.093801",
     "status": "completed"
    },
    "tags": []
   },
   "source": [
    "<div class='tableauPlaceholder' id='viz1686265024408' style='position: relative'><noscript><a href='#'><img alt=' ' src='https:&#47;&#47;public.tableau.com&#47;static&#47;images&#47;cy&#47;cyclisticmaps&#47;casualriders&#47;1_rss.png' style='border: none' /></a></noscript><object class='tableauViz'  style='display:none;'><param name='host_url' value='https%3A%2F%2Fpublic.tableau.com%2F' /> <param name='embed_code_version' value='3' /> <param name='site_root' value='' /><param name='name' value='cyclisticmaps&#47;casualriders' /><param name='tabs' value='yes' /><param name='toolbar' value='yes' /><param name='static_image' value='https:&#47;&#47;public.tableau.com&#47;static&#47;images&#47;cy&#47;cyclisticmaps&#47;casualriders&#47;1.png' /> <param name='animate_transition' value='yes' /><param name='display_static_image' value='yes' /><param name='display_spinner' value='yes' /><param name='display_overlay' value='yes' /><param name='display_count' value='yes' /><param name='language' value='en-US' /></object></div>                <script type='text/javascript'>                    var divElement = document.getElementById('viz1686265024408');                    var vizElement = divElement.getElementsByTagName('object')[0];                    if ( divElement.offsetWidth > 800 ) { vizElement.style.minWidth='1000px';vizElement.style.maxWidth='100%';vizElement.style.minHeight='850px';vizElement.style.maxHeight=(divElement.offsetWidth*0.75)+'px';} else if ( divElement.offsetWidth > 500 ) { vizElement.style.minWidth='1000px';vizElement.style.maxWidth='100%';vizElement.style.minHeight='850px';vizElement.style.maxHeight=(divElement.offsetWidth*0.75)+'px';} else { vizElement.style.width='100%';vizElement.style.minHeight='750px';vizElement.style.maxHeight=(divElement.offsetWidth*1.77)+'px';}                     var scriptElement = document.createElement('script');                    scriptElement.src = 'https://public.tableau.com/javascripts/api/viz_v1.js';                    vizElement.parentNode.insertBefore(scriptElement, vizElement);                </script>"
   ]
  },
  {
   "cell_type": "markdown",
   "id": "7b805807",
   "metadata": {
    "papermill": {
     "duration": 0.141682,
     "end_time": "2023-06-14T21:23:11.509657",
     "exception": false,
     "start_time": "2023-06-14T21:23:11.367975",
     "status": "completed"
    },
    "tags": []
   },
   "source": [
    "<div class='tableauPlaceholder' id='viz1686265104166' style='position: relative'><noscript><a href='#'><img alt=' ' src='https:&#47;&#47;public.tableau.com&#47;static&#47;images&#47;cy&#47;cyclisticmaps&#47;memberriders&#47;1_rss.png' style='border: none' /></a></noscript><object class='tableauViz'  style='display:none;'><param name='host_url' value='https%3A%2F%2Fpublic.tableau.com%2F' /> <param name='embed_code_version' value='3' /> <param name='site_root' value='' /><param name='name' value='cyclisticmaps&#47;memberriders' /><param name='tabs' value='yes' /><param name='toolbar' value='yes' /><param name='static_image' value='https:&#47;&#47;public.tableau.com&#47;static&#47;images&#47;cy&#47;cyclisticmaps&#47;memberriders&#47;1.png' /> <param name='animate_transition' value='yes' /><param name='display_static_image' value='yes' /><param name='display_spinner' value='yes' /><param name='display_overlay' value='yes' /><param name='display_count' value='yes' /><param name='language' value='en-US' /></object></div>                <script type='text/javascript'>                    var divElement = document.getElementById('viz1686265104166');                    var vizElement = divElement.getElementsByTagName('object')[0];                    if ( divElement.offsetWidth > 800 ) { vizElement.style.minWidth='1000px';vizElement.style.maxWidth='100%';vizElement.style.minHeight='850px';vizElement.style.maxHeight=(divElement.offsetWidth*0.75)+'px';} else if ( divElement.offsetWidth > 500 ) { vizElement.style.minWidth='1000px';vizElement.style.maxWidth='100%';vizElement.style.minHeight='850px';vizElement.style.maxHeight=(divElement.offsetWidth*0.75)+'px';} else { vizElement.style.width='100%';vizElement.style.minHeight='750px';vizElement.style.maxHeight=(divElement.offsetWidth*1.77)+'px';}                     var scriptElement = document.createElement('script');                    scriptElement.src = 'https://public.tableau.com/javascripts/api/viz_v1.js';                    vizElement.parentNode.insertBefore(scriptElement, vizElement);                </script>"
   ]
  },
  {
   "cell_type": "markdown",
   "id": "e7fedce1",
   "metadata": {
    "papermill": {
     "duration": 0.130337,
     "end_time": "2023-06-14T21:23:11.771818",
     "exception": false,
     "start_time": "2023-06-14T21:23:11.641481",
     "status": "completed"
    },
    "tags": []
   },
   "source": [
    "<h4 style=\"background-color:teal;color:white;border-radius: 8px; padding:12px\">\n",
    "    <span style=\"font-weight:bold\">Share:</span> Summarizing Results\n",
    "    </h4>"
   ]
  },
  {
   "cell_type": "markdown",
   "id": "65357bea",
   "metadata": {
    "papermill": {
     "duration": 0.195126,
     "end_time": "2023-06-14T21:23:12.096347",
     "exception": false,
     "start_time": "2023-06-14T21:23:11.901221",
     "status": "completed"
    },
    "tags": []
   },
   "source": [
    "Just to quickly recap, since its inception in 2016, Cyclistic's popularity and usefulness amongst users has led to incredulous growth. Cyclistic's bike share program has grown to a fleet of 5,824 bicycles that are geotracked and locked into a network of 692 stations across Chicago. The bikes can be unlocked from one station and returned to any other station in the system anytime.\n",
    "\n",
    "Similar bike share programs in other metropolitan cities have also experienced growing popularity among local citizens as well as tourists. For the focus of this project, the goal was to determine how casual riders differ from members, and how Cyclistic can capitalize on these differences to increase membership and company revenue through digital advertisement and social media focused on converting casual riders to members."
   ]
  },
  {
   "cell_type": "markdown",
   "id": "bc2794b9",
   "metadata": {
    "papermill": {
     "duration": 0.126631,
     "end_time": "2023-06-14T21:23:12.350869",
     "exception": false,
     "start_time": "2023-06-14T21:23:12.224238",
     "status": "completed"
    },
    "tags": []
   },
   "source": [
    "#### <span style='color:#E96E8A'>How do casual riders use bikes differently from members?</span>"
   ]
  },
  {
   "cell_type": "markdown",
   "id": "2312885c",
   "metadata": {
    "papermill": {
     "duration": 0.127368,
     "end_time": "2023-06-14T21:23:12.605755",
     "exception": false,
     "start_time": "2023-06-14T21:23:12.478387",
     "status": "completed"
    },
    "tags": []
   },
   "source": [
    "#### <span style='color:#2D8FC5'>Casual Riders</span>\n",
    "* __Percent total:__ 40% of casual riders\n",
    "* __Popular months:__ May-October (Spring/Summer)\n",
    "* __Popular days:__ Friday - Saturday with peak on Saturdays\n",
    "* __Popular times:__ 11am-8pm \n",
    "    * __peak__(4-7pm)\n",
    "* __Average total trip length:__ 21-27min\n",
    "\n"
   ]
  },
  {
   "cell_type": "markdown",
   "id": "6951859e",
   "metadata": {
    "papermill": {
     "duration": 0.129945,
     "end_time": "2023-06-14T21:23:12.862740",
     "exception": false,
     "start_time": "2023-06-14T21:23:12.732795",
     "status": "completed"
    },
    "tags": []
   },
   "source": [
    "#### <span style='color:#2D8FC5; font-weight: italic'>Members</span>\n",
    "* __Percent Total:__ 60% of casual riders\n",
    "* __Popular Months:__ Consistent throughout the year, with slight increase from May-October (Spring/Summer)\n",
    "* __Popular Days:__ Mostly during the week, with decrease observed in weekend\n",
    "* __Popular Times:__ Two peak tiems observed: \n",
    "    * __peak1__(6-9am)\n",
    "    * __peak2__(4-7pm)\n",
    "* __Average total trip length:__ 12min"
   ]
  },
  {
   "cell_type": "markdown",
   "id": "37a0c3fd",
   "metadata": {
    "papermill": {
     "duration": 0.128165,
     "end_time": "2023-06-14T21:23:13.118068",
     "exception": false,
     "start_time": "2023-06-14T21:23:12.989903",
     "status": "completed"
    },
    "tags": []
   },
   "source": [
    "<h4 style=\"background-color:teal;color:white;border-radius: 8px; padding:12px\">\n",
    "    <span style=\"font-weight:bold\">Act:</span> Annual Membership Recommendations\n",
    "</h4>\n",
    "\n",
    "#### <span style='color:#2D8FC5'>How do casual riders use bikes differently from members?</span>\n",
    "\n",
    "Given the even breakdown of the dataset, we can make the following conclusions:\n",
    "\n",
    "* __Casual riders tend to attract more weekend riders.__ Weekend riders can fall into either of two categories: __weekend rider__ or __tourists__. \n",
    "\n",
    "    * Initianlly, would want to categorize all as tourist given bike behavior usage among casual riders. However, this can't be fully concluded due to lack of availability of credit card payments used for bike rentals. Obtaining user demographics information such as age, work specification, and marital status, and zipcode can help categorize casual riders. It can be the case that there are tourist who visit as groups, family, or simply as couples. Given this information, Cyclistic can offer different annual passes that would give different groups an incentive to buy the annual membership.\n",
    "\n",
    "\n",
    "* Nonetheless, an annual membership plan for both weekend only riders and tourists can look similar with a few exceptions as they share similar bike usage behavior. These behaviors include the following:\n",
    "\n",
    "    * Spike in casual riders in Spring and Summer months. \n",
    "    * Popular trip days range from Friday- Sunday. \n",
    "    * Popular ride times ranging from 11am - 8pm with a peak observed from 4-7pm. \n",
    "    * Average trip length ranging from 21-27min. \n",
    "    * Popular starting locations include:\n",
    "        * `streeter dr and grand dr` which is close to the `Navy Pier` a popular tourist attraction.   \n",
    "\n",
    "\n",
    "##### <span style='color:#2D8FC5' >So, how can Cyclistic reach out to casual riders to convert them to members?<span>\n",
    "\n",
    "They can create Two additional Types of Annual membership programs that focus on weekend riders and tourists: \n",
    "\n",
    "__*Note:__ pricing suggestions taken from [divvy bikeshare in Chicago](https://divvybikes.com/pricing/annual)\n",
    "    \n",
    "#### <span style='color:teal'>|  Weekend Rider Annual Membership</span> \n",
    "    \n",
    "This annual membership will apply to weekends only. This is to incentivize customers to buy an annual membership and not commit fully to full annual membership. It gives them a trial period to try using the bikes and see whether it will be a good fit for their intended usage. In this case, Cyclystic will be gaining customer loyalty and moving casual riders to more committed members. \n",
    "\n",
    "1. __Unlock Fee:__ $1 fee for casual riders __(waived for members, includes up to 5 additional locks).__\n",
    "\n",
    "2. __Reservation:__ Bikes can be unlocked at a first come first serve basis or reserved for $1 per bike __(Waived reservations for annual members, includes up to 5 additional reservations).__\n",
    "    \n",
    "3. __Time__: 45min Classic bike rental free for members __(Additional time charged as 50% off for classic bikes, 30% off for ebikes for fixed bike rental rate).__ \n",
    "    \n",
    "4. __Free Pass__: Cyclystic can offer free ride free pass for Annual weekend members with choice of any bike if they choose to signup for annual membership in their first ride. \n",
    "    \n",
    "5. __Tour routes__: Exclusive tour routes for members mapped through app __(Lakefront trail North, lakefront Trail South, Navy Pier, Museums, Promontory Point, Favorite eats).__\n",
    "    \n",
    "6. __Point reward system:__ After a set of points get different badges similar to fitbit bage system. After set of points can offer different deals, perks, and rewards. Additionally, they can use points toward upgrading their weekend annual membership to full annual membership that includes weekdays in addition to weekends at a prorated price.     \n",
    "\n",
    "7. __Member exclusive perks:__ Can offer discounts to Grubhub and Lyft, hotel or airbnb bookings, and some popular local restaurant chains.\n",
    "    \n",
    "8. __Instagram Advertisement/Small Survey:__ members can leave a review, load pictures to Cyclistic IG page and get a discount coupon to one of Chicago's eateries. \n",
    "    \n",
    "9. __Advertisement locations:__ Chicago Harbor Pier since most popular starting location, museums, airports, top 10 local eateries. Can offer advertisement at top 3 starting locations for casual riders. Advertisement can be done in other social media platforms if Cyclistic is already using a given social media advertising tool.\n",
    "    \n",
    "#### <span style='color:teal'>| Summer Membership</span>   \n",
    "\n",
    "This summer membership will apply to summer only. This is to incentivize customers to buy a membership and not commit fully to full annual membership. It gives them a trial period to try using the bikes and see whether it will be a good fit for their intended usage. In this case, Cyclystic will be gaining customer loyalty and moving casual riders to more committed members. Depending on tourist demographic they, can split into `Summer Family Pass`, `Summer Buddy Pass`, `Summer Pass`. \n",
    "    \n",
    "1. __Unlock Fee:__ $1 fee for casual riders __(waived for members, includes up to 5 additional locks).__\n",
    "\n",
    "2. __Reservation:__ Bikes can be unlocked at a first come first serve basis or reserved for $1 per bike __(Waived reservations for annual members, includes up to 5 additional reservations).__\n",
    "    \n",
    "3. __Time__: 45min Classic bike rental free for members __(Additional time charged as 50% off for classic bikes, 30% off for ebikes for fixed bike rental rate).__ \n",
    "    \n",
    "4. __Free Pass__: Cyclystic can offer free ride free pass for Annual weekend members with choice of any bike if they choose to signup for annual membership in their first ride. \n",
    "\n",
    "5. __Tour Guide__: 1 free tour guide for member __(10% off for 5 guest passes).__  \n",
    "    \n",
    "6. __Tour routes__: Exclusive tour routes for members mapped through app __(Lakefront trail North, lakefront Trail South, Navy Pier, Museums, Promontory Point, Favorite eats).__\n",
    "    \n",
    "7. __Point reward system:__ After a set of points get different badges similar to fitbit bage system. After set of points can offer different deals, perks, and rewards. Additionally, they can use points toward upgrading their summer membership to full weekend or annual membership that includes weekdays in addition to weekends at a prorated price.     \n",
    "\n",
    "8. __Member exclusive perks:__ Can offer discounts to Grubhub and Lyft, hotel or airbnb bookings, and some popular local restaurant chains.\n",
    "    \n",
    "9. __Instagram Advertisement/Small Survey:__ members can leave a review, load pictures to Cyclistic IG page and get a discount coupon to one of Chicago's eateries. \n",
    "    \n",
    "10. __Advertisement locations:__ Chicago Harbor Pier since most popular starting location, museums, airports, top 10 local eateries. Can offer advertisement at top 3 starting locations for casual riders. Advertisement can be done in other social media platforms if Cyclistic is already using a given social media advertising tool.\n",
    "    \n",
    "11. __Early Bird Special:__ Can begin advertisements prior to Spring/Summer and offer Early Bird discount to riders who subscribe to annual membership.\n",
    "    \n",
    "#### <span>Additional Insights<span>\n",
    "    \n",
    "##### <span style='color:#2D8FC5'>Further Analysis/Data</span>\n",
    "Included in the suggested annual membership is up to 5 guests. However, depending on the demographic can offer less or do a family annual plan and a companion pass like Southwest if observed that casual riders reserve 2 bikes consistently.\n",
    "    \n",
    "##### <span style='color:#2D8FC5'>Increasing Current Member Demographic</span>\n",
    "Drawing in more current member demographic has been outside the scope of this analysis. However, given their bike rental habits during the week, and having rental times ~12min strongly suggest they are Chicago local working professionals. A `commute to work` plan with local companies and local governing and transportation services can be done to reduce carbon footprint and improve traffic flow, if any. "
   ]
  },
  {
   "cell_type": "markdown",
   "id": "ed66d595",
   "metadata": {
    "papermill": {
     "duration": 0.127409,
     "end_time": "2023-06-14T21:23:13.372192",
     "exception": false,
     "start_time": "2023-06-14T21:23:13.244783",
     "status": "completed"
    },
    "tags": []
   },
   "source": [
    "<h4 style=\"background-color:teal;color:white;border-radius: 8px; padding:12px\">\n",
    "    <span style=\"font-weight:bold\">Acknowlegements</span> \n",
    "</h4>\n",
    "\n",
    "Data Analysis Inspiration:\n",
    "1. [Tamyris Gimenez Kaggle Notebook](https://www.kaggle.com/code/tamyrisgimenez/cyclistic-bike-share-case-study-with-python/notebook)\n",
    "\n",
    "2. [Joseph Thomas Kaggle Notebook](https://www.kaggle.com/code/josepharackaparambil/cyclistic-bike-share-analysis-case-study-python/notebook)"
   ]
  },
  {
   "cell_type": "code",
   "execution_count": null,
   "id": "ec5d4a26",
   "metadata": {
    "papermill": {
     "duration": 0.126822,
     "end_time": "2023-06-14T21:23:13.627174",
     "exception": false,
     "start_time": "2023-06-14T21:23:13.500352",
     "status": "completed"
    },
    "tags": []
   },
   "outputs": [],
   "source": []
  }
 ],
 "metadata": {
  "kernelspec": {
   "display_name": "Python 3",
   "language": "python",
   "name": "python3"
  },
  "language_info": {
   "codemirror_mode": {
    "name": "ipython",
    "version": 3
   },
   "file_extension": ".py",
   "mimetype": "text/x-python",
   "name": "python",
   "nbconvert_exporter": "python",
   "pygments_lexer": "ipython3",
   "version": "3.10.10"
  },
  "papermill": {
   "default_parameters": {},
   "duration": 359.068654,
   "end_time": "2023-06-14T21:23:16.375815",
   "environment_variables": {},
   "exception": null,
   "input_path": "__notebook__.ipynb",
   "output_path": "__notebook__.ipynb",
   "parameters": {},
   "start_time": "2023-06-14T21:17:17.307161",
   "version": "2.4.0"
  }
 },
 "nbformat": 4,
 "nbformat_minor": 5
}
